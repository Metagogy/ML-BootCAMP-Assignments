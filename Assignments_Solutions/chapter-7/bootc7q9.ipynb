{
 "cells": [
  {
   "cell_type": "markdown",
   "metadata": {},
   "source": "**Question**  : How to convert categorical variables into dummy/indicator variables."
  },
  {
   "cell_type": "markdown",
   "metadata": {},
   "source": "**Level** : Easy\n"
  },
  {
   "cell_type": "markdown",
   "metadata": {},
   "source": "**Input format** : convert categorical variables into dummy variables."
  },
  {
   "cell_type": "markdown",
   "metadata": {},
   "source": "**Output format**  : csv values for iris setosa, versicolor and virginica "
  },
  {
   "cell_type": "markdown",
   "metadata": {},
   "source": "**Sample Input**  : import packages"
  },
  {
   "cell_type": "markdown",
   "metadata": {},
   "source": "**Sample Output**  : values"
  },
  {
   "cell_type": "code",
   "execution_count": 2,
   "metadata": {},
   "outputs": [
    {
     "data": {
      "text/html": "<div>\n<style scoped>\n    .dataframe tbody tr th:only-of-type {\n        vertical-align: middle;\n    }\n\n    .dataframe tbody tr th {\n        vertical-align: top;\n    }\n\n    .dataframe thead th {\n        text-align: right;\n    }\n</style>\n<table border=\"1\" class=\"dataframe\">\n  <thead>\n    <tr style=\"text-align: right;\">\n      <th></th>\n      <th>Iris-setosa</th>\n      <th>Iris-versicolor</th>\n      <th>Iris-virginica</th>\n    </tr>\n  </thead>\n  <tbody>\n    <tr>\n      <th>0</th>\n      <td>1</td>\n      <td>0</td>\n      <td>0</td>\n    </tr>\n    <tr>\n      <th>1</th>\n      <td>1</td>\n      <td>0</td>\n      <td>0</td>\n    </tr>\n    <tr>\n      <th>2</th>\n      <td>1</td>\n      <td>0</td>\n      <td>0</td>\n    </tr>\n    <tr>\n      <th>3</th>\n      <td>1</td>\n      <td>0</td>\n      <td>0</td>\n    </tr>\n    <tr>\n      <th>4</th>\n      <td>1</td>\n      <td>0</td>\n      <td>0</td>\n    </tr>\n  </tbody>\n</table>\n</div>",
      "text/plain": "   Iris-setosa  Iris-versicolor  Iris-virginica\n0            1                0               0\n1            1                0               0\n2            1                0               0\n3            1                0               0\n4            1                0               0"
     },
     "execution_count": 2,
     "metadata": {},
     "output_type": "execute_result"
    }
   ],
   "source": "import pandas as pd\ndata = pd.read_csv ('/home/iba/Downloads/iris/Iris.csv')\ndata = data.drop(['Id'], axis = 1)\nX = data.drop(['Species'] , axis = 1)\nY = data['Species']\nY=pd.get_dummies(Y)\nY.head()"
  }
 ],
 "metadata": {
  "kernelspec": {
   "display_name": "Python 3",
   "language": "python",
   "name": "python3"
  },
  "language_info": {
   "codemirror_mode": {
    "name": "ipython",
    "version": 2
   },
   "file_extension": ".py",
   "mimetype": "text/x-python",
   "name": "python",
   "nbconvert_exporter": "python",
   "pygments_lexer": "ipython2",
   "version": "2.7.15+"
  }
 },
 "nbformat": 4,
 "nbformat_minor": 4
}

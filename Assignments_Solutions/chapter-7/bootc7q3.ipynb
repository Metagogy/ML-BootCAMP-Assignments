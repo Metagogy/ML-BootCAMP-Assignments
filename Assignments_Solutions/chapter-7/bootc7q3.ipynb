{
 "cells": [
  {
   "cell_type": "markdown",
   "metadata": {},
   "source": "**Question** : Compile and evaluate the model by using loss function as Binary cross entropy and Optimizer as SGD (Stochastic gradient descent).\n"
  },
  {
   "cell_type": "markdown",
   "metadata": {},
   "source": "**Level** : Hard\n"
  },
  {
   "cell_type": "markdown",
   "metadata": {},
   "source": "**Input format** : \n    \nDataset\n"
  },
  {
   "cell_type": "markdown",
   "metadata": {},
   "source": "**Output format** : \n    \nNeural networks model\n"
  },
  {
   "cell_type": "markdown",
   "metadata": {},
   "source": "**Sample Input** :\n    \nmodel = tf.keras.Sequential()\n\nmodel.add(tf.keras.layers.Dense(8, input_dim = input_dim , activation = 'relu'))\n\nmodel.add(tf.keras.layers.Dense(10, activation = 'relu'))\n\nmodel.add(tf.keras.layers.Dense(10, activation = 'relu'))\n\nmodel.add(tf.keras.layers.Dense(10, activation = 'relu'))\n\nmodel.add(tf.keras.layers.Dense(3, activation = 'softmax'))\n\nmodel.summary()\n"
  },
  {
   "cell_type": "markdown",
   "metadata": {},
   "source": "**Sample Output** : \n    \nIntegers with float values\n"
  },
  {
   "cell_type": "code",
   "execution_count": 1,
   "metadata": {},
   "outputs": [
    {
     "name": "stdout",
     "output_type": "stream",
     "text": "4\nModel: \"sequential\"\n_________________________________________________________________\nLayer (type)                 Output Shape              Param #   \n=================================================================\ndense (Dense)                (None, 8)                 40        \n_________________________________________________________________\ndense_1 (Dense)              (None, 10)                90        \n_________________________________________________________________\ndense_2 (Dense)              (None, 10)                110       \n_________________________________________________________________\ndense_3 (Dense)              (None, 10)                110       \n_________________________________________________________________\ndense_4 (Dense)              (None, 3)                 33        \n=================================================================\nTotal params: 383\nTrainable params: 383\nNon-trainable params: 0\n_________________________________________________________________\nTrain on 135 samples\nEpoch 1/5\n135/135 [==============================] - 2s 17ms/sample - loss: 0.7621 - accuracy: 0.6667\nEpoch 2/5\n135/135 [==============================] - 0s 2ms/sample - loss: 0.7610 - accuracy: 0.6667\nEpoch 3/5\n135/135 [==============================] - 0s 1ms/sample - loss: 0.7598 - accuracy: 0.6667\nEpoch 4/5\n135/135 [==============================] - 0s 881us/sample - loss: 0.7588 - accuracy: 0.6667\nEpoch 5/5\n135/135 [==============================] - 0s 958us/sample - loss: 0.7576 - accuracy: 0.6667\n15/15 [==============================] - 0s 9ms/sample - loss: 0.7583 - accuracy: 0.6667\n('Test score', 0.758300244808197)\n('Test accuracy', 0.6666667)\n"
    }
   ],
   "source": "\nimport pandas as pd\ndata = pd.read_csv ('/home/iba/Downloads/iris/Iris.csv')\ndata = data.drop(['Id'], axis = 1)\nX = data.drop(['Species'] , axis = 1)\nY = data['Species']\nY=pd.get_dummies(Y)\nfrom sklearn import preprocessing, model_selection\ntrain_x, test_x, train_y, test_y = model_selection.train_test_split(X,Y,test_size = 0.1, random_state = 0)\n\n\nimport tensorflow as tf\n\ninput_dim = len(data.columns) - 1\nprint(input_dim)\nmodel = tf.keras.Sequential()\nmodel.add(tf.keras.layers.Dense(8, input_dim = input_dim , activation = 'relu'))\nmodel.add(tf.keras.layers.Dense(10, activation = 'relu'))\nmodel.add(tf.keras.layers.Dense(10, activation = 'relu'))\nmodel.add(tf.keras.layers.Dense(10, activation = 'relu'))\nmodel.add(tf.keras.layers.Dense(3, activation = 'softmax'))\nmodel.summary()\n\nmodel.compile(\n    loss=tf.keras.losses.BinaryCrossentropy(from_logits=True),\n    optimizer='SGD',\n    metrics=['accuracy'])\n\nmodel.fit(train_x, train_y, epochs = 5, batch_size = 2)\nscores = model.evaluate(test_x, test_y)\nprint(\"Test score\",scores[0])\nprint(\"Test accuracy\",scores[1])\n"
  }
 ],
 "metadata": {
  "kernelspec": {
   "display_name": "Python 3",
   "language": "python",
   "name": "python3"
  },
  "language_info": {
   "codemirror_mode": {
    "name": "ipython",
    "version": 2
   },
   "file_extension": ".py",
   "mimetype": "text/x-python",
   "name": "python",
   "nbconvert_exporter": "python",
   "pygments_lexer": "ipython2",
   "version": "2.7.15+"
  }
 },
 "nbformat": 4,
 "nbformat_minor": 4
}

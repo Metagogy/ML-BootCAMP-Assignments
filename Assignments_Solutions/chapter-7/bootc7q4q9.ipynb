{
 "cells": [
  {
   "cell_type": "markdown",
   "metadata": {},
   "source": "**Question :** How to evaluate a model for finding an accuarcy"
  },
  {
   "cell_type": "markdown",
   "metadata": {},
   "source": "**Level:** Hard"
  },
  {
   "cell_type": "markdown",
   "metadata": {},
   "source": "**Input format :** \n\nEvaluate a model"
  },
  {
   "cell_type": "markdown",
   "metadata": {},
   "source": "**Output format :** \n\naccuracy with float values for both test score and test accuracy"
  },
  {
   "cell_type": "markdown",
   "metadata": {},
   "source": "**Sample Input :** \n\nmodel = tf.keras.Sequential()\n\nmodel.add(tf.keras.layers.Dense(8, input_dim = input_dim , activation = 'relu'))\n\nmodel.add(tf.keras.layers.Dense(10, activation = 'relu'))\n\nmodel.add(tf.keras.layers.Dense(10, activation = 'relu'))\n\nmodel.add(tf.keras.layers.Dense(10, activation = 'relu'))\n\nmodel.add(tf.keras.layers.Dense(3, activation = 'softmax'))\n\nmodel.summary()"
  },
  {
   "cell_type": "markdown",
   "metadata": {},
   "source": "**Sample Output :** \n\nIntegers with float values"
  },
  {
   "cell_type": "code",
   "execution_count": 1,
   "metadata": {},
   "outputs": [
    {
     "name": "stdout",
     "output_type": "stream",
     "text": "4\nModel: \"sequential\"\n_________________________________________________________________\nLayer (type)                 Output Shape              Param #   \n=================================================================\ndense (Dense)                (None, 8)                 40        \n_________________________________________________________________\ndense_1 (Dense)              (None, 10)                90        \n_________________________________________________________________\ndense_2 (Dense)              (None, 10)                110       \n_________________________________________________________________\ndense_3 (Dense)              (None, 10)                110       \n_________________________________________________________________\ndense_4 (Dense)              (None, 3)                 33        \n=================================================================\nTotal params: 383\nTrainable params: 383\nNon-trainable params: 0\n_________________________________________________________________\nTrain on 135 samples\nEpoch 1/5\n135/135 [==============================] - 1s 4ms/sample - loss: 0.2587 - accuracy: 0.3111\nEpoch 2/5\n135/135 [==============================] - 0s 934us/sample - loss: 0.2371 - accuracy: 0.3185\nEpoch 3/5\n135/135 [==============================] - 0s 904us/sample - loss: 0.2276 - accuracy: 0.6370\nEpoch 4/5\n135/135 [==============================] - 0s 934us/sample - loss: 0.2232 - accuracy: 0.6593\nEpoch 5/5\n135/135 [==============================] - 0s 917us/sample - loss: 0.2216 - accuracy: 0.6593\n15/15 [==============================] - 0s 7ms/sample - loss: 0.2128 - accuracy: 0.7333\n('Test score', 0.21284881234169006)\n('Test accuracy', 0.73333335)\n"
    }
   ],
   "source": "import pandas as pd\ndata = pd.read_csv ('/home/iba/Downloads/iris/Iris.csv')\ndata = data.drop(['Id'], axis = 1)\nX = data.drop(['Species'] , axis = 1)\nY = data['Species']\nY=pd.get_dummies(Y)\nfrom sklearn import preprocessing, model_selection\ntrain_x, test_x, train_y, test_y = model_selection.train_test_split(X,Y,test_size = 0.1, random_state = 0)\n\nimport tensorflow as tf\n\ninput_dim = len(data.columns) - 1\nprint(input_dim)\nmodel = tf.keras.Sequential()\nmodel.add(tf.keras.layers.Dense(8, input_dim = input_dim , activation = 'relu'))\nmodel.add(tf.keras.layers.Dense(10, activation = 'relu'))\nmodel.add(tf.keras.layers.Dense(10, activation = 'relu'))\nmodel.add(tf.keras.layers.Dense(10, activation = 'relu'))\nmodel.add(tf.keras.layers.Dense(3, activation = 'softmax'))\nmodel.summary()\n\nmodel.compile(\n    loss=tf.keras.losses.MeanSquaredError(),\n    optimizer='SGD',\n    metrics=['accuracy'])\n\nmodel.fit(train_x, train_y, epochs = 5, batch_size = 2)\nscores = model.evaluate(test_x, test_y)\nprint(\"Test score\",scores[0])\nprint(\"Test accuracy\",scores[1])\n"
  },
  {
   "cell_type": "code",
   "execution_count": null,
   "metadata": {},
   "outputs": [],
   "source": ""
  }
 ],
 "metadata": {
  "kernelspec": {
   "display_name": "Python 3",
   "language": "python",
   "name": "python3"
  },
  "language_info": {
   "codemirror_mode": {
    "name": "ipython",
    "version": 2
   },
   "file_extension": ".py",
   "mimetype": "text/x-python",
   "name": "python",
   "nbconvert_exporter": "python",
   "pygments_lexer": "ipython2",
   "version": "2.7.15+"
  }
 },
 "nbformat": 4,
 "nbformat_minor": 4
}

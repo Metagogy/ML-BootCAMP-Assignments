{
 "cells": [
  {
   "cell_type": "markdown",
   "metadata": {},
   "source": [
    "**Question :** Build, compile, train and evaluate the Iris model using categorical cross entropy as loss function."
   ]
  },
  {
   "cell_type": "markdown",
   "metadata": {},
   "source": [
    "**Description** : \n",
    "\n",
    "* Load the iris.csv dataset and Drop “Id” variable(column) , axis = 1 \n",
    "\n",
    "* Split into training and testing with test size = 0.1 and random state = 0\n",
    "\n",
    "* Build the model by using Sequential model and adding first activation function as Relu layer having 8 neurons and next three activation functions as Relu layer having 10 neurons each and last activation function as Softmax layer has 3 neurons\n",
    "\n",
    "* Compile the model by using loss function as categorical cross entropy and Optimizer as RMSprop\n",
    "\n",
    "* Fit or Train the model by using 5 epochs and 2 as batch size\n",
    "\n",
    "* Evaluate the model by using test values\n",
    "\n"
   ]
  },
  {
   "cell_type": "markdown",
   "metadata": {},
   "source": [
    "### Solution "
   ]
  },
  {
   "cell_type": "code",
   "execution_count": 1,
   "metadata": {},
   "outputs": [
    {
     "name": "stdout",
     "output_type": "stream",
     "text": [
      "0.7333333492279053\n"
     ]
    }
   ],
   "source": [
    "import pandas as pd\n",
    "data = pd.read_csv ('https://raw.githubusercontent.com/Metagogy/ML-BootCAMP-Assignments/master/datasets/Iris.csv')\n",
    "data = data.drop(['Id'], axis = 1)\n",
    "X = data.drop(['Species'] , axis = 1)\n",
    "Y = data['Species']\n",
    "Y=pd.get_dummies(Y)\n",
    "from sklearn import preprocessing, model_selection\n",
    "train_x, test_x, train_y, test_y = model_selection.train_test_split(X,Y,test_size = 0.1, random_state = 0)\n",
    "\n",
    "\n",
    "import tensorflow as tf\n",
    "\n",
    "input_dim = len(data.columns) - 1\n",
    "\n",
    "model = tf.keras.Sequential()\n",
    "model.add(tf.keras.layers.Dense(8, input_dim = input_dim , activation = 'relu'))\n",
    "model.add(tf.keras.layers.Dense(10, activation = 'relu'))\n",
    "model.add(tf.keras.layers.Dense(10, activation = 'relu'))\n",
    "model.add(tf.keras.layers.Dense(10, activation = 'relu'))\n",
    "model.add(tf.keras.layers.Dense(3, activation = 'softmax'))\n",
    "\n",
    "\n",
    "model.compile(\n",
    "    loss=tf.keras.losses.CategoricalCrossentropy(),\n",
    "    optimizer='RMSprop',\n",
    "    metrics=['accuracy'])\n",
    "\n",
    "model.fit(train_x, train_y, epochs = 5, batch_size = 2,verbose=0);\n",
    "scores = model.evaluate(test_x, test_y,verbose=0)\n",
    "\n",
    "print(scores[1])"
   ]
  },
  {
   "cell_type": "code",
   "execution_count": null,
   "metadata": {},
   "outputs": [],
   "source": []
  }
 ],
 "metadata": {
  "kernelspec": {
   "display_name": "Python 3",
   "language": "python",
   "name": "python3"
  },
  "language_info": {
   "codemirror_mode": {
    "name": "ipython",
    "version": 3
   },
   "file_extension": ".py",
   "mimetype": "text/x-python",
   "name": "python",
   "nbconvert_exporter": "python",
   "pygments_lexer": "ipython3",
   "version": "3.8.3"
  }
 },
 "nbformat": 4,
 "nbformat_minor": 4
}

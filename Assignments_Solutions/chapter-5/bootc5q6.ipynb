{
 "cells": [
  {
   "cell_type": "markdown",
   "metadata": {},
   "source": [
    "### Question : Load the iris.csv  and drop the ‘Id’ feature in the dataset. Split the dataset into dependent(Y) and independent(X) and apply label encoding to Y, split the data into training(70%) and testing(30%). print unique values in Y and shape of the X_train."
   ]
  },
  {
   "cell_type": "markdown",
   "metadata": {},
   "source": [
    "**Dataset** :"
   ]
  },
  {
   "cell_type": "raw",
   "metadata": {},
   "source": [
    "# Read the Iris dataset by using the below path.\n",
    "\n",
    "https://raw.githubusercontent.com/Metagogy/ML-BootCAMP-Assignments/master/datasets/Iris.csv\n",
    "\n",
    "Note : Use input() function to read path.\n",
    "\n",
    "ex :\n",
    "    df=pd.read_csv(input())"
   ]
  },
  {
   "cell_type": "markdown",
   "metadata": {},
   "source": [
    "**Description** : \n",
    "\n",
    "Load the iris dataset using pandas and drop the ‘Id’ feature in the dataset. \n",
    "\n",
    "Split the dataset into dependent(Y) and independent(X) features. Using sklearn, split the dataset into training(70%) and testing(30%) sets naming X_train, X_test, y_train and y_test.  \n"
   ]
  },
  {
   "cell_type": "markdown",
   "metadata": {},
   "source": [
    "**Level** : Hard"
   ]
  },
  {
   "cell_type": "markdown",
   "metadata": {},
   "source": [
    "**Input format** : Dataset path as input."
   ]
  },
  {
   "cell_type": "markdown",
   "metadata": {},
   "source": [
    "**Output format** :\n",
    "\n",
    "First-line : List of unique values presented in Y.\n",
    "\n",
    "Second-line : Tuple contain shape of X_train."
   ]
  },
  {
   "cell_type": "markdown",
   "metadata": {},
   "source": [
    "**Sample Input** :"
   ]
  },
  {
   "cell_type": "raw",
   "metadata": {},
   "source": [
    "https://raw.githubusercontent.com/Metagogy/ML-BootCAMP-Assignments/master/datasets/Iris.csv"
   ]
  },
  {
   "cell_type": "markdown",
   "metadata": {},
   "source": [
    "**Sample Output**  : \n",
    "\n",
    "[0, 1, 2]\n",
    "\n",
    "(105, 4)"
   ]
  },
  {
   "cell_type": "markdown",
   "metadata": {},
   "source": [
    "## Solution"
   ]
  },
  {
   "cell_type": "code",
   "execution_count": 4,
   "metadata": {},
   "outputs": [
    {
     "name": "stdout",
     "output_type": "stream",
     "text": [
      "https://raw.githubusercontent.com/Metagogy/ML-BootCAMP-Assignments/master/datasets/Iris50.csv\n",
      "[0]\n",
      "(35, 4)\n"
     ]
    }
   ],
   "source": [
    "import pandas as pd\n",
    "from sklearn.model_selection import train_test_split\n",
    "data = pd.read_csv (input())\n",
    "data = data.drop(['Id'], axis = 1)\n",
    "X = data.drop(['Species'] , axis = 1)\n",
    "Y = data['Species']\n",
    "from sklearn.preprocessing import LabelEncoder\n",
    "encode=LabelEncoder()\n",
    "Y=encode.fit_transform(Y)\n",
    "X_train, X_test, y_train, y_test = train_test_split(X,Y,test_size=0.3)\n",
    "print(list(set(Y)))\n",
    "print(X_train.shape)"
   ]
  },
  {
   "cell_type": "code",
   "execution_count": null,
   "metadata": {},
   "outputs": [],
   "source": []
  }
 ],
 "metadata": {
  "kernelspec": {
   "display_name": "Python 3",
   "language": "python",
   "name": "python3"
  },
  "language_info": {
   "codemirror_mode": {
    "name": "ipython",
    "version": 3
   },
   "file_extension": ".py",
   "mimetype": "text/x-python",
   "name": "python",
   "nbconvert_exporter": "python",
   "pygments_lexer": "ipython3",
   "version": "3.8.3"
  }
 },
 "nbformat": 4,
 "nbformat_minor": 4
}

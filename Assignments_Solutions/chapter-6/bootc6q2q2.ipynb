{
 "cells": [
  {
   "cell_type": "markdown",
   "metadata": {},
   "source": "**Question :** Build Multilayer Perceptron model to address the two circles problem with model= sequential\n\n#generate 2d classification dataset with\n\nX, y = make_circles(n_samples=1000, noise=0.1, random_state=1)"
  },
  {
   "cell_type": "markdown",
   "metadata": {},
   "source": "**Level:** Medium"
  },
  {
   "cell_type": "markdown",
   "metadata": {},
   "source": "**Input format :**\n\nPrepare the data scaling using a training dataset and apply it to a test dataset. \n\nscale all of the data together before splitting it into train and test sets."
  },
  {
   "cell_type": "markdown",
   "metadata": {},
   "source": "**Output format :**\n\nintegers"
  },
  {
   "cell_type": "markdown",
   "metadata": {},
   "source": "**Sample Input :**\n\nscale input data to [-1,1]\n\nscaler = MinMaxScaler(feature_range=(-1, 1))\n\nX = scaler.fit_transform(X)"
  },
  {
   "cell_type": "markdown",
   "metadata": {},
   "source": "**Sample Output :**\n\nModel: \"sequential_16\"\n\nLayer (type)                 Output Shape              Param #   \n\n=================================================================\n\ndense_35 (Dense)             (None, 5)                 15        \n\n\ndense_36 (Dense)             (None, 1)                 6         \n\n=================================================================\n\nTotal params: 21\n\nTrainable params: 21\n\nNon-trainable params: 0"
  },
  {
   "cell_type": "code",
   "execution_count": 1,
   "metadata": {},
   "outputs": [
    {
     "name": "stdout",
     "output_type": "stream",
     "text": "Model: \"sequential\"\n_________________________________________________________________\nLayer (type)                 Output Shape              Param #   \n=================================================================\ndense (Dense)                (None, 5)                 15        \n_________________________________________________________________\ndense_1 (Dense)              (None, 1)                 6         \n=================================================================\nTotal params: 21\nTrainable params: 21\nNon-trainable params: 0\n_________________________________________________________________\n"
    }
   ],
   "source": "import tensorflow as tf\nfrom tensorflow import keras\nfrom tensorflow.keras.layers import Input, Dense\nfrom tensorflow.keras.models import Sequential\nfrom tensorflow.keras.optimizers import SGD\nfrom tensorflow.keras.initializers import RandomUniform\nfrom matplotlib import pyplot\nfrom sklearn.datasets import make_circles\nfrom sklearn.preprocessing import MinMaxScaler\n\n# generate 2d classification dataset\nX, y = make_circles(n_samples=1000, noise=0.1, random_state=1)\n# scale input data to [-1,1]\nscaler = MinMaxScaler(feature_range=(-1, 1))\nX = scaler.fit_transform(X)\n# split into train and test\nn_train = 500\ntrainX, testX = X[:n_train, :], X[n_train:, :]\ntrainy, testy = y[:n_train], y[n_train:]\n# define model\nmodel = tf.keras.Sequential()\ninit = RandomUniform(minval=0, maxval=1)\nmodel.add(tf.keras.layers.Dense(5, input_dim=2, activation='tanh', kernel_initializer=init))\nmodel.add(tf.keras.layers.Dense(1, activation='sigmoid', kernel_initializer=init))\nmodel.summary()\n\n"
  },
  {
   "cell_type": "code",
   "execution_count": null,
   "metadata": {},
   "outputs": [],
   "source": ""
  }
 ],
 "metadata": {
  "kernelspec": {
   "display_name": "Python 3",
   "language": "python",
   "name": "python3"
  },
  "language_info": {
   "codemirror_mode": {
    "name": "ipython",
    "version": 2
   },
   "file_extension": ".py",
   "mimetype": "text/x-python",
   "name": "python",
   "nbconvert_exporter": "python",
   "pygments_lexer": "ipython2",
   "version": "2.7.15+"
  }
 },
 "nbformat": 4,
 "nbformat_minor": 4
}

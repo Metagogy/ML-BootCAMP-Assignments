{
 "cells": [
  {
   "cell_type": "markdown",
   "metadata": {},
   "source": "**Question :** Given a function func = 500-(x1**2), find the global optima using tf.keras and RMSprop optimizer??"
  },
  {
   "cell_type": "markdown",
   "metadata": {},
   "source": "**Level :** Medium"
  },
  {
   "cell_type": "markdown",
   "metadata": {},
   "source": "**Input format :** \n\nfloat"
  },
  {
   "cell_type": "markdown",
   "metadata": {},
   "source": "**Output format :** \n\nfloat"
  },
  {
   "cell_type": "markdown",
   "metadata": {},
   "source": "**Sample input :** \n\nfunction J = 500-(x1**2) , x1 = 8.0 "
  },
  {
   "cell_type": "markdown",
   "metadata": {},
   "source": "**Sample output :**\n\ny = 436.0, x1 = 8.0\n\ny = 430.8, x1 = 8.3\n\ny = 426.9, x1 = 8.5"
  },
  {
   "cell_type": "code",
   "execution_count": 1,
   "metadata": {},
   "outputs": [
    {
     "name": "stdout",
     "output_type": "stream",
     "text": "y = 436.0, x1 = 8.0\ny = 430.8, x1 = 8.3\ny = 426.9, x1 = 8.5\ny = 423.5, x1 = 8.7\ny = 420.4, x1 = 8.9\ny = 417.4, x1 = 9.1\ny = 414.6, x1 = 9.2\ny = 411.9, x1 = 9.4\ny = 409.3, x1 = 9.5\ny = 406.7, x1 = 9.7\ny = 404.1, x1 = 9.8\ny = 401.6, x1 = 9.9\ny = 399.1, x1 = 10.0\ny = 396.6, x1 = 10.2\ny = 394.1, x1 = 10.3\ny = 391.6, x1 = 10.4\ny = 389.1, x1 = 10.5\ny = 386.6, x1 = 10.6\ny = 384.1, x1 = 10.8\ny = 381.6, x1 = 10.9\ny = 379.1, x1 = 11.0\ny = 376.6, x1 = 11.1\ny = 374.1, x1 = 11.2\ny = 371.5, x1 = 11.3\ny = 369.0, x1 = 11.4\ny = 366.4, x1 = 11.6\ny = 363.8, x1 = 11.7\ny = 361.2, x1 = 11.8\ny = 358.6, x1 = 11.9\ny = 356.0, x1 = 12.0\ny = 353.3, x1 = 12.1\ny = 350.6, x1 = 12.2\ny = 347.9, x1 = 12.3\ny = 345.2, x1 = 12.4\ny = 342.5, x1 = 12.5\ny = 339.8, x1 = 12.7\ny = 337.0, x1 = 12.8\ny = 334.2, x1 = 12.9\ny = 331.4, x1 = 13.0\ny = 328.6, x1 = 13.1\ny = 325.8, x1 = 13.2\ny = 322.9, x1 = 13.3\ny = 320.0, x1 = 13.4\ny = 317.1, x1 = 13.5\ny = 314.2, x1 = 13.6\ny = 311.2, x1 = 13.7\ny = 308.3, x1 = 13.8\ny = 305.3, x1 = 14.0\ny = 302.3, x1 = 14.1\ny = 299.2, x1 = 14.2\n"
    }
   ],
   "source": "\nimport tensorflow as tf\n\ndef fu(x1): \n    return 500-(x1**2)\ndef fu_minimzie():\n    return 500-(x1**2) \ndef reset():\n    x1 = tf.Variable(8.0) \n    return x1\n\nx1 = reset()\nopt = tf.keras.optimizers.RMSprop(learning_rate=0.1)\nfor i in range(50):\n    print ('y = {:.1f}, x1 = {:.1f}'.format(fu(x1).numpy(), x1.numpy()))\n    opt.minimize(fu_minimzie, var_list=[x1])\n"
  },
  {
   "cell_type": "code",
   "execution_count": null,
   "metadata": {},
   "outputs": [],
   "source": ""
  }
 ],
 "metadata": {
  "kernelspec": {
   "display_name": "Python 3",
   "language": "python",
   "name": "python3"
  },
  "language_info": {
   "codemirror_mode": {
    "name": "ipython",
    "version": 2
   },
   "file_extension": ".py",
   "mimetype": "text/x-python",
   "name": "python",
   "nbconvert_exporter": "python",
   "pygments_lexer": "ipython2",
   "version": "2.7.15+"
  }
 },
 "nbformat": 4,
 "nbformat_minor": 4
}

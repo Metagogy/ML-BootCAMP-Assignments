{
 "cells": [
  {
   "cell_type": "markdown",
   "metadata": {},
   "source": "**Question :** Given a function fn = 250-(x1**2), find the global optima using tf.keras and Adadelta optimizer? ?"
  },
  {
   "cell_type": "markdown",
   "metadata": {},
   "source": "**Level :** Medium"
  },
  {
   "cell_type": "markdown",
   "metadata": {},
   "source": "**Input format :**\n\nfloat"
  },
  {
   "cell_type": "markdown",
   "metadata": {},
   "source": "**Output format :**\n\nfloat"
  },
  {
   "cell_type": "markdown",
   "metadata": {},
   "source": "**Sample input :**\n\nfunction fn = 250-(x1**2) , x1 = 8.0"
  },
  {
   "cell_type": "markdown",
   "metadata": {},
   "source": "**Sample output :**\n\ny = 186.0, x1 = 8.0\n\ny = 186.0, x1 = 8.0"
  },
  {
   "cell_type": "code",
   "execution_count": 1,
   "metadata": {},
   "outputs": [
    {
     "name": "stdout",
     "output_type": "stream",
     "text": "y = 186.0, x1 = 8.0\ny = 186.0, x1 = 8.0\ny = 186.0, x1 = 8.0\ny = 186.0, x1 = 8.0\ny = 186.0, x1 = 8.0\ny = 186.0, x1 = 8.0\ny = 186.0, x1 = 8.0\ny = 186.0, x1 = 8.0\ny = 186.0, x1 = 8.0\ny = 186.0, x1 = 8.0\ny = 186.0, x1 = 8.0\ny = 186.0, x1 = 8.0\ny = 186.0, x1 = 8.0\ny = 186.0, x1 = 8.0\ny = 186.0, x1 = 8.0\ny = 186.0, x1 = 8.0\ny = 186.0, x1 = 8.0\ny = 186.0, x1 = 8.0\ny = 186.0, x1 = 8.0\ny = 186.0, x1 = 8.0\ny = 186.0, x1 = 8.0\ny = 186.0, x1 = 8.0\ny = 185.9, x1 = 8.0\ny = 185.9, x1 = 8.0\ny = 185.9, x1 = 8.0\ny = 185.9, x1 = 8.0\ny = 185.9, x1 = 8.0\ny = 185.9, x1 = 8.0\ny = 185.9, x1 = 8.0\ny = 185.9, x1 = 8.0\ny = 185.9, x1 = 8.0\ny = 185.9, x1 = 8.0\ny = 185.9, x1 = 8.0\ny = 185.9, x1 = 8.0\ny = 185.9, x1 = 8.0\ny = 185.9, x1 = 8.0\ny = 185.9, x1 = 8.0\ny = 185.9, x1 = 8.0\ny = 185.9, x1 = 8.0\ny = 185.9, x1 = 8.0\ny = 185.9, x1 = 8.0\ny = 185.9, x1 = 8.0\ny = 185.9, x1 = 8.0\ny = 185.9, x1 = 8.0\ny = 185.9, x1 = 8.0\ny = 185.9, x1 = 8.0\ny = 185.9, x1 = 8.0\ny = 185.9, x1 = 8.0\ny = 185.9, x1 = 8.0\ny = 185.9, x1 = 8.0\n"
    }
   ],
   "source": "\nimport tensorflow as tf\n\ndef fu(x1): \n    return 250-(x1**2)\ndef fu_minimzie():\n    return 250-(x1**2) \ndef reset():\n    x1 = tf.Variable(8.0) \n    return x1\n\nx1 = reset()\nopt = tf.keras.optimizers.Adadelta(learning_rate=0.1)\nfor i in range(50):\n    print ('y = {:.1f}, x1 = {:.1f}'.format(fu(x1).numpy(), x1.numpy()))\n    opt.minimize(fu_minimzie, var_list=[x1])\n\n    \n    "
  },
  {
   "cell_type": "code",
   "execution_count": null,
   "metadata": {},
   "outputs": [],
   "source": ""
  }
 ],
 "metadata": {
  "kernelspec": {
   "display_name": "Python 3",
   "language": "python",
   "name": "python3"
  },
  "language_info": {
   "codemirror_mode": {
    "name": "ipython",
    "version": 2
   },
   "file_extension": ".py",
   "mimetype": "text/x-python",
   "name": "python",
   "nbconvert_exporter": "python",
   "pygments_lexer": "ipython2",
   "version": "2.7.15+"
  }
 },
 "nbformat": 4,
 "nbformat_minor": 4
}

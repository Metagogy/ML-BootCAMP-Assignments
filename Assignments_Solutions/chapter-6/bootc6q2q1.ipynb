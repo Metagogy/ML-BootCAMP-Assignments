{
 "cells": [
  {
   "cell_type": "markdown",
   "metadata": {},
   "source": "**Question :** Develop a Multilayer Perceptron model to address the two circles problem. and find the accuracy\n\n#generate 2d classification dataset with\n\nX, y = make_circles(n_samples=1000, noise=0.1, random_state=1)"
  },
  {
   "cell_type": "markdown",
   "metadata": {},
   "source": "**Level:** Hard"
  },
  {
   "cell_type": "markdown",
   "metadata": {},
   "source": "**Input format :**\n\nPrepare the data scaling using a training dataset and apply it to a test dataset. \n\nscale all of the data together before splitting it into train and test sets."
  },
  {
   "cell_type": "markdown",
   "metadata": {},
   "source": "**Output format :**\n\nTrain and test values with accuracy"
  },
  {
   "cell_type": "markdown",
   "metadata": {},
   "source": "**Sample Input :**\n\nscale input data to [-1,1]\n\nscaler = MinMaxScaler(feature_range=(-1, 1))\n\nX = scaler.fit_transform(X)"
  },
  {
   "cell_type": "markdown",
   "metadata": {},
   "source": "**Sample Output :**\n\nTrain and test values with accuracy"
  },
  {
   "cell_type": "code",
   "execution_count": 1,
   "metadata": {},
   "outputs": [
    {
     "name": "stdout",
     "output_type": "stream",
     "text": "Train: 0.816, Test: 0.814\n"
    }
   ],
   "source": "import tensorflow as tf\nfrom tensorflow import keras\nfrom tensorflow.keras.layers import Input, Dense\nfrom tensorflow.keras.models import Sequential\nfrom tensorflow.keras.optimizers import SGD\nfrom tensorflow.keras.initializers import RandomUniform\nfrom matplotlib import pyplot\nfrom sklearn.datasets import make_circles\nfrom sklearn.preprocessing import MinMaxScaler\n\n# generate 2d classification dataset\nX, y = make_circles(n_samples=1000, noise=0.1, random_state=1)\n# scale input data to [-1,1]\nscaler = MinMaxScaler(feature_range=(-1, 1))\nX = scaler.fit_transform(X)\n# split into train and test\nn_train = 500\ntrainX, testX = X[:n_train, :], X[n_train:, :]\ntrainy, testy = y[:n_train], y[n_train:]\n# define model\nmodel = tf.keras.Sequential()\ninit = RandomUniform(minval=0, maxval=1)\nmodel.add(tf.keras.layers.Dense(5, input_dim=2, activation='tanh', kernel_initializer=init))\nmodel.add(tf.keras.layers.Dense(1, activation='sigmoid', kernel_initializer=init))\n\n# compile model\nopt = SGD(lr=0.01, momentum=0.9)\nmodel.compile(loss='binary_crossentropy', optimizer=opt, metrics=['accuracy'])\n# fit model\nhistory = model.fit(trainX, trainy, validation_data=(testX, testy), epochs=500, verbose=0)\n# evaluate the model\n_, train_acc = model.evaluate(trainX, trainy, verbose=0)\n_, test_acc = model.evaluate(testX, testy, verbose=0)\nprint('Train: %.3f, Test: %.3f' % (train_acc, test_acc))\n\n\n"
  },
  {
   "cell_type": "code",
   "execution_count": null,
   "metadata": {},
   "outputs": [],
   "source": ""
  }
 ],
 "metadata": {
  "kernelspec": {
   "display_name": "Python 3",
   "language": "python",
   "name": "python3"
  },
  "language_info": {
   "codemirror_mode": {
    "name": "ipython",
    "version": 2
   },
   "file_extension": ".py",
   "mimetype": "text/x-python",
   "name": "python",
   "nbconvert_exporter": "python",
   "pygments_lexer": "ipython2",
   "version": "2.7.15+"
  }
 },
 "nbformat": 4,
 "nbformat_minor": 4
}

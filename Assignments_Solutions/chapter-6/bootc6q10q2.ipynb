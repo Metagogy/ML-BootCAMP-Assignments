{
 "cells": [
  {
   "cell_type": "markdown",
   "metadata": {},
   "source": "**Question :** Given a function fn = 250-(x1**2), find the global optima using tf.keras and RMSprop optimizer? ?"
  },
  {
   "cell_type": "markdown",
   "metadata": {},
   "source": "**Level:** Medium"
  },
  {
   "cell_type": "markdown",
   "metadata": {},
   "source": "**Input format :**\n\nfloat"
  },
  {
   "cell_type": "markdown",
   "metadata": {},
   "source": "**Output format :**\n\nfloat"
  },
  {
   "cell_type": "markdown",
   "metadata": {},
   "source": "**Sample input :**\n\nfunction fn = 250-(x1**2) , x1 = 8.0"
  },
  {
   "cell_type": "markdown",
   "metadata": {},
   "source": "**Sample output :**\n\ny = 186.0, x1 = 8.0\n\ny = 180.8, x1 = 8.3\n\ny = 176.9, x1 = 8.5"
  },
  {
   "cell_type": "code",
   "execution_count": 1,
   "metadata": {},
   "outputs": [
    {
     "name": "stdout",
     "output_type": "stream",
     "text": "y = 186.0, x1 = 8.0\ny = 180.8, x1 = 8.3\ny = 176.9, x1 = 8.5\ny = 173.5, x1 = 8.7\ny = 170.4, x1 = 8.9\ny = 167.4, x1 = 9.1\ny = 164.6, x1 = 9.2\ny = 161.9, x1 = 9.4\ny = 159.3, x1 = 9.5\ny = 156.7, x1 = 9.7\ny = 154.1, x1 = 9.8\ny = 151.6, x1 = 9.9\ny = 149.1, x1 = 10.0\ny = 146.6, x1 = 10.2\ny = 144.1, x1 = 10.3\ny = 141.6, x1 = 10.4\ny = 139.1, x1 = 10.5\ny = 136.6, x1 = 10.6\ny = 134.1, x1 = 10.8\ny = 131.6, x1 = 10.9\ny = 129.1, x1 = 11.0\ny = 126.6, x1 = 11.1\ny = 124.1, x1 = 11.2\ny = 121.5, x1 = 11.3\ny = 119.0, x1 = 11.4\ny = 116.4, x1 = 11.6\ny = 113.8, x1 = 11.7\ny = 111.2, x1 = 11.8\ny = 108.6, x1 = 11.9\ny = 106.0, x1 = 12.0\ny = 103.3, x1 = 12.1\ny = 100.6, x1 = 12.2\ny = 97.9, x1 = 12.3\ny = 95.2, x1 = 12.4\ny = 92.5, x1 = 12.5\ny = 89.8, x1 = 12.7\ny = 87.0, x1 = 12.8\ny = 84.2, x1 = 12.9\ny = 81.4, x1 = 13.0\ny = 78.6, x1 = 13.1\ny = 75.8, x1 = 13.2\ny = 72.9, x1 = 13.3\ny = 70.0, x1 = 13.4\ny = 67.1, x1 = 13.5\ny = 64.2, x1 = 13.6\ny = 61.2, x1 = 13.7\ny = 58.3, x1 = 13.8\ny = 55.3, x1 = 14.0\ny = 52.3, x1 = 14.1\ny = 49.2, x1 = 14.2\n"
    }
   ],
   "source": "\nimport tensorflow as tf\n\ndef fu(x1): \n    return 250-(x1**2)\ndef fu_minimzie():\n    return 250-(x1**2) \ndef reset():\n    x1 = tf.Variable(8.0) \n    return x1\n\nx1 = reset()\nopt = tf.keras.optimizers.RMSprop(learning_rate=0.1)\nfor i in range(50):\n    print ('y = {:.1f}, x1 = {:.1f}'.format(fu(x1).numpy(), x1.numpy()))\n    opt.minimize(fu_minimzie, var_list=[x1])\n\n    \n    \n    "
  },
  {
   "cell_type": "code",
   "execution_count": null,
   "metadata": {},
   "outputs": [],
   "source": ""
  }
 ],
 "metadata": {
  "kernelspec": {
   "display_name": "Python 3",
   "language": "python",
   "name": "python3"
  },
  "language_info": {
   "codemirror_mode": {
    "name": "ipython",
    "version": 2
   },
   "file_extension": ".py",
   "mimetype": "text/x-python",
   "name": "python",
   "nbconvert_exporter": "python",
   "pygments_lexer": "ipython2",
   "version": "2.7.15+"
  }
 },
 "nbformat": 4,
 "nbformat_minor": 4
}

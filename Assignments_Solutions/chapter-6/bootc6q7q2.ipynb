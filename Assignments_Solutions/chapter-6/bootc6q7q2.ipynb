{
 "cells": [
  {
   "cell_type": "markdown",
   "metadata": {},
   "source": "**Question :** Given a function func = 500-(x1**2), find the global optima using tf.keras and Adam optimizer??"
  },
  {
   "cell_type": "markdown",
   "metadata": {},
   "source": "**Level :** Medium"
  },
  {
   "cell_type": "markdown",
   "metadata": {},
   "source": "**Input format :**\n\nfloat"
  },
  {
   "cell_type": "markdown",
   "metadata": {},
   "source": "**Output format :**\n\nfloat"
  },
  {
   "cell_type": "markdown",
   "metadata": {},
   "source": "**Sample input :**\n\nfunction J = 500-(x1**2) , x1 = 8.0 "
  },
  {
   "cell_type": "markdown",
   "metadata": {},
   "source": "**Sample output :**\n\ny = 436.0, x1 = 8.0\n\ny = 434.4, x1 = 8.1\n\ny = 432.8, x1 = 8.2"
  },
  {
   "cell_type": "code",
   "execution_count": 1,
   "metadata": {},
   "outputs": [
    {
     "name": "stdout",
     "output_type": "stream",
     "text": "y = 436.0, x1 = 8.0\ny = 434.4, x1 = 8.1\ny = 432.8, x1 = 8.2\ny = 431.1, x1 = 8.3\ny = 429.4, x1 = 8.4\ny = 427.7, x1 = 8.5\ny = 426.0, x1 = 8.6\ny = 424.3, x1 = 8.7\ny = 422.5, x1 = 8.8\ny = 420.7, x1 = 8.9\ny = 418.9, x1 = 9.0\ny = 417.1, x1 = 9.1\ny = 415.2, x1 = 9.2\ny = 413.4, x1 = 9.3\ny = 411.5, x1 = 9.4\ny = 409.5, x1 = 9.5\ny = 407.6, x1 = 9.6\ny = 405.6, x1 = 9.7\ny = 403.6, x1 = 9.8\ny = 401.5, x1 = 9.9\ny = 399.5, x1 = 10.0\ny = 397.4, x1 = 10.1\ny = 395.3, x1 = 10.2\ny = 393.1, x1 = 10.3\ny = 391.0, x1 = 10.4\ny = 388.7, x1 = 10.5\ny = 386.5, x1 = 10.7\ny = 384.2, x1 = 10.8\ny = 382.0, x1 = 10.9\ny = 379.6, x1 = 11.0\ny = 377.3, x1 = 11.1\ny = 374.9, x1 = 11.2\ny = 372.5, x1 = 11.3\ny = 370.0, x1 = 11.4\ny = 367.5, x1 = 11.5\ny = 365.0, x1 = 11.6\ny = 362.5, x1 = 11.7\ny = 359.9, x1 = 11.8\ny = 357.3, x1 = 11.9\ny = 354.6, x1 = 12.1\ny = 351.9, x1 = 12.2\ny = 349.2, x1 = 12.3\ny = 346.5, x1 = 12.4\ny = 343.7, x1 = 12.5\ny = 340.9, x1 = 12.6\ny = 338.0, x1 = 12.7\ny = 335.1, x1 = 12.8\ny = 332.2, x1 = 13.0\ny = 329.3, x1 = 13.1\ny = 326.3, x1 = 13.2\n"
    }
   ],
   "source": "import tensorflow as tf\n\ndef fu(x1): \n    return 500-(x1**2)\ndef fu_minimzie():\n    return 500-(x1**2) \ndef reset():\n    x1 = tf.Variable(8.0) \n    return x1\n\nx1 = reset()\nopt = tf.keras.optimizers.Adam(learning_rate=0.1)\nfor i in range(50):\n    print ('y = {:.1f}, x1 = {:.1f}'.format(fu(x1).numpy(), x1.numpy()))\n    opt.minimize(fu_minimzie, var_list=[x1])\n    \n    "
  },
  {
   "cell_type": "code",
   "execution_count": null,
   "metadata": {},
   "outputs": [],
   "source": ""
  }
 ],
 "metadata": {
  "kernelspec": {
   "display_name": "Python 3",
   "language": "python",
   "name": "python3"
  },
  "language_info": {
   "codemirror_mode": {
    "name": "ipython",
    "version": 2
   },
   "file_extension": ".py",
   "mimetype": "text/x-python",
   "name": "python",
   "nbconvert_exporter": "python",
   "pygments_lexer": "ipython2",
   "version": "2.7.15+"
  }
 },
 "nbformat": 4,
 "nbformat_minor": 4
}

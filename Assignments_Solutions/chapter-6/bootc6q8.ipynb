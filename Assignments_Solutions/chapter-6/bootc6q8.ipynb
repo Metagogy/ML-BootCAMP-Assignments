{
 "cells": [
  {
   "cell_type": "markdown",
   "metadata": {},
   "source": [
    "**Question :** Given a function func = 600-(x1**2), find the global optima using tf.keras and StochasticGradientDescent optimizer?"
   ]
  },
  {
   "cell_type": "markdown",
   "metadata": {},
   "source": [
    "**Level :** Medium"
   ]
  },
  {
   "cell_type": "markdown",
   "metadata": {},
   "source": [
    "**Input format :** Float number."
   ]
  },
  {
   "cell_type": "markdown",
   "metadata": {},
   "source": [
    "**Output format :** Float number."
   ]
  },
  {
   "cell_type": "markdown",
   "metadata": {},
   "source": [
    "**Sample input :**\n",
    "\n",
    "4.0"
   ]
  },
  {
   "cell_type": "markdown",
   "metadata": {},
   "source": [
    "**Sample output :**\n",
    "\n",
    "174.0"
   ]
  },
  {
   "cell_type": "code",
   "execution_count": 40,
   "metadata": {},
   "outputs": [
    {
     "name": "stdout",
     "output_type": "stream",
     "text": [
      "10.0\n",
      "-2062.3\n"
     ]
    }
   ],
   "source": [
    "import tensorflow as tf\n",
    "\n",
    "def fu(x1): \n",
    "    return 600-(x1**2.0)\n",
    "def fu_minimzie():\n",
    "    return 600-(x1**2.0)\n",
    "def reset():\n",
    "    x1 = tf.Variable(float(input())) \n",
    "    return x1\n",
    "lst=[]\n",
    "x1 = reset()\n",
    "opt = tf.keras.optimizers.SGD(learning_rate=0.1)\n",
    "for i in range(10):\n",
    "#     print ('y = {:.1f}, x1 = {:.1f}'.format(fu(x1).numpy(), x1.numpy()))\n",
    "    lst.append(fu(x1).numpy())\n",
    "    opt.minimize(fu_minimzie, var_list=[x1])\n",
    "\n",
    "print('{:.1f}'.format(lst[-1]))"
   ]
  },
  {
   "cell_type": "code",
   "execution_count": 27,
   "metadata": {},
   "outputs": [
    {
     "name": "stdout",
     "output_type": "stream",
     "text": [
      "y = 500.0, x1 = 10.0\n",
      "y = 456.0, x1 = 12.0\n",
      "y = 392.6, x1 = 14.4\n",
      "y = 301.4, x1 = 17.3\n",
      "y = 170.0, x1 = 20.7\n",
      "y = -19.2, x1 = 24.9\n",
      "y = -291.6, x1 = 29.9\n",
      "y = -683.9, x1 = 35.8\n",
      "y = -1248.8, x1 = 43.0\n",
      "y = -2062.3, x1 = 51.6\n",
      "y = -3233.8, x1 = 61.9\n",
      "y = -4920.6, x1 = 74.3\n",
      "y = -7349.7, x1 = 89.2\n",
      "y = -10847.5, x1 = 107.0\n",
      "y = -15884.5, x1 = 128.4\n",
      "y = -23137.6, x1 = 154.1\n",
      "y = -33582.2, x1 = 184.9\n",
      "y = -48622.3, x1 = 221.9\n",
      "y = -70280.2, x1 = 266.2\n",
      "y = -101467.4, x1 = 319.5\n",
      "y = -146377.1, x1 = 383.4\n",
      "y = -211047.0, x1 = 460.1\n",
      "y = -304171.7, x1 = 552.1\n",
      "y = -438271.2, x1 = 662.5\n",
      "y = -631374.4, x1 = 795.0\n",
      "y = -909443.2, x1 = 954.0\n",
      "y = -1309862.4, x1 = 1144.8\n",
      "y = -1886465.6, x1 = 1373.7\n",
      "y = -2716774.2, x1 = 1648.4\n",
      "y = -3912419.0, x1 = 1978.1\n",
      "y = -5634147.0, x1 = 2373.8\n",
      "y = -8113435.5, x1 = 2848.5\n",
      "y = -11683611.0, x1 = 3418.2\n",
      "y = -16824662.0, x1 = 4101.9\n",
      "y = -24227776.0, x1 = 4922.2\n",
      "y = -34888264.0, x1 = 5906.7\n",
      "y = -50239364.0, x1 = 7088.0\n",
      "y = -72344960.0, x1 = 8505.6\n",
      "y = -104177008.0, x1 = 10206.7\n",
      "y = -150015168.0, x1 = 12248.1\n",
      "y = -216022080.0, x1 = 14697.7\n",
      "y = -311072064.0, x1 = 17637.3\n",
      "y = -447944064.0, x1 = 21164.7\n",
      "y = -645039744.0, x1 = 25397.6\n",
      "y = -928857536.0, x1 = 30477.2\n",
      "y = -1337555072.0, x1 = 36572.6\n",
      "y = -1926079744.0, x1 = 43887.1\n",
      "y = -2773555200.0, x1 = 52664.6\n",
      "y = -3993919488.0, x1 = 63197.5\n",
      "y = -5751244288.0, x1 = 75837.0\n"
     ]
    }
   ],
   "source": [
    "import tensorflow as tf\n",
    "\n",
    "def fu(x1): \n",
    "    return 600-(x1**2)\n",
    "def fu_minimzie():\n",
    "    return 600-(x1**2) \n",
    "def reset():\n",
    "    x1 = tf.Variable(10.0)\n",
    "    return x1\n",
    "\n",
    "x1 = reset()\n",
    "opt = tf.keras.optimizers.SGD(learning_rate=0.1)\n",
    "for i in range(50):\n",
    "    print ('y = {:.1f}, x1 = {:.1f}'.format(fu(x1).numpy(), x1.numpy()))\n",
    "    opt.minimize(fu_minimzie, var_list=[x1])"
   ]
  },
  {
   "cell_type": "code",
   "execution_count": null,
   "metadata": {},
   "outputs": [],
   "source": []
  }
 ],
 "metadata": {
  "kernelspec": {
   "display_name": "Python 3",
   "language": "python",
   "name": "python3"
  },
  "language_info": {
   "codemirror_mode": {
    "name": "ipython",
    "version": 3
   },
   "file_extension": ".py",
   "mimetype": "text/x-python",
   "name": "python",
   "nbconvert_exporter": "python",
   "pygments_lexer": "ipython3",
   "version": "3.8.3"
  }
 },
 "nbformat": 4,
 "nbformat_minor": 4
}

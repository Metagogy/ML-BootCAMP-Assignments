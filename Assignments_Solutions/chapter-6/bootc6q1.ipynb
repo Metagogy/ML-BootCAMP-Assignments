{
 "cells": [
  {
   "cell_type": "markdown",
   "metadata": {},
   "source": "**Question :** Load inbuilt mnist dataset and split into training and testing sets."
  },
  {
   "cell_type": "markdown",
   "metadata": {},
   "source": "**Level :** Easy"
  },
  {
   "cell_type": "markdown",
   "metadata": {},
   "source": "**Input format :** \n\nDataset"
  },
  {
   "cell_type": "markdown",
   "metadata": {},
   "source": "**Output format :**\n\nSplitting "
  },
  {
   "cell_type": "markdown",
   "metadata": {},
   "source": "**Sample input :** \n\ntf.keras.dataset.mnist"
  },
  {
   "cell_type": "markdown",
   "metadata": {},
   "source": "**Sample output :** \n\nX_train, Y_train, X_test, Y_test"
  },
  {
   "cell_type": "code",
   "execution_count": 1,
   "metadata": {},
   "outputs": [
    {
     "name": "stdout",
     "output_type": "stream",
     "text": "Downloading data from https://storage.googleapis.com/tensorflow/tf-keras-datasets/mnist.npz\n11493376/11490434 [==============================] - 16s 1us/step\n11501568/11490434 [==============================] - 16s 1us/step\n"
    }
   ],
   "source": "import tensorflow as tf\nfrom tensorflow import keras\nmnist = tf.keras.datasets.mnist\n(X_train, Y_train), (X_test, Y_test) = mnist.load_data()\n\n\n"
  },
  {
   "cell_type": "code",
   "execution_count": null,
   "metadata": {},
   "outputs": [],
   "source": ""
  }
 ],
 "metadata": {
  "kernelspec": {
   "display_name": "Python 3",
   "language": "python",
   "name": "python3"
  },
  "language_info": {
   "codemirror_mode": {
    "name": "ipython",
    "version": 2
   },
   "file_extension": ".py",
   "mimetype": "text/x-python",
   "name": "python",
   "nbconvert_exporter": "python",
   "pygments_lexer": "ipython2",
   "version": "2.7.15+"
  }
 },
 "nbformat": 4,
 "nbformat_minor": 4
}

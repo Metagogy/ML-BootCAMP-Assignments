{
 "cells": [
  {
   "cell_type": "markdown",
   "metadata": {},
   "source": "**Question :** Below is the given list and dtype , apply the relu activation function on the list using tf.keras such that the max value of the relu activation function is 2\n \n ([-10, -5, 0.0, 5, 10], dtype = tf.float32)"
  },
  {
   "cell_type": "markdown",
   "metadata": {},
   "source": "**Level:** Easy"
  },
  {
   "cell_type": "markdown",
   "metadata": {},
   "source": "**Input format :**\n\nlist"
  },
  {
   "cell_type": "markdown",
   "metadata": {},
   "source": "**Output format :**\n\narray"
  },
  {
   "cell_type": "markdown",
   "metadata": {},
   "source": "**Sample Input :**\n\ntf.constant([-10, -5, 0.0, 5, 10], dtype = tf.float32)"
  },
  {
   "cell_type": "markdown",
   "metadata": {},
   "source": "**Sample Output :**\n\narray([-0., -0.,  0.,  5., 10.], dtype=float32)"
  },
  {
   "cell_type": "code",
   "execution_count": 1,
   "metadata": {},
   "outputs": [
    {
     "data": {
      "text/plain": "array([-0., -0.,  0.,  5., 10.], dtype=float32)"
     },
     "execution_count": 1,
     "metadata": {},
     "output_type": "execute_result"
    }
   ],
   "source": "\nimport tensorflow as tf\nfoo = tf.constant([-10, -5, 0.0, 5, 10], dtype = tf.float32)\ntf.keras.activations.relu(foo, threshold = 2 ).numpy()\n\n"
  },
  {
   "cell_type": "code",
   "execution_count": null,
   "metadata": {},
   "outputs": [],
   "source": ""
  }
 ],
 "metadata": {
  "kernelspec": {
   "display_name": "Python 3",
   "language": "python",
   "name": "python3"
  },
  "language_info": {
   "codemirror_mode": {
    "name": "ipython",
    "version": 2
   },
   "file_extension": ".py",
   "mimetype": "text/x-python",
   "name": "python",
   "nbconvert_exporter": "python",
   "pygments_lexer": "ipython2",
   "version": "2.7.15+"
  }
 },
 "nbformat": 4,
 "nbformat_minor": 4
}

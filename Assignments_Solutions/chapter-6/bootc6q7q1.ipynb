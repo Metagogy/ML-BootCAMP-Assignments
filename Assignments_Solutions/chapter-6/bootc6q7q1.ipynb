{
 "cells": [
  {
   "cell_type": "markdown",
   "metadata": {},
   "source": "**Question :** Given a function func = 500-(x1**2), find the global optima using tf.keras and Adagrad optimizer??"
  },
  {
   "cell_type": "markdown",
   "metadata": {},
   "source": "**Level :** Medium"
  },
  {
   "cell_type": "markdown",
   "metadata": {},
   "source": "**Input format :**\n\nfloat"
  },
  {
   "cell_type": "markdown",
   "metadata": {},
   "source": "**Output format :**\n\nfloat"
  },
  {
   "cell_type": "markdown",
   "metadata": {},
   "source": "**Sample input :**\n\nfunction J = 500-(x1**2) , x1 = 8.0 "
  },
  {
   "cell_type": "markdown",
   "metadata": {},
   "source": "**Sample output :**\n\ny = 436.0, x1 = 8.0\n\ny = 434.4, x1 = 8.1\n\ny = 433.2, x1 = 8.2"
  },
  {
   "cell_type": "code",
   "execution_count": 1,
   "metadata": {},
   "outputs": [
    {
     "name": "stdout",
     "output_type": "stream",
     "text": "y = 436.0, x1 = 8.0\ny = 434.4, x1 = 8.1\ny = 433.2, x1 = 8.2\ny = 432.3, x1 = 8.2\ny = 431.4, x1 = 8.3\ny = 430.7, x1 = 8.3\ny = 430.0, x1 = 8.4\ny = 429.3, x1 = 8.4\ny = 428.7, x1 = 8.4\ny = 428.2, x1 = 8.5\ny = 427.6, x1 = 8.5\ny = 427.1, x1 = 8.5\ny = 426.6, x1 = 8.6\ny = 426.1, x1 = 8.6\ny = 425.6, x1 = 8.6\ny = 425.2, x1 = 8.7\ny = 424.7, x1 = 8.7\ny = 424.3, x1 = 8.7\ny = 423.9, x1 = 8.7\ny = 423.4, x1 = 8.7\ny = 423.0, x1 = 8.8\ny = 422.6, x1 = 8.8\ny = 422.2, x1 = 8.8\ny = 421.9, x1 = 8.8\ny = 421.5, x1 = 8.9\ny = 421.1, x1 = 8.9\ny = 420.8, x1 = 8.9\ny = 420.4, x1 = 8.9\ny = 420.1, x1 = 8.9\ny = 419.7, x1 = 9.0\ny = 419.4, x1 = 9.0\ny = 419.0, x1 = 9.0\ny = 418.7, x1 = 9.0\ny = 418.4, x1 = 9.0\ny = 418.0, x1 = 9.1\ny = 417.7, x1 = 9.1\ny = 417.4, x1 = 9.1\ny = 417.1, x1 = 9.1\ny = 416.8, x1 = 9.1\ny = 416.5, x1 = 9.1\ny = 416.2, x1 = 9.2\ny = 415.9, x1 = 9.2\ny = 415.6, x1 = 9.2\ny = 415.3, x1 = 9.2\ny = 415.0, x1 = 9.2\ny = 414.7, x1 = 9.2\ny = 414.4, x1 = 9.3\ny = 414.1, x1 = 9.3\ny = 413.8, x1 = 9.3\ny = 413.6, x1 = 9.3\n"
    }
   ],
   "source": "\nimport tensorflow as tf\n\ndef fu(x1): \n    return 500-(x1**2)\ndef fu_minimzie():\n    return 500-(x1**2) \ndef reset():\n    x1 = tf.Variable(8.0) \n    return x1\n\nx1 = reset()\nopt = tf.keras.optimizers.Adagrad(learning_rate=0.1)\nfor i in range(50):\n    print ('y = {:.1f}, x1 = {:.1f}'.format(fu(x1).numpy(), x1.numpy()))\n    opt.minimize(fu_minimzie, var_list=[x1])\n\n\n    \n    "
  },
  {
   "cell_type": "code",
   "execution_count": null,
   "metadata": {},
   "outputs": [],
   "source": ""
  }
 ],
 "metadata": {
  "kernelspec": {
   "display_name": "Python 3",
   "language": "python",
   "name": "python3"
  },
  "language_info": {
   "codemirror_mode": {
    "name": "ipython",
    "version": 2
   },
   "file_extension": ".py",
   "mimetype": "text/x-python",
   "name": "python",
   "nbconvert_exporter": "python",
   "pygments_lexer": "ipython2",
   "version": "2.7.15+"
  }
 },
 "nbformat": 4,
 "nbformat_minor": 4
}

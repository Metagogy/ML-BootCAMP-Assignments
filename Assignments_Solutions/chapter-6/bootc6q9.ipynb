{
 "cells": [
  {
   "cell_type": "markdown",
   "metadata": {},
   "source": [
    "**Question :** Given a function fn = 100-(x1**2), find the global optima using tf.keras and Adam optimizer?"
   ]
  },
  {
   "cell_type": "markdown",
   "metadata": {},
   "source": [
    "**Level :** Medium"
   ]
  },
  {
   "cell_type": "markdown",
   "metadata": {},
   "source": [
    "**Input format :** Float number."
   ]
  },
  {
   "cell_type": "markdown",
   "metadata": {},
   "source": [
    "**Output format :** Float number."
   ]
  },
  {
   "cell_type": "markdown",
   "metadata": {},
   "source": [
    "**Sample input :**\n",
    "\n",
    "9.0"
   ]
  },
  {
   "cell_type": "markdown",
   "metadata": {},
   "source": [
    "**Sample output :**\n",
    "\n",
    "1.9"
   ]
  },
  {
   "cell_type": "code",
   "execution_count": 8,
   "metadata": {},
   "outputs": [
    {
     "name": "stdout",
     "output_type": "stream",
     "text": [
      "7.0\n",
      "37.5\n"
     ]
    }
   ],
   "source": [
    "import tensorflow as tf\n",
    "\n",
    "def fu(x1): \n",
    "    return 100-(x1**2.0)\n",
    "def fu_minimzie():\n",
    "    return 100-(x1**2.0)\n",
    "def reset():\n",
    "    x1 = tf.Variable(float(input())) \n",
    "    return x1\n",
    "lst=[]\n",
    "x1 = reset()\n",
    "opt = tf.keras.optimizers.Adam(learning_rate=0.1)\n",
    "for i in range(10):\n",
    "#     print ('y = {:.1f}, x1 = {:.1f}'.format(fu(x1).numpy(), x1.numpy()))\n",
    "    lst.append(fu(x1).numpy())\n",
    "    opt.minimize(fu_minimzie, var_list=[x1])\n",
    "\n",
    "print('{:.1f}'.format(lst[-1]))"
   ]
  },
  {
   "cell_type": "code",
   "execution_count": 2,
   "metadata": {},
   "outputs": [
    {
     "name": "stdout",
     "output_type": "stream",
     "text": [
      "y = 84.0, x1 = 4.0\n",
      "y = 83.2, x1 = 4.1\n",
      "y = 82.4, x1 = 4.2\n",
      "y = 81.5, x1 = 4.3\n",
      "y = 80.6, x1 = 4.4\n",
      "y = 79.7, x1 = 4.5\n",
      "y = 78.8, x1 = 4.6\n",
      "y = 77.9, x1 = 4.7\n",
      "y = 76.9, x1 = 4.8\n",
      "y = 75.9, x1 = 4.9\n",
      "y = 74.9, x1 = 5.0\n",
      "y = 73.9, x1 = 5.1\n",
      "y = 72.8, x1 = 5.2\n",
      "y = 71.8, x1 = 5.3\n",
      "y = 70.7, x1 = 5.4\n",
      "y = 69.5, x1 = 5.5\n",
      "y = 68.4, x1 = 5.6\n",
      "y = 67.2, x1 = 5.7\n",
      "y = 66.0, x1 = 5.8\n",
      "y = 64.7, x1 = 5.9\n",
      "y = 63.5, x1 = 6.0\n",
      "y = 62.2, x1 = 6.2\n",
      "y = 60.8, x1 = 6.3\n",
      "y = 59.5, x1 = 6.4\n",
      "y = 58.1, x1 = 6.5\n",
      "y = 56.7, x1 = 6.6\n",
      "y = 55.2, x1 = 6.7\n",
      "y = 53.7, x1 = 6.8\n",
      "y = 52.2, x1 = 6.9\n",
      "y = 50.7, x1 = 7.0\n",
      "y = 49.1, x1 = 7.1\n",
      "y = 47.5, x1 = 7.2\n",
      "y = 45.9, x1 = 7.4\n",
      "y = 44.2, x1 = 7.5\n",
      "y = 42.5, x1 = 7.6\n",
      "y = 40.7, x1 = 7.7\n",
      "y = 38.9, x1 = 7.8\n",
      "y = 37.1, x1 = 7.9\n",
      "y = 35.3, x1 = 8.0\n",
      "y = 33.4, x1 = 8.2\n",
      "y = 31.5, x1 = 8.3\n",
      "y = 29.5, x1 = 8.4\n",
      "y = 27.5, x1 = 8.5\n",
      "y = 25.4, x1 = 8.6\n",
      "y = 23.4, x1 = 8.8\n",
      "y = 21.3, x1 = 8.9\n",
      "y = 19.1, x1 = 9.0\n",
      "y = 16.9, x1 = 9.1\n",
      "y = 14.7, x1 = 9.2\n",
      "y = 12.4, x1 = 9.4\n"
     ]
    }
   ],
   "source": [
    "\n",
    "\n",
    "import tensorflow as tf\n",
    "\n",
    "def fu(x1): \n",
    "    return 100-(x1**2)\n",
    "def fu_minimzie():\n",
    "    return 100-(x1**2) \n",
    "def reset():\n",
    "    x1 = tf.Variable(4.0) \n",
    "    return x1\n",
    "\n",
    "x1 = reset()\n",
    "opt = tf.keras.optimizers.Adam(learning_rate=0.1)\n",
    "for i in range(50):\n",
    "    print ('y = {:.1f}, x1 = {:.1f}'.format(fu(x1).numpy(), x1.numpy()))\n",
    "    opt.minimize(fu_minimzie, var_list=[x1])\n"
   ]
  },
  {
   "cell_type": "code",
   "execution_count": null,
   "metadata": {},
   "outputs": [],
   "source": []
  }
 ],
 "metadata": {
  "kernelspec": {
   "display_name": "Python 3",
   "language": "python",
   "name": "python3"
  },
  "language_info": {
   "codemirror_mode": {
    "name": "ipython",
    "version": 3
   },
   "file_extension": ".py",
   "mimetype": "text/x-python",
   "name": "python",
   "nbconvert_exporter": "python",
   "pygments_lexer": "ipython3",
   "version": "3.8.3"
  }
 },
 "nbformat": 4,
 "nbformat_minor": 4
}

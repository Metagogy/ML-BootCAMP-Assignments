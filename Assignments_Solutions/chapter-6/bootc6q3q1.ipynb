{
 "cells": [
  {
   "cell_type": "markdown",
   "metadata": {},
   "source": "**Question :** Below is the given list and dtype , apply the sigmoid activation function on the list using tf.keras  ([-10, -5, 0.0, 5, 10], dtype = tf.float32)"
  },
  {
   "cell_type": "markdown",
   "metadata": {},
   "source": "**Level:** Easy"
  },
  {
   "cell_type": "markdown",
   "metadata": {},
   "source": "**Input format :**\n\nlist"
  },
  {
   "cell_type": "markdown",
   "metadata": {},
   "source": "**Output format :**\n\narray"
  },
  {
   "cell_type": "markdown",
   "metadata": {},
   "source": "**Sample Input :**\n\nimport tensorflow as tf"
  },
  {
   "cell_type": "markdown",
   "metadata": {},
   "source": "**Sample Output :**\n\n    array([4.5397872e-05, 6.6928510e-03, 5.0000000e-01, 9.9330717e-01,\n           \n           9.9995458e-01], dtype=float32)"
  },
  {
   "cell_type": "code",
   "execution_count": 1,
   "metadata": {},
   "outputs": [
    {
     "data": {
      "text/plain": "array([4.5397872e-05, 6.6928510e-03, 5.0000000e-01, 9.9330717e-01,\n       9.9995458e-01], dtype=float32)"
     },
     "execution_count": 1,
     "metadata": {},
     "output_type": "execute_result"
    }
   ],
   "source": "import tensorflow as tf\nfoo = tf.constant([-10, -5, 0.0, 5, 10], dtype = tf.float32)\ntf.keras.activations.sigmoid(foo).numpy()\n\n\n"
  },
  {
   "cell_type": "code",
   "execution_count": null,
   "metadata": {},
   "outputs": [],
   "source": ""
  }
 ],
 "metadata": {
  "kernelspec": {
   "display_name": "Python 3",
   "language": "python",
   "name": "python3"
  },
  "language_info": {
   "codemirror_mode": {
    "name": "ipython",
    "version": 2
   },
   "file_extension": ".py",
   "mimetype": "text/x-python",
   "name": "python",
   "nbconvert_exporter": "python",
   "pygments_lexer": "ipython2",
   "version": "2.7.15+"
  }
 },
 "nbformat": 4,
 "nbformat_minor": 4
}

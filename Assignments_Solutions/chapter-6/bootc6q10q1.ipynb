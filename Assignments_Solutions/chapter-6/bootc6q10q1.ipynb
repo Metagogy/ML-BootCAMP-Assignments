{
 "cells": [
  {
   "cell_type": "markdown",
   "metadata": {},
   "source": "**Question :** Given a function fn = 250-(x1**2), find the global optima using tf.keras and Adam optimizer? ?"
  },
  {
   "cell_type": "markdown",
   "metadata": {},
   "source": "**Level :** Medium"
  },
  {
   "cell_type": "markdown",
   "metadata": {},
   "source": "**Input format :**\n\nfloat"
  },
  {
   "cell_type": "markdown",
   "metadata": {},
   "source": "**Output format :**\n\nfloat"
  },
  {
   "cell_type": "markdown",
   "metadata": {},
   "source": "**Sample input :**\n\nfunction fn = 250-(x1**2) , x1 = 8.0"
  },
  {
   "cell_type": "markdown",
   "metadata": {},
   "source": "**Sample output :**\n\ny = 186.0, x1 = 8.0\n\ny = 184.4, x1 = 8.1\n\ny = 182.8, x1 = 8.2"
  },
  {
   "cell_type": "code",
   "execution_count": 1,
   "metadata": {},
   "outputs": [
    {
     "name": "stdout",
     "output_type": "stream",
     "text": "y = 186.0, x1 = 8.0\ny = 184.4, x1 = 8.1\ny = 182.8, x1 = 8.2\ny = 181.1, x1 = 8.3\ny = 179.4, x1 = 8.4\ny = 177.7, x1 = 8.5\ny = 176.0, x1 = 8.6\ny = 174.3, x1 = 8.7\ny = 172.5, x1 = 8.8\ny = 170.7, x1 = 8.9\ny = 168.9, x1 = 9.0\ny = 167.1, x1 = 9.1\ny = 165.2, x1 = 9.2\ny = 163.4, x1 = 9.3\ny = 161.5, x1 = 9.4\ny = 159.5, x1 = 9.5\ny = 157.6, x1 = 9.6\ny = 155.6, x1 = 9.7\ny = 153.6, x1 = 9.8\ny = 151.5, x1 = 9.9\ny = 149.5, x1 = 10.0\ny = 147.4, x1 = 10.1\ny = 145.3, x1 = 10.2\ny = 143.1, x1 = 10.3\ny = 141.0, x1 = 10.4\ny = 138.7, x1 = 10.5\ny = 136.5, x1 = 10.7\ny = 134.2, x1 = 10.8\ny = 132.0, x1 = 10.9\ny = 129.6, x1 = 11.0\ny = 127.3, x1 = 11.1\ny = 124.9, x1 = 11.2\ny = 122.5, x1 = 11.3\ny = 120.0, x1 = 11.4\ny = 117.5, x1 = 11.5\ny = 115.0, x1 = 11.6\ny = 112.5, x1 = 11.7\ny = 109.9, x1 = 11.8\ny = 107.3, x1 = 11.9\ny = 104.6, x1 = 12.1\ny = 101.9, x1 = 12.2\ny = 99.2, x1 = 12.3\ny = 96.5, x1 = 12.4\ny = 93.7, x1 = 12.5\ny = 90.9, x1 = 12.6\ny = 88.0, x1 = 12.7\ny = 85.1, x1 = 12.8\ny = 82.2, x1 = 13.0\ny = 79.3, x1 = 13.1\ny = 76.3, x1 = 13.2\n"
    }
   ],
   "source": "\nimport tensorflow as tf\n\ndef fu(x1): \n    return 250-(x1**2)\ndef fu_minimzie():\n    return 250-(x1**2) \ndef reset():\n    x1 = tf.Variable(8.0) \n    return x1\n\nx1 = reset()\nopt = tf.keras.optimizers.Adam(learning_rate=0.1)\nfor i in range(50):\n    print ('y = {:.1f}, x1 = {:.1f}'.format(fu(x1).numpy(), x1.numpy()))\n    opt.minimize(fu_minimzie, var_list=[x1])\n\n    "
  },
  {
   "cell_type": "code",
   "execution_count": null,
   "metadata": {},
   "outputs": [],
   "source": ""
  }
 ],
 "metadata": {
  "kernelspec": {
   "display_name": "Python 3",
   "language": "python",
   "name": "python3"
  },
  "language_info": {
   "codemirror_mode": {
    "name": "ipython",
    "version": 2
   },
   "file_extension": ".py",
   "mimetype": "text/x-python",
   "name": "python",
   "nbconvert_exporter": "python",
   "pygments_lexer": "ipython2",
   "version": "2.7.15+"
  }
 },
 "nbformat": 4,
 "nbformat_minor": 4
}

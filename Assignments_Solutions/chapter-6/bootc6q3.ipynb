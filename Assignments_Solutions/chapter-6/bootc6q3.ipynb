{
 "cells": [
  {
   "cell_type": "markdown",
   "metadata": {},
   "source": "**Question :** Below is the given list and dtype , apply the relu activation function on the list using tf.keras  ([-10, -5, 0.0, 5, 10], dtype = tf.float32)"
  },
  {
   "cell_type": "markdown",
   "metadata": {},
   "source": "**Level :** Medium"
  },
  {
   "cell_type": "markdown",
   "metadata": {},
   "source": "**Input format :**  \n\nlist"
  },
  {
   "cell_type": "markdown",
   "metadata": {},
   "source": "**Output format :** \n\narray"
  },
  {
   "cell_type": "markdown",
   "metadata": {},
   "source": "**Sample Input :** \n\n(df, alpha=0.5).numpy()"
  },
  {
   "cell_type": "markdown",
   "metadata": {},
   "source": "**Sample Output :**\n\narray([-5. , -2.5,  0. ,  5. , 10. ], dtype=float32)"
  },
  {
   "cell_type": "code",
   "execution_count": 1,
   "metadata": {},
   "outputs": [
    {
     "data": {
      "text/plain": "array([ 0.,  0.,  0.,  5., 10.], dtype=float32)"
     },
     "execution_count": 1,
     "metadata": {},
     "output_type": "execute_result"
    }
   ],
   "source": "\nimport tensorflow as tf\nfoo = tf.constant([-10, -5, 0.0, 5, 10], dtype = tf.float32)\ntf.keras.activations.relu(foo).numpy()\n\n"
  },
  {
   "cell_type": "code",
   "execution_count": 2,
   "metadata": {},
   "outputs": [
    {
     "data": {
      "text/plain": "array([-5. , -2.5,  0. ,  5. , 10. ], dtype=float32)"
     },
     "execution_count": 2,
     "metadata": {},
     "output_type": "execute_result"
    }
   ],
   "source": "tf.keras.activations.relu(foo, alpha=0.5).numpy()"
  },
  {
   "cell_type": "code",
   "execution_count": 3,
   "metadata": {},
   "outputs": [
    {
     "data": {
      "text/plain": "array([0., 0., 0., 5., 5.], dtype=float32)"
     },
     "execution_count": 3,
     "metadata": {},
     "output_type": "execute_result"
    }
   ],
   "source": "tf.keras.activations.relu(foo, max_value=5).numpy()"
  },
  {
   "cell_type": "code",
   "execution_count": 4,
   "metadata": {},
   "outputs": [
    {
     "data": {
      "text/plain": "array([-0., -0.,  0.,  0., 10.], dtype=float32)"
     },
     "execution_count": 4,
     "metadata": {},
     "output_type": "execute_result"
    }
   ],
   "source": "tf.keras.activations.relu(foo, threshold=5).numpy()"
  },
  {
   "cell_type": "code",
   "execution_count": null,
   "metadata": {},
   "outputs": [],
   "source": ""
  }
 ],
 "metadata": {
  "kernelspec": {
   "display_name": "Python 3",
   "language": "python",
   "name": "python3"
  },
  "language_info": {
   "codemirror_mode": {
    "name": "ipython",
    "version": 2
   },
   "file_extension": ".py",
   "mimetype": "text/x-python",
   "name": "python",
   "nbconvert_exporter": "python",
   "pygments_lexer": "ipython2",
   "version": "2.7.15+"
  }
 },
 "nbformat": 4,
 "nbformat_minor": 4
}

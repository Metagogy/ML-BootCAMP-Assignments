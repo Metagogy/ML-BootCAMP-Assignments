{
 "cells": [
  {
   "cell_type": "markdown",
   "metadata": {},
   "source": "**Question :** Given a function y = x**2, find the global optima using tf.keras and RMSprop optimizer?"
  },
  {
   "cell_type": "markdown",
   "metadata": {},
   "source": "**Level:** Medium"
  },
  {
   "cell_type": "markdown",
   "metadata": {},
   "source": "**Input format :**\n\nfloat"
  },
  {
   "cell_type": "markdown",
   "metadata": {},
   "source": "**Output format :**\n\nfloat"
  },
  {
   "cell_type": "markdown",
   "metadata": {},
   "source": "**Sample input :**\n\ntf.Variable(10. 0)"
  },
  {
   "cell_type": "markdown",
   "metadata": {},
   "source": "**Sample output :**\n\ny = 100.0, x1 = 10.0\n\ny = 93.8, x1 = 9.7\n\ny = 89.5, x1 = 9.5"
  },
  {
   "cell_type": "code",
   "execution_count": 1,
   "metadata": {},
   "outputs": [
    {
     "name": "stdout",
     "output_type": "stream",
     "text": "y = 100.0, x1 = 10.0\ny = 93.8, x1 = 9.7\ny = 89.5, x1 = 9.5\ny = 85.9, x1 = 9.3\ny = 82.9, x1 = 9.1\ny = 80.2, x1 = 9.0\ny = 77.7, x1 = 8.8\ny = 75.4, x1 = 8.7\ny = 73.2, x1 = 8.6\ny = 71.2, x1 = 8.4\ny = 69.2, x1 = 8.3\ny = 67.4, x1 = 8.2\ny = 65.6, x1 = 8.1\ny = 63.8, x1 = 8.0\ny = 62.2, x1 = 7.9\ny = 60.5, x1 = 7.8\ny = 58.9, x1 = 7.7\ny = 57.4, x1 = 7.6\ny = 55.9, x1 = 7.5\ny = 54.4, x1 = 7.4\ny = 53.0, x1 = 7.3\ny = 51.6, x1 = 7.2\ny = 50.3, x1 = 7.1\ny = 48.9, x1 = 7.0\ny = 47.6, x1 = 6.9\ny = 46.3, x1 = 6.8\ny = 45.1, x1 = 6.7\ny = 43.8, x1 = 6.6\ny = 42.6, x1 = 6.5\ny = 41.4, x1 = 6.4\ny = 40.3, x1 = 6.3\ny = 39.1, x1 = 6.3\ny = 38.0, x1 = 6.2\ny = 36.9, x1 = 6.1\ny = 35.8, x1 = 6.0\ny = 34.8, x1 = 5.9\ny = 33.7, x1 = 5.8\ny = 32.7, x1 = 5.7\ny = 31.7, x1 = 5.6\ny = 30.7, x1 = 5.5\ny = 29.8, x1 = 5.5\ny = 28.8, x1 = 5.4\ny = 27.9, x1 = 5.3\ny = 27.0, x1 = 5.2\ny = 26.1, x1 = 5.1\ny = 25.2, x1 = 5.0\ny = 24.3, x1 = 4.9\ny = 23.5, x1 = 4.8\ny = 22.7, x1 = 4.8\ny = 21.9, x1 = 4.7\n"
    }
   ],
   "source": "import tensorflow as tf\n\ndef fu(x1): \n    return x1 ** 2.0 \ndef fu_minimzie():\n    return x1 ** 2.0 \ndef reset():\n    x1 = tf.Variable(10.0) \n    return x1\n\nx1 = reset()\nopt = tf.keras.optimizers.RMSprop(learning_rate=0.1)\nfor i in range(50):\n    print ('y = {:.1f}, x1 = {:.1f}'.format(fu(x1).numpy(), x1.numpy()))\n    opt.minimize(fu_minimzie, var_list=[x1])\n    \n    "
  },
  {
   "cell_type": "code",
   "execution_count": null,
   "metadata": {},
   "outputs": [],
   "source": ""
  }
 ],
 "metadata": {
  "kernelspec": {
   "display_name": "Python 3",
   "language": "python",
   "name": "python3"
  },
  "language_info": {
   "codemirror_mode": {
    "name": "ipython",
    "version": 2
   },
   "file_extension": ".py",
   "mimetype": "text/x-python",
   "name": "python",
   "nbconvert_exporter": "python",
   "pygments_lexer": "ipython2",
   "version": "2.7.15+"
  }
 },
 "nbformat": 4,
 "nbformat_minor": 4
}

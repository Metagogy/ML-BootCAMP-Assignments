{
 "cells": [
  {
   "cell_type": "markdown",
   "metadata": {},
   "source": "**Question :**  Write a Python program that can accept two strings and print the larger of the two strings."
  },
  {
   "cell_type": "markdown",
   "metadata": {},
   "source": "**Level:** Hard"
  },
  {
   "cell_type": "markdown",
   "metadata": {},
   "source": "**Input Format:** \n\nprint the larger of the two strings"
  },
  {
   "cell_type": "markdown",
   "metadata": {},
   "source": "**Output Format :** \n\nStrings "
  },
  {
   "cell_type": "markdown",
   "metadata": {},
   "source": "**Sample Input :**\n\naieducator\n\naieducat"
  },
  {
   "cell_type": "markdown",
   "metadata": {},
   "source": "**Sample Output :**\n\naieducator"
  },
  {
   "cell_type": "code",
   "execution_count": 1,
   "metadata": {},
   "outputs": [
    {
     "name": "stdin",
     "output_type": "stream",
     "text": "Enter first string:  aiedcuator\nEnter second string:  aiedcat\n"
    },
    {
     "name": "stdout",
     "output_type": "stream",
     "text": "Larger string is:\naiedcuator\n"
    }
   ],
   "source": "string1 = input(\"Enter first string: \")\nstring2 = input(\"Enter second string: \")\ncount1 = 0\ncount2 = 0\nfor i in string1:\n    count1 = count1 + 1\n\nfor j in string2:\n    count2 = count2 + 1\n\nif(count1 < count2):\n    print(\"Larger string is:\")\n    print(string2)\n\nelif(count1 == count2):\n    print(\"Both strings are equal.\")\nelse:\n    print(\"Larger string is:\")\n    print(string1)"
  },
  {
   "cell_type": "code",
   "execution_count": null,
   "metadata": {},
   "outputs": [],
   "source": ""
  }
 ],
 "metadata": {
  "kernelspec": {
   "display_name": "Python 3",
   "language": "python",
   "name": "python3"
  },
  "language_info": {
   "codemirror_mode": {
    "name": "ipython",
    "version": 2
   },
   "file_extension": ".py",
   "mimetype": "text/x-python",
   "name": "python",
   "nbconvert_exporter": "python",
   "pygments_lexer": "ipython2",
   "version": "2.7.15+"
  }
 },
 "nbformat": 4,
 "nbformat_minor": 4
}

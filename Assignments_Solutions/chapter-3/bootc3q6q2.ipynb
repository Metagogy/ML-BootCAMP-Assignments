{
 "cells": [
  {
   "cell_type": "markdown",
   "metadata": {},
   "source": "**Question :** Write a python function that returns a string with the first letter capitalized and all other characters are in lowercase."
  },
  {
   "cell_type": "markdown",
   "metadata": {},
   "source": "**Level:** Easy"
  },
  {
   "cell_type": "markdown",
   "metadata": {},
   "source": "**Input Format:**  \n\nfunction that returns a string with the first letter capitalized and all other characters lowercase. It doesn't modify the original string."
  },
  {
   "cell_type": "markdown",
   "metadata": {},
   "source": "**Output Format:** \n\nThe corresponding output be displayed."
  },
  {
   "cell_type": "markdown",
   "metadata": {},
   "source": "**Sample Input :** \n\nstring = \"heLLo metagogy.\""
  },
  {
   "cell_type": "markdown",
   "metadata": {},
   "source": "**Sample Output :**\n\n('Old String: ', 'heLLo metagogy.')\n\n('Capitalized String:', 'Hello metagogy.')"
  },
  {
   "cell_type": "code",
   "execution_count": 1,
   "metadata": {},
   "outputs": [
    {
     "name": "stdout",
     "output_type": "stream",
     "text": "Old String:  heLLo metagogy.\nCapitalized String: Hello metagogy.\n"
    }
   ],
   "source": "string = \"heLLo metagogy.\"\n\ncapitalized_string = string.capitalize()\n\nprint('Old String: ', string)\nprint('Capitalized String:', capitalized_string)"
  },
  {
   "cell_type": "code",
   "execution_count": null,
   "metadata": {},
   "outputs": [],
   "source": ""
  }
 ],
 "metadata": {
  "kernelspec": {
   "display_name": "Python 3",
   "language": "python",
   "name": "python3"
  },
  "language_info": {
   "codemirror_mode": {
    "name": "ipython",
    "version": 2
   },
   "file_extension": ".py",
   "mimetype": "text/x-python",
   "name": "python",
   "nbconvert_exporter": "python",
   "pygments_lexer": "ipython2",
   "version": "2.7.15+"
  }
 },
 "nbformat": 4,
 "nbformat_minor": 4
}

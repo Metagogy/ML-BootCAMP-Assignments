{
 "cells": [
  {
   "cell_type": "markdown",
   "metadata": {},
   "source": [
    "**Question**: Load, Split, normalize and flatten the mnist dataset. Build, compile and train the model using adam optimizer, loss as \"categorical_crossentropy\".\n"
   ]
  },
  {
   "cell_type": "markdown",
   "metadata": {},
   "source": [
    "**Description :** \n",
    "\n",
    "* Load the mnist dataset using inbuilt dataset function and split into training and testing images.\n",
    "\n",
    "* Normalize the dataset images by dividing it with 255 and subtract 0.5 of train and test images. \n",
    "\n",
    "* Flatten the dataset images by using reshape. \n",
    "\n",
    "* Build the mnist dataset model by using a sequential layer and adding first two activation functions as Relu layers having 64 \n",
    "  neurons in each dense layer and last layer having activation function as Softmax layer with 10 neurons.\n",
    "\n",
    "* Compile the model using adam optimizer, loss as \"categorical_crossentropy\" and train the model using 5 epochs, 32 as batch       size."
   ]
  },
  {
   "cell_type": "code",
   "execution_count": 1,
   "metadata": {},
   "outputs": [],
   "source": [
    "# Start Your Code From Here."
   ]
  },
  {
   "cell_type": "code",
   "execution_count": 2,
   "metadata": {},
   "outputs": [],
   "source": [
    "# Import required Libraries.\n",
    "\n",
    "import tensorflow as tf"
   ]
  },
  {
   "cell_type": "code",
   "execution_count": 3,
   "metadata": {},
   "outputs": [],
   "source": [
    "# Split the data into train and test.\n",
    "\n",
    "(train_images, train_labels), (test_images, test_labels) = tf.keras.datasets.mnist.load_data()"
   ]
  },
  {
   "cell_type": "code",
   "execution_count": 4,
   "metadata": {},
   "outputs": [],
   "source": [
    "# Normalize the images.\n",
    "\n",
    "train_images = (train_images / 255) - 0.5\n",
    "test_images = (test_images / 255) - 0.5"
   ]
  },
  {
   "cell_type": "code",
   "execution_count": 5,
   "metadata": {},
   "outputs": [],
   "source": [
    "# Flatten the images.\n",
    "\n",
    "train_images = train_images.reshape((-1, 784))\n",
    "test_images = test_images.reshape((-1, 784))"
   ]
  },
  {
   "cell_type": "code",
   "execution_count": 6,
   "metadata": {},
   "outputs": [],
   "source": [
    "# Build the model.\n",
    "\n",
    "model = tf.keras.Sequential()\n",
    "model.add(tf.keras.layers.Dense(64, activation = 'relu' , input_shape=(784, )))\n",
    "model.add(tf.keras.layers.Dense(64, activation = 'relu' ))\n",
    "model.add(tf.keras.layers.Dense(10, activation = 'softmax' ))"
   ]
  },
  {
   "cell_type": "code",
   "execution_count": 7,
   "metadata": {},
   "outputs": [],
   "source": [
    "# Compile the model.\n",
    "\n",
    "model.compile('adam', loss=tf.keras.losses.CategoricalCrossentropy() ,  metrics = ['accuracy'] )"
   ]
  },
  {
   "cell_type": "code",
   "execution_count": 8,
   "metadata": {},
   "outputs": [],
   "source": [
    "# Train the model.\n",
    "\n",
    "model.fit(\n",
    "  train_images,\n",
    "  tf.keras.utils.to_categorical(train_labels),\n",
    "  epochs=5,\n",
    "  batch_size=32,verbose=0\n",
    ");"
   ]
  },
  {
   "cell_type": "code",
   "execution_count": 10,
   "metadata": {},
   "outputs": [
    {
     "name": "stdout",
     "output_type": "stream",
     "text": [
      "0.9627000093460083\n"
     ]
    }
   ],
   "source": [
    "# Evaluate and print the accuracy.\n",
    "\n",
    "loss,acc=model.evaluate(test_images,tf.keras.utils.to_categorical(test_labels),verbose=0);\n",
    "print(acc)"
   ]
  },
  {
   "cell_type": "code",
   "execution_count": null,
   "metadata": {},
   "outputs": [],
   "source": []
  }
 ],
 "metadata": {
  "kernelspec": {
   "display_name": "Python 3",
   "language": "python",
   "name": "python3"
  },
  "language_info": {
   "codemirror_mode": {
    "name": "ipython",
    "version": 3
   },
   "file_extension": ".py",
   "mimetype": "text/x-python",
   "name": "python",
   "nbconvert_exporter": "python",
   "pygments_lexer": "ipython3",
   "version": "3.8.3"
  }
 },
 "nbformat": 4,
 "nbformat_minor": 4
}

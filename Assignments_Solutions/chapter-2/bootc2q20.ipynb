{
 "cells": [
  {
   "cell_type": "markdown",
   "metadata": {},
   "source": [
    "**Question** : Write a python program to remove even place elements and print the dictionary "
   ]
  },
  {
   "cell_type": "markdown",
   "metadata": {},
   "source": [
    "**Level** : Medium"
   ]
  },
  {
   "cell_type": "markdown",
   "metadata": {},
   "source": [
    "**Input format** :\n",
    "    \n",
    "integer(n) size of the dictionary\n",
    "\n",
    "n no. of key value pairs\n"
   ]
  },
  {
   "cell_type": "markdown",
   "metadata": {},
   "source": [
    "**Output format** :\n",
    "    \n",
    "key,values in odd places\n"
   ]
  },
  {
   "cell_type": "markdown",
   "metadata": {},
   "source": [
    "**Sample Input** :\n",
    "    \n",
    "5\n",
    "\n",
    "1 a\n",
    "\n",
    "2 b\n",
    "\n",
    "3 c\n",
    "\n",
    "4 d\n",
    "\n",
    "5 e"
   ]
  },
  {
   "cell_type": "markdown",
   "metadata": {},
   "source": [
    "**Sample Output** :\n",
    "    \n",
    "{'1': 'a', '3': 'c', '5': 'e'}"
   ]
  },
  {
   "cell_type": "code",
   "execution_count": 1,
   "metadata": {},
   "outputs": [
    {
     "name": "stdout",
     "output_type": "stream",
     "text": [
      "5\n",
      "1 a\n",
      "2 b\n",
      "3 c\n",
      "4 d\n",
      "5 e\n",
      "{'1': 'a', '3': 'c', '5': 'e'}\n"
     ]
    }
   ],
   "source": [
    "\n",
    "n1=int(input())\n",
    "d1={}\n",
    "for x in range(n1):\n",
    "    a,b=[y for y in input().split(\" \")]\n",
    "    d1.update({a:b})\n",
    "temp=0\n",
    "d2=d1.copy()\n",
    "for x in d2.keys():\n",
    "    if(temp==1):\n",
    "        d1.pop(x)\n",
    "        temp=0\n",
    "    else:\n",
    "        temp=1\n",
    "print(d1)\n"
   ]
  },
  {
   "cell_type": "code",
   "execution_count": 12,
   "metadata": {},
   "outputs": [
    {
     "name": "stdout",
     "output_type": "stream",
     "text": [
      "5\n",
      "1 a\n",
      "2 b\n",
      "3 c\n",
      "4 d\n",
      "5 e\n",
      "{'1': 'a', '3': 'c', '5': 'e'}\n"
     ]
    }
   ],
   "source": [
    "n=int(input())\n",
    "d={}\n",
    "new={}\n",
    "for x in range(n):\n",
    "    k,v=[lst for lst in input().split()]\n",
    "    d[k]=v\n",
    "l=list(d.items())\n",
    "for x in range(len(l)):\n",
    "    if x%2==0:\n",
    "        new[l[x][0]]=l[x][1]\n",
    "print(new)"
   ]
  },
  {
   "cell_type": "code",
   "execution_count": null,
   "metadata": {},
   "outputs": [],
   "source": []
  }
 ],
 "metadata": {
  "kernelspec": {
   "display_name": "Python 3",
   "language": "python",
   "name": "python3"
  },
  "language_info": {
   "codemirror_mode": {
    "name": "ipython",
    "version": 3
   },
   "file_extension": ".py",
   "mimetype": "text/x-python",
   "name": "python",
   "nbconvert_exporter": "python",
   "pygments_lexer": "ipython3",
   "version": "3.8.3"
  }
 },
 "nbformat": 4,
 "nbformat_minor": 4
}

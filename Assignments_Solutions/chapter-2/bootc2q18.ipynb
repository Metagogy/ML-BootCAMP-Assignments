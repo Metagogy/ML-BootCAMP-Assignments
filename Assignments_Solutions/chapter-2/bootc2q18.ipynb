{
 "cells": [
  {
   "cell_type": "markdown",
   "metadata": {},
   "source": [
    "**Question :** Write a Python program to print the keys, values and items as a dictionary."
   ]
  },
  {
   "cell_type": "markdown",
   "metadata": {},
   "source": [
    "**Level :** Medium"
   ]
  },
  {
   "cell_type": "markdown",
   "metadata": {},
   "source": [
    "**Input format :** \n",
    "\n",
    "first-line: no.of key value pairs in a dictionary.\n",
    "\n",
    "next-lines: space-separated key and value pairs."
   ]
  },
  {
   "cell_type": "markdown",
   "metadata": {},
   "source": [
    "**Output format :**\n",
    "\n",
    "keys\n",
    "\n",
    "values\n",
    "\n",
    "items"
   ]
  },
  {
   "cell_type": "markdown",
   "metadata": {},
   "source": [
    "**Sample Input :**\n",
    "\n",
    "3\n",
    "\n",
    "1 a\n",
    "\n",
    "2 b\n",
    "\n",
    "3 c"
   ]
  },
  {
   "cell_type": "markdown",
   "metadata": {},
   "source": [
    "**Sample Output :**\n",
    "\n",
    "KEYS:\n",
    "\n",
    "1\n",
    "\n",
    "2\n",
    "\n",
    "3\n",
    "\n",
    "VALUES:\n",
    "\n",
    "a\n",
    "\n",
    "b\n",
    "\n",
    "c\n",
    "\n",
    "ITEMS:\n",
    "\n",
    "1 a\n",
    "\n",
    "2 b\n",
    "\n",
    "3 c"
   ]
  },
  {
   "cell_type": "code",
   "execution_count": 3,
   "metadata": {},
   "outputs": [
    {
     "name": "stdout",
     "output_type": "stream",
     "text": [
      "3\n",
      "1 a\n",
      "2 b\n",
      "3 c\n",
      "KEYS:\n",
      "1\n",
      "2\n",
      "3\n",
      "VALUES:\n",
      "a\n",
      "b\n",
      "c\n",
      "ITEMS:\n",
      "1 a\n",
      "2 b\n",
      "3 c\n"
     ]
    }
   ],
   "source": [
    "n1=int(input())\n",
    "d1={}\n",
    "for x in range(n1):\n",
    "  \tk,v=[lst for lst in input().split(\" \")]\n",
    "  \td1.update({k:v})\n",
    "print(\"KEYS:\")\n",
    "for x in d1.keys():\n",
    "  \tprint(x)\n",
    "print(\"VALUES:\")\n",
    "for x in d1.values():\n",
    "  \tprint(x)\n",
    "print(\"ITEMS:\")\n",
    "for x,y in d1.items():\n",
    "  \tprint(x,y)\n",
    "    "
   ]
  },
  {
   "cell_type": "code",
   "execution_count": null,
   "metadata": {},
   "outputs": [],
   "source": []
  },
  {
   "cell_type": "code",
   "execution_count": null,
   "metadata": {},
   "outputs": [],
   "source": []
  }
 ],
 "metadata": {
  "kernelspec": {
   "display_name": "Python 3",
   "language": "python",
   "name": "python3"
  },
  "language_info": {
   "codemirror_mode": {
    "name": "ipython",
    "version": 3
   },
   "file_extension": ".py",
   "mimetype": "text/x-python",
   "name": "python",
   "nbconvert_exporter": "python",
   "pygments_lexer": "ipython3",
   "version": "3.8.3"
  }
 },
 "nbformat": 4,
 "nbformat_minor": 4
}

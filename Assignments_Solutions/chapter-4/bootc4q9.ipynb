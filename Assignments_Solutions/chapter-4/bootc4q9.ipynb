{
 "cells": [
  {
   "cell_type": "markdown",
   "metadata": {},
   "source": [
    "**Question :** Create an MxN dimensional array. Perform element-wise mathematical operations such as a sign, ceil, round, and np.rint on created array and print all outputs line by line."
   ]
  },
  {
   "cell_type": "markdown",
   "metadata": {},
   "source": [
    "**Level :** Hard"
   ]
  },
  {
   "cell_type": "markdown",
   "metadata": {},
   "source": [
    "**Input format :**\n",
    "\n",
    "Integer     # M rows\n",
    "\n",
    "Integer     # N columns\n",
    "\n",
    "M rows N columns."
   ]
  },
  {
   "cell_type": "markdown",
   "metadata": {},
   "source": [
    "**Output format :** Arrays."
   ]
  },
  {
   "cell_type": "markdown",
   "metadata": {},
   "source": [
    "**Sample input :**"
   ]
  },
  {
   "cell_type": "raw",
   "metadata": {},
   "source": [
    "3\n",
    "3\n",
    "10 20 30\n",
    "-10 -20 -30\n",
    "10.25 20.25 30.25"
   ]
  },
  {
   "cell_type": "markdown",
   "metadata": {},
   "source": [
    "**Sample output :**"
   ]
  },
  {
   "cell_type": "raw",
   "metadata": {},
   "source": [
    "[[ 1.  1.  1.]\n",
    " [-1. -1. -1.]\n",
    " [ 1.  1.  1.]]\n",
    " \n",
    "[[ 10.  20.  30.]\n",
    " [-10. -20. -30.]\n",
    " [ 11.  21.  31.]]\n",
    " \n",
    "[[ 10.  20.  30.]\n",
    " [-10. -20. -30.]\n",
    " [ 10.  20.  30.]]\n",
    " \n",
    "[[ 10.  20.  30.]\n",
    " [-10. -20. -30.]\n",
    " [ 10.  20.  30.]]"
   ]
  },
  {
   "cell_type": "code",
   "execution_count": 2,
   "metadata": {},
   "outputs": [
    {
     "name": "stdout",
     "output_type": "stream",
     "text": [
      "3\n",
      "3\n",
      "10 20 30\n",
      "-10 -20 -30\n",
      "10.25 20.25 30.25\n"
     ]
    }
   ],
   "source": [
    "import numpy as np\n",
    "m=int(input())\n",
    "n=int(input())\n",
    "arr = np.array([list(map(float,input().split())) for i in range(m)])"
   ]
  },
  {
   "cell_type": "code",
   "execution_count": 4,
   "metadata": {},
   "outputs": [
    {
     "name": "stdout",
     "output_type": "stream",
     "text": [
      "[[ 1.  1.  1.]\n",
      " [-1. -1. -1.]\n",
      " [ 1.  1.  1.]]\n"
     ]
    }
   ],
   "source": [
    "print(np.sign(arr))"
   ]
  },
  {
   "cell_type": "code",
   "execution_count": 5,
   "metadata": {},
   "outputs": [
    {
     "name": "stdout",
     "output_type": "stream",
     "text": [
      "[[ 10.  20.  30.]\n",
      " [-10. -20. -30.]\n",
      " [ 11.  21.  31.]]\n"
     ]
    }
   ],
   "source": [
    "print(np.ceil(arr))"
   ]
  },
  {
   "cell_type": "code",
   "execution_count": 6,
   "metadata": {},
   "outputs": [
    {
     "name": "stdout",
     "output_type": "stream",
     "text": [
      "[[ 10.  20.  30.]\n",
      " [-10. -20. -30.]\n",
      " [ 10.  20.  30.]]\n"
     ]
    }
   ],
   "source": [
    "print(np.round(arr))"
   ]
  },
  {
   "cell_type": "code",
   "execution_count": 7,
   "metadata": {},
   "outputs": [
    {
     "name": "stdout",
     "output_type": "stream",
     "text": [
      "[[ 10.  20.  30.]\n",
      " [-10. -20. -30.]\n",
      " [ 10.  20.  30.]]\n"
     ]
    }
   ],
   "source": [
    "print(np.rint(arr))"
   ]
  },
  {
   "cell_type": "code",
   "execution_count": null,
   "metadata": {},
   "outputs": [],
   "source": []
  },
  {
   "cell_type": "code",
   "execution_count": null,
   "metadata": {},
   "outputs": [],
   "source": []
  }
 ],
 "metadata": {
  "kernelspec": {
   "display_name": "Python 3",
   "language": "python",
   "name": "python3"
  },
  "language_info": {
   "codemirror_mode": {
    "name": "ipython",
    "version": 3
   },
   "file_extension": ".py",
   "mimetype": "text/x-python",
   "name": "python",
   "nbconvert_exporter": "python",
   "pygments_lexer": "ipython3",
   "version": "3.8.3"
  }
 },
 "nbformat": 4,
 "nbformat_minor": 4
}

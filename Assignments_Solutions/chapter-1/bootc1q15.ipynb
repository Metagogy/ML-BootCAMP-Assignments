{
 "cells": [
  {
   "cell_type": "markdown",
   "metadata": {},
   "source": [
    "**Question :** Write a program that accepts a sentence as input and calculates the number of letters and digits in a given sentence as output."
   ]
  },
  {
   "cell_type": "markdown",
   "metadata": {},
   "source": [
    "**Level :** Hard"
   ]
  },
  {
   "cell_type": "markdown",
   "metadata": {},
   "source": [
    "**Input Format:** alphanumeric string"
   ]
  },
  {
   "cell_type": "markdown",
   "metadata": {},
   "source": [
    "**Output Format:** the first line contains a number of letters, and the second line contains a number of digits"
   ]
  },
  {
   "cell_type": "markdown",
   "metadata": {},
   "source": [
    "**Sample Input :** hello world!123"
   ]
  },
  {
   "cell_type": "markdown",
   "metadata": {},
   "source": [
    "**Sample Output :**\n",
    "\n",
    "LETTERS: 10\n",
    "\n",
    "DIGITS: 3"
   ]
  },
  {
   "cell_type": "code",
   "execution_count": 6,
   "metadata": {},
   "outputs": [
    {
     "name": "stdout",
     "output_type": "stream",
     "text": [
      "Pyth123oN\n",
      "LETTERS: 6\n",
      "DIGITS: 3\n"
     ]
    }
   ],
   "source": [
    "word = input()\n",
    "letter,digit = 0,0\n",
    "for i in word:\n",
    "    if ('a' <=i and i<='z')  or  ('A' <=i and i<='z'):\n",
    "        letter+=1\n",
    "    if '0' <=i and i<= '9':\n",
    "        digit+=1\n",
    "print(\"LETTERS:\",letter)\n",
    "print(\"DIGITS:\",digit)\n"
   ]
  },
  {
   "cell_type": "code",
   "execution_count": 6,
   "metadata": {},
   "outputs": [
    {
     "name": "stdout",
     "output_type": "stream",
     "text": [
      "Pyth123oN\n",
      "LETTERS: 6\n",
      "DIGITS: 3\n"
     ]
    }
   ],
   "source": [
    "s=input()\n",
    "letters=0\n",
    "digits=0\n",
    "for i in s:\n",
    "    if i.isalpha():\n",
    "        letters +=1\n",
    "    if i.isdigit():\n",
    "        digits +=1\n",
    "print('LETTERS:',letters)\n",
    "print(\"DIGITS:\",digits)"
   ]
  },
  {
   "cell_type": "code",
   "execution_count": null,
   "metadata": {},
   "outputs": [],
   "source": []
  }
 ],
 "metadata": {
  "kernelspec": {
   "display_name": "Python 3",
   "language": "python",
   "name": "python3"
  },
  "language_info": {
   "codemirror_mode": {
    "name": "ipython",
    "version": 3
   },
   "file_extension": ".py",
   "mimetype": "text/x-python",
   "name": "python",
   "nbconvert_exporter": "python",
   "pygments_lexer": "ipython3",
   "version": "3.8.3"
  }
 },
 "nbformat": 4,
 "nbformat_minor": 4
}

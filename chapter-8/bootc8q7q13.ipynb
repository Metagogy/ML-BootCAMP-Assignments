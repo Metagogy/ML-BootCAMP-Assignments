{
 "cells": [
  {
   "cell_type": "markdown",
   "metadata": {},
   "source": "**Question** : How to train our model using epochs and batch size parameter\n\n\n"
  },
  {
   "cell_type": "markdown",
   "metadata": {},
   "source": "**Level** : Hard\n\n\n"
  },
  {
   "cell_type": "markdown",
   "metadata": {},
   "source": "**input format** :\n    \nDataset\n"
  },
  {
   "cell_type": "markdown",
   "metadata": {},
   "source": "**output format** :\n    \nTraining of model\n\n"
  },
  {
   "cell_type": "markdown",
   "metadata": {},
   "source": "**Sample input** :\n    \nmnist.load_data()\n"
  },
  {
   "cell_type": "markdown",
   "metadata": {},
   "source": "**Sample output** :\n    \nmodel.fit()\n\n"
  },
  {
   "cell_type": "code",
   "execution_count": 1,
   "metadata": {},
   "outputs": [],
   "source": "import tensorflow as tf"
  },
  {
   "cell_type": "code",
   "execution_count": 2,
   "metadata": {},
   "outputs": [],
   "source": "# Write your code here."
  },
  {
   "cell_type": "code",
   "execution_count": null,
   "metadata": {},
   "outputs": [],
   "source": ""
  }
 ],
 "metadata": {
  "kernelspec": {
   "display_name": "Python 3",
   "language": "python",
   "name": "python3"
  },
  "language_info": {
   "codemirror_mode": {
    "name": "ipython",
    "version": 2
   },
   "file_extension": ".py",
   "mimetype": "text/x-python",
   "name": "python",
   "nbconvert_exporter": "python",
   "pygments_lexer": "ipython2",
   "version": "2.7.15+"
  }
 },
 "nbformat": 4,
 "nbformat_minor": 4
}

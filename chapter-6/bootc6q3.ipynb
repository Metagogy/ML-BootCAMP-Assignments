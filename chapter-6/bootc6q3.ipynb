{
 "cells": [
  {
   "cell_type": "markdown",
   "metadata": {},
   "source": [
    "**Question**: Convert a list into a tensor using TensorFlow.and apply the relu activation function on the created tensor using tf.keras with different parameters such as alpha, max_value, threshold and print each output to console."
   ]
  },
  {
   "cell_type": "markdown",
   "metadata": {},
   "source": [
    "**Constraints :**\n",
    "\n",
    "* Use dtype=float32\n",
    "\n",
    "* Apply the relu activation function on the list using tf.keras with alpha = 0.5\n",
    "\n",
    "* Apply the relu activation function on the list using tf.keras with max_value = 5\n",
    "\n",
    "* Apply the relu activation function on the list using tf.keras with threshold = 5\n"
   ]
  },
  {
   "cell_type": "markdown",
   "metadata": {},
   "source": [
    "**Level :** Medium"
   ]
  },
  {
   "cell_type": "markdown",
   "metadata": {},
   "source": [
    "**Input format :**  Space-separated values."
   ]
  },
  {
   "cell_type": "markdown",
   "metadata": {},
   "source": [
    "**Output format :** "
   ]
  },
  {
   "cell_type": "raw",
   "metadata": {},
   "source": [
    "First-line : Array          # with alpha\n",
    "Second-line : Array         # with max_value\n",
    "Third-line : Array          # with threshold"
   ]
  },
  {
   "cell_type": "markdown",
   "metadata": {},
   "source": [
    "**Sample Input :** \n",
    "\n",
    "-10 -5 0 5 10 15 20 25"
   ]
  },
  {
   "cell_type": "markdown",
   "metadata": {},
   "source": [
    "**Sample Output :**"
   ]
  },
  {
   "cell_type": "raw",
   "metadata": {},
   "source": [
    "[-5.  -2.5  0.   5.  10.  15.  20.  25. ]\n",
    "[0. 0. 0. 5. 5. 5. 5. 5.]\n",
    "[-0. -0.  0.  0. 10. 15. 20. 25.]"
   ]
  },
  {
   "cell_type": "code",
   "execution_count": null,
   "metadata": {},
   "outputs": [],
   "source": [
    "# Start Your Code From Here."
   ]
  },
  {
   "cell_type": "code",
   "execution_count": null,
   "metadata": {},
   "outputs": [],
   "source": [
    "# Importing Libraries.\n",
    "\n",
    "import tensorflow as tf"
   ]
  },
  {
   "cell_type": "code",
   "execution_count": null,
   "metadata": {
    "deletable": false,
    "editable": false
   },
   "outputs": [],
   "source": [
    "# creating a list using stdin.\n",
    "\n",
    "lst=list(map(int,input().split()))"
   ]
  },
  {
   "cell_type": "code",
   "execution_count": null,
   "metadata": {},
   "outputs": [],
   "source": [
    "# Apply tf.constant() on given list use dtype=tf.float32\n",
    "\n",
    "lst = tf.constant( ) "
   ]
  },
  {
   "cell_type": "markdown",
   "metadata": {},
   "source": [
    "### Complete the below print ( )  functions."
   ]
  },
  {
   "cell_type": "code",
   "execution_count": null,
   "metadata": {},
   "outputs": [],
   "source": [
    "# Apply the relu activation function with alpha=0.5\n",
    "\n",
    "print(tf.keras.activations.relu(   ).numpy())   "
   ]
  },
  {
   "cell_type": "code",
   "execution_count": null,
   "metadata": {},
   "outputs": [],
   "source": [
    "# Apply the relu activation function with max_value=5.\n",
    "\n",
    "print( )"
   ]
  },
  {
   "cell_type": "code",
   "execution_count": null,
   "metadata": {},
   "outputs": [],
   "source": [
    "# Apply the relu activation function with threshold=5.\n",
    "\n",
    "print( )"
   ]
  }
 ],
 "metadata": {
  "kernelspec": {
   "display_name": "Python 3",
   "language": "python",
   "name": "python3"
  },
  "language_info": {
   "codemirror_mode": {
    "name": "ipython",
    "version": 3
   },
   "file_extension": ".py",
   "mimetype": "text/x-python",
   "name": "python",
   "nbconvert_exporter": "python",
   "pygments_lexer": "ipython3",
   "version": "3.8.3"
  }
 },
 "nbformat": 4,
 "nbformat_minor": 4
}

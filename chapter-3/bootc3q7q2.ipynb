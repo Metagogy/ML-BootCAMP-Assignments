{
 "cells": [
  {
   "cell_type": "markdown",
   "metadata": {},
   "source": "**Question :**  Write a Python program that can accept two strings and print the larger of the two strings."
  },
  {
   "cell_type": "markdown",
   "metadata": {},
   "source": "**Level:** Hard"
  },
  {
   "cell_type": "markdown",
   "metadata": {},
   "source": "**Input Format:** \n\nprint the larger of the two strings"
  },
  {
   "cell_type": "markdown",
   "metadata": {},
   "source": "**Output Format :** \n\nStrings "
  },
  {
   "cell_type": "markdown",
   "metadata": {},
   "source": "**Sample Input :**\n\naieducator\n\naieducat"
  },
  {
   "cell_type": "markdown",
   "metadata": {},
   "source": "**Sample Output :**\n\naieducator"
  },
  {
   "cell_type": "code",
   "execution_count": null,
   "metadata": {},
   "outputs": [],
   "source": "# write your code here\n\n"
  },
  {
   "cell_type": "code",
   "execution_count": null,
   "metadata": {},
   "outputs": [],
   "source": ""
  }
 ],
 "metadata": {
  "kernelspec": {
   "display_name": "Python 3",
   "language": "python",
   "name": "python3"
  },
  "language_info": {
   "codemirror_mode": {
    "name": "ipython",
    "version": 2
   },
   "file_extension": ".py",
   "mimetype": "text/x-python",
   "name": "python",
   "nbconvert_exporter": "python",
   "pygments_lexer": "ipython2",
   "version": "2.7.15+"
  }
 },
 "nbformat": 4,
 "nbformat_minor": 4
}

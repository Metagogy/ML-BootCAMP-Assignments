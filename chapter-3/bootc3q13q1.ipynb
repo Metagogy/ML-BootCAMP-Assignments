{
 "cells": [
  {
   "cell_type": "markdown",
   "metadata": {},
   "source": "**Question :** Write a function which takes two numbers as arguments and compute with the division of two numbers."
  },
  {
   "cell_type": "markdown",
   "metadata": {},
   "source": "**Level :** Easy"
  },
  {
   "cell_type": "markdown",
   "metadata": {},
   "source": "**Input Format :**\n\nfunction that takes two numbers"
  },
  {
   "cell_type": "markdown",
   "metadata": {},
   "source": "**Output Format :**\n\nfloat"
  },
  {
   "cell_type": "markdown",
   "metadata": {},
   "source": "**Sample Input :**\n\n100\n\n10"
  },
  {
   "cell_type": "markdown",
   "metadata": {},
   "source": "**Sample Output :**\n\n10.0"
  },
  {
   "cell_type": "code",
   "execution_count": null,
   "metadata": {},
   "outputs": [],
   "source": "def DivisionFunction(number1, number2):\n    \n    #write your code here\n    "
  },
  {
   "cell_type": "code",
   "execution_count": null,
   "metadata": {},
   "outputs": [],
   "source": ""
  }
 ],
 "metadata": {
  "kernelspec": {
   "display_name": "Python 3",
   "language": "python",
   "name": "python3"
  },
  "language_info": {
   "codemirror_mode": {
    "name": "ipython",
    "version": 2
   },
   "file_extension": ".py",
   "mimetype": "text/x-python",
   "name": "python",
   "nbconvert_exporter": "python",
   "pygments_lexer": "ipython2",
   "version": "2.7.15+"
  }
 },
 "nbformat": 4,
 "nbformat_minor": 4
}

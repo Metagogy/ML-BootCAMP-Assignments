{
 "cells": [
  {
   "cell_type": "markdown",
   "metadata": {
    "id": "jIEYD_JzZKgu"
   },
   "source": [
    "**Question:** Create a dense layer with ‘n’ neurons and apply a L1 regularization penalty of ‘l1’ ,pass a tensor of shape(n,n) with a multiplier ‘m’ and print the result."
   ]
  },
  {
   "cell_type": "markdown",
   "metadata": {},
   "source": [
    "**Level :01**"
   ]
  },
  {
   "cell_type": "markdown",
   "metadata": {
    "id": "MDXYDNY3ZKhE"
   },
   "source": [
    "**Sample Input format:**\n",
    "* Number\n",
    "* Number\n",
    "* Number\n",
    "\n",
    "**Sample Output format :**\n",
    "* Tensor\n"
   ]
  },
  {
   "cell_type": "markdown",
   "metadata": {},
   "source": [
    "**Sample Input:**\n",
    "\n",
    "6<br/>\n",
    "2<br/>\n",
    "0.2\n"
   ]
  },
  {
   "cell_type": "markdown",
   "metadata": {},
   "source": [
    "**Sample Output:**\n",
    "\n",
    "tf.Tensor(<br/>[[12. 12. 12. 12. 12. 12.]<br/> \n",
    " [12. 12. 12. 12. 12. 12.]<br/> \n",
    " [12. 12. 12. 12. 12. 12.]<br/> \n",
    " [12. 12. 12. 12. 12. 12.]<br/> \n",
    " [12. 12. 12. 12. 12. 12.]<br/> \n",
    " [12. 12. 12. 12. 12. 12.]],shape=(6, 6), dtype=float32)"
   ]
  },
  {
   "cell_type": "code",
   "execution_count": null,
   "metadata": {
    "id": "DHTztsLkZKhF"
   },
   "outputs": [],
   "source": [
    "#start your code here"
   ]
  },
  {
   "cell_type": "code",
   "execution_count": null,
   "metadata": {
    "id": "ZW_BSl77ZKhG"
   },
   "outputs": [],
   "source": [
    "#import your library\n",
    "#complete your code here"
   ]
  },
  {
   "cell_type": "code",
   "execution_count": null,
   "metadata": {
    "colab": {
     "base_uri": "https://localhost:8080/"
    },
    "id": "UjlculBsZKhG",
    "outputId": "adbfd6f2-0371-4062-b952-d88e8f80e9e4"
   },
   "outputs": [],
   "source": [
    "#Take the respective inputs\n",
    "n=(#complete your code here)\n",
    "m=(#complete your code here)\n",
    "l1=(#complete your code here)"
   ]
  },
  {
   "cell_type": "code",
   "execution_count": null,
   "metadata": {
    "id": "Jey1dxwmZKhG"
   },
   "outputs": [],
   "source": [
    "#Create a dense layer and use L1 reugalizer.\n",
    "layer = #complete your code here\n"
   ]
  },
  {
   "cell_type": "code",
   "execution_count": null,
   "metadata": {
    "id": "0Hczqzi_ZKhH"
   },
   "outputs": [],
   "source": [
    "# Create the tensor and apply the regularizer on tensor.\n",
    "tensor = #complete your code here\n",
    "out = #complete your code here"
   ]
  },
  {
   "cell_type": "code",
   "execution_count": null,
   "metadata": {
    "colab": {
     "base_uri": "https://localhost:8080/"
    },
    "id": "9qbBK_Z1ZKhH",
    "outputId": "4f632fe0-40d6-40a2-8aee-39c59c456141"
   },
   "outputs": [],
   "source": [
    "#print the output\n",
    "print(out)"
   ]
  },
  {
   "cell_type": "code",
   "execution_count": null,
   "metadata": {
    "id": "vIkTAEvjZU-E"
   },
   "outputs": [],
   "source": []
  }
 ],
 "metadata": {
  "accelerator": "GPU",
  "colab": {
   "collapsed_sections": [],
   "name": "tfc13q9.ipynb",
   "provenance": []
  },
  "kernelspec": {
   "display_name": "Python 3",
   "language": "python",
   "name": "python3"
  },
  "language_info": {
   "codemirror_mode": {
    "name": "ipython",
    "version": 3
   },
   "file_extension": ".py",
   "mimetype": "text/x-python",
   "name": "python",
   "nbconvert_exporter": "python",
   "pygments_lexer": "ipython3",
   "version": "3.7.3"
  }
 },
 "nbformat": 4,
 "nbformat_minor": 1
}

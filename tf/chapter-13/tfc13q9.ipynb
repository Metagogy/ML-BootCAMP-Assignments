{
 "cells": [
  {
   "cell_type": "markdown",
   "metadata": {
    "id": "jIEYD_JzZKgu"
   },
   "source": [
    "**Question:** Create a dense layer with ‘n’ neurons and apply a L1 regularization penalty of ‘l1’ ,pass a tensor of shape(n,n) with a multiplier ‘m’ and print the result."
   ]
  },
  {
   "cell_type": "markdown",
   "metadata": {},
   "source": [
    "**Level** : Easy"
   ]
  },
  {
   "cell_type": "markdown",
   "metadata": {
    "id": "MDXYDNY3ZKhE"
   },
   "source": [
    "**Sample Input format:**\n",
    "\n",
    "Integer <br/>\n",
    "Integer <br/>\n",
    "Float\n",
    "\n",
    "**Sample Output format :**\n",
    "\n",
    "Tensor\n",
    "\n"
   ]
  },
  {
   "cell_type": "markdown",
   "metadata": {},
   "source": [
    "**Sample Input:**\n",
    "\n",
    "6<br/>\n",
    "2<br/>\n",
    "0.2\n"
   ]
  },
  {
   "cell_type": "markdown",
   "metadata": {},
   "source": [
    "**Sample Output:**\n",
    "\n",
    "tf.Tensor(<br/>[[12. 12. 12. 12. 12. 12.]<br/>\n",
    " [12. 12. 12. 12. 12. 12.]<br/>\n",
    " [12. 12. 12. 12. 12. 12.]<br/>\n",
    " [12. 12. 12. 12. 12. 12.]<br/>\n",
    " [12. 12. 12. 12. 12. 12.]<br/>\n",
    " [12. 12. 12. 12. 12. 12.]] ,shape=(6, 6), dtype=float32)\n",
    "\n"
   ]
  },
  {
   "cell_type": "markdown",
   "metadata": {},
   "source": [
    "**SOLUTION**"
   ]
  },
  {
   "cell_type": "code",
   "execution_count": null,
   "metadata": {
    "id": "DHTztsLkZKhF"
   },
   "outputs": [],
   "source": [
    "#start your code here"
   ]
  },
  {
   "cell_type": "code",
   "execution_count": 1,
   "metadata": {
    "id": "ZW_BSl77ZKhG"
   },
   "outputs": [],
   "source": [
    "#import your library\n",
    "import tensorflow as tf"
   ]
  },
  {
   "cell_type": "code",
   "execution_count": 13,
   "metadata": {
    "colab": {
     "base_uri": "https://localhost:8080/"
    },
    "id": "UjlculBsZKhG",
    "outputId": "adbfd6f2-0371-4062-b952-d88e8f80e9e4"
   },
   "outputs": [
    {
     "name": "stdout",
     "output_type": "stream",
     "text": [
      "5\n",
      "2\n",
      "0.15\n"
     ]
    }
   ],
   "source": [
    "#Take the respective inputs\n",
    "n=(int(input()))\n",
    "m=(int(input()))\n",
    "l1=(float(input()))"
   ]
  },
  {
   "cell_type": "code",
   "execution_count": 14,
   "metadata": {
    "id": "Jey1dxwmZKhG"
   },
   "outputs": [],
   "source": [
    "#Create a dense layer and use L1 reugalizer.\n",
    "layer = tf.keras.layers.Dense(# Complete Your code here , input_dim=5,kernel_initializer='ones',\n",
    "                              kernel_regularizer= # Complete Your code here)\n"
   ]
  },
  {
   "cell_type": "code",
   "execution_count": 15,
   "metadata": {
    "id": "0Hczqzi_ZKhH"
   },
   "outputs": [],
   "source": [
    "# Create the tensor and apply the regularizer on tensor.\n",
    "tensor = # Complete Your code here\n",
    "out = layer(tensor)"
   ]
  },
  {
   "cell_type": "code",
   "execution_count": 1,
   "metadata": {
    "colab": {
     "base_uri": "https://localhost:8080/"
    },
    "id": "9qbBK_Z1ZKhH",
    "outputId": "4f632fe0-40d6-40a2-8aee-39c59c456141"
   },
   "outputs": [],
   "source": [
    "#print the output\n"
   ]
  },
  {
   "cell_type": "code",
   "execution_count": null,
   "metadata": {
    "id": "vIkTAEvjZU-E"
   },
   "outputs": [],
   "source": []
  }
 ],
 "metadata": {
  "accelerator": "GPU",
  "colab": {
   "collapsed_sections": [],
   "name": "tfc13q9.ipynb",
   "provenance": []
  },
  "kernelspec": {
   "display_name": "Python 3",
   "language": "python",
   "name": "python3"
  },
  "language_info": {
   "codemirror_mode": {
    "name": "ipython",
    "version": 3
   },
   "file_extension": ".py",
   "mimetype": "text/x-python",
   "name": "python",
   "nbconvert_exporter": "python",
   "pygments_lexer": "ipython3",
   "version": "3.8.5"
  }
 },
 "nbformat": 4,
 "nbformat_minor": 1
}

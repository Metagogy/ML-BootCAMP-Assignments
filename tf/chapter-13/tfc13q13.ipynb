{
 "cells": [
  {
   "cell_type": "markdown",
   "metadata": {
    "id": "GORnxsmFbFkw"
   },
   "source": [
    "**Question:** Create a Dense layer with ‘n’ neurons, apply kernel initializer of GlorotUniform with seed = 32 and also apply a regularizer of ‘l2’and create a tensor with a multiplier of ‘m’ and pass it through the layer and print the output.\n",
    "\n"
   ]
  },
  {
   "cell_type": "markdown",
   "metadata": {},
   "source": [
    "**Level** : Medium"
   ]
  },
  {
   "cell_type": "markdown",
   "metadata": {
    "id": "VW9ZTVBtbFlB"
   },
   "source": [
    "**Sample Input format:**\n",
    "\n",
    "Integer\n",
    "\n",
    "Integer\n",
    "\n",
    "Float\n",
    "\n",
    "**Sample Output format :**\n",
    "\n",
    "Tensor\n",
    "\n",
    "\n",
    "\n"
   ]
  },
  {
   "cell_type": "markdown",
   "metadata": {},
   "source": [
    "**Sample Input:**\n",
    "\n",
    "2 <br/> \n",
    "3 <br/>\n",
    "0.9\n"
   ]
  },
  {
   "cell_type": "markdown",
   "metadata": {},
   "source": [
    "**Sample Output:**\n",
    "\n",
    "tf.Tensor( <br/>\n",
    "[[ 6.708667  -6.0448093]  <br/>\n",
    " [ 6.708667  -6.0448093]], shape=(2, 2), dtype=float32)"
   ]
  },
  {
   "cell_type": "markdown",
   "metadata": {},
   "source": [
    "**SOLUTION**"
   ]
  },
  {
   "cell_type": "code",
   "execution_count": null,
   "metadata": {
    "id": "-yJ1l346bFlE"
   },
   "outputs": [],
   "source": [
    "#start your code here"
   ]
  },
  {
   "cell_type": "code",
   "execution_count": 80,
   "metadata": {
    "id": "h4OxLb5ibFlF"
   },
   "outputs": [],
   "source": [
    "#import your library\n",
    "import tensorflow as tf"
   ]
  },
  {
   "cell_type": "code",
   "execution_count": null,
   "metadata": {
    "colab": {
     "base_uri": "https://localhost:8080/"
    },
    "id": "6RkgewnobFlG",
    "outputId": "2f5216b6-22c6-42c4-dc2b-61e7e08b4cd5"
   },
   "outputs": [],
   "source": [
    "#take the respective inputs\n",
    "n=(int(input()))\n",
    "m=(int(input()))\n",
    "l2=(float(input()))"
   ]
  },
  {
   "cell_type": "code",
   "execution_count": 82,
   "metadata": {
    "id": "PIsdJEjUbFlG"
   },
   "outputs": [],
   "source": [
    "#Apply the initializer in to a variable\n",
    "initializer=tf.keras.initializers.GlorotUniform(seed=32)"
   ]
  },
  {
   "cell_type": "code",
   "execution_count": 83,
   "metadata": {
    "id": "8ypuaBBDbFlH"
   },
   "outputs": [],
   "source": [
    "#apply the dense layer with the initializer and regularizer.\n",
    "layer = tf.keras.layers.Dense(# Complete Your code here,input_dim=5,kernel_initializer=tf.keras.initializers.GlorotUniform(seed=32),\n",
    "                              kernel_regularizer= # Complete Your code here )\n"
   ]
  },
  {
   "cell_type": "code",
   "execution_count": 84,
   "metadata": {
    "id": "1vqquBPWbFlI"
   },
   "outputs": [],
   "source": [
    "#create the tensor and apply the layer on it.\n",
    "tensor = # Complete Your code here\n",
    "out = layer(tensor)"
   ]
  },
  {
   "cell_type": "code",
   "execution_count": 1,
   "metadata": {
    "colab": {
     "base_uri": "https://localhost:8080/"
    },
    "id": "QMyVhbdPbFlI",
    "outputId": "b672f643-5cca-4e8e-fdd3-a1aca8969fdc"
   },
   "outputs": [],
   "source": [
    "#print the output\n",
    "                    # Complete Your code here"
   ]
  },
  {
   "cell_type": "code",
   "execution_count": null,
   "metadata": {},
   "outputs": [],
   "source": []
  }
 ],
 "metadata": {
  "accelerator": "GPU",
  "colab": {
   "collapsed_sections": [],
   "name": "tfc13q13.ipynb",
   "provenance": []
  },
  "kernelspec": {
   "display_name": "Python 3",
   "language": "python",
   "name": "python3"
  },
  "language_info": {
   "codemirror_mode": {
    "name": "ipython",
    "version": 3
   },
   "file_extension": ".py",
   "mimetype": "text/x-python",
   "name": "python",
   "nbconvert_exporter": "python",
   "pygments_lexer": "ipython3",
   "version": "3.8.5"
  }
 },
 "nbformat": 4,
 "nbformat_minor": 1
}

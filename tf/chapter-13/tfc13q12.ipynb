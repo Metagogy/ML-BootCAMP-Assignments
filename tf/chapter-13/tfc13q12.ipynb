{
 "cells": [
  {
   "cell_type": "markdown",
   "metadata": {
    "id": "8K5-xFjManjT"
   },
   "source": [
    "**Question:** Create a Dense layer with ‘n’ neurons, apply kernel initializer of RandomUniform with min ,max values given and also apply a regularizer of ‘l1’and create a tensor with a multiplier of ‘m’ and pass it through the layer and print the output.\n"
   ]
  },
  {
   "cell_type": "markdown",
   "metadata": {},
   "source": [
    "**Level :02**"
   ]
  },
  {
   "cell_type": "markdown",
   "metadata": {
    "id": "E-OBsO5zanjf"
   },
   "source": [
    "**Sample Input format:**\n",
    "\n",
    "Number\n",
    "\n",
    "Number\n",
    "\n",
    "Number\n",
    "\n",
    "Number\n",
    "\n",
    "Number\n",
    "\n",
    "Number\n",
    "\n",
    "**Sample Output format :**\n",
    "\n",
    "Tensor\n",
    "\n",
    "\n"
   ]
  },
  {
   "cell_type": "markdown",
   "metadata": {},
   "source": [
    "**Sample Input:**\n",
    "\n",
    "6<br/>\n",
    "2<br/>\n",
    "0.2<br/>\n",
    "0<br/>\n",
    "0.5\n"
   ]
  },
  {
   "cell_type": "markdown",
   "metadata": {},
   "source": [
    "**Sample Output:**\n",
    "\n",
    "tf.Tensor(<br/>[[3.1377742 2.3369114 2.4595098 3.0917711 2.450071  3.7301912]<br/>\n",
    " [3.1377742 2.3369114 2.4595098 3.0917711 2.450071  3.7301912]<br/>\n",
    " [3.1377742 2.3369114 2.4595098 3.0917711 2.450071  3.7301912]<br/>\n",
    " [3.1377742 2.3369114 2.4595098 3.0917711 2.450071  3.7301912]<br/>\n",
    " [3.1377742 2.3369114 2.4595098 3.0917711 2.450071  3.7301912]<br/>\n",
    " [3.1377742 2.3369114 2.4595098 3.0917711 2.450071  3.7301912]],shape=(6, 6), dtype=float32)\n"
   ]
  },
  {
   "cell_type": "code",
   "execution_count": null,
   "metadata": {
    "id": "fz7srX1Ranjh"
   },
   "outputs": [],
   "source": [
    "#start your code here"
   ]
  },
  {
   "cell_type": "code",
   "execution_count": null,
   "metadata": {
    "id": "ZOGTE4Ikanjh"
   },
   "outputs": [],
   "source": [
    "#import your library\n",
    "#complete your code here"
   ]
  },
  {
   "cell_type": "code",
   "execution_count": null,
   "metadata": {
    "colab": {
     "base_uri": "https://localhost:8080/"
    },
    "id": "LoeUA8l4anji",
    "outputId": "8d8b21cd-8391-44bf-acb7-f60ad7a3320a"
   },
   "outputs": [],
   "source": [
    "#take the respective inputs\n",
    "n=(#complete your code here)\n",
    "m=(#complete your code here)\n",
    "l1=(#complete your code here)\n",
    "min_val=(#complete your code here)\n",
    "max_val=(#complete your code here)"
   ]
  },
  {
   "cell_type": "code",
   "execution_count": null,
   "metadata": {
    "id": "M3K6T4Bwanji"
   },
   "outputs": [],
   "source": [
    "#Apply the initializer in to a variable\n",
    "initializer=#complete your code here"
   ]
  },
  {
   "cell_type": "code",
   "execution_count": null,
   "metadata": {
    "id": "fhCXKIhjanjj"
   },
   "outputs": [],
   "source": [
    "#apply the dense layer with the initializer and regularizer.\n",
    "layer = #complete your code here"
   ]
  },
  {
   "cell_type": "code",
   "execution_count": null,
   "metadata": {
    "id": "u5Zsw8Nhanjj"
   },
   "outputs": [],
   "source": [
    "#create the tensor and apply the layer on it.\n",
    "tensor =#complete your code here\n",
    "out = #complete your code here"
   ]
  },
  {
   "cell_type": "code",
   "execution_count": null,
   "metadata": {
    "colab": {
     "base_uri": "https://localhost:8080/"
    },
    "id": "uD432Eeuanjk",
    "outputId": "f2324be6-499a-4db4-9355-247b373029ef"
   },
   "outputs": [],
   "source": [
    "#print the output\n",
    "print(out)"
   ]
  },
  {
   "cell_type": "code",
   "execution_count": null,
   "metadata": {
    "id": "mMOfATh0awBU"
   },
   "outputs": [],
   "source": []
  }
 ],
 "metadata": {
  "accelerator": "GPU",
  "colab": {
   "collapsed_sections": [],
   "name": "tfc13q12.ipynb",
   "provenance": []
  },
  "kernelspec": {
   "display_name": "Python 3",
   "language": "python",
   "name": "python3"
  },
  "language_info": {
   "codemirror_mode": {
    "name": "ipython",
    "version": 3
   },
   "file_extension": ".py",
   "mimetype": "text/x-python",
   "name": "python",
   "nbconvert_exporter": "python",
   "pygments_lexer": "ipython3",
   "version": "3.7.3"
  }
 },
 "nbformat": 4,
 "nbformat_minor": 1
}

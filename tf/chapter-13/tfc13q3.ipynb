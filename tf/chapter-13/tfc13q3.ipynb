{
 "cells": [
  {
   "cell_type": "markdown",
   "metadata": {},
   "source": [
    "**Question** : Build, compile, train and evaluate multilayer perceptron with batch Normalization model to address two circles problem using SGD as optimizer and loss as binary categorical cross entropy.\n"
   ]
  },
  {
   "cell_type": "markdown",
   "metadata": {},
   "source": [
    "**Description** :\n",
    "\n",
    "* Develop a Multilayer Perceptron with batch Normalization model to address the two circles problem.\n",
    "\n",
    "* X, y = make_circles(n_samples=1000, noise=0.1, random_state=1)\n",
    "\n",
    "* Split the model by using training and testing\n",
    "\n",
    "* Build the model by using the Sequential model and adding the first activation as relu with dense layer having 50 neurons and the second layer has batch normalization and third activation function  as  sigmoid with dense layer having 1 neuron\n",
    "\n",
    "* Compile the model by using SGD optimizer and loss has Categorical_cross entropy\n",
    "\n",
    "* Fit or train the model by using with training, validation data, 100 Epochs, and 0 verbose\n",
    "\n",
    "* Evaluate the model using test set and print the test accuracy."
   ]
  },
  {
   "cell_type": "code",
   "execution_count": null,
   "metadata": {},
   "outputs": [],
   "source": [
    "# Start Your Code From Here."
   ]
  },
  {
   "cell_type": "code",
   "execution_count": null,
   "metadata": {},
   "outputs": [],
   "source": [
    "# Import requ ired libraries.\n",
    "\n",
    "import tensorflow as tf\n",
    "from sklearn.datasets import make_circles\n",
    "\n"
   ]
  },
  {
   "cell_type": "code",
   "execution_count": null,
   "metadata": {},
   "outputs": [],
   "source": [
    "# generate 2d classification dataset\n",
    "\n",
    "X, y = # Complete Your Code Here."
   ]
  },
  {
   "cell_type": "code",
   "execution_count": null,
   "metadata": {},
   "outputs": [],
   "source": [
    "# split into train and test\n",
    "\n",
    "n_train = 500\n",
    "trainX, testX = X[:n_train, :], X[n_train:, :]\n",
    "trainy, testy = y[:n_train], y[n_train:]"
   ]
  },
  {
   "cell_type": "code",
   "execution_count": null,
   "metadata": {},
   "outputs": [],
   "source": [
    "# define model\n",
    "\n",
    "model = # Complete Your Code Here.\n",
    "model.add(tf.keras.layers.Dense(# Complete Your Code Here.))\n",
    "model.add(tf.keras.layers.BatchNormalization())\n",
    "model.add(tf.keras.layers.Dense(# Complete Your Code Here.))"
   ]
  },
  {
   "cell_type": "code",
   "execution_count": null,
   "metadata": {},
   "outputs": [],
   "source": [
    "# Compile the model\n",
    "\n"
   ]
  },
  {
   "cell_type": "code",
   "execution_count": null,
   "metadata": {},
   "outputs": [],
   "source": [
    "# fit model\n",
    "\n",
    "history = model.fit(# Complete Your Code Here. , verbose=0);"
   ]
  },
  {
   "cell_type": "code",
   "execution_count": null,
   "metadata": {},
   "outputs": [],
   "source": [
    "# evaluate the model\n",
    "\n",
    "loss, test_acc = model.evaluate(# Complete Your Code Here., verbose=0)\n",
    "print(test_acc)"
   ]
  }
 ],
 "metadata": {
  "kernelspec": {
   "display_name": "Python 3",
   "language": "python",
   "name": "python3"
  },
  "language_info": {
   "codemirror_mode": {
    "name": "ipython",
    "version": 3
   },
   "file_extension": ".py",
   "mimetype": "text/x-python",
   "name": "python",
   "nbconvert_exporter": "python",
   "pygments_lexer": "ipython3",
   "version": "3.8.3"
  }
 },
 "nbformat": 4,
 "nbformat_minor": 4
}

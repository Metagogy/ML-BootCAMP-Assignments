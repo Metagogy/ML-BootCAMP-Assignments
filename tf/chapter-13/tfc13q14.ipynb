{
 "cells": [
  {
   "cell_type": "markdown",
   "metadata": {
    "id": "Qioe4-8bboad"
   },
   "source": [
    "**Question:** Create a Dense layer with ‘n’ neurons, apply kernel initializer of RandomNormal with mean ,std values given, add seed=42 and also apply a regularizer of ‘l1’and create a tensor with a multiplier of ‘m’ and pass it through the layer and print the output.\n"
   ]
  },
  {
   "cell_type": "markdown",
   "metadata": {},
   "source": [
    "**Level** : Medium"
   ]
  },
  {
   "cell_type": "markdown",
   "metadata": {
    "id": "dDkvBSuyboay"
   },
   "source": [
    "**Sample Input format:**\n",
    "\n",
    "Integer\n",
    "\n",
    "Integer\n",
    "\n",
    "Float\n",
    "\n",
    "Float\n",
    "\n",
    "Float\n",
    "\n",
    "**Sample Output format :**\n",
    "\n",
    "Tensor\n",
    "\n",
    "\n",
    "\n"
   ]
  },
  {
   "cell_type": "markdown",
   "metadata": {},
   "source": [
    "**Sample Input:**\n",
    "\n",
    "3 <br/> \n",
    "2 <br/>\n",
    "0.6  <br/>\n",
    "0.7  <br/>\n",
    "0.8\n"
   ]
  },
  {
   "cell_type": "markdown",
   "metadata": {},
   "source": [
    "**Sample Output:**\n",
    "\n",
    "tf.Tensor( <br/>\n",
    "[[ 6.586702   -0.36410856  2.891923  ]  <br/>\n",
    " [ 6.586702   -0.36410856  2.891923  ]  <br/>\n",
    " [ 6.586702   -0.36410856  2.891923  ]], shape=(3, 3), dtype=float32)"
   ]
  },
  {
   "cell_type": "markdown",
   "metadata": {},
   "source": [
    "**SOLUTION**"
   ]
  },
  {
   "cell_type": "code",
   "execution_count": null,
   "metadata": {
    "id": "fv5yPobeboaz"
   },
   "outputs": [],
   "source": [
    "#start your code here"
   ]
  },
  {
   "cell_type": "code",
   "execution_count": 7,
   "metadata": {
    "id": "EmhVwQ21boa1"
   },
   "outputs": [],
   "source": [
    "#import your library\n",
    "import tensorflow as tf"
   ]
  },
  {
   "cell_type": "code",
   "execution_count": null,
   "metadata": {
    "colab": {
     "base_uri": "https://localhost:8080/"
    },
    "id": "nqc0HNk_boa1",
    "outputId": "b1680aad-031b-4263-88ff-59ba907bf2bc"
   },
   "outputs": [],
   "source": [
    "#take the respective inputs\n",
    "n=(int(input()))\n",
    "m=(int(input()))\n",
    "l1=(float(input()))\n",
    "mean_val=(float(input()))\n",
    "std_val=(float(input()))"
   ]
  },
  {
   "cell_type": "code",
   "execution_count": 15,
   "metadata": {
    "id": "EAa_Exswboa2"
   },
   "outputs": [],
   "source": [
    "#Apply the initializer in to a variable\n",
    "initializer=tf.keras.initializers.RandomNormal(# Complete Your code here,seed=42)"
   ]
  },
  {
   "cell_type": "code",
   "execution_count": 16,
   "metadata": {
    "id": "pO-1pvDPboa3"
   },
   "outputs": [],
   "source": [
    "#apply the dense layer with the initializer and regularizer.\n",
    "layer = tf.keras.layers.Dense(# Complete Your code here, input_dim=5,kernel_initializer=initializer,\n",
    "                              kernel_regularizer=# Complete Your code here )\n"
   ]
  },
  {
   "cell_type": "code",
   "execution_count": 17,
   "metadata": {
    "id": "rd_MxOqbboa4"
   },
   "outputs": [],
   "source": [
    "#create the tensor and apply the layer on it.\n",
    "tensor = # Complete Your code here\n",
    "out = layer(tensor)"
   ]
  },
  {
   "cell_type": "code",
   "execution_count": 1,
   "metadata": {
    "colab": {
     "base_uri": "https://localhost:8080/"
    },
    "id": "oW933w9-boa4",
    "outputId": "7571c20e-f217-4f5d-a96e-5820a6e84a29"
   },
   "outputs": [],
   "source": [
    "#print the output\n",
    "                    # Complete Your code here"
   ]
  },
  {
   "cell_type": "code",
   "execution_count": null,
   "metadata": {},
   "outputs": [],
   "source": []
  }
 ],
 "metadata": {
  "accelerator": "GPU",
  "colab": {
   "collapsed_sections": [],
   "name": "tfc13q14.ipynb",
   "provenance": []
  },
  "kernelspec": {
   "display_name": "Python 3",
   "language": "python",
   "name": "python3"
  },
  "language_info": {
   "codemirror_mode": {
    "name": "ipython",
    "version": 3
   },
   "file_extension": ".py",
   "mimetype": "text/x-python",
   "name": "python",
   "nbconvert_exporter": "python",
   "pygments_lexer": "ipython3",
   "version": "3.8.5"
  }
 },
 "nbformat": 4,
 "nbformat_minor": 1
}

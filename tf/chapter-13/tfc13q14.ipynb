{
 "cells": [
  {
   "cell_type": "markdown",
   "metadata": {
    "id": "Qioe4-8bboad"
   },
   "source": [
    "**Question:** Create a Dense layer with ‘n’ neurons, apply kernel initializer of RandomNormal with mean ,std values given and also apply a regularizer of ‘l1’and create a tensor with a multiplier of ‘m’ and pass it through the layer and print the output.\n"
   ]
  },
  {
   "cell_type": "markdown",
   "metadata": {},
   "source": [
    "**Level :02**"
   ]
  },
  {
   "cell_type": "markdown",
   "metadata": {
    "id": "dDkvBSuyboay"
   },
   "source": [
    "**Sample Input format:**\n",
    "\n",
    "Number\n",
    "\n",
    "Number\n",
    "\n",
    "Number\n",
    "\n",
    "Number\n",
    "\n",
    "Number\n",
    "\n",
    "Number\n",
    "\n",
    "**Sample Output format :**\n",
    "\n",
    "Tensor\n",
    "\n",
    "\n"
   ]
  },
  {
   "cell_type": "markdown",
   "metadata": {},
   "source": [
    "**Sample Input:**\n",
    "\n",
    "6<br/>\n",
    "2<br/>\n",
    "0.2<br/>\n",
    "0.25<br/>\n",
    "0.5\n"
   ]
  },
  {
   "cell_type": "markdown",
   "metadata": {},
   "source": [
    "**Sample Output:**\n",
    "\n",
    "tf.Tensor(<br/>[[-0.8168278   4.8231363   4.915673   -0.07856029  4.2896585   3.322356  ]<br/>\n",
    " [-0.8168278   4.8231363   4.915673   -0.07856029  4.2896585   3.322356  ]<br/>\n",
    " [-0.8168278   4.8231363   4.915673   -0.07856029  4.2896585   3.322356  ]<br/>\n",
    " [-0.8168278   4.8231363   4.915673   -0.07856029  4.2896585   3.322356  ]<br/>\n",
    " [-0.8168278   4.8231363   4.915673   -0.07856029  4.2896585   3.322356  ]<br/>\n",
    " [-0.8168278   4.8231363   4.915673   -0.07856029  4.2896585   3.322356  ]],shape=(6, 6), dtype=float32)\n"
   ]
  },
  {
   "cell_type": "code",
   "execution_count": null,
   "metadata": {
    "id": "fv5yPobeboaz"
   },
   "outputs": [],
   "source": [
    "#start your code here"
   ]
  },
  {
   "cell_type": "code",
   "execution_count": null,
   "metadata": {
    "id": "EmhVwQ21boa1"
   },
   "outputs": [],
   "source": [
    "#import your library\n",
    "#complete your code here"
   ]
  },
  {
   "cell_type": "code",
   "execution_count": null,
   "metadata": {
    "colab": {
     "base_uri": "https://localhost:8080/"
    },
    "id": "nqc0HNk_boa1",
    "outputId": "b1680aad-031b-4263-88ff-59ba907bf2bc"
   },
   "outputs": [],
   "source": [
    "#take the respective inputs\n",
    "n=(#complete your code here)\n",
    "m=(#complete your code here)\n",
    "l1=(#complete your code here)\n",
    "mean_val=(#complete your code here)\n",
    "std_val=(#complete your code here)"
   ]
  },
  {
   "cell_type": "code",
   "execution_count": null,
   "metadata": {
    "id": "EAa_Exswboa2"
   },
   "outputs": [],
   "source": [
    "#Apply the initializer in to a variable\n",
    "initializer=#complete your code here"
   ]
  },
  {
   "cell_type": "code",
   "execution_count": null,
   "metadata": {
    "id": "pO-1pvDPboa3"
   },
   "outputs": [],
   "source": [
    "#apply the dense layer with the initializer and regularizer.\n",
    "layer = #complete your code here"
   ]
  },
  {
   "cell_type": "code",
   "execution_count": null,
   "metadata": {
    "id": "rd_MxOqbboa4"
   },
   "outputs": [],
   "source": [
    "#create the tensor and apply the layer on it.\n",
    "tensor = #complete your code here\n",
    "out = #complete your code here"
   ]
  },
  {
   "cell_type": "code",
   "execution_count": null,
   "metadata": {
    "colab": {
     "base_uri": "https://localhost:8080/"
    },
    "id": "oW933w9-boa4",
    "outputId": "7571c20e-f217-4f5d-a96e-5820a6e84a29"
   },
   "outputs": [],
   "source": [
    "#print the output\n",
    "print(out)"
   ]
  },
  {
   "cell_type": "code",
   "execution_count": null,
   "metadata": {
    "id": "c6jKfaBrb2re"
   },
   "outputs": [],
   "source": []
  }
 ],
 "metadata": {
  "accelerator": "GPU",
  "colab": {
   "collapsed_sections": [],
   "name": "tfc13q14.ipynb",
   "provenance": []
  },
  "kernelspec": {
   "display_name": "Python 3",
   "language": "python",
   "name": "python3"
  },
  "language_info": {
   "codemirror_mode": {
    "name": "ipython",
    "version": 3
   },
   "file_extension": ".py",
   "mimetype": "text/x-python",
   "name": "python",
   "nbconvert_exporter": "python",
   "pygments_lexer": "ipython3",
   "version": "3.7.3"
  }
 },
 "nbformat": 4,
 "nbformat_minor": 1
}

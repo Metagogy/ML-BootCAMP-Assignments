{
 "cells": [
  {
   "cell_type": "markdown",
   "metadata": {
    "id": "kIIeeiYhXsE-"
   },
   "source": [
    "**Question:** Apply a L1 regularization penalty by creating a tensor of ones with a shape given through input "
   ]
  },
  {
   "cell_type": "markdown",
   "metadata": {},
   "source": [
    "**Level :01**"
   ]
  },
  {
   "cell_type": "markdown",
   "metadata": {
    "id": "SlXV0oM7XsFB"
   },
   "source": [
    "**Sample Input format:**\n",
    "* Number\n",
    "* Number\n",
    "* Number\n",
    "\n",
    "**Sample Output format :**\n",
    "* Tensor\n",
    "\n",
    "\n"
   ]
  },
  {
   "cell_type": "markdown",
   "metadata": {},
   "source": [
    "**Sample Input:**\n",
    "\n",
    "6<br/>\n",
    "2<br/>\n",
    "0.2\n"
   ]
  },
  {
   "cell_type": "markdown",
   "metadata": {},
   "source": [
    "**Sample Output:**\n",
    "\n",
    "tf.Tensor(14.400001, shape=(), dtype=float32)\n"
   ]
  },
  {
   "cell_type": "code",
   "execution_count": null,
   "metadata": {
    "id": "nlyHwRwNXsFB"
   },
   "outputs": [],
   "source": [
    "#start your code here"
   ]
  },
  {
   "cell_type": "code",
   "execution_count": null,
   "metadata": {
    "id": "vXHPx1ncXsFC"
   },
   "outputs": [],
   "source": [
    "#import your library\n",
    "#complete your code here"
   ]
  },
  {
   "cell_type": "code",
   "execution_count": null,
   "metadata": {
    "colab": {
     "base_uri": "https://localhost:8080/"
    },
    "id": "8bkoVDAMXsFC",
    "outputId": "9fc42f8a-0697-4028-bafe-37563887f631"
   },
   "outputs": [],
   "source": [
    "#Take the respective inputs\n",
    "n=(#complete your code here)\n",
    "m=(#complete your code here)\n",
    "l1=(#complete your code here)"
   ]
  },
  {
   "cell_type": "code",
   "execution_count": null,
   "metadata": {
    "id": "ff_aMHmwXsFD"
   },
   "outputs": [],
   "source": [
    "# apply the regularizer\n",
    "regularizer =#complete your code here"
   ]
  },
  {
   "cell_type": "code",
   "execution_count": null,
   "metadata": {
    "id": "--0IQ3BkXsFD"
   },
   "outputs": [],
   "source": [
    "# Create the tensor and apply the regularizer on tensor.\n",
    "tensor = #complete your code here\n",
    "out=#complete your code here"
   ]
  },
  {
   "cell_type": "code",
   "execution_count": null,
   "metadata": {
    "colab": {
     "base_uri": "https://localhost:8080/"
    },
    "id": "2RJHjSrwXsFE",
    "outputId": "ba069c57-b88a-4e5f-8ac5-3cbebdcbdd3b"
   },
   "outputs": [],
   "source": [
    "#print the output\n",
    "print(out)"
   ]
  },
  {
   "cell_type": "code",
   "execution_count": null,
   "metadata": {
    "id": "jnJOg390XsFE"
   },
   "outputs": [],
   "source": []
  }
 ],
 "metadata": {
  "accelerator": "GPU",
  "colab": {
   "collapsed_sections": [],
   "name": "tfc13q6.ipynb",
   "provenance": []
  },
  "kernelspec": {
   "display_name": "Python 3",
   "language": "python",
   "name": "python3"
  },
  "language_info": {
   "codemirror_mode": {
    "name": "ipython",
    "version": 3
   },
   "file_extension": ".py",
   "mimetype": "text/x-python",
   "name": "python",
   "nbconvert_exporter": "python",
   "pygments_lexer": "ipython3",
   "version": "3.7.3"
  }
 },
 "nbformat": 4,
 "nbformat_minor": 1
}

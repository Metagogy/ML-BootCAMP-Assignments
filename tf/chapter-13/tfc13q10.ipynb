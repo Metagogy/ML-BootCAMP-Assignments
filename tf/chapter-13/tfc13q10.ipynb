{
 "cells": [
  {
   "cell_type": "markdown",
   "metadata": {
    "id": "z2gpnCceZqMn"
   },
   "source": [
    "**Question:** Create a dense layer with ‘n’ neurons and apply a L2 regularization penalty of ‘l2’ ,pass a tensor of shape(n,n) with a multiplier ‘2’ and print the result."
   ]
  },
  {
   "cell_type": "markdown",
   "metadata": {},
   "source": [
    "**Level** : Easy"
   ]
  },
  {
   "cell_type": "markdown",
   "metadata": {
    "id": "S8mGEFGaZqM1"
   },
   "source": [
    "**Sample Input format:**\n",
    "* Integer\n",
    "* Integer\n",
    "* Float\n",
    "\n",
    "**Sample Output format :**\n",
    "* Tensor\n",
    "\n",
    "\n"
   ]
  },
  {
   "cell_type": "markdown",
   "metadata": {},
   "source": [
    "**Sample Input:**\n",
    "\n",
    "6<br/>\n",
    "2<br/>\n",
    "0.2\n"
   ]
  },
  {
   "cell_type": "markdown",
   "metadata": {},
   "source": [
    "**Sample Output:**\n",
    "\n",
    "tf.Tensor(<br/>[[12. 12. 12. 12. 12. 12.]<br/> \n",
    " [12. 12. 12. 12. 12. 12.]<br/> \n",
    " [12. 12. 12. 12. 12. 12.]<br/> \n",
    " [12. 12. 12. 12. 12. 12.]<br/> \n",
    " [12. 12. 12. 12. 12. 12.]<br/>\n",
    " [12. 12. 12. 12. 12. 12.]],shape=(6, 6), dtype=float32)\n",
    "\n"
   ]
  },
  {
   "cell_type": "markdown",
   "metadata": {},
   "source": [
    "**SOLUTION**"
   ]
  },
  {
   "cell_type": "code",
   "execution_count": null,
   "metadata": {
    "id": "plZM6GcLZqM3"
   },
   "outputs": [],
   "source": [
    "#start your code here"
   ]
  },
  {
   "cell_type": "code",
   "execution_count": 1,
   "metadata": {
    "id": "nKkf-BsnZqM4"
   },
   "outputs": [],
   "source": [
    "#import your library\n",
    "import tensorflow as tf"
   ]
  },
  {
   "cell_type": "code",
   "execution_count": null,
   "metadata": {
    "colab": {
     "base_uri": "https://localhost:8080/"
    },
    "id": "vCO8FXGMZqM4",
    "outputId": "f7375f10-aca7-4a9b-b5b5-1c212c5bd2e6"
   },
   "outputs": [],
   "source": [
    "#Take the respective inputs\n",
    "n=(int(input()))\n",
    "m=(int(input()))\n",
    "l2=(float(input()))"
   ]
  },
  {
   "cell_type": "code",
   "execution_count": 13,
   "metadata": {
    "id": "8ADg4sUiZqM5"
   },
   "outputs": [],
   "source": [
    "2#Create a dense layer and use L1 reugalizer.\n",
    "layer = tf.keras.layers.Dense(# Complete Your code here , input_dim=5,kernel_initializer='ones',\n",
    "                              kernel_regularizer= # Complete Your code here\n"
   ]
  },
  {
   "cell_type": "code",
   "execution_count": 14,
   "metadata": {
    "id": "WqLhSkakZqM5"
   },
   "outputs": [],
   "source": [
    "# Create the tensor and apply the regularizer on tensor.\n",
    "tensor = # Complete Your code here\n",
    "out = layer(tensor)"
   ]
  },
  {
   "cell_type": "code",
   "execution_count": 1,
   "metadata": {
    "colab": {
     "base_uri": "https://localhost:8080/"
    },
    "id": "ok4v96XLZqM6",
    "outputId": "4396d0c5-5cd8-43c6-d909-1111fcae4675"
   },
   "outputs": [],
   "source": [
    "#print the output\n"
   ]
  },
  {
   "cell_type": "code",
   "execution_count": null,
   "metadata": {
    "id": "-xlKlCRsZxwi"
   },
   "outputs": [],
   "source": []
  }
 ],
 "metadata": {
  "accelerator": "GPU",
  "colab": {
   "collapsed_sections": [],
   "name": "tfc13q10.ipynb",
   "provenance": []
  },
  "kernelspec": {
   "display_name": "Python 3",
   "language": "python",
   "name": "python3"
  },
  "language_info": {
   "codemirror_mode": {
    "name": "ipython",
    "version": 3
   },
   "file_extension": ".py",
   "mimetype": "text/x-python",
   "name": "python",
   "nbconvert_exporter": "python",
   "pygments_lexer": "ipython3",
   "version": "3.8.5"
  }
 },
 "nbformat": 4,
 "nbformat_minor": 1
}

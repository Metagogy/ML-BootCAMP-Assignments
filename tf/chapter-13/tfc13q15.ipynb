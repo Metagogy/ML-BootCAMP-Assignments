{
 "cells": [
  {
   "cell_type": "markdown",
   "metadata": {
    "id": "hSuOvyPZcFCN"
   },
   "source": [
    "**Question:** Create a Dropout layer,and also create an array and reshape it , take an input to and apply the layer on this reshaped array and print the input and output."
   ]
  },
  {
   "cell_type": "markdown",
   "metadata": {},
   "source": [
    "**Level** : Medium"
   ]
  },
  {
   "cell_type": "markdown",
   "metadata": {
    "id": "xjC9qlOgcFCm"
   },
   "source": [
    "**Input format:**\n",
    "* Float\n",
    "* Integer\n",
    "\n",
    "**Output format:**\n",
    "\n",
    "* Numpy array\n",
    "* Tensor\n",
    "\n",
    "\n"
   ]
  },
  {
   "cell_type": "markdown",
   "metadata": {},
   "source": [
    "**Sample Input:**\n",
    "\n",
    "0.5<br/>\n",
    "20\n"
   ]
  },
  {
   "cell_type": "markdown",
   "metadata": {},
   "source": [
    "**Sample Output:**\n",
    "\n",
    "[[ 0.  1.] <br/> \n",
    " [ 2.  3.] <br/>\n",
    " [ 4.  5.] <br/>\n",
    " [ 6.  7.] <br/>\n",
    " [ 8.  9.] <br/>\n",
    " [10. 11.] <br/>\n",
    " [12. 13.] <br/>\n",
    " [14. 15.] <br/>\n",
    " [16. 17.] <br/>\n",
    " [18. 19.]] <br/>\n",
    "tf.Tensor(  <br/>\n",
    "[[ 0.  0.] <br/>\n",
    " [ 4.  6.] <br/>\n",
    " [ 0. 10.] <br/>\n",
    " [ 0. 14.] <br/>\n",
    " [16.  0.] <br/>\n",
    " [20. 22.] <br/>\n",
    " [24.  0.] <br/>\n",
    " [ 0. 30.] <br/>\n",
    " [32. 34.] <br/>\n",
    " [36.  0.]], shape=(10, 2), dtype=float32)"
   ]
  },
  {
   "cell_type": "markdown",
   "metadata": {},
   "source": [
    "**SOLUTION**"
   ]
  },
  {
   "cell_type": "code",
   "execution_count": null,
   "metadata": {
    "id": "BbNDKIS2cFCo"
   },
   "outputs": [],
   "source": [
    "#start your code here"
   ]
  },
  {
   "cell_type": "code",
   "execution_count": 32,
   "metadata": {
    "id": "YjkcQxTPcFCp"
   },
   "outputs": [],
   "source": [
    "#import your library\n",
    "import tensorflow as tf\n",
    "import numpy\n"
   ]
  },
  {
   "cell_type": "code",
   "execution_count": null,
   "metadata": {
    "colab": {
     "base_uri": "https://localhost:8080/"
    },
    "id": "AX6jS6a3cFCq",
    "outputId": "2a01fb56-df38-46ed-ae7e-f9c49cfeb872"
   },
   "outputs": [],
   "source": [
    "#take the respective inputs\n",
    "d=float(input())\n",
    "n=float(input())\n"
   ]
  },
  {
   "cell_type": "code",
   "execution_count": 66,
   "metadata": {},
   "outputs": [],
   "source": [
    "tf.random.set_seed(0)"
   ]
  },
  {
   "cell_type": "code",
   "execution_count": 67,
   "metadata": {
    "id": "5F_an_rVcFCr"
   },
   "outputs": [],
   "source": [
    "#Create a dropout layer\n",
    "layer = # Complete Your code here(d, input_shape=(2,))"
   ]
  },
  {
   "cell_type": "code",
   "execution_count": 68,
   "metadata": {
    "id": "afz30BxxcFCr"
   },
   "outputs": [],
   "source": [
    "#create an input array using numpy and reshape\n",
    "data = numpy.arange(n).reshape(int(n/2), 2).astype(numpy.float32)"
   ]
  },
  {
   "cell_type": "code",
   "execution_count": 69,
   "metadata": {
    "id": "AryIVe6ycFCs"
   },
   "outputs": [],
   "source": [
    "#Apply the layer\n",
    "outputs = layer(# Complete Your code here, training=True)"
   ]
  },
  {
   "cell_type": "code",
   "execution_count": null,
   "metadata": {
    "colab": {
     "base_uri": "https://localhost:8080/"
    },
    "id": "u-1R77HNcFCs",
    "outputId": "5865b098-3f9e-48cf-bc5e-ba3e2e1148d8"
   },
   "outputs": [],
   "source": [
    "# print the input and output.\n",
    "print(# Complete Your code here)\n",
    "print(# Complete Your code here)"
   ]
  },
  {
   "cell_type": "code",
   "execution_count": null,
   "metadata": {},
   "outputs": [],
   "source": []
  }
 ],
 "metadata": {
  "accelerator": "GPU",
  "colab": {
   "collapsed_sections": [],
   "name": "tfc13q15.ipynb",
   "provenance": []
  },
  "kernelspec": {
   "display_name": "Python 3",
   "language": "python",
   "name": "python3"
  },
  "language_info": {
   "codemirror_mode": {
    "name": "ipython",
    "version": 3
   },
   "file_extension": ".py",
   "mimetype": "text/x-python",
   "name": "python",
   "nbconvert_exporter": "python",
   "pygments_lexer": "ipython3",
   "version": "3.8.5"
  }
 },
 "nbformat": 4,
 "nbformat_minor": 1
}

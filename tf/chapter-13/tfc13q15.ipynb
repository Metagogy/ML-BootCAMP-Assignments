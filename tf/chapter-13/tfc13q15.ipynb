{
 "cells": [
  {
   "cell_type": "markdown",
   "metadata": {
    "id": "hSuOvyPZcFCN"
   },
   "source": [
    "**Question:** Create a Dropout layer,and also create an array and reshape it , take an input to and apply the layer on this reshaped array and print the input and output."
   ]
  },
  {
   "cell_type": "markdown",
   "metadata": {},
   "source": [
    "**Level :02**"
   ]
  },
  {
   "cell_type": "markdown",
   "metadata": {},
   "source": [
    "**Sample Input format:**\n",
    "* Number\n",
    "* Number\n",
    "\n",
    "**Sample Output format:**\n",
    "\n",
    "* Numpy array\n",
    "* Tensor\n"
   ]
  },
  {
   "cell_type": "markdown",
   "metadata": {},
   "source": [
    "**Sample Input:**\n",
    "\n",
    "0.5<br/>\n",
    "20\n"
   ]
  },
  {
   "cell_type": "markdown",
   "metadata": {},
   "source": [
    "**Sample Output:**\n",
    "\n",
    "[[ 0.  1.]<br/> [ 2.  3.]<br/>[ 4.  5.]<br/> [ 6.  7.]<br/>[ 8.  9.]<br/>[10. 11.]<br/> [12. 13.]<br/> [14. 15.]<br/>[16. 17.]<br/> [18. 19.]]<br/>\n",
    "tf.Tensor(<br/>[[ 0.  2.]<br/>[ 4.  6.]<br/> [ 0.  0.]<br/>[ 0. 14.]<br/> [16. 18.]<br/> [20. 22.]<br/> [ 0. 26.]<br/>[ 0. 30.]<br/> [ 0. 34.]<br/>[36. 38.]],shape=(10, 2), dtype=float32)\n"
   ]
  },
  {
   "cell_type": "code",
   "execution_count": null,
   "metadata": {
    "id": "BbNDKIS2cFCo"
   },
   "outputs": [],
   "source": [
    "#start your code here"
   ]
  },
  {
   "cell_type": "code",
   "execution_count": null,
   "metadata": {
    "id": "YjkcQxTPcFCp"
   },
   "outputs": [],
   "source": [
    "#import your libraries\n",
    "#complete your code here\n"
   ]
  },
  {
   "cell_type": "code",
   "execution_count": null,
   "metadata": {
    "colab": {
     "base_uri": "https://localhost:8080/"
    },
    "id": "AX6jS6a3cFCq",
    "outputId": "2a01fb56-df38-46ed-ae7e-f9c49cfeb872"
   },
   "outputs": [],
   "source": [
    "#take the respective inputs\n",
    "d=#complete your code here\n",
    "\n",
    "n=#complete your code here\n"
   ]
  },
  {
   "cell_type": "code",
   "execution_count": null,
   "metadata": {
    "id": "5F_an_rVcFCr"
   },
   "outputs": [],
   "source": [
    "#Create a dropout layer\n",
    "layer = #complete your code here"
   ]
  },
  {
   "cell_type": "code",
   "execution_count": null,
   "metadata": {
    "id": "afz30BxxcFCr"
   },
   "outputs": [],
   "source": [
    "#create an input array using numpy and reshape\n",
    "data = #complete your code here"
   ]
  },
  {
   "cell_type": "code",
   "execution_count": null,
   "metadata": {
    "id": "AryIVe6ycFCs"
   },
   "outputs": [],
   "source": [
    "#Apply the layer\n",
    "outputs = #complete your code here"
   ]
  },
  {
   "cell_type": "code",
   "execution_count": null,
   "metadata": {
    "colab": {
     "base_uri": "https://localhost:8080/"
    },
    "id": "u-1R77HNcFCs",
    "outputId": "5865b098-3f9e-48cf-bc5e-ba3e2e1148d8"
   },
   "outputs": [],
   "source": [
    "# print the input and output.\n",
    "print(data)\n",
    "print(outputs)"
   ]
  },
  {
   "cell_type": "code",
   "execution_count": null,
   "metadata": {
    "id": "6lOooGwYcTkD"
   },
   "outputs": [],
   "source": []
  }
 ],
 "metadata": {
  "accelerator": "GPU",
  "colab": {
   "collapsed_sections": [],
   "name": "tfc13q15.ipynb",
   "provenance": []
  },
  "kernelspec": {
   "display_name": "Python 3",
   "language": "python",
   "name": "python3"
  },
  "language_info": {
   "codemirror_mode": {
    "name": "ipython",
    "version": 3
   },
   "file_extension": ".py",
   "mimetype": "text/x-python",
   "name": "python",
   "nbconvert_exporter": "python",
   "pygments_lexer": "ipython3",
   "version": "3.7.3"
  }
 },
 "nbformat": 4,
 "nbformat_minor": 1
}

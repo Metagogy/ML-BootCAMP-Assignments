{
 "cells": [
  {
   "cell_type": "markdown",
   "metadata": {
    "id": "c5FpKTOrYnlO"
   },
   "source": [
    "**Question:** Apply a L1_ L2 regularization penalty by creating a tensor of ones with a shape given through input."
   ]
  },
  {
   "cell_type": "markdown",
   "metadata": {},
   "source": [
    "**Level :01**"
   ]
  },
  {
   "cell_type": "markdown",
   "metadata": {
    "id": "GxUEKanHYnlZ"
   },
   "source": [
    "**Sample Input format:**\n",
    "\n",
    "* Number\n",
    "* Number\n",
    "* Number\n",
    "* Number\n",
    "\n",
    "**Sample Output format :**\n",
    "\n",
    "* Tensor\n",
    "\n",
    "\n",
    "\n"
   ]
  },
  {
   "cell_type": "markdown",
   "metadata": {},
   "source": [
    "**Sample Input:**\n",
    "\n",
    "6<br/>\n",
    "2<br/>\n",
    "0.2<br/>\n",
    "0.15"
   ]
  },
  {
   "cell_type": "markdown",
   "metadata": {},
   "source": [
    "**Sample Output:**\n",
    "\n",
    "tf.Tensor(36.0, shape=(), dtype=float32)\n"
   ]
  },
  {
   "cell_type": "code",
   "execution_count": null,
   "metadata": {
    "id": "LJgJ2whHYnla"
   },
   "outputs": [],
   "source": [
    "#start your code here"
   ]
  },
  {
   "cell_type": "code",
   "execution_count": null,
   "metadata": {
    "id": "DXGQYQlEYnlb"
   },
   "outputs": [],
   "source": [
    "#import your library\n",
    "#complete your code here"
   ]
  },
  {
   "cell_type": "code",
   "execution_count": null,
   "metadata": {
    "colab": {
     "base_uri": "https://localhost:8080/"
    },
    "id": "p31gzYxDYnlc",
    "outputId": "a2df5117-890c-45b0-ae08-bfb590531052"
   },
   "outputs": [],
   "source": [
    "#Take the respective inputs\n",
    "n=(#complete your code here)\n",
    "m=(#complete your code here)\n",
    "l1=(#complete your code here)\n",
    "l2=(#complete your code here)"
   ]
  },
  {
   "cell_type": "code",
   "execution_count": null,
   "metadata": {
    "id": "QjRLmwfyYnlc"
   },
   "outputs": [],
   "source": [
    "# apply the regularizer\n",
    "regularizer = #complete your code here"
   ]
  },
  {
   "cell_type": "code",
   "execution_count": null,
   "metadata": {
    "id": "mkpuBYzQYnld"
   },
   "outputs": [],
   "source": [
    "# Create the tensor and apply the regularizer on tensor.\n",
    "tensor = #complete your code here\n",
    "out=#complete your code here"
   ]
  },
  {
   "cell_type": "code",
   "execution_count": null,
   "metadata": {
    "colab": {
     "base_uri": "https://localhost:8080/"
    },
    "id": "PyUkBg6mYnld",
    "outputId": "f28b31d0-0a23-41e7-dd08-c95a9ea485e4"
   },
   "outputs": [],
   "source": [
    "#print the output\n",
    "print(out)"
   ]
  },
  {
   "cell_type": "code",
   "execution_count": null,
   "metadata": {
    "id": "eWW3H-abYnld"
   },
   "outputs": [],
   "source": []
  }
 ],
 "metadata": {
  "accelerator": "GPU",
  "colab": {
   "collapsed_sections": [],
   "name": "tfc13q8.ipynb",
   "provenance": []
  },
  "kernelspec": {
   "display_name": "Python 3",
   "language": "python",
   "name": "python3"
  },
  "language_info": {
   "codemirror_mode": {
    "name": "ipython",
    "version": 3
   },
   "file_extension": ".py",
   "mimetype": "text/x-python",
   "name": "python",
   "nbconvert_exporter": "python",
   "pygments_lexer": "ipython3",
   "version": "3.7.3"
  }
 },
 "nbformat": 4,
 "nbformat_minor": 1
}

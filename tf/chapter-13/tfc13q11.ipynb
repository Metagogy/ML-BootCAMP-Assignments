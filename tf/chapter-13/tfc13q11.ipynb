{
 "cells": [
  {
   "cell_type": "markdown",
   "metadata": {
    "id": "_s4TAETqaMOK"
   },
   "source": [
    "**Question:** Create a dense layer with ‘n’ neurons and apply a L1_L2 regularization penalty of 'l1',‘l2’ ,pass a tensor of shape(n,n) with a multiplier ‘m’ and print the result."
   ]
  },
  {
   "cell_type": "markdown",
   "metadata": {},
   "source": [
    "**Level** : Medium"
   ]
  },
  {
   "cell_type": "markdown",
   "metadata": {
    "id": "O3RtBqpTaMOZ"
   },
   "source": [
    "**Input format:**\n",
    "* Integer\n",
    "* Integer\n",
    "* Float\n",
    "* Float\n",
    "\n",
    "**Output format :**\n",
    "* Tensor\n",
    "\n",
    "\n",
    "\n",
    "\n"
   ]
  },
  {
   "cell_type": "markdown",
   "metadata": {},
   "source": [
    "**Sample Input:**\n",
    "\n",
    "6<br/>\n",
    "2<br/>\n",
    "0.2<br/>\n",
    "0.15"
   ]
  },
  {
   "cell_type": "markdown",
   "metadata": {},
   "source": [
    "**Sample Output:**\n",
    "\n",
    "tf.Tensor(<br/>[[12. 12. 12. 12. 12. 12.]<br/> \n",
    " [12. 12. 12. 12. 12. 12.]<br/> \n",
    " [12. 12. 12. 12. 12. 12.]<br/> \n",
    " [12. 12. 12. 12. 12. 12.]<br/> \n",
    " [12. 12. 12. 12. 12. 12.]<br/> \n",
    " [12. 12. 12. 12. 12. 12.]],shape=(6, 6), dtype=float32)\n"
   ]
  },
  {
   "cell_type": "markdown",
   "metadata": {},
   "source": [
    "**SOLUTION**"
   ]
  },
  {
   "cell_type": "code",
   "execution_count": null,
   "metadata": {
    "id": "stBVuS-yaMOa"
   },
   "outputs": [],
   "source": [
    "#start your code here"
   ]
  },
  {
   "cell_type": "code",
   "execution_count": 4,
   "metadata": {
    "id": "YHY2HRpwaMOc"
   },
   "outputs": [],
   "source": [
    "#import your library\n",
    "import tensorflow as tf"
   ]
  },
  {
   "cell_type": "code",
   "execution_count": null,
   "metadata": {
    "colab": {
     "base_uri": "https://localhost:8080/"
    },
    "id": "5krULnB6aMOc",
    "outputId": "072d4c34-cc79-4c61-8268-390998b3ccab"
   },
   "outputs": [],
   "source": [
    "#Take the respective inputs\n",
    "n=(int(input()))\n",
    "m=(int(input()))\n",
    "l1=(float(input()))\n",
    "l2=(float(input()))"
   ]
  },
  {
   "cell_type": "code",
   "execution_count": 14,
   "metadata": {
    "id": "cUGv9y6ZaMOd"
   },
   "outputs": [],
   "source": [
    "#Create a dense layer and use L1 reugalizer.\n",
    "layer = tf.keras.layers.Dense(# Complete Your code here , input_dim=5,kernel_initializer='ones',\n",
    "                              kernel_regularizer= # Complete Your code here\n"
   ]
  },
  {
   "cell_type": "code",
   "execution_count": 15,
   "metadata": {
    "id": "qQQqHLh2aMOd"
   },
   "outputs": [],
   "source": [
    "# Create the tensor and apply the regularizer on tensor.\n",
    "tensor = # Complete Your code here\n",
    "out = layer(tensor)"
   ]
  },
  {
   "cell_type": "code",
   "execution_count": 1,
   "metadata": {
    "colab": {
     "base_uri": "https://localhost:8080/"
    },
    "id": "W-dqAv3YaMOe",
    "outputId": "21ddcd19-4db3-4ffd-b3cb-f59b69eadf91",
    "scrolled": true
   },
   "outputs": [],
   "source": [
    "#print the output\n"
   ]
  },
  {
   "cell_type": "code",
   "execution_count": null,
   "metadata": {
    "id": "oY0MK6LwaYWD"
   },
   "outputs": [],
   "source": []
  }
 ],
 "metadata": {
  "accelerator": "GPU",
  "colab": {
   "collapsed_sections": [],
   "name": "tfc13q11.ipynb",
   "provenance": []
  },
  "kernelspec": {
   "display_name": "Python 3",
   "language": "python",
   "name": "python3"
  },
  "language_info": {
   "codemirror_mode": {
    "name": "ipython",
    "version": 3
   },
   "file_extension": ".py",
   "mimetype": "text/x-python",
   "name": "python",
   "nbconvert_exporter": "python",
   "pygments_lexer": "ipython3",
   "version": "3.8.5"
  }
 },
 "nbformat": 4,
 "nbformat_minor": 1
}

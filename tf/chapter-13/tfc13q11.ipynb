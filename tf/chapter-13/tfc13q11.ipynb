{
 "cells": [
  {
   "cell_type": "markdown",
   "metadata": {
    "id": "_s4TAETqaMOK"
   },
   "source": [
    "**Question:** Create a dense layer with ‘n’ neurons and apply a L1_L2 regularization penalty of 'l1',‘l2’ ,pass a tensor of shape(n,n) with a multiplier ‘m’ and print the result."
   ]
  },
  {
   "cell_type": "markdown",
   "metadata": {},
   "source": [
    "**Level :02**"
   ]
  },
  {
   "cell_type": "markdown",
   "metadata": {
    "id": "O3RtBqpTaMOZ"
   },
   "source": [
    "**Sample Input format:**\n",
    "* Number\n",
    "* Number\n",
    "* Number\n",
    "* Number\n",
    "\n",
    "**Sample Output format :**\n",
    "* Tensor\n"
   ]
  },
  {
   "cell_type": "markdown",
   "metadata": {},
   "source": [
    "**Sample Input:**\n",
    "\n",
    "6<br/>\n",
    "2<br/>\n",
    "0.2<br/>\n",
    "0.15"
   ]
  },
  {
   "cell_type": "markdown",
   "metadata": {},
   "source": [
    "**Sample Output:**\n",
    "\n",
    "tf.Tensor(<br/>[[12. 12. 12. 12. 12. 12.]<br/> \n",
    " [12. 12. 12. 12. 12. 12.]<br/> \n",
    " [12. 12. 12. 12. 12. 12.]<br/> \n",
    " [12. 12. 12. 12. 12. 12.]<br/> \n",
    " [12. 12. 12. 12. 12. 12.]<br/> \n",
    " [12. 12. 12. 12. 12. 12.]],shape=(6, 6), dtype=float32)"
   ]
  },
  {
   "cell_type": "code",
   "execution_count": null,
   "metadata": {
    "id": "stBVuS-yaMOa"
   },
   "outputs": [],
   "source": [
    "#start your code here"
   ]
  },
  {
   "cell_type": "code",
   "execution_count": null,
   "metadata": {
    "id": "YHY2HRpwaMOc"
   },
   "outputs": [],
   "source": [
    "#import your library\n",
    "#complete your code here"
   ]
  },
  {
   "cell_type": "code",
   "execution_count": null,
   "metadata": {
    "colab": {
     "base_uri": "https://localhost:8080/"
    },
    "id": "5krULnB6aMOc",
    "outputId": "072d4c34-cc79-4c61-8268-390998b3ccab"
   },
   "outputs": [],
   "source": [
    "#Take the respective inputs\n",
    "n=(#complete your code here)\n",
    "m=(#complete your code here)\n",
    "l1=(#complete your code here)\n",
    "l2=(#complete your code here)"
   ]
  },
  {
   "cell_type": "code",
   "execution_count": null,
   "metadata": {
    "id": "cUGv9y6ZaMOd"
   },
   "outputs": [],
   "source": [
    "#Create a dense layer and use L1 reugalizer.\n",
    "layer = #complete your code here"
   ]
  },
  {
   "cell_type": "code",
   "execution_count": null,
   "metadata": {
    "id": "qQQqHLh2aMOd"
   },
   "outputs": [],
   "source": [
    "# Create the tensor and apply the regularizer on tensor.\n",
    "tensor = #complete your code here\n",
    "out = #complete your code here"
   ]
  },
  {
   "cell_type": "code",
   "execution_count": null,
   "metadata": {
    "colab": {
     "base_uri": "https://localhost:8080/"
    },
    "id": "W-dqAv3YaMOe",
    "outputId": "21ddcd19-4db3-4ffd-b3cb-f59b69eadf91"
   },
   "outputs": [],
   "source": [
    "#print the output\n",
    "print(out)"
   ]
  },
  {
   "cell_type": "code",
   "execution_count": null,
   "metadata": {
    "id": "oY0MK6LwaYWD"
   },
   "outputs": [],
   "source": []
  }
 ],
 "metadata": {
  "accelerator": "GPU",
  "colab": {
   "collapsed_sections": [],
   "name": "tfc13q11.ipynb",
   "provenance": []
  },
  "kernelspec": {
   "display_name": "Python 3",
   "language": "python",
   "name": "python3"
  },
  "language_info": {
   "codemirror_mode": {
    "name": "ipython",
    "version": 3
   },
   "file_extension": ".py",
   "mimetype": "text/x-python",
   "name": "python",
   "nbconvert_exporter": "python",
   "pygments_lexer": "ipython3",
   "version": "3.7.3"
  }
 },
 "nbformat": 4,
 "nbformat_minor": 1
}

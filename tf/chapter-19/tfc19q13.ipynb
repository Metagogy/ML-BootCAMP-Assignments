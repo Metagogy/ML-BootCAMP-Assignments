{
 "cells": [
  {
   "cell_type": "markdown",
   "metadata": {
    "id": "-n66dJTtYXnk"
   },
   "source": [
    "**Question**: Load, Split and normalize the mnist dataset. Build, compile and train the model using SGD optimizer, loss as \"Categorical_crossentropy\"."
   ]
  },
  {
   "cell_type": "markdown",
   "metadata": {
    "id": "Nbz_5-akYXno"
   },
   "source": [
    "**Description:**  \n",
    "* Load the mnist dataset using inbuilt dataset function and split into training and testing images.\n",
    "\n",
    "\n",
    "* Normalize the dataset images by dividing it with 255 for train and test images. \n",
    "\n",
    "\n",
    "* Build the mnist dataset model by using a sequential API and adding the first LSTM  layer with\n",
    " 64 neurons and relu activation with input shape as x_train.shape,  return_sequences as True \n",
    " \n",
    "* Second layerwith LSTM having 128 neurons and activation as relu, Third layer as dropout with 0.2 , and the last layer is dense with 10 neurons with softmax activation as output layer. \n",
    " \n",
    " \n",
    "* Compile the model using ‘SGD’ optimizer, loss as \"categorical_crossentropy\" and train the model using 3 epochs and\n",
    "\n",
    " validation data has testing values.\n",
    "\n",
    "\n",
    "\n",
    "\n"
   ]
  },
  {
   "cell_type": "code",
   "execution_count": null,
   "metadata": {
    "id": "KE2oQ1ZFYXn2"
   },
   "outputs": [],
   "source": [
    "# Start Your Code Here."
   ]
  },
  {
   "cell_type": "code",
   "execution_count": null,
   "metadata": {
    "id": "_v3fcFmkYXn3"
   },
   "outputs": [],
   "source": [
    "# Import Libraries.\n",
    "import tensorflow as  tf\n",
    "import keras\n",
    "from keras.models import Sequential\n",
    "from keras.layers import Dense, Dropout, LSTM\n",
    "from keras.utils import to_categorical\n",
    "from keras.datasets import mnist\n",
    " \n"
   ]
  },
  {
   "cell_type": "code",
   "execution_count": null,
   "metadata": {
    "colab": {
     "base_uri": "https://localhost:8080/"
    },
    "id": "YReZW5DmYXn4",
    "outputId": "9091bba7-b1bd-44a2-9546-94d6904a68fa"
   },
   "outputs": [],
   "source": [
    "# train test split\n",
    "(x_train, y_train), (x_test, y_test) =# Complete your code here"
   ]
  },
  {
   "cell_type": "code",
   "execution_count": null,
   "metadata": {
    "id": "E-P4YBKaYXn4"
   },
   "outputs": [],
   "source": [
    "# normalize\n",
    "x_train = # Complete your code here\n",
    "x_test = # Complete your code here"
   ]
  },
  {
   "cell_type": "code",
   "execution_count": null,
   "metadata": {
    "id": "jDeDN_8WYXn5"
   },
   "outputs": [],
   "source": [
    "#to categorical\n",
    "y_train=# Complete your code here\n",
    "y_test=# Complete your code here"
   ]
  },
  {
   "cell_type": "code",
   "execution_count": null,
   "metadata": {
    "id": "Q5v0ofCIYXn5"
   },
   "outputs": [],
   "source": [
    "# build model\n",
    "model = # Complete your code here\n",
    "model.add(# Complete your code here)\n",
    "model.add(# Complete your code here)\n",
    "model.add(Dropout(0.2))\n",
    "model.add(# Complete your code here)\n",
    "\n"
   ]
  },
  {
   "cell_type": "code",
   "execution_count": null,
   "metadata": {
    "id": "uuPTFF9jYXn6"
   },
   "outputs": [],
   "source": [
    "# compile the model\n"
   ]
  },
  {
   "cell_type": "code",
   "execution_count": null,
   "metadata": {
    "id": "j2klOQmXYXn6"
   },
   "outputs": [],
   "source": [
    "# fit or train the model\n",
    "model.fit(# Complete your code here,verbose=0);"
   ]
  },
  {
   "cell_type": "code",
   "execution_count": null,
   "metadata": {
    "id": "l44KaZuPYXn7"
   },
   "outputs": [],
   "source": [
    "# evaluate The model\n",
    "los,acc=model.evaluate(# Complete your code here,verbose=0);\n",
    " \n"
   ]
  },
  {
   "cell_type": "code",
   "execution_count": null,
   "metadata": {
    "colab": {
     "base_uri": "https://localhost:8080/"
    },
    "id": "QH4RjCopYXn7",
    "outputId": "90c8f520-d6d4-4f87-c1ad-4fd53d600d0a"
   },
   "outputs": [],
   "source": [
    "# Print Accuracy\n"
   ]
  },
  {
   "cell_type": "code",
   "execution_count": null,
   "metadata": {
    "id": "k2dGrJ8WYXn8"
   },
   "outputs": [],
   "source": []
  }
 ],
 "metadata": {
  "colab": {
   "collapsed_sections": [],
   "name": "tfc19q13.ipynb",
   "provenance": []
  },
  "kernelspec": {
   "display_name": "Python 3",
   "language": "python",
   "name": "python3"
  },
  "language_info": {
   "codemirror_mode": {
    "name": "ipython",
    "version": 3
   },
   "file_extension": ".py",
   "mimetype": "text/x-python",
   "name": "python",
   "nbconvert_exporter": "python",
   "pygments_lexer": "ipython3",
   "version": "3.7.3"
  }
 },
 "nbformat": 4,
 "nbformat_minor": 1
}

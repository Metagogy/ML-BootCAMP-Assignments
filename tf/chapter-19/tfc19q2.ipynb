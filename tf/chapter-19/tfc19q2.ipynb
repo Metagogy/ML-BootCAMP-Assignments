{
 "cells": [
  {
   "cell_type": "markdown",
   "metadata": {},
   "source": [
    "**Question** : Load, Split, and normalize the mnist dataset. Build, compile, and train the model using SGD optimizer, loss as \"Sparse_categorical_crossentropy.\"\n"
   ]
  },
  {
   "cell_type": "markdown",
   "metadata": {},
   "source": [
    "**Description** : \n",
    "\n",
    "* Load the mnist dataset using inbuilt dataset function and split into training and testing images.\n",
    "\n",
    "* Normalize the dataset images by dividing it with 255 for train and test images. \n",
    "\n",
    "* Build the mnist dataset model by using a sequential API and adding the first LSTM layer with 128 neurons and relu activation with input shape as x_train. Second layer with dropout has 0.2 neurons. The third layer has LSTM layer with 128 neurons and relu activation function and the fourth layer with dropout has 0.2. Fifth layer has a dense layer having 32 neurons with relu activation and the next layer has a dropout of 0.2. And the last layer is dense with 10 neurons with softmax activation as output layer. \n",
    "\n",
    "* Compile the model using ‘sgd’ optimizer, loss as \"Sparse_categorical_crossentropy\" and train the model using 3 epochs and validation data has testing values.\n",
    "\n",
    "* Evaluate and print the accuracy."
   ]
  },
  {
   "cell_type": "code",
   "execution_count": null,
   "metadata": {},
   "outputs": [],
   "source": [
    "# Start Your Code From Here."
   ]
  },
  {
   "cell_type": "code",
   "execution_count": null,
   "metadata": {},
   "outputs": [],
   "source": [
    "# Import Libraries.\n",
    "\n",
    "import tensorflow as  tf\n",
    "from tensorflow.keras.models import Sequential\n",
    "from tensorflow.keras.layers import Dense, Dropout, LSTM"
   ]
  },
  {
   "cell_type": "code",
   "execution_count": null,
   "metadata": {},
   "outputs": [],
   "source": [
    "# Load mnist data.\n",
    "\n",
    "(x_train, y_train), (x_test, y_test) = # Complete Your Code Here."
   ]
  },
  {
   "cell_type": "code",
   "execution_count": null,
   "metadata": {},
   "outputs": [],
   "source": [
    "# Normalize train and test data.\n",
    "\n",
    "x_train = # Complete Your Code Here.\n",
    "x_test = # Complete Your Code Here."
   ]
  },
  {
   "cell_type": "code",
   "execution_count": null,
   "metadata": {},
   "outputs": [],
   "source": [
    "# build model\n",
    "\n",
    "model = # Complete Your Code Here.\n",
    "model.add(# Complete Your Code Here.))\n",
    "model.add(Dropout(0.2))\n",
    "\n",
    "model.add(# Complete Your Code Here. )\n",
    "model.add(Dropout(0.2))\n",
    "\n",
    "model.add(# Complete Your Code Here.  )\n",
    "model.add(Dropout(0.2))\n",
    "\n",
    "model.add(# Complete Your Code Here. ) "
   ]
  },
  {
   "cell_type": "code",
   "execution_count": null,
   "metadata": {},
   "outputs": [],
   "source": [
    "# Compile model.\n",
    "\n"
   ]
  },
  {
   "cell_type": "code",
   "execution_count": null,
   "metadata": {},
   "outputs": [],
   "source": [
    "# Train the model.\n",
    "\n",
    "model.fit(# Complete Your Code Here., \n",
    "        validation_data=(x_test, y_test),\n",
    "        verbose=0);"
   ]
  },
  {
   "cell_type": "code",
   "execution_count": null,
   "metadata": {},
   "outputs": [],
   "source": [
    "#Evaluate with the test data.\n",
    "\n",
    "score = model.evaluate(# Complete Your Code Here.,\n",
    "                       verbose=0)"
   ]
  },
  {
   "cell_type": "code",
   "execution_count": null,
   "metadata": {},
   "outputs": [],
   "source": [
    "# Print the accuracy.\n",
    "\n"
   ]
  }
 ],
 "metadata": {
  "kernelspec": {
   "display_name": "Python 3",
   "language": "python",
   "name": "python3"
  },
  "language_info": {
   "codemirror_mode": {
    "name": "ipython",
    "version": 3
   },
   "file_extension": ".py",
   "mimetype": "text/x-python",
   "name": "python",
   "nbconvert_exporter": "python",
   "pygments_lexer": "ipython3",
   "version": "3.8.3"
  }
 },
 "nbformat": 4,
 "nbformat_minor": 2
}

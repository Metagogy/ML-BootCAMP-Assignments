{
 "cells": [
  {
   "cell_type": "markdown",
   "metadata": {},
   "source": [
    "**Question** : Build a Text classification with an Bidirectional RNN by using IMDB large movie review dataset"
   ]
  },
  {
   "cell_type": "markdown",
   "metadata": {},
   "source": [
    "**Description** : \n",
    "* The dataset is inbuilt data you can download it by using \n",
    "  tensorflow_datasets as tfds\n",
    "\n",
    "* Load the imdb dataset  using with tensorflow datasets as tfds and split the dataset into train and test\n",
    "\n",
    "* Build the model with Sequential API and add the first layer as Embedding with 64 neurons and next layer as bidirectional  with   64 neurons and add the next  activation function as Relu with Dense layer having 64 neurons and last layer as Dense with 1       neuron.\n",
    "\n",
    "* Compile the model with loss function as Binary cross entropy and Adam optimizer with metrics as Accuracy\n",
    "\n",
    "* Fit or Train the model with training set, Epochs , validation data with testing set and validation steps as 30\n",
    "\n",
    "* Evaluate the model with testing dataset"
   ]
  },
  {
   "cell_type": "code",
   "execution_count": null,
   "metadata": {},
   "outputs": [],
   "source": [
    "# Start Your Code from Here."
   ]
  },
  {
   "cell_type": "code",
   "execution_count": null,
   "metadata": {
    "code_folding": []
   },
   "outputs": [],
   "source": [
    "# Import Required Libraries.\n",
    "\n"
   ]
  },
  {
   "cell_type": "code",
   "execution_count": null,
   "metadata": {
    "code_folding": [],
    "deletable": false,
    "editable": false
   },
   "outputs": [],
   "source": [
    "import tensorflow_datasets as tfds\n",
    "tfds.disable_progress_bar()"
   ]
  },
  {
   "cell_type": "code",
   "execution_count": null,
   "metadata": {
    "code_folding": []
   },
   "outputs": [],
   "source": [
    "# Load dataset.\n",
    "\n",
    "dataset, info = tfds.load('imdb_reviews', with_info=True,as_supervised=True)\n",
    "train, test = # Complete Your Code Here."
   ]
  },
  {
   "cell_type": "code",
   "execution_count": null,
   "metadata": {
    "code_folding": []
   },
   "outputs": [],
   "source": [
    "# Define train and test datasets.\n",
    "\n",
    "BUFFER_SIZE = 10000\n",
    "BATCH_SIZE = 64\n",
    "\n",
    "train_dataset = train.shuffle(BUFFER_SIZE).batch(BATCH_SIZE).prefetch(tf.data.experimental.AUTOTUNE)\n",
    "test_dataset = test.batch(BATCH_SIZE).prefetch(tf.data.experimental.AUTOTUNE)"
   ]
  },
  {
   "cell_type": "code",
   "execution_count": null,
   "metadata": {
    "code_folding": []
   },
   "outputs": [],
   "source": [
    "# Encoding.\n",
    "\n",
    "for example, label in train_dataset.take(1):\n",
    "    pass\n",
    "VOCAB_SIZE=1000\n",
    "encoder = tf.keras.layers.experimental.preprocessing.TextVectorization(# Complete Your Code Here. )\n",
    "encoder.adapt(train_dataset.map(lambda text, label: text))\n",
    "\n",
    "vocab = np.array(# Complete Your Code Here. )\n",
    "\n",
    "encoded = encoder(example)[:3].numpy()"
   ]
  },
  {
   "cell_type": "code",
   "execution_count": null,
   "metadata": {
    "code_folding": []
   },
   "outputs": [],
   "source": [
    "# Build model.\n",
    "\n",
    "model = tf.keras.Sequential([\n",
    "    encoder,\n",
    "    tf.keras.layers.Embedding( # Complete Your Code Here. ),\n",
    "    tf.keras.layers.Bidirectional(tf.keras.layers.LSTM(# Complete Your Code Here.)),\n",
    "    tf.keras.layers.Dense(# Complete Your Code Here. ),\n",
    "    tf.keras.layers.Dense(# Complete Your Code Here. )\n",
    "])"
   ]
  },
  {
   "cell_type": "code",
   "execution_count": null,
   "metadata": {
    "code_folding": []
   },
   "outputs": [],
   "source": [
    "# Compile.\n",
    "\n"
   ]
  },
  {
   "cell_type": "code",
   "execution_count": null,
   "metadata": {
    "code_folding": []
   },
   "outputs": [],
   "source": [
    "# Train model.\n",
    "history = model.fit(# Complete Your Code Here. , \n",
    "                    validation_steps=30,verbose=0);"
   ]
  },
  {
   "cell_type": "code",
   "execution_count": null,
   "metadata": {
    "code_folding": []
   },
   "outputs": [],
   "source": [
    "# Evaluate with test data and print accuracy.\n",
    "\n",
    "test_loss, test_acc = model.evaluate(# Complete Your Code Here.  , \n",
    "                                     verbose=0 )\n",
    "\n",
    "print(test_acc)"
   ]
  }
 ],
 "metadata": {
  "kernelspec": {
   "display_name": "Python 3",
   "language": "python",
   "name": "python3"
  },
  "language_info": {
   "codemirror_mode": {
    "name": "ipython",
    "version": 3
   },
   "file_extension": ".py",
   "mimetype": "text/x-python",
   "name": "python",
   "nbconvert_exporter": "python",
   "pygments_lexer": "ipython3",
   "version": "3.8.3"
  }
 },
 "nbformat": 4,
 "nbformat_minor": 2
}

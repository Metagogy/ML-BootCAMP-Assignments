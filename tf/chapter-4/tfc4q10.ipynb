{
 "cells": [
  {
   "cell_type": "markdown",
   "metadata": {},
   "source": [
    "**Question**: Create a Temperature class. Make two methods :\n",
    "\n",
    "1. convertCelsius - It will take Fahrenheit and will convert it into Celsius.\n",
    "2. convertFahrenheit - It will take celsius and will print it into Fahrenheit."
   ]
  },
  {
   "cell_type": "markdown",
   "metadata": {},
   "source": [
    "**Level**: Medium"
   ]
  },
  {
   "cell_type": "markdown",
   "metadata": {},
   "source": [
    "**Input Format**:\n",
    "\n",
    "First-line: Value in Fahrenheit.\n",
    "\n",
    "Second-line: Value in Celsius."
   ]
  },
  {
   "cell_type": "markdown",
   "metadata": {},
   "source": [
    "**Output Format**:\n",
    "\n",
    "First-line: Converted value from Fahrenheit to Celsius.\n",
    "\n",
    "Second-line: Converted value from Celsius to Fahrenheit."
   ]
  },
  {
   "cell_type": "markdown",
   "metadata": {},
   "source": [
    "**Sample Input** :  \t\n",
    "\n",
    "Enter Value in °F: 98.6\n",
    "\n",
    "Enter Value in °C: 37.0"
   ]
  },
  {
   "cell_type": "markdown",
   "metadata": {},
   "source": [
    "**Sample Output**:   \n",
    "\n",
    "Celsius : 37.0 °C\n",
    "\n",
    "Fahrenheit : 98.6 °F"
   ]
  },
  {
   "cell_type": "markdown",
   "metadata": {},
   "source": [
    "**Explanation** :\n",
    "\n",
    "Converting Fahrenheit to Celsius:\n",
    "             \n",
    "            (°F-32)*(5/9)\n",
    "\n",
    "Converting Celsius to Fahrenheit:\n",
    "\n",
    "            (°C*(9/5)) +32"
   ]
  },
  {
   "cell_type": "code",
   "execution_count": null,
   "metadata": {},
   "outputs": [],
   "source": [
    "# Start Your Code from Here."
   ]
  },
  {
   "cell_type": "code",
   "execution_count": null,
   "metadata": {},
   "outputs": [],
   "source": [
    "# Creating class Temperature.\n",
    "\n",
    "class Temprature():\n",
    "    \n",
    "    def convertCelsius(self,farenhiet):\n",
    "        # Complete Your Code Here.\n",
    "        \n",
    "    \n",
    "    def  convertFahrenhiet(self,celsius):\n",
    "        # Complete Your Code Here.\n",
    "        \n",
    "        "
   ]
  },
  {
   "cell_type": "code",
   "execution_count": null,
   "metadata": {
    "deletable": false,
    "editable": false
   },
   "outputs": [],
   "source": [
    "# Don't Change Code Here.\n",
    "\n",
    "obj = Temprature()\n",
    "c=obj.convertCelsius(float(input(\"Enter Value in °F: \")))\n",
    "f=obj.convertFahrenhiet(float(input(\"Enter Value in °C: \")))\n",
    "print(\"Celsius : {:.1f}\".format(c)+' °C')\n",
    "print(\"Fahrenheit : {:.1f}\".format(f)+' °F')"
   ]
  },
  {
   "cell_type": "code",
   "execution_count": null,
   "metadata": {},
   "outputs": [],
   "source": []
  }
 ],
 "metadata": {
  "kernelspec": {
   "display_name": "Python 3",
   "language": "python",
   "name": "python3"
  },
  "language_info": {
   "codemirror_mode": {
    "name": "ipython",
    "version": 3
   },
   "file_extension": ".py",
   "mimetype": "text/x-python",
   "name": "python",
   "nbconvert_exporter": "python",
   "pygments_lexer": "ipython3",
   "version": "3.8.3"
  }
 },
 "nbformat": 4,
 "nbformat_minor": 4
}

{
 "cells": [
  {
   "cell_type": "markdown",
   "metadata": {},
   "source": [
    "**Question:** Load, select, remove the neutral label from text and airline sentiment columns from the Twitter dataset and perform tokenization for text feature.\n"
   ]
  },
  {
   "cell_type": "markdown",
   "metadata": {},
   "source": [
    "**Description:**\n",
    "    \n",
    "Load the Twitter US Airline Sentiment dataset which has 14585 rows and 21 columns\n",
    "\n",
    "Select only text and airline sentiment columns for modeling\n",
    "\n",
    "Remove the neutral label from the dataset such that we need to process positive and negative labels\n",
    "\n",
    "Convert airline sentiment feature into numeric values\n",
    "\n",
    "Perform tokenization for text feature and use the number of words as 5000, maximum length as 200\n",
    "\n",
    "Print the vocabulary size\n",
    "\n"
   ]
  },
  {
   "cell_type": "markdown",
   "metadata": {},
   "source": [
    "\n",
    "**Level** : Medium\n"
   ]
  },
  {
   "cell_type": "markdown",
   "metadata": {},
   "source": [
    "**Input format:**\n",
    "CSV Dataset\n"
   ]
  },
  {
   "cell_type": "markdown",
   "metadata": {},
   "source": [
    "**output format:**\n",
    "Vocabulary size\n"
   ]
  },
  {
   "cell_type": "markdown",
   "metadata": {},
   "source": [
    "**Sample Input** :\n",
    "Twitter US Airline sentiment dataset\n"
   ]
  },
  {
   "cell_type": "markdown",
   "metadata": {},
   "source": [
    "**Sample Output** : \n",
    "12975\n"
   ]
  },
  {
   "cell_type": "markdown",
   "metadata": {},
   "source": [
    "**SOLUTION:**\n"
   ]
  },
  {
   "cell_type": "code",
   "execution_count": null,
   "metadata": {},
   "outputs": [],
   "source": [
    "import pandas as pd\n",
    "from tensorflow.keras.preprocessing.text import Tokenizer\n",
    "from tensorflow.keras.preprocessing.sequence import pad_sequences\n",
    "\n",
    "df= pd.read_csv('/home/metagogy/Tweets-train.csv', sep=',')\n",
    "tweet_df = df[['text','airline_sentiment']]\n",
    "tweet_df = tweet_df[tweet_df['airline_sentiment'] != 'neutral']\n",
    "\n",
    "sentiment_label = tweet_df.airline_sentiment.factorize()\n",
    "\n",
    "tweet = tweet_df.text.values\n",
    "tokenizer = Tokenizer(num_words=5000)\n",
    "tokenizer.fit_on_texts(tweet)\n",
    "vocab_size = len(tokenizer.word_index) + 1\n",
    "encoded_docs = tokenizer.texts_to_sequences(tweet)\n",
    "padded_sequence = pad_sequences(encoded_docs, maxlen=200)\n",
    "\n",
    "\n",
    "print(vocab_size)\n"
   ]
  }
 ],
 "metadata": {
  "kernelspec": {
   "display_name": "Python 3",
   "language": "python",
   "name": "python3"
  },
  "language_info": {
   "codemirror_mode": {
    "name": "ipython",
    "version": 3
   },
   "file_extension": ".py",
   "mimetype": "text/x-python",
   "name": "python",
   "nbconvert_exporter": "python",
   "pygments_lexer": "ipython3",
   "version": "3.7.3"
  }
 },
 "nbformat": 4,
 "nbformat_minor": 2
}

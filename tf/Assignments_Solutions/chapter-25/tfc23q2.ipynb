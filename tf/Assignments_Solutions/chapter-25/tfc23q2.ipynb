{
 "cells": [
  {
   "cell_type": "markdown",
   "metadata": {},
   "source": [
    "**Question**: Build a many-to-one LSTM model to output the sequence all at once without using a time distributed layer.\n",
    "\n"
   ]
  },
  {
   "cell_type": "markdown",
   "metadata": {},
   "source": [
    "**Description**:\n",
    "\n",
    "* For example The sequence [0.2,0.4,0.6,0.8,1.0] will be given as input all at once and must be in turn returned as output, one item at a time.\n",
    "\n",
    "* Build the 2 layer LSTM model with 5 neurons in the first layer and Dense layer in the second layer as output\n",
    "\n",
    "* Compile the model using mean squared error as loss and adam as an optimizer\n",
    "\n",
    "* Train the model using 5000 epochs and 32 as batch size \n",
    "\n",
    "* Finally, evaluate the model \n"
   ]
  },
  {
   "cell_type": "markdown",
   "metadata": {},
   "source": [
    "\n",
    "**Level**: Medium"
   ]
  },
  {
   "cell_type": "markdown",
   "metadata": {},
   "source": [
    "**Input format**:\n",
    "\n",
    "Space-separated float values."
   ]
  },
  {
   "cell_type": "markdown",
   "metadata": {},
   "source": [
    "\n",
    "**Output format**:\n",
    "\n",
    "array"
   ]
  },
  {
   "cell_type": "markdown",
   "metadata": {},
   "source": [
    "**Sample Input** :\n",
    "\n",
    "0.2 0.4 0.6 0.8 1.0"
   ]
  },
  {
   "cell_type": "markdown",
   "metadata": {},
   "source": [
    "**Sample Output** : \n",
    "\n",
    "0.2\n",
    "\n",
    "0.4\n",
    "\n",
    "0.6\n",
    "\n",
    "0.8\n",
    "\n",
    "1.0"
   ]
  },
  {
   "cell_type": "markdown",
   "metadata": {},
   "source": [
    "**Solution**:"
   ]
  },
  {
   "cell_type": "code",
   "execution_count": 47,
   "metadata": {},
   "outputs": [],
   "source": [
    "# Import required libraries.\n",
    "\n",
    "import silence_tensorflow.auto\n",
    "from tensorflow import keras\n",
    "from tensorflow.keras.models import Sequential \n",
    "from tensorflow.keras.layers import Dense, LSTM\n",
    "from tensorflow.keras.optimizers import Adam\n",
    "import numpy as np"
   ]
  },
  {
   "cell_type": "code",
   "execution_count": 48,
   "metadata": {},
   "outputs": [
    {
     "name": "stdout",
     "output_type": "stream",
     "text": [
      "2.1 3.1 4.1 5.1 6.1 7.1 8.1 9.1\n"
     ]
    }
   ],
   "source": [
    "# Read Input.\n",
    "\n",
    "inp=list(map(float,input().split()))"
   ]
  },
  {
   "cell_type": "code",
   "execution_count": 49,
   "metadata": {},
   "outputs": [],
   "source": [
    "# Convert list into array.\n",
    "\n",
    "sequence = np.array(inp)"
   ]
  },
  {
   "cell_type": "code",
   "execution_count": 50,
   "metadata": {},
   "outputs": [],
   "source": [
    "# Reshape array into 2D array.\n",
    "\n",
    "X = sequence.reshape(1,len(sequence),1)\n",
    "y = sequence.reshape(1,len(sequence))"
   ]
  },
  {
   "cell_type": "code",
   "execution_count": 52,
   "metadata": {},
   "outputs": [],
   "source": [
    "# Build a model.\n",
    "\n",
    "model = keras.models.Sequential()\n",
    "model.add(keras.layers.LSTM(5,input_shape=X.shape[1:]))\n",
    "model.add(keras.layers.Dense(len(sequence)))"
   ]
  },
  {
   "cell_type": "code",
   "execution_count": 53,
   "metadata": {},
   "outputs": [],
   "source": [
    "# Compile model.\n",
    "\n",
    "model.compile(loss=\"mean_squared_error\",optimizer = \"adam\",metrics = [\"accuracy\"])"
   ]
  },
  {
   "cell_type": "code",
   "execution_count": 54,
   "metadata": {
    "scrolled": false
   },
   "outputs": [],
   "source": [
    "# fit the model.\n",
    "\n",
    "model.fit(X,y,epochs=5000,batch_size=32,verbose=0);"
   ]
  },
  {
   "cell_type": "code",
   "execution_count": 55,
   "metadata": {},
   "outputs": [
    {
     "name": "stdout",
     "output_type": "stream",
     "text": [
      "2.1\n",
      "3.1\n",
      "4.1\n",
      "5.1\n",
      "6.1\n",
      "7.1\n",
      "8.1\n",
      "9.1\n"
     ]
    }
   ],
   "source": [
    "# Predict.\n",
    "\n",
    "output = model.predict(X,batch_size=32,verbose=0)\n",
    "\n",
    "for i in output[0,:]:\n",
    "    print('%.1f' % i)"
   ]
  },
  {
   "cell_type": "code",
   "execution_count": null,
   "metadata": {},
   "outputs": [],
   "source": []
  }
 ],
 "metadata": {
  "kernelspec": {
   "display_name": "Python 3",
   "language": "python",
   "name": "python3"
  },
  "language_info": {
   "codemirror_mode": {
    "name": "ipython",
    "version": 3
   },
   "file_extension": ".py",
   "mimetype": "text/x-python",
   "name": "python",
   "nbconvert_exporter": "python",
   "pygments_lexer": "ipython3",
   "version": "3.8.3"
  }
 },
 "nbformat": 4,
 "nbformat_minor": 4
}

{
 "cells": [
  {
   "cell_type": "markdown",
   "metadata": {
    "id": "JosFVAtfp2N5"
   },
   "source": [
    "**Question:** Build, compile, train and evaluate mnist model by using convolution"
   ]
  },
  {
   "cell_type": "markdown",
   "metadata": {
    "id": "r6E4hkOBp2N8"
   },
   "source": [
    "**Description:**\n",
    "* Load the mnist dataset using an in-built function\n",
    "* Split the dataset into training and testing samples\n",
    "* Normalize the training and testing sets\n",
    "* Reshape the x train and test\n",
    "* Convert y train and test to categorical\n",
    "* Build the sequential model having a layer with conv2D, 64 neurons, Max Pooling with pool size 2x2 la create a dense layer with  ‘softmax’ as activation function. \n",
    "* Compile the model with loss as categorical cross-entropy and optimizer as RMSprop..\n",
    "* Train the model with 5 epochs, verbose as 0\n",
    "* Finally, evaluate the model and print the accuracy\n"
   ]
  },
  {
   "cell_type": "markdown",
   "metadata": {
    "id": "szevxPcfp2N_"
   },
   "source": [
    "* Hint1: Use Conv2D, Sequential model, to_categorical()\n",
    "* Hint2: Use reshape() function,MaxPooling() \n",
    "* Hint3: Use evaluate() function\n"
   ]
  },
  {
   "cell_type": "code",
   "execution_count": null,
   "metadata": {
    "id": "I-FeWlTkp2OA"
   },
   "outputs": [],
   "source": [
    "#Start your code here"
   ]
  },
  {
   "cell_type": "code",
   "execution_count": 1,
   "metadata": {
    "id": "wp4ZDy40p2OA"
   },
   "outputs": [],
   "source": [
    "# Import Libraries.\n",
    "import keras\n",
    "from keras import Sequential\n",
    "from keras.layers import Conv2D,MaxPooling2D,Dense,Flatten\n",
    "from keras.datasets import mnist\n",
    "from keras.utils import to_categorical\n"
   ]
  },
  {
   "cell_type": "code",
   "execution_count": 2,
   "metadata": {
    "colab": {
     "base_uri": "https://localhost:8080/"
    },
    "id": "gvMByCgIp2OB",
    "outputId": "ad218aa0-ca03-4916-a4a4-2f71f69a455e"
   },
   "outputs": [
    {
     "name": "stdout",
     "output_type": "stream",
     "text": [
      "Downloading data from https://storage.googleapis.com/tensorflow/tf-keras-datasets/mnist.npz\n",
      "11493376/11490434 [==============================] - 0s 0us/step\n"
     ]
    }
   ],
   "source": [
    "# Load mnist data.\n",
    " \n",
    "(x_train,y_train),(x_test,y_test)=mnist.load_data()\n"
   ]
  },
  {
   "cell_type": "code",
   "execution_count": 3,
   "metadata": {
    "id": "D_i4MKJMp2OC"
   },
   "outputs": [],
   "source": [
    "# Normalize train and test data.\n",
    " \n",
    "x_train = x_train / 255.0\n",
    "x_test = x_test / 255.0\n"
   ]
  },
  {
   "cell_type": "code",
   "execution_count": 4,
   "metadata": {
    "id": "DKKx3fBJp2OC"
   },
   "outputs": [],
   "source": [
    "# Reshape x_train,x_test\n",
    " \n",
    "x_train=x_train.reshape(-1,28,28,1)\n",
    "x_test=x_test.reshape(-1,28,28,1)\n"
   ]
  },
  {
   "cell_type": "code",
   "execution_count": 5,
   "metadata": {
    "id": "vev2V9dqp2OC"
   },
   "outputs": [],
   "source": [
    "#convert y_train,y_test to categorical\n",
    " \n",
    "y_train=to_categorical(y_train,10)\n",
    "y_test=to_categorical(y_test,10)\n"
   ]
  },
  {
   "cell_type": "code",
   "execution_count": 6,
   "metadata": {
    "id": "4xl2E-9Tp2OD"
   },
   "outputs": [],
   "source": [
    "# Build model architecture.\n",
    " \n",
    "model=Sequential()\n",
    "model.add(Conv2D(64,(3,3),input_shape=x_train.shape[1:]))\n",
    "model.add(MaxPooling2D(pool_size=(2,2)))\n",
    "model.add(Flatten())\n",
    "model.add(Dense(10,activation='softmax'))\n"
   ]
  },
  {
   "cell_type": "code",
   "execution_count": 7,
   "metadata": {
    "id": "NqFP2xvbp2OD"
   },
   "outputs": [],
   "source": [
    "# Compile the model\n",
    " \n",
    "model.compile(optimizer='RMSprop',loss='categorical_crossentropy',metrics=['accuracy'])\n"
   ]
  },
  {
   "cell_type": "code",
   "execution_count": 8,
   "metadata": {
    "id": "Ku0Kt7esp2OE"
   },
   "outputs": [],
   "source": [
    "# Fit or Train the model\n",
    " \n",
    "model.fit(x_train,y_train,epochs=5,verbose=0);\n"
   ]
  },
  {
   "cell_type": "code",
   "execution_count": 9,
   "metadata": {
    "id": "2ZY6TZKep2OE"
   },
   "outputs": [],
   "source": [
    "# evaluate The model\n",
    "los,acc=model.evaluate(x_test,y_test,verbose=0);\n"
   ]
  },
  {
   "cell_type": "code",
   "execution_count": 10,
   "metadata": {
    "colab": {
     "base_uri": "https://localhost:8080/"
    },
    "id": "G4LqEY0zp2OE",
    "outputId": "0fd2b632-00ff-43ab-9b2d-0bcbd0f0d369"
   },
   "outputs": [
    {
     "name": "stdout",
     "output_type": "stream",
     "text": [
      "0.9753000140190125\n"
     ]
    }
   ],
   "source": [
    "# Print Accuracy\n",
    "print(acc)"
   ]
  },
  {
   "cell_type": "code",
   "execution_count": 10,
   "metadata": {
    "id": "TyL_RkjDp2OE"
   },
   "outputs": [],
   "source": []
  },
  {
   "cell_type": "code",
   "execution_count": null,
   "metadata": {
    "id": "BtBm10a2p2OF"
   },
   "outputs": [],
   "source": []
  },
  {
   "cell_type": "code",
   "execution_count": null,
   "metadata": {
    "id": "4yCRDXjQp2OF"
   },
   "outputs": [],
   "source": []
  }
 ],
 "metadata": {
  "colab": {
   "collapsed_sections": [],
   "name": "tfc14q11_q2.ipynb",
   "provenance": []
  },
  "kernelspec": {
   "display_name": "Python 3",
   "language": "python",
   "name": "python3"
  },
  "language_info": {
   "codemirror_mode": {
    "name": "ipython",
    "version": 3
   },
   "file_extension": ".py",
   "mimetype": "text/x-python",
   "name": "python",
   "nbconvert_exporter": "python",
   "pygments_lexer": "ipython3",
   "version": "3.8.5"
  }
 },
 "nbformat": 4,
 "nbformat_minor": 1
}

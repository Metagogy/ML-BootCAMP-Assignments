{
 "cells": [
  {
   "cell_type": "markdown",
   "metadata": {},
   "source": [
    "**Question:** Apply parts of speech for a given paragraph, and remove stopwords and we take specific parts of speech tag within tuples\n"
   ]
  },
  {
   "cell_type": "markdown",
   "metadata": {},
   "source": [
    "**Description :** \n",
    "* Import necessary libraries \n",
    "* Apply re to remove special characters \n",
    "* Apply word tokenize and stopwords\n",
    "* Apply parts of speech tagging\n",
    "* Using for loop and taken exactly anyone parts of speech tag\n"
   ]
  },
  {
   "cell_type": "markdown",
   "metadata": {},
   "source": [
    "**Output Format:** list"
   ]
  },
  {
   "cell_type": "code",
   "execution_count": 1,
   "metadata": {},
   "outputs": [],
   "source": [
    "from nltk.corpus import stopwords\n",
    "import nltk \n",
    "import re\n",
    "from nltk.corpus import stopwords\n",
    "from nltk import word_tokenize,pos_tag"
   ]
  },
  {
   "cell_type": "code",
   "execution_count": 2,
   "metadata": {},
   "outputs": [
    {
     "name": "stdout",
     "output_type": "stream",
     "text": [
      "In corpus linguistics part-of-speech! tagging also called grammatical tagging is the process of marking up a word\n"
     ]
    }
   ],
   "source": [
    "data=\"In *&corpus linguistics part-of-speech! tagging, also#@ called grammatical tagging is the process of marking up a word\"\n",
    "print(re.sub(r\"[<>,.@#$%^&*()`]\",\"\",data))"
   ]
  },
  {
   "cell_type": "code",
   "execution_count": null,
   "metadata": {},
   "outputs": [],
   "source": []
  }
 ],
 "metadata": {
  "kernelspec": {
   "display_name": "Python 3",
   "language": "python",
   "name": "python3"
  },
  "language_info": {
   "codemirror_mode": {
    "name": "ipython",
    "version": 3
   },
   "file_extension": ".py",
   "mimetype": "text/x-python",
   "name": "python",
   "nbconvert_exporter": "python",
   "pygments_lexer": "ipython3",
   "version": "3.8.5"
  }
 },
 "nbformat": 4,
 "nbformat_minor": 2
}

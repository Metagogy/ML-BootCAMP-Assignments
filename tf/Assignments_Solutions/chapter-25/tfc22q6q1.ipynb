{
 "cells": [
  {
   "cell_type": "markdown",
   "metadata": {},
   "source": [
    "**Question** : Read a paragraph as input, apply word_tokenize and word2vec for a given paragraph, and print vocabulary for given paragraph\n"
   ]
  },
  {
   "cell_type": "markdown",
   "metadata": {},
   "source": [
    "**Description** : \n",
    "    \n",
    "Import necessary libraries \n",
    "\n",
    "Preprocess the paragraph by using regular expressions ( it removes special characters like number , commas , etc.  next apply sentence tokenizer for given paragraph then next word_tokenize. In the next step apply stop words removal ( it removes a, an , the etc. )\n",
    "\n",
    "Apply word2vec for given paragraph and use min_count = 2 \n"
   ]
  },
  {
   "cell_type": "markdown",
   "metadata": {},
   "source": [
    "**Level** : Medium"
   ]
  },
  {
   "cell_type": "markdown",
   "metadata": {},
   "source": [
    "**Input format** : vocabulary"
   ]
  },
  {
   "cell_type": "markdown",
   "metadata": {},
   "source": [
    "**Output format** : keyed vectors"
   ]
  },
  {
   "cell_type": "markdown",
   "metadata": {},
   "source": [
    "**Sample Input** : \n",
    "\n",
    "Paragraphs are the building blocks of papers.Many students define paragraphs in terms of length: a paragraph is a group of at least five sentences, a paragraph is half a page long, etc. In reality, though, the unity and coherence of ideas among sentences is what constitutes a paragraph.A paragraph is defined as “a group of sentences or a single sentence that forms a unit” (Lunsford and Connors 116). Length and appearance do not determine whether a section in a paper is a paragraph. For instance, in some styles of writing, particularly journalistic styles, a paragraph can be just one sentence long. Ultimately, a paragraph is a sentence or group of sentences that support one main idea.In this handout, we will refer to this as the controlling idea, because it controls what happens in the rest of the paragraph.Paragraph development progresses with the expression of some type of support or evidence for the idea and the explanation that came before it. The example serves as a sign or representation of the relationship established in the idea and explanation portions of the paragraph.\n",
    "\n"
   ]
  },
  {
   "cell_type": "markdown",
   "metadata": {},
   "source": [
    "**Sample Output** :  model keyed vectors"
   ]
  },
  {
   "cell_type": "markdown",
   "metadata": {},
   "source": [
    "**SOLUTION**"
   ]
  },
  {
   "cell_type": "code",
   "execution_count": 2,
   "metadata": {},
   "outputs": [
    {
     "data": {
      "text/plain": [
       "{'paragraph': <gensim.models.keyedvectors.Vocab at 0x7f3b2328be10>,\n",
       " 'group': <gensim.models.keyedvectors.Vocab at 0x7f3b2328be48>,\n",
       " 'sentences': <gensim.models.keyedvectors.Vocab at 0x7f3b2328beb8>,\n",
       " ',': <gensim.models.keyedvectors.Vocab at 0x7f3b2328bef0>,\n",
       " 'long': <gensim.models.keyedvectors.Vocab at 0x7f3b2328bf28>,\n",
       " '.': <gensim.models.keyedvectors.Vocab at 0x7f3b2328bf98>,\n",
       " 'sentence': <gensim.models.keyedvectors.Vocab at 0x7f3b2328bfd0>,\n",
       " 'styles': <gensim.models.keyedvectors.Vocab at 0x7f3b2328b0f0>,\n",
       " 'one': <gensim.models.keyedvectors.Vocab at 0x7f3b2328b8d0>,\n",
       " 'support': <gensim.models.keyedvectors.Vocab at 0x7f3b2328b978>,\n",
       " 'idea': <gensim.models.keyedvectors.Vocab at 0x7f3b2328b860>,\n",
       " 'explanation': <gensim.models.keyedvectors.Vocab at 0x7f3b2328b400>}"
      ]
     },
     "execution_count": 2,
     "metadata": {},
     "output_type": "execute_result"
    }
   ],
   "source": [
    "import nltk\n",
    "from gensim.models import Word2Vec\n",
    "from nltk.corpus import stopwords\n",
    "import re\n",
    "\n",
    "\n",
    "paragraph = 'Paragraphs are the building blocks of papers.Many students define paragraphs in terms of length: a paragraph is a group of at least five sentences, a paragraph is half a page long, etc. In reality, though, the unity and coherence of ideas among sentences is what constitutes a paragraph.A paragraph is defined as \"a group of sentences or a single sentence that forms a unit\" (Lunsford and Connors 116). Length and appearance do not determine whether a section in a paper is a paragraph. For instance, in some styles of writing, particularly journalistic styles, a paragraph can be just one sentence long. Ultimately, a paragraph is a sentence or group of sentences that support one main idea.In this handout, we will refer to this as the controlling idea, because it controls what happens in the rest of the paragraph.Paragraph development progresses with the expression of some type of support or evidence for the idea and the explanation that came before it. The example serves as a sign or representation of the relationship established in the idea and explanation portions of the paragraph.'\n",
    "            \n",
    "len(paragraph)\n",
    "paragraph = re.sub(r'\\[[0-9]*\\]', ' ', paragraph)\n",
    "paragraph = re.sub(r'\\s+', ' ', paragraph)\n",
    "\n",
    "paragraph = nltk.sent_tokenize(paragraph)\n",
    "paragraph\n",
    "\n",
    "paragraph = [nltk.word_tokenize(sentence) for sentence in paragraph]\n",
    "paragraph\n",
    "\n",
    "for i in range(len(paragraph)):\n",
    "    paragraph[i] = [word for word in paragraph[i] if word not in stopwords.words('english')]\n",
    "\n",
    "paragraph[i]\n",
    "\n",
    "model = Word2Vec(paragraph, min_count = 2)\n",
    "words = model.wv.vocab\n",
    "words\n"
   ]
  },
  {
   "cell_type": "code",
   "execution_count": null,
   "metadata": {},
   "outputs": [],
   "source": []
  }
 ],
 "metadata": {
  "kernelspec": {
   "display_name": "Python 3",
   "language": "python",
   "name": "python3"
  },
  "language_info": {
   "codemirror_mode": {
    "name": "ipython",
    "version": 3
   },
   "file_extension": ".py",
   "mimetype": "text/x-python",
   "name": "python",
   "nbconvert_exporter": "python",
   "pygments_lexer": "ipython3",
   "version": "3.6.5"
  }
 },
 "nbformat": 4,
 "nbformat_minor": 2
}

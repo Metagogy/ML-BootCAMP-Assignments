{
  "nbformat": 4,
  "nbformat_minor": 0,
  "metadata": {
    "kernelspec": {
      "display_name": "Python 3",
      "language": "python",
      "name": "python3"
    },
    "language_info": {
      "codemirror_mode": {
        "name": "ipython",
        "version": 3
      },
      "file_extension": ".py",
      "mimetype": "text/x-python",
      "name": "python",
      "nbconvert_exporter": "python",
      "pygments_lexer": "ipython3",
      "version": "3.7.3"
    },
    "colab": {
      "name": "tfc15q14q2.ipynb",
      "provenance": [],
      "collapsed_sections": []
    }
  },
  "cells": [
    {
      "cell_type": "markdown",
      "metadata": {
        "id": "JThZE8-ksEfV"
      },
      "source": [
        "**Question**:  Read a image with the help of tensorflow and convert to array and apply two convolution layers on it and  print the array shape\n",
        "\n"
      ]
    },
    {
      "cell_type": "markdown",
      "metadata": {
        "id": "OCVeNxkDsEfg"
      },
      "source": [
        "**Description:**\n",
        "* Enter the single input string,  path of image \n",
        "* Reed the image  with the help of keras and tensorflow .\n",
        "* Apply preprocessing.image, use load_img() function\n",
        "* Use image_to_array(), reshape function\n",
        "* Create Sequential model and apply Conv2D with filter as 3x3 and padding as same\n",
        "* Use MaxPooling2D\n",
        "* Predict the model and print the array \n",
        "\n",
        "\n",
        "\n"
      ]
    },
    {
      "cell_type": "markdown",
      "metadata": {
        "id": "WwSHA9dVsEfh"
      },
      "source": [
        "**Input format:**  String\n",
        "\n",
        "\n",
        "**Output format:**  ndarray\n",
        "\n",
        "\n"
      ]
    },
    {
      "cell_type": "markdown",
      "metadata": {
        "id": "OXstikDdsEfh"
      },
      "source": [
        "**Sample input:**\n",
        "\n",
        "\n",
        "\n",
        "\n",
        "**Sample output:**\n",
        "\n",
        "[[ 14.131383  -13.077468  -60.473198  ...  12.033218  -17.456476\n",
        "  -64.888824 ]\n",
        "\n",
        " [ 14.131383  -13.077468  -60.473198  ...  11.988165  -17.868916\n",
        "  -65.6549   ]\n",
        "\n",
        " [ 14.131383  -13.077468  -60.473198  ...  11.988165  -17.868916\n",
        "  -65.6549   ]\n",
        "\n",
        " ...\n",
        "\n",
        " [  6.419509  -27.95615   -74.32556   ...   5.3346577 -30.136158\n",
        "  -76.22072  ]\n",
        "\n",
        " [  6.419509  -27.95615   -74.32556   ...   5.3346577 -30.136158\n",
        "  -76.22072  ]\n",
        "  \n",
        " [  6.419509  -27.95615   -74.32556   ...   5.3346577 -30.136158\n",
        "  -76.22072  ]]\n",
        "\n",
        " "
      ]
    },
    {
      "cell_type": "markdown",
      "metadata": {
        "id": "YaOgkoz8sEfi"
      },
      "source": [
        "**Hint1:** Use tensorflow,keras,preprocessing.image\n",
        "\n",
        "**Hint2:** Use load_img(), img_to_array() function\n",
        "\n",
        "**Hint3:** Use reshape, Conv2D  function\n",
        "\n"
      ]
    },
    {
      "cell_type": "code",
      "metadata": {
        "id": "JPvJTB7KsEfi"
      },
      "source": [
        "# Start Your Code Here."
      ],
      "execution_count": null,
      "outputs": []
    },
    {
      "cell_type": "code",
      "metadata": {
        "id": "LSwzuBgQsEfj"
      },
      "source": [
        "# import libraries\n",
        "import tensorflow as tf\n",
        "import keras\n",
        "from keras import Sequential\n",
        "from keras.layers import Dense, Activation,Flatten\n",
        "from keras.layers import Conv2D\n",
        "\n"
      ],
      "execution_count": 1,
      "outputs": []
    },
    {
      "cell_type": "code",
      "metadata": {
        "id": "daQ5YneqsEfk"
      },
      "source": [
        "path='banana_1.jpg'\n",
        "image = tf.keras.preprocessing.image.load_img(path)\n",
        "image=tf.keras.preprocessing.image.img_to_array(image)\n",
        "lst=list(image.shape)\n",
        "image=image.reshape((lst[0],lst[1],lst[2],1))\n"
      ],
      "execution_count": 4,
      "outputs": []
    },
    {
      "cell_type": "code",
      "metadata": {
        "colab": {
          "base_uri": "https://localhost:8080/"
        },
        "id": "G6NRXEYDsEfl",
        "outputId": "97a0a40b-855b-491a-e60a-0cd2069d555e"
      },
      "source": [
        "model = Sequential()\n",
        "model.add(Conv2D(1, (3, 3),padding='same',input_shape=image.shape))\n",
        "model.add(Conv2D(1, (3, 3),padding='same'))\n",
        "model.add(Flatten())\n",
        "x=model.predict(image)\n",
        "print(x)\n",
        "\n"
      ],
      "execution_count": 5,
      "outputs": [
        {
          "output_type": "stream",
          "text": [
            "WARNING:tensorflow:Model was constructed with shape (None, 406, 722, 3, 1) for input KerasTensor(type_spec=TensorSpec(shape=(None, 406, 722, 3, 1), dtype=tf.float32, name='conv2d_2_input'), name='conv2d_2_input', description=\"created by layer 'conv2d_2_input'\"), but it was called on an input with incompatible shape (None, 722, 3, 1, 1).\n",
            "[[ 14.131383  -13.077468  -60.473198  ...  12.033218  -17.456476\n",
            "  -64.888824 ]\n",
            " [ 14.131383  -13.077468  -60.473198  ...  11.988165  -17.868916\n",
            "  -65.6549   ]\n",
            " [ 14.131383  -13.077468  -60.473198  ...  11.988165  -17.868916\n",
            "  -65.6549   ]\n",
            " ...\n",
            " [  6.419509  -27.95615   -74.32556   ...   5.3346577 -30.136158\n",
            "  -76.22072  ]\n",
            " [  6.419509  -27.95615   -74.32556   ...   5.3346577 -30.136158\n",
            "  -76.22072  ]\n",
            " [  6.419509  -27.95615   -74.32556   ...   5.3346577 -30.136158\n",
            "  -76.22072  ]]\n"
          ],
          "name": "stdout"
        }
      ]
    },
    {
      "cell_type": "code",
      "metadata": {
        "id": "EdCttL19sEfm"
      },
      "source": [
        ""
      ],
      "execution_count": null,
      "outputs": []
    },
    {
      "cell_type": "code",
      "metadata": {
        "id": "wPGEslqisEfm"
      },
      "source": [
        ""
      ],
      "execution_count": null,
      "outputs": []
    }
  ]
}
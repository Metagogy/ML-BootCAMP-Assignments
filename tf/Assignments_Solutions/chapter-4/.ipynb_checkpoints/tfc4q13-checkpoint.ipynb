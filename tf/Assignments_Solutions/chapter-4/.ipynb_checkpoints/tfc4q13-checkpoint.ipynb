{
 "cells": [
  {
   "cell_type": "markdown",
   "metadata": {},
   "source": [
    "**Question :** Create a class to print the range of prime numbers for a given input\n"
   ]
  },
  {
   "cell_type": "markdown",
   "metadata": {},
   "source": [
    "**Description:**\n",
    "* take the input\n",
    "* print prime numbers upto the given number\n",
    "\n"
   ]
  },
  {
   "cell_type": "markdown",
   "metadata": {},
   "source": [
    "**Level** : Hard"
   ]
  },
  {
   "cell_type": "markdown",
   "metadata": {},
   "source": [
    "**Input format** : Integer\n",
    "\n",
    "\n",
    "**Output Format** : Integer\n",
    "\n",
    "**Sample Input** : 25\n",
    "\n",
    "\n",
    "**Sample Output** : \n",
    "\n",
    "2 <br/>\n",
    "3 <br/>\n",
    "5 <br/>\n",
    "7 <br/>\n",
    "11 <br/>\n",
    "13 <br/>\n",
    "17 <br/>\n",
    "19 <br/>\n",
    "23"
   ]
  },
  {
   "cell_type": "code",
   "execution_count": 18,
   "metadata": {},
   "outputs": [],
   "source": [
    "class Prime():\n",
    "    def __init__(self,n):\n",
    "        for num in range(2,n):\n",
    "            c=0\n",
    "            for i in range(2,num):\n",
    "                if (num%i==0):\n",
    "                    c=c+1\n",
    "            if c==0:\n",
    "                print (num)"
   ]
  },
  {
   "cell_type": "code",
   "execution_count": 21,
   "metadata": {},
   "outputs": [
    {
     "name": "stdout",
     "output_type": "stream",
     "text": [
      "25\n",
      "2\n",
      "3\n",
      "5\n",
      "7\n",
      "11\n",
      "13\n",
      "17\n",
      "19\n",
      "23\n"
     ]
    }
   ],
   "source": [
    "n=int(input())\n",
    "c=Prime(n)"
   ]
  },
  {
   "cell_type": "code",
   "execution_count": null,
   "metadata": {},
   "outputs": [],
   "source": []
  }
 ],
 "metadata": {
  "kernelspec": {
   "display_name": "Python 3",
   "language": "python",
   "name": "python3"
  },
  "language_info": {
   "codemirror_mode": {
    "name": "ipython",
    "version": 3
   },
   "file_extension": ".py",
   "mimetype": "text/x-python",
   "name": "python",
   "nbconvert_exporter": "python",
   "pygments_lexer": "ipython3",
   "version": "3.8.5"
  }
 },
 "nbformat": 4,
 "nbformat_minor": 2
}

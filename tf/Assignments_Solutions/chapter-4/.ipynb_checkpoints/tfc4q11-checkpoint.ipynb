{
 "cells": [
  {
   "cell_type": "markdown",
   "metadata": {},
   "source": [
    "**Question :** Create a class to print largest of two numbers\n",
    "\n",
    "Note : <br/>\n",
    "\n",
    "if a is greater than b, print a  <br/>\n",
    "if b is greater than a, print b  <br/>\n",
    "if a and b are equal print EQUAL  <br/>"
   ]
  },
  {
   "cell_type": "markdown",
   "metadata": {},
   "source": [
    "**Level** : Medium"
   ]
  },
  {
   "cell_type": "markdown",
   "metadata": {},
   "source": [
    "**Input format** : Integer\n",
    "\n",
    "**Output Format**: Integer\n",
    "\n",
    "\n",
    "**Sample Input** :  \n",
    "\n",
    "2 <br/>\n",
    "3\n",
    "\n",
    "**Sample Output**\n",
    "\n",
    "3"
   ]
  },
  {
   "cell_type": "markdown",
   "metadata": {},
   "source": [
    "**SOLUTION**"
   ]
  },
  {
   "cell_type": "code",
   "execution_count": 1,
   "metadata": {},
   "outputs": [],
   "source": [
    "class Large():\n",
    "    def __init__(self,a,b):\n",
    "        if a>b:\n",
    "            print(a)\n",
    "        elif a<b:\n",
    "            print(b)\n",
    "        else:\n",
    "            print('EQUAL')"
   ]
  },
  {
   "cell_type": "code",
   "execution_count": 3,
   "metadata": {
    "scrolled": true
   },
   "outputs": [
    {
     "name": "stdout",
     "output_type": "stream",
     "text": [
      "2\n",
      "2\n",
      "EQUAL\n"
     ]
    }
   ],
   "source": [
    "a=int(input())\n",
    "b=int(input())\n",
    "c = Large(a,b)"
   ]
  }
 ],
 "metadata": {
  "kernelspec": {
   "display_name": "Python 3",
   "language": "python",
   "name": "python3"
  },
  "language_info": {
   "codemirror_mode": {
    "name": "ipython",
    "version": 3
   },
   "file_extension": ".py",
   "mimetype": "text/x-python",
   "name": "python",
   "nbconvert_exporter": "python",
   "pygments_lexer": "ipython3",
   "version": "3.8.5"
  }
 },
 "nbformat": 4,
 "nbformat_minor": 2
}

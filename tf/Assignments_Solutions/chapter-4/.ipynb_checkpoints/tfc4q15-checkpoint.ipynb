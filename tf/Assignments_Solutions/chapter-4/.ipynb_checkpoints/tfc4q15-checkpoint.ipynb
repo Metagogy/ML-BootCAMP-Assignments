{
 "cells": [
  {
   "cell_type": "markdown",
   "metadata": {},
   "source": [
    "**Question :** Create a class to print the factorial of a given input\n"
   ]
  },
  {
   "cell_type": "markdown",
   "metadata": {},
   "source": [
    "**Description:**\n",
    "* take the input\n",
    "* print the factorial of a given number\n",
    "\n"
   ]
  },
  {
   "cell_type": "markdown",
   "metadata": {},
   "source": [
    "**Level** : Hard"
   ]
  },
  {
   "cell_type": "markdown",
   "metadata": {},
   "source": [
    "**Input format** :\n",
    "\n",
    "Integer\n",
    "\n",
    "\n",
    "**Output Format** :\n",
    "\n",
    "Integer\n",
    "\n",
    "**Sample Input** : \n",
    "\n",
    "5\n",
    "\n",
    "**Sample Output** :\n",
    "\n",
    "120"
   ]
  },
  {
   "cell_type": "code",
   "execution_count": 1,
   "metadata": {},
   "outputs": [],
   "source": [
    "class Factorial():\n",
    "    def __init__(self,n):\n",
    "        factorial=1\n",
    "        if n < 0:\n",
    "            print(\"Sorry, factorial does not exist for negative numbers\")\n",
    "        elif n == 0:\n",
    "            print(\"1\")\n",
    "        else:\n",
    "            for i in range(1,n + 1):\n",
    "                factorial = factorial*i\n",
    "            print(factorial)"
   ]
  },
  {
   "cell_type": "code",
   "execution_count": 3,
   "metadata": {},
   "outputs": [
    {
     "name": "stdout",
     "output_type": "stream",
     "text": [
      "-7\n",
      "Sorry, factorial does not exist for negative numbers\n"
     ]
    }
   ],
   "source": [
    "n=int(input())\n",
    "z=Factorial(n)"
   ]
  },
  {
   "cell_type": "code",
   "execution_count": null,
   "metadata": {},
   "outputs": [],
   "source": []
  }
 ],
 "metadata": {
  "kernelspec": {
   "display_name": "Python 3",
   "language": "python",
   "name": "python3"
  },
  "language_info": {
   "codemirror_mode": {
    "name": "ipython",
    "version": 3
   },
   "file_extension": ".py",
   "mimetype": "text/x-python",
   "name": "python",
   "nbconvert_exporter": "python",
   "pygments_lexer": "ipython3",
   "version": "3.8.5"
  }
 },
 "nbformat": 4,
 "nbformat_minor": 2
}

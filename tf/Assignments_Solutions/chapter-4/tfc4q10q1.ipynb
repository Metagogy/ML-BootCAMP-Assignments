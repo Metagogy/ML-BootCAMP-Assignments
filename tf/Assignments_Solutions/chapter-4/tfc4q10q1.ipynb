{
 "cells": [
  {
   "cell_type": "markdown",
   "metadata": {},
   "source": [
    "**Question**: Create a Temperature class. Make one method :\n",
    "convertFahrenheit - It will take celsius and will print it into Fahrenheit.\n"
   ]
  },
  {
   "cell_type": "markdown",
   "metadata": {},
   "source": [
    "**Level**: Medium"
   ]
  },
  {
   "cell_type": "markdown",
   "metadata": {},
   "source": [
    "**Input Format**: Two Integers Represents temperature in celsius and Fahrenheit.\n",
    "\n"
   ]
  },
  {
   "cell_type": "markdown",
   "metadata": {},
   "source": [
    "**Output Format**: Output Fahrenheit temperature.\n"
   ]
  },
  {
   "cell_type": "markdown",
   "metadata": {},
   "source": [
    "**Sample Input** :  \t42\n",
    "                           \t108\n"
   ]
  },
  {
   "cell_type": "markdown",
   "metadata": {},
   "source": [
    "**Sample Output**:   Fahrenheit: 226.4"
   ]
  },
  {
   "cell_type": "markdown",
   "metadata": {},
   "source": [
    "**Solution** :"
   ]
  },
  {
   "cell_type": "code",
   "execution_count": null,
   "metadata": {},
   "outputs": [],
   "source": [
    "class Temperature():\n",
    "  def  convertFahrenhiet(self,celsius):\n",
    "    return (celsius*(9/5))+32\n",
    "  def convertCelsius(self,farenhiet):\n",
    "    return (farenhiet-32)*(5/9)\n",
    "obj = Temperature()\n",
    "c=obj.convertCelsius(int(input()))\n",
    "f=obj.convertFahrenhiet(int(input()))\n",
    "print(\"Fahrenheit :\",f)"
   ]
  }
 ],
 "metadata": {
  "kernelspec": {
   "display_name": "Python 3",
   "language": "python",
   "name": "python3"
  },
  "language_info": {
   "codemirror_mode": {
    "name": "ipython",
    "version": 3
   },
   "file_extension": ".py",
   "mimetype": "text/x-python",
   "name": "python",
   "nbconvert_exporter": "python",
   "pygments_lexer": "ipython3",
   "version": "3.7.6"
  }
 },
 "nbformat": 4,
 "nbformat_minor": 4
}

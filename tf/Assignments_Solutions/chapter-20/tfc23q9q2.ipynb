{
 "cells": [
  {
   "cell_type": "markdown",
   "metadata": {},
   "source": [
    "**Question:** Print all the dates and time present of a given range "
   ]
  },
  {
   "cell_type": "markdown",
   "metadata": {},
   "source": [
    "**Level :01**"
   ]
  },
  {
   "cell_type": "markdown",
   "metadata": {},
   "source": [
    "**Input Format:**<br/>\n"
   ]
  },
  {
   "cell_type": "markdown",
   "metadata": {},
   "source": [
    "**Output Format:**<br/>\n",
    "Datetime Index\n"
   ]
  },
  {
   "cell_type": "markdown",
   "metadata": {},
   "source": [
    "**Sample Input:**<br/>\n"
   ]
  },
  {
   "cell_type": "markdown",
   "metadata": {},
   "source": [
    "**Sample Output:**<br/>\n",
    "DatetimeIndex(['2018-02-01 00:00:00', '2018-02-01 01:00:00',<br/>\n",
    "               '2018-02-01 02:00:00', '2018-02-01 03:00:00',<br/>\n",
    "               '2018-02-01 04:00:00', '2018-02-01 05:00:00',<br/>\n",
    "               '2018-02-01 06:00:00', '2018-02-01 07:00:00',<br/>\n",
    "               '2018-02-01 08:00:00', '2018-02-01 09:00:00',<br/>\n",
    "               ...<br/>\n",
    "               '2018-02-09 15:00:00', '2018-02-09 16:00:00',<br/>\n",
    "               '2018-02-09 17:00:00', '2018-02-09 18:00:00',<br/>\n",
    "               '2018-02-09 19:00:00', '2018-02-09 20:00:00',<br/>\n",
    "               '2018-02-09 21:00:00', '2018-02-09 22:00:00',<br/>\n",
    "               '2018-02-09 23:00:00', '2018-02-10 00:00:00'],<br/>\n",
    "              dtype='datetime64[ns]', length=217, freq='H')"
   ]
  },
  {
   "cell_type": "markdown",
   "metadata": {},
   "source": [
    "**SOLUTION**"
   ]
  },
  {
   "cell_type": "code",
   "execution_count": 2,
   "metadata": {},
   "outputs": [],
   "source": [
    "#Start your code from here"
   ]
  },
  {
   "cell_type": "code",
   "execution_count": 2,
   "metadata": {},
   "outputs": [
    {
     "name": "stdout",
     "output_type": "stream",
     "text": [
      "DatetimeIndex(['2018-02-01 00:00:00', '2018-02-01 01:00:00',\n",
      "               '2018-02-01 02:00:00', '2018-02-01 03:00:00',\n",
      "               '2018-02-01 04:00:00', '2018-02-01 05:00:00',\n",
      "               '2018-02-01 06:00:00', '2018-02-01 07:00:00',\n",
      "               '2018-02-01 08:00:00', '2018-02-01 09:00:00',\n",
      "               ...\n",
      "               '2018-02-09 15:00:00', '2018-02-09 16:00:00',\n",
      "               '2018-02-09 17:00:00', '2018-02-09 18:00:00',\n",
      "               '2018-02-09 19:00:00', '2018-02-09 20:00:00',\n",
      "               '2018-02-09 21:00:00', '2018-02-09 22:00:00',\n",
      "               '2018-02-09 23:00:00', '2018-02-10 00:00:00'],\n",
      "              dtype='datetime64[ns]', length=217, freq='H')\n"
     ]
    }
   ],
   "source": [
    "#import required libraries\n",
    "import pandas as pd\n",
    "from datetime import datetime\n",
    "import numpy as np\n",
    "date_rng = pd.date_range(start='2018/02/01', end='2018/02/10',freq='H')\n",
    "print(date_rng)\n",
    "\n"
   ]
  },
  {
   "cell_type": "code",
   "execution_count": null,
   "metadata": {},
   "outputs": [],
   "source": []
  }
 ],
 "metadata": {
  "kernelspec": {
   "display_name": "Python 3",
   "language": "python",
   "name": "python3"
  },
  "language_info": {
   "codemirror_mode": {
    "name": "ipython",
    "version": 3
   },
   "file_extension": ".py",
   "mimetype": "text/x-python",
   "name": "python",
   "nbconvert_exporter": "python",
   "pygments_lexer": "ipython3",
   "version": "3.7.3"
  }
 },
 "nbformat": 4,
 "nbformat_minor": 2
}

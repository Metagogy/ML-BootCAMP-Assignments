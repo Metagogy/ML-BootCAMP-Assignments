{
 "cells": [
  {
   "cell_type": "markdown",
   "metadata": {},
   "source": [
    "**Question**: Build a one-to-one LSTM model for sequence prediction. Given 0.2 as input, the LSTM network should output 0.2, given 0.4, the network must output 0.4, and so on.\n"
   ]
  },
  {
   "cell_type": "markdown",
   "metadata": {},
   "source": [
    "**Description**:\n",
    "\n",
    "The sequence [0.2,0.4,0.6,0.8,1.0,1.2,1.4] will be given as input one item at a time and must be in turn returned as output, one item at a time.\n",
    "\n",
    "Build the 3 layer LSTM model with 7 neurons in the first layer, 7 neurons in the second layer, and 1 neuron in the third layer as output\n",
    "\n",
    "Compile the model using mean squared error as loss and adam as an optimizer\n",
    "\n",
    "Train the model using 1000 epochs and 7 as batch size \n",
    "\n",
    "Evaluate the model and check whether the results are correct\n"
   ]
  },
  {
   "cell_type": "markdown",
   "metadata": {},
   "source": [
    "\n",
    "**Level**: Easy"
   ]
  },
  {
   "cell_type": "markdown",
   "metadata": {},
   "source": [
    "**Input Format**:\n",
    "array\n"
   ]
  },
  {
   "cell_type": "markdown",
   "metadata": {},
   "source": [
    "**Output Format**:\n",
    "array\n"
   ]
  },
  {
   "cell_type": "markdown",
   "metadata": {},
   "source": [
    "**Sample Input**:\n",
    "[0.2,0.4,0.6,0.8,1.0,1.2,1.4]\n"
   ]
  },
  {
   "cell_type": "markdown",
   "metadata": {},
   "source": [
    "**Sample Output**:\n",
    "0.2\n",
    "0.4\n",
    "0.6\n",
    "0.8\n",
    "1.0\n",
    "1.2\n",
    "1.4\n"
   ]
  },
  {
   "cell_type": "markdown",
   "metadata": {},
   "source": [
    "**Solution**:\n"
   ]
  },
  {
   "cell_type": "code",
   "execution_count": null,
   "metadata": {},
   "outputs": [],
   "source": [
    "\n",
    "from tensorflow import keras\n",
    "from tensorflow.keras.models import Sequential \n",
    "from tensorflow.keras.layers import Dense, LSTM\n",
    "from tensorflow.keras.optimizers import Adam\n",
    "import numpy as np\n",
    "\n",
    "sequence = np.array([0.2,0.4,0.6,0.8,1.0,1.2,1.4])\n",
    "X = sequence.reshape(7,1,1)\n",
    "y = sequence.reshape(7,1)\n",
    "\n",
    "model = keras.models.Sequential()\n",
    "model.add(keras.layers.LSTM(7,input_shape=(1,1),return_sequences=True))\n",
    "model.add(keras.layers.LSTM(7))\n",
    "model.add(keras.layers.Dense(1))\n",
    "\n",
    "model.compile(loss=\"mean_squared_error\",optimizer = \"adam\",metrics = [\"accuracy\"])\n",
    "\n",
    "model.fit(X,y,epochs=1000,batch_size=7,verbose=2)\n",
    "\n",
    "output = model.predict(X,batch_size=7,verbose=2)\n",
    "for i in output:\n",
    "\tprint('%.1f' % i)"
   ]
  }
 ],
 "metadata": {
  "kernelspec": {
   "display_name": "Python 3",
   "language": "python",
   "name": "python3"
  },
  "language_info": {
   "codemirror_mode": {
    "name": "ipython",
    "version": 3
   },
   "file_extension": ".py",
   "mimetype": "text/x-python",
   "name": "python",
   "nbconvert_exporter": "python",
   "pygments_lexer": "ipython3",
   "version": "3.7.6"
  }
 },
 "nbformat": 4,
 "nbformat_minor": 4
}

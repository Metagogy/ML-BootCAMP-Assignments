{
  "nbformat": 4,
  "nbformat_minor": 0,
  "metadata": {
    "kernelspec": {
      "display_name": "Python 3",
      "language": "python",
      "name": "python3"
    },
    "language_info": {
      "codemirror_mode": {
        "name": "ipython",
        "version": 3
      },
      "file_extension": ".py",
      "mimetype": "text/x-python",
      "name": "python",
      "nbconvert_exporter": "python",
      "pygments_lexer": "ipython3",
      "version": "3.7.3"
    },
    "colab": {
      "name": "tfc15q13q2.ipynb",
      "provenance": [],
      "collapsed_sections": []
    }
  },
  "cells": [
    {
      "cell_type": "markdown",
      "metadata": {
        "id": "Tav4nsBbrF_j"
      },
      "source": [
        "**Question**:  Read a image with the help of tensorflow and convert to array and apply convolution on it and MaxPooling2D  print the array shape\n"
      ]
    },
    {
      "cell_type": "markdown",
      "metadata": {
        "id": "gMKo2Ya5rF_u"
      },
      "source": [
        "**Description:**\n",
        "* Enter the single input string,  path of image \n",
        "* Reed the image  with the help of keras and tensorflow .\n",
        "* Apply preprocessing.image, use load_img() function\n",
        "* Use image_to_array(), reshape function\n",
        "* Create Sequential model and apply Conv2D with filter as 3x3 and padding as same\n",
        "* Use MaxPooling2D\n",
        "* Predict the model and print the array \n",
        "\n",
        "\n"
      ]
    },
    {
      "cell_type": "markdown",
      "metadata": {
        "id": "Gbns5NEJrF_v"
      },
      "source": [
        "**Input format:**  String\n",
        "\n",
        "\n",
        "**Output format:**  ndarray\n",
        "\n",
        "\n"
      ]
    },
    {
      "cell_type": "markdown",
      "metadata": {
        "id": "2JpFGmMcrF_w"
      },
      "source": [
        "**Sample input:**\n",
        "\n",
        "\n",
        "\n",
        "\n",
        "**Sample output:**\n",
        "\n",
        "\n",
        "[[-27.704264  -27.330694  -28.053406  ... -31.708279  -31.353115\n",
        "   -1.1139374]\n",
        "\n",
        " [-27.704264  -27.330694  -28.053406  ... -31.5755    -31.708279\n",
        "   -1.4875107]\n",
        "\n",
        " [-27.45109   -27.463472  -28.053406  ... -31.79789   -31.930668\n",
        "   -1.3547325]\n",
        "\n",
        " ...\n",
        "\n",
        " [-38.574562  -38.574562  -38.676548  ... -39.89712   -39.605\n",
        "  -11.701672 ]\n",
        "\n",
        " [-38.574562  -38.574562  -38.676548  ... -39.89712   -39.605\n",
        "  -11.701672 ]\n",
        "  \n",
        " [-38.574562  -38.574562  -38.898926  ... -39.89712   -39.351826\n",
        "  -11.701672 ]]"
      ]
    },
    {
      "cell_type": "markdown",
      "metadata": {
        "id": "G8JdvS1YrF_w"
      },
      "source": [
        "**Hint1:** Use tensorflow,keras,preprocessing.image\n",
        "\n",
        "**Hint2:** Use load_img(), img_to_array() function\n",
        "\n",
        "**Hint3:** Use reshape, Conv2D  function\n",
        "\n"
      ]
    },
    {
      "cell_type": "code",
      "metadata": {
        "id": "mclfT880rF_x"
      },
      "source": [
        "# Start Your Code Here."
      ],
      "execution_count": null,
      "outputs": []
    },
    {
      "cell_type": "code",
      "metadata": {
        "id": "bE5uEwVVrF_y"
      },
      "source": [
        "# import libraries\n",
        "import tensorflow as tf\n",
        "import keras\n",
        "from keras import Sequential\n",
        "from keras.layers import Dense, Activation,Flatten\n",
        "from keras.layers import Conv2D, MaxPooling2D\n",
        "\n"
      ],
      "execution_count": 1,
      "outputs": []
    },
    {
      "cell_type": "code",
      "metadata": {
        "id": "RlgDbsFPrF_z"
      },
      "source": [
        "path='banana_1.jpg'\n",
        "image = tf.keras.preprocessing.image.load_img(path)\n",
        "image=tf.keras.preprocessing.image.img_to_array(image)\n",
        "lst=list(image.shape)\n",
        "image=image.reshape((lst[0],lst[1],lst[2],1))\n",
        "img=image.reshape(lst[0]*lst[1],lst[2],1)\n"
      ],
      "execution_count": 4,
      "outputs": []
    },
    {
      "cell_type": "code",
      "metadata": {
        "colab": {
          "base_uri": "https://localhost:8080/"
        },
        "id": "jSCRkE_ArF_0",
        "outputId": "e71cb712-97f4-4c7e-861b-e7f774123477"
      },
      "source": [
        "model = Sequential()\n",
        "model.add(Conv2D(1, 3,padding='same',input_shape=(img.shape)))\n",
        "model.add(MaxPooling2D((2,2)))\n",
        "model.add(Flatten())\n",
        "x=model.predict(image)\n",
        "print(x)\n"
      ],
      "execution_count": 5,
      "outputs": [
        {
          "output_type": "stream",
          "text": [
            "WARNING:tensorflow:Model was constructed with shape (None, 293132, 3, 1) for input KerasTensor(type_spec=TensorSpec(shape=(None, 293132, 3, 1), dtype=tf.float32, name='conv2d_1_input'), name='conv2d_1_input', description=\"created by layer 'conv2d_1_input'\"), but it was called on an input with incompatible shape (None, 722, 3, 1).\n",
            "[[-27.704264  -27.330694  -28.053406  ... -31.708279  -31.353115\n",
            "   -1.1139374]\n",
            " [-27.704264  -27.330694  -28.053406  ... -31.5755    -31.708279\n",
            "   -1.4875107]\n",
            " [-27.45109   -27.463472  -28.053406  ... -31.79789   -31.930668\n",
            "   -1.3547325]\n",
            " ...\n",
            " [-38.574562  -38.574562  -38.676548  ... -39.89712   -39.605\n",
            "  -11.701672 ]\n",
            " [-38.574562  -38.574562  -38.676548  ... -39.89712   -39.605\n",
            "  -11.701672 ]\n",
            " [-38.574562  -38.574562  -38.898926  ... -39.89712   -39.351826\n",
            "  -11.701672 ]]\n"
          ],
          "name": "stdout"
        }
      ]
    },
    {
      "cell_type": "code",
      "metadata": {
        "id": "zmHPcFt8rF_1"
      },
      "source": [
        ""
      ],
      "execution_count": null,
      "outputs": []
    },
    {
      "cell_type": "code",
      "metadata": {
        "id": "9lxRSU9PrF_1"
      },
      "source": [
        ""
      ],
      "execution_count": null,
      "outputs": []
    }
  ]
}
{
 "cells": [
  {
   "cell_type": "markdown",
   "metadata": {
    "id": "aylT8U2iRBSK"
   },
   "source": [
    "**Question:** Create a Dense layer with 5 neurons and apply this on tensor of (5,5) with a multiplier 2.5,apply a kernel regularizer L1 and initializer RandomUniform and print the output."
   ]
  },
  {
   "cell_type": "markdown",
   "metadata": {
    "id": "q6qRvhX9RBSO"
   },
   "source": [
    "**Description:** \n",
    "* Import the required libraries.\n",
    "* Create a tensor and a dense layer \n",
    "* Create a regularizer variable and initializer variable\n",
    "* Create a tensor with multiplier \n",
    "* Apply the layer on tensor and print the output.\n"
   ]
  },
  {
   "cell_type": "markdown",
   "metadata": {
    "id": "fBoG-CwjRBSP"
   },
   "source": [
    "**Sample Output format :**\n",
    "\n",
    "Tensor\n",
    "\n",
    "**Sample Output:**\n",
    "\n",
    "tf.Tensor(\n",
    "\n",
    "tf.Tensor(\n",
    "\n",
    "[[-0.2880118  -0.01102182 -0.04507724 -0.13479224  0.20802194]\n",
    "\n",
    " [-0.2880118  -0.01102182 -0.04507724 -0.13479224  0.20802194]\n",
    "\n",
    " [-0.2880118  -0.01102182 -0.04507724 -0.13479224  0.20802194]\n",
    "\n",
    " [-0.2880118  -0.01102182 -0.04507724 -0.13479224  0.20802194]\n",
    "\n",
    " [-0.2880118  -0.01102182 -0.04507724 -0.13479224  0.20802194]], shape=(5, 5), dtype=float32)"
   ]
  },
  {
   "cell_type": "markdown",
   "metadata": {
    "id": "UWunmyvcRBSQ"
   },
   "source": [
    "* Hint 01: use tensorflow library\n",
    "* Hint 02: create a dense layer using tf.keras.layers.Dense()\n",
    "* Hint 03: for regularizer tf.keras.regularizers,for initializers tf.keras.initializers"
   ]
  },
  {
   "cell_type": "code",
   "execution_count": null,
   "metadata": {
    "id": "TtK35qeQRBSQ"
   },
   "outputs": [],
   "source": [
    "#start your code here"
   ]
  },
  {
   "cell_type": "code",
   "execution_count": 1,
   "metadata": {
    "id": "CEXIq4DpRBSR"
   },
   "outputs": [],
   "source": [
    "#import library\n",
    "import tensorflow as tf"
   ]
  },
  {
   "cell_type": "code",
   "execution_count": 2,
   "metadata": {
    "id": "3kd6DEl8RBSR"
   },
   "outputs": [],
   "source": [
    "#create a tensor\n",
    "tensor = tf.ones(shape=(5,5))*2.5"
   ]
  },
  {
   "cell_type": "code",
   "execution_count": 3,
   "metadata": {
    "id": "1Vyg77UNRBSR"
   },
   "outputs": [],
   "source": [
    "initializer=tf.keras.initializers.RandomUniform()\n",
    "regularizer=tf.keras.regularizers.L1()"
   ]
  },
  {
   "cell_type": "code",
   "execution_count": 4,
   "metadata": {
    "id": "q4-qH2ZWRBSS"
   },
   "outputs": [],
   "source": [
    "#create a dense layer and pass the tensor through it\n",
    "layer=tf.keras.layers.Dense(5,input_dim=5,kernel_initializer=initializer,kernel_regularizer=regularizer)\n",
    "output=layer(tensor)"
   ]
  },
  {
   "cell_type": "code",
   "execution_count": 5,
   "metadata": {
    "colab": {
     "base_uri": "https://localhost:8080/"
    },
    "id": "jEmz30WZRBSS",
    "outputId": "ac5721d1-3f15-48d3-caab-f162fc6e7ef4"
   },
   "outputs": [
    {
     "name": "stdout",
     "output_type": "stream",
     "text": [
      "tf.Tensor(\n",
      "[[-0.2880118  -0.01102182 -0.04507724 -0.13479224  0.20802194]\n",
      " [-0.2880118  -0.01102182 -0.04507724 -0.13479224  0.20802194]\n",
      " [-0.2880118  -0.01102182 -0.04507724 -0.13479224  0.20802194]\n",
      " [-0.2880118  -0.01102182 -0.04507724 -0.13479224  0.20802194]\n",
      " [-0.2880118  -0.01102182 -0.04507724 -0.13479224  0.20802194]], shape=(5, 5), dtype=float32)\n"
     ]
    }
   ],
   "source": [
    "#print the output\n",
    "print(output)\n"
   ]
  },
  {
   "cell_type": "code",
   "execution_count": null,
   "metadata": {
    "id": "srh3aMpSRBST"
   },
   "outputs": [],
   "source": []
  }
 ],
 "metadata": {
  "accelerator": "GPU",
  "colab": {
   "collapsed_sections": [],
   "name": "tfc13q12_q2.ipynb",
   "provenance": []
  },
  "kernelspec": {
   "display_name": "Python 3",
   "language": "python",
   "name": "python3"
  },
  "language_info": {
   "codemirror_mode": {
    "name": "ipython",
    "version": 3
   },
   "file_extension": ".py",
   "mimetype": "text/x-python",
   "name": "python",
   "nbconvert_exporter": "python",
   "pygments_lexer": "ipython3",
   "version": "3.8.5"
  }
 },
 "nbformat": 4,
 "nbformat_minor": 1
}

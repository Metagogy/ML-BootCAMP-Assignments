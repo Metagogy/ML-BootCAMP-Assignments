{
 "cells": [
  {
   "cell_type": "markdown",
   "id": "asian-thread",
   "metadata": {},
   "source": [
    "### Description :\n",
    "Question:  Initialize the variables of strings  list of elements with using tf.constant , join them and print the result\n",
    "\n",
    "Library : [tensorflow]\n",
    "\n",
    "Category : Tensorflow\n"
   ]
  },
  {
   "cell_type": "markdown",
   "id": "fixed-collar",
   "metadata": {},
   "source": [
    "### Input format : \n",
    "List"
   ]
  },
  {
   "cell_type": "markdown",
   "id": "characteristic-philippines",
   "metadata": {},
   "source": [
    "### Output format :  \n",
    "Shape, tensor values and datatype"
   ]
  },
  {
   "cell_type": "markdown",
   "id": "superb-skating",
   "metadata": {},
   "source": [
    "### Sample input : \n",
    "List of elements"
   ]
  },
  {
   "cell_type": "markdown",
   "id": "fancy-increase",
   "metadata": {},
   "source": [
    "### Sample output :  \n",
    "tensor values"
   ]
  },
  {
   "cell_type": "markdown",
   "id": "worse-villa",
   "metadata": {},
   "source": [
    "### Hints:\n",
    "Hint01 : import tensorflow\n",
    "\n",
    "Hint02 : use tf.constant for inserting the values\n",
    "\n",
    "Hint03 :  join the list with using tf.strings.join"
   ]
  },
  {
   "cell_type": "code",
   "execution_count": 1,
   "id": "established-baking",
   "metadata": {},
   "outputs": [],
   "source": [
    "import tensorflow as tf"
   ]
  },
  {
   "cell_type": "code",
   "execution_count": 3,
   "id": "operating-manner",
   "metadata": {},
   "outputs": [],
   "source": [
    "a=tf.constant([['abc'],\n",
    "                 ['def']])"
   ]
  },
  {
   "cell_type": "code",
   "execution_count": 4,
   "id": "anticipated-editing",
   "metadata": {},
   "outputs": [
    {
     "data": {
      "text/plain": [
       "array([b'abc def', b'123 456'], dtype=object)"
      ]
     },
     "execution_count": 4,
     "metadata": {},
     "output_type": "execute_result"
    }
   ],
   "source": [
    "tf.strings.join(a,separator=\" \").numpy()"
   ]
  },
  {
   "cell_type": "code",
   "execution_count": null,
   "id": "matched-virginia",
   "metadata": {},
   "outputs": [],
   "source": []
  }
 ],
 "metadata": {
  "kernelspec": {
   "display_name": "Python 3",
   "language": "python",
   "name": "python3"
  },
  "language_info": {
   "codemirror_mode": {
    "name": "ipython",
    "version": 3
   },
   "file_extension": ".py",
   "mimetype": "text/x-python",
   "name": "python",
   "nbconvert_exporter": "python",
   "pygments_lexer": "ipython3",
   "version": "3.8.5"
  }
 },
 "nbformat": 4,
 "nbformat_minor": 5
}

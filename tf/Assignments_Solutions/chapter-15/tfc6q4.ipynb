{
 "cells": [
  {
   "cell_type": "markdown",
   "metadata": {},
   "source": [
    "**Question :** Create two (M x N) dimensional arrays X and Y and  Combine X and Y using hstack. Print X,Y and hstack of (X,Y)."
   ]
  },
  {
   "cell_type": "markdown",
   "metadata": {},
   "source": [
    "**Explanation:**\n",
    "\n",
    "    M-----→ number of rows.                                         \n",
    "    \n",
    "    N-----→ number of columns.                                      \n",
    "    \n",
    "    X-----→ NxM dimensional array.                                \n",
    "    \n",
    "    Y-----→ NxM dimensional array.\n",
    "    \n",
    "   hstack : Stack arrays in sequence horizontally (column wise).\n",
    "   \n",
    "   import numpy as np\n",
    "   \n",
    "   np.hstack([X,Y])"
   ]
  },
  {
   "cell_type": "markdown",
   "metadata": {},
   "source": [
    "**Level :** Hard"
   ]
  },
  {
   "cell_type": "markdown",
   "metadata": {},
   "source": [
    "**Input format :**\n",
    "\n",
    "The first line contains M,N space-separated values.\n",
    "\n",
    "in second and third lines, space-seperated values are rows of X.\n",
    "\n",
    "In the fourth and fifth lines, space-separated values are rows of Y."
   ]
  },
  {
   "cell_type": "markdown",
   "metadata": {},
   "source": [
    "**Output format :** Arrays "
   ]
  },
  {
   "cell_type": "markdown",
   "metadata": {},
   "source": [
    "**Sample input :**"
   ]
  },
  {
   "cell_type": "raw",
   "metadata": {},
   "source": [
    "2 3\n",
    "\n",
    "1 2 3\n",
    "4 5 6\n",
    "\n",
    "7 8 9\n",
    "10 11 12"
   ]
  },
  {
   "cell_type": "markdown",
   "metadata": {},
   "source": [
    "**Sample output :**"
   ]
  },
  {
   "cell_type": "raw",
   "metadata": {},
   "source": [
    "[[1 2 3]\n",
    " [4 5 6]]\n",
    " \n",
    "[[ 7  8  9]\n",
    " [10 11 12]]\n",
    "\n",
    "[[ 1  2  3  7  8  9]\n",
    " [ 4  5  6 10 11 12]]"
   ]
  },
  {
   "cell_type": "code",
   "execution_count": null,
   "metadata": {},
   "outputs": [],
   "source": [
    "# Start Your Code Here."
   ]
  },
  {
   "cell_type": "code",
   "execution_count": 3,
   "metadata": {},
   "outputs": [
    {
     "name": "stdout",
     "output_type": "stream",
     "text": [
      "2 5\n",
      "1 2 3 4 5\n",
      "6 7 8 9 10\n",
      "11 22 33 44 55\n",
      "66 77 88 99 11\n",
      "[[ 1  2  3  4  5]\n",
      " [ 6  7  8  9 10]]\n",
      "[[11 22 33 44 55]\n",
      " [66 77 88 99 11]]\n",
      "[[ 1  2  3  4  5 11 22 33 44 55]\n",
      " [ 6  7  8  9 10 66 77 88 99 11]]\n"
     ]
    }
   ],
   "source": [
    "import numpy as np\n",
    "m,n=list(map(int,input().split()))\n",
    "x=np.array([list(map(int,input().split())) for _ in range(m)])\n",
    "y=np.array([list(map(int,input().split())) for _ in range(m)])\n",
    "print(x)\n",
    "print(y)\n",
    "print(np.hstack([x,y]))"
   ]
  },
  {
   "cell_type": "code",
   "execution_count": null,
   "metadata": {},
   "outputs": [],
   "source": [
    "\n"
   ]
  }
 ],
 "metadata": {
  "kernelspec": {
   "display_name": "Python 3",
   "language": "python",
   "name": "python3"
  },
  "language_info": {
   "codemirror_mode": {
    "name": "ipython",
    "version": 3
   },
   "file_extension": ".py",
   "mimetype": "text/x-python",
   "name": "python",
   "nbconvert_exporter": "python",
   "pygments_lexer": "ipython3",
   "version": "3.8.3"
  }
 },
 "nbformat": 4,
 "nbformat_minor": 4
}

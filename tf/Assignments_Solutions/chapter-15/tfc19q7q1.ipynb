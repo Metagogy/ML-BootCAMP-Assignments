{
  "nbformat": 4,
  "nbformat_minor": 0,
  "metadata": {
    "kernelspec": {
      "display_name": "Python 3",
      "language": "python",
      "name": "python3"
    },
    "language_info": {
      "codemirror_mode": {
        "name": "ipython",
        "version": 3
      },
      "file_extension": ".py",
      "mimetype": "text/x-python",
      "name": "python",
      "nbconvert_exporter": "python",
      "pygments_lexer": "ipython3",
      "version": "3.7.3"
    },
    "colab": {
      "name": "tfc19q7q1.ipynb",
      "provenance": [],
      "collapsed_sections": []
    }
  },
  "cells": [
    {
      "cell_type": "markdown",
      "metadata": {
        "id": "ec39ZV-70sdy"
      },
      "source": [
        "**Question**:    Enter a space separated values and convert to list , use tf.random.normal and Build with layer as Bidirectional LSTM and print the shape of those list."
      ]
    },
    {
      "cell_type": "markdown",
      "metadata": {
        "id": "p6XdCdg80sd8"
      },
      "source": [
        "**Input format:**  \n",
        "\n",
        "\n",
        "**Output format:**  tuple\n",
        "\n",
        "\n"
      ]
    },
    {
      "cell_type": "markdown",
      "metadata": {
        "id": "XWjtnZ_d0sd9"
      },
      "source": [
        "**Sample input:**\n",
        "\n",
        "\n",
        "**Sample output:**\n",
        "\n",
        "\n",
        " (48, 8)\n"
      ]
    },
    {
      "cell_type": "markdown",
      "metadata": {
        "id": "4CZ5wqt80sd-"
      },
      "source": [
        "**Hint1:** Import tensorflow library\n",
        "\n",
        "**Hint2:** Use list with tf.random.normal\n",
        "\n",
        "**Hint3:** Use shape function to print count of array values\n",
        "\n"
      ]
    },
    {
      "cell_type": "code",
      "metadata": {
        "id": "BXqve0yY0sd-"
      },
      "source": [
        "# Start Your Code Here."
      ],
      "execution_count": null,
      "outputs": []
    },
    {
      "cell_type": "code",
      "metadata": {
        "colab": {
          "base_uri": "https://localhost:8080/"
        },
        "id": "snoV8SYN0sd_",
        "outputId": "57e48474-2494-4d21-e227-4d4df460f59f"
      },
      "source": [
        "# import libraries\n",
        "import tensorflow as tf\n",
        "from keras.layers import Bidirectional,LSTM\n",
        "a = tf.random.normal([48,32,2])\n",
        "bi_lstm= Bidirectional(LSTM(4))\n",
        "output = bi_lstm(a)\n",
        "print(output.shape)\n"
      ],
      "execution_count": 1,
      "outputs": [
        {
          "output_type": "stream",
          "text": [
            "(48, 8)\n"
          ],
          "name": "stdout"
        }
      ]
    },
    {
      "cell_type": "code",
      "metadata": {
        "id": "jhmCTzEF0seB"
      },
      "source": [
        ""
      ],
      "execution_count": null,
      "outputs": []
    }
  ]
}
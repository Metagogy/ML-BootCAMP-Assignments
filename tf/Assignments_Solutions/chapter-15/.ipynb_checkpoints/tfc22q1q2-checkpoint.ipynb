{
 "cells": [
  {
   "cell_type": "markdown",
   "metadata": {},
   "source": [
    "**Question** : Read a sentence as input, apply stemming, and print the result to the console.\n",
    "\n",
    "Note :\n",
    "\n",
    "Use nltk library.\n",
    "\n",
    "from nltk.stem import PorterStemmer"
   ]
  },
  {
   "cell_type": "markdown",
   "metadata": {},
   "source": [
    "**Level** : Easy"
   ]
  },
  {
   "cell_type": "markdown",
   "metadata": {},
   "source": [
    "**Input format** : Read a sentence from the standard input."
   ]
  },
  {
   "cell_type": "markdown",
   "metadata": {},
   "source": [
    "**Output format** : Input words to Stemming words"
   ]
  },
  {
   "cell_type": "markdown",
   "metadata": {},
   "source": [
    "**Sample Input** : \n",
    "    \n",
    "sentence = \"\"\"NLTK is a suite of libraries and programs for symbolic and statistical \n",
    "            natural language processing for English written in the Python programming language\"\"\"\n"
   ]
  },
  {
   "cell_type": "markdown",
   "metadata": {},
   "source": [
    "**Sample Output** : \n",
    "    \n",
    "NLTK  :  nltk\n",
    "    \n",
    "is  :  is\n",
    "    \n",
    "a  :  a\n",
    "    \n",
    "suite  :  suit\n",
    "    \n",
    "of  :  of\n",
    "    \n",
    "libraries  :  librari\n",
    "    \n",
    "and  :  and\n",
    "    \n",
    "programs  :  program\n",
    "    \n",
    "for  :  for\n",
    "    \n",
    "symbolic  :  symbol\n",
    "    \n",
    "and  :  and\n",
    "    \n",
    "statistical  :  statist\n",
    "    \n",
    "natural  :  natur\n",
    "    \n",
    "language  :  languag\n",
    "    \n",
    "processing  :  process\n",
    "    \n",
    "for  :  for\n",
    "    \n",
    "English  :  english\n",
    "    \n",
    "written  :  written\n",
    "    \n",
    "in  :  in\n",
    "    \n",
    "the  :  the\n",
    "    \n",
    "Python  :  python\n",
    "    \n",
    "programming  :  program\n",
    "    \n",
    "language  :  languag\n",
    "\n"
   ]
  },
  {
   "cell_type": "markdown",
   "metadata": {},
   "source": [
    "**SOLUTION**"
   ]
  },
  {
   "cell_type": "code",
   "execution_count": 1,
   "metadata": {},
   "outputs": [
    {
     "name": "stdout",
     "output_type": "stream",
     "text": [
      "NLTK  :  nltk\n",
      "is  :  is\n",
      "a  :  a\n",
      "suite  :  suit\n",
      "of  :  of\n",
      "libraries  :  librari\n",
      "and  :  and\n",
      "programs  :  program\n",
      "for  :  for\n",
      "symbolic  :  symbol\n",
      "and  :  and\n",
      "statistical  :  statist\n",
      "natural  :  natur\n",
      "language  :  languag\n",
      "processing  :  process\n",
      "for  :  for\n",
      "English  :  english\n",
      "written  :  written\n",
      "in  :  in\n",
      "the  :  the\n",
      "Python  :  python\n",
      "programming  :  program\n",
      "language  :  languag\n"
     ]
    }
   ],
   "source": [
    "from nltk.stem import PorterStemmer \n",
    "from nltk.tokenize import word_tokenize \n",
    "   \n",
    "stemmer = PorterStemmer() \n",
    "   \n",
    "sentence = \"\"\"NLTK is a suite of libraries and programs for symbolic and statistical \n",
    "            natural language processing for English written in the Python programming language\"\"\"\n",
    "words = word_tokenize(sentence) \n",
    "   \n",
    "for i in words: \n",
    "    print(i, \" : \", stemmer.stem(i))"
   ]
  },
  {
   "cell_type": "code",
   "execution_count": null,
   "metadata": {},
   "outputs": [],
   "source": []
  }
 ],
 "metadata": {
  "kernelspec": {
   "display_name": "Python 3",
   "language": "python",
   "name": "python3"
  },
  "language_info": {
   "codemirror_mode": {
    "name": "ipython",
    "version": 3
   },
   "file_extension": ".py",
   "mimetype": "text/x-python",
   "name": "python",
   "nbconvert_exporter": "python",
   "pygments_lexer": "ipython3",
   "version": "3.6.5"
  }
 },
 "nbformat": 4,
 "nbformat_minor": 2
}

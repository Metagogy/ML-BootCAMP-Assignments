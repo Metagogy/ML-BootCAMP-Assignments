{
 "cells": [
  {
   "cell_type": "markdown",
   "metadata": {
    "id": "HgBe5v-x1R79"
   },
   "source": [
    "**Question:** Build, compile, train and evaluate mnist model by using convolution"
   ]
  },
  {
   "cell_type": "markdown",
   "metadata": {
    "id": "dPB2kDwo1R8B"
   },
   "source": [
    "**Description:**\n",
    "* Load the mnist dataset using an in-built function\n",
    "* Split the dataset into training and testing samples\n",
    "* Normalize the training and testing sets\n",
    "* Reshape the x train and test\n",
    "* Convert y train and test to categorical\n",
    "*  Build the sequential model having a 2  layer with conv2D, 32 neurons,Batch Normalize, Max Pooling with pool size 2x2 , Drop out with 0.2 and 64 neurons,Batch Normalize, Max Pooling with pool size 2x2, Drop out with 0.2, create a dense layer with  ‘softmax’ as activation function. \n",
    "* Compile the model with loss as categorical cross-entropy and optimizer as SGD..\n",
    "* Train the model with 5 epochs, verbose as 0\n",
    "* Finally, evaluate the model and print the accuracy\n"
   ]
  },
  {
   "cell_type": "markdown",
   "metadata": {
    "id": "OBLLGhmg1R8C"
   },
   "source": [
    "* Hint1: Use Conv2D, Sequential model, to_categorical()\n",
    "* Hint2: Use reshape() function,MaxPooling(),Dropout,BatchNormalization\n",
    "* Hint3: Use evaluate() function\n"
   ]
  },
  {
   "cell_type": "code",
   "execution_count": null,
   "metadata": {
    "id": "Mpb5fu1v1R8C"
   },
   "outputs": [],
   "source": [
    "#Start your code here"
   ]
  },
  {
   "cell_type": "code",
   "execution_count": 1,
   "metadata": {
    "id": "7qSfYdVP1R8D"
   },
   "outputs": [],
   "source": [
    "# Import Libraries.\n",
    "import keras\n",
    "from keras import Sequential\n",
    "from keras.layers import Conv2D,MaxPooling2D,Dense,Flatten,Dropout,BatchNormalization\n",
    "from keras.datasets import mnist\n",
    "from keras.utils import to_categorical\n"
   ]
  },
  {
   "cell_type": "code",
   "execution_count": 2,
   "metadata": {
    "colab": {
     "base_uri": "https://localhost:8080/"
    },
    "id": "WH48CLdA1R8D",
    "outputId": "1fbb3cdb-93ab-4c10-84ec-6fa010dd1676"
   },
   "outputs": [
    {
     "name": "stdout",
     "output_type": "stream",
     "text": [
      "Downloading data from https://storage.googleapis.com/tensorflow/tf-keras-datasets/mnist.npz\n",
      "11493376/11490434 [==============================] - 0s 0us/step\n"
     ]
    }
   ],
   "source": [
    "# Load mnist data.\n",
    " \n",
    "(x_train,y_train),(x_test,y_test)=mnist.load_data()\n"
   ]
  },
  {
   "cell_type": "code",
   "execution_count": 3,
   "metadata": {
    "id": "dJD9FP8I1R8E"
   },
   "outputs": [],
   "source": [
    "# Normalize train and test data.\n",
    " \n",
    "x_train = x_train / 255.0\n",
    "x_test = x_test / 255.0\n"
   ]
  },
  {
   "cell_type": "code",
   "execution_count": 4,
   "metadata": {
    "id": "n3XRTUyM1R8E"
   },
   "outputs": [],
   "source": [
    "# Reshape x_train,x_test\n",
    " \n",
    "x_train=x_train.reshape(-1,28,28,1)\n",
    "x_test=x_test.reshape(-1,28,28,1)\n"
   ]
  },
  {
   "cell_type": "code",
   "execution_count": 5,
   "metadata": {
    "id": "ocpDt0441R8E"
   },
   "outputs": [],
   "source": [
    "#convert y_train,y_test to categorical\n",
    " \n",
    "y_train=to_categorical(y_train,10)\n",
    "y_test=to_categorical(y_test,10)\n"
   ]
  },
  {
   "cell_type": "code",
   "execution_count": 6,
   "metadata": {
    "id": "FSotgQgs1R8F"
   },
   "outputs": [],
   "source": [
    "# Build model architecture.\n",
    " \n",
    "model=Sequential()\n",
    "model.add(Conv2D(32,(3,3),input_shape=x_train.shape[1:]))\n",
    "model.add(BatchNormalization())\n",
    "model.add(MaxPooling2D(pool_size=(2,2)))\n",
    "model.add(Dropout(0.2))\n",
    "model.add(Conv2D(64,(3,3)))\n",
    "model.add(BatchNormalization())\n",
    "model.add(MaxPooling2D(pool_size=(2,2)))\n",
    "model.add(Dropout(0.2))\n",
    "model.add(Flatten())\n",
    "model.add(Dense(10,activation='softmax'))"
   ]
  },
  {
   "cell_type": "code",
   "execution_count": 7,
   "metadata": {
    "id": "gNT9vlbi1R8F"
   },
   "outputs": [],
   "source": [
    "# Compile the model\n",
    " \n",
    "model.compile(optimizer='SGD',loss='categorical_crossentropy',metrics=['accuracy'])\n"
   ]
  },
  {
   "cell_type": "code",
   "execution_count": 8,
   "metadata": {
    "id": "7QLXFbah1R8G"
   },
   "outputs": [],
   "source": [
    "# Fit or Train the model\n",
    " \n",
    "model.fit(x_train,y_train,epochs=5,verbose=0);\n"
   ]
  },
  {
   "cell_type": "code",
   "execution_count": 9,
   "metadata": {
    "id": "NJ1bnu3t1R8G"
   },
   "outputs": [],
   "source": [
    "# evaluate The model\n",
    "los,acc=model.evaluate(x_test,y_test,verbose=0);\n"
   ]
  },
  {
   "cell_type": "code",
   "execution_count": 10,
   "metadata": {
    "colab": {
     "base_uri": "https://localhost:8080/"
    },
    "id": "NDAgNAC71R8G",
    "outputId": "b62b742b-1b1a-4a88-bf83-d6b052a58060"
   },
   "outputs": [
    {
     "name": "stdout",
     "output_type": "stream",
     "text": [
      "0.9825000166893005\n"
     ]
    }
   ],
   "source": [
    "# Print Accuracy\n",
    "print(acc)"
   ]
  },
  {
   "cell_type": "code",
   "execution_count": null,
   "metadata": {
    "id": "Cpd8TMGD1R8H"
   },
   "outputs": [],
   "source": []
  },
  {
   "cell_type": "code",
   "execution_count": null,
   "metadata": {
    "id": "Gwl3zOUv1R8H"
   },
   "outputs": [],
   "source": []
  },
  {
   "cell_type": "code",
   "execution_count": null,
   "metadata": {
    "id": "IFs3arbw1R8H"
   },
   "outputs": [],
   "source": []
  }
 ],
 "metadata": {
  "accelerator": "GPU",
  "colab": {
   "collapsed_sections": [],
   "name": "tfc14q15_q1.ipynb",
   "provenance": []
  },
  "kernelspec": {
   "display_name": "Python 3",
   "language": "python",
   "name": "python3"
  },
  "language_info": {
   "codemirror_mode": {
    "name": "ipython",
    "version": 3
   },
   "file_extension": ".py",
   "mimetype": "text/x-python",
   "name": "python",
   "nbconvert_exporter": "python",
   "pygments_lexer": "ipython3",
   "version": "3.8.5"
  }
 },
 "nbformat": 4,
 "nbformat_minor": 1
}

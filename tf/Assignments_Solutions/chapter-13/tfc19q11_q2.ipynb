{
  "nbformat": 4,
  "nbformat_minor": 0,
  "metadata": {
    "kernelspec": {
      "display_name": "Python 3",
      "language": "python",
      "name": "python3"
    },
    "language_info": {
      "codemirror_mode": {
        "name": "ipython",
        "version": 3
      },
      "file_extension": ".py",
      "mimetype": "text/x-python",
      "name": "python",
      "nbconvert_exporter": "python",
      "pygments_lexer": "ipython3",
      "version": "3.7.3"
    },
    "colab": {
      "name": "tfc19q11_q2.ipynb",
      "provenance": [],
      "collapsed_sections": []
    },
    "accelerator": "GPU"
  },
  "cells": [
    {
      "cell_type": "markdown",
      "metadata": {
        "id": "HJRl13wC7aCL"
      },
      "source": [
        "**Question**:  Load, Split and normalize the mnist dataset. Build, compile and train the model using RMSprop optimizer, loss as \"binary_crossentropy\".\n"
      ]
    },
    {
      "cell_type": "markdown",
      "metadata": {
        "id": "QcErbLpL7aCP"
      },
      "source": [
        "**Description:**  \n",
        "* Load the mnist dataset using inbuilt dataset function and split into training and testing images.\n",
        "\n",
        "\n",
        "* Normalize the dataset images by dividing it with 255 for train and test images. \n",
        "\n",
        "\n",
        "* Build the mnist dataset model by using a sequential API and adding the first Bidirectional LSTM layer with\n",
        "\n",
        " 128 neurons and relu activation with input shape as x_train.shape Second layer with dropout has 0.2 neurons\n",
        "\n",
        " and the last layer is dense with 10 neurons with softmax activation as output layer. \n",
        " \n",
        " \n",
        "* Compile the model using ‘sgd’ optimizer, loss as \"categorical_crossentropy\" and train the model using 3 epochs and\n",
        "\n",
        " validation data has testing values.\n",
        "\n",
        "\n",
        "\n",
        "\n"
      ]
    },
    {
      "cell_type": "code",
      "metadata": {
        "id": "8R3G903u7aCa"
      },
      "source": [
        "# Start Your Code Here."
      ],
      "execution_count": null,
      "outputs": []
    },
    {
      "cell_type": "code",
      "metadata": {
        "id": "lFf6iFpj7aCa"
      },
      "source": [
        "# Import Libraries.\n",
        "import tensorflow as  tf\n",
        "import keras\n",
        "from keras.models import Sequential\n",
        "from keras.layers import Dense, Dropout, Bidirectional,LSTM\n",
        "from keras.utils import to_categorical\n",
        "from keras.datasets import mnist\n",
        " \n"
      ],
      "execution_count": 4,
      "outputs": []
    },
    {
      "cell_type": "code",
      "metadata": {
        "colab": {
          "base_uri": "https://localhost:8080/"
        },
        "id": "brwtNxV_7aCb",
        "outputId": "4890eb08-b09d-450e-cbc0-f139675c9628"
      },
      "source": [
        "# train test split\n",
        "(x_train, y_train), (x_test, y_test) = mnist.load_data()\n",
        " "
      ],
      "execution_count": 5,
      "outputs": [
        {
          "output_type": "stream",
          "text": [
            "Downloading data from https://storage.googleapis.com/tensorflow/tf-keras-datasets/mnist.npz\n",
            "11493376/11490434 [==============================] - 0s 0us/step\n"
          ],
          "name": "stdout"
        }
      ]
    },
    {
      "cell_type": "code",
      "metadata": {
        "id": "0zd9G33P7aCb"
      },
      "source": [
        "# normalize\n",
        "x_train = x_train / 255.0\n",
        "x_test = x_test / 255.0\n",
        " "
      ],
      "execution_count": 6,
      "outputs": []
    },
    {
      "cell_type": "code",
      "metadata": {
        "id": "PuE4RAFK7aCc"
      },
      "source": [
        "#to categorical\n",
        "y_train=to_categorical(y_train,10)\n",
        "y_test=to_categorical(y_test,10)\n"
      ],
      "execution_count": 7,
      "outputs": []
    },
    {
      "cell_type": "code",
      "metadata": {
        "colab": {
          "base_uri": "https://localhost:8080/"
        },
        "id": "1ijbEf3I7aCc",
        "outputId": "c18f6175-f564-4169-c988-0f7bfd2ccce2"
      },
      "source": [
        "# build model\n",
        "model = Sequential()\n",
        "model.add(Bidirectional(LSTM(128, input_shape=(x_train.shape[1:]), activation='relu')))\n",
        "model.add(Dropout(0.2))\n",
        "model.add(Dense(10, activation='softmax'))"
      ],
      "execution_count": 8,
      "outputs": [
        {
          "output_type": "stream",
          "text": [
            "WARNING:tensorflow:Layer lstm will not use cuDNN kernel since it doesn't meet the cuDNN kernel criteria. It will use generic GPU kernel as fallback when running on GPU\n",
            "WARNING:tensorflow:Layer lstm will not use cuDNN kernel since it doesn't meet the cuDNN kernel criteria. It will use generic GPU kernel as fallback when running on GPU\n",
            "WARNING:tensorflow:Layer lstm will not use cuDNN kernel since it doesn't meet the cuDNN kernel criteria. It will use generic GPU kernel as fallback when running on GPU\n"
          ],
          "name": "stdout"
        }
      ]
    },
    {
      "cell_type": "code",
      "metadata": {
        "id": "xyORUgaG7aCc"
      },
      "source": [
        "# compile the model\n",
        "model.compile(loss='binary_crossentropy', optimizer='RMSprop',metrics=['accuracy'])\n",
        " "
      ],
      "execution_count": 9,
      "outputs": []
    },
    {
      "cell_type": "code",
      "metadata": {
        "id": "VakZJpKG7aCd"
      },
      "source": [
        "# fit or train the model\n",
        "model.fit(x_train, y_train, epochs=3, validation_data=(x_test, y_test),verbose=0);"
      ],
      "execution_count": 10,
      "outputs": []
    },
    {
      "cell_type": "code",
      "metadata": {
        "id": "yo_GpLGP7aCd"
      },
      "source": [
        "# evaluate The model\n",
        "los,acc=model.evaluate(x_test,y_test,verbose=0);\n",
        " \n"
      ],
      "execution_count": 11,
      "outputs": []
    },
    {
      "cell_type": "code",
      "metadata": {
        "colab": {
          "base_uri": "https://localhost:8080/"
        },
        "id": "0Uc2t54L7aCd",
        "outputId": "3e86ad21-a7e5-4f41-ad5d-292446df96f1"
      },
      "source": [
        "# Print Accuracy\n",
        "print(acc)\n"
      ],
      "execution_count": 12,
      "outputs": [
        {
          "output_type": "stream",
          "text": [
            "0.970300018787384\n"
          ],
          "name": "stdout"
        }
      ]
    },
    {
      "cell_type": "code",
      "metadata": {
        "id": "EAUaC1Ad7aCe"
      },
      "source": [
        ""
      ],
      "execution_count": null,
      "outputs": []
    }
  ]
}
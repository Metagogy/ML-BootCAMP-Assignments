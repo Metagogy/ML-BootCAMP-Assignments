{
  "nbformat": 4,
  "nbformat_minor": 0,
  "metadata": {
    "kernelspec": {
      "display_name": "Python 3",
      "language": "python",
      "name": "python3"
    },
    "language_info": {
      "codemirror_mode": {
        "name": "ipython",
        "version": 3
      },
      "file_extension": ".py",
      "mimetype": "text/x-python",
      "name": "python",
      "nbconvert_exporter": "python",
      "pygments_lexer": "ipython3",
      "version": "3.7.3"
    },
    "colab": {
      "name": "tfc15q15q2.ipynb",
      "provenance": [],
      "collapsed_sections": []
    }
  },
  "cells": [
    {
      "cell_type": "markdown",
      "metadata": {
        "id": "2HZypHKys4XH"
      },
      "source": [
        "**Question**:  Read an image with the help of tensorflow and convert to array and apply Conv2D layers BatchNormalization,Conv2D,BatchNormalization on it and  print the array shape.\n",
        "\n",
        "\n"
      ]
    },
    {
      "cell_type": "markdown",
      "metadata": {
        "id": "jU4oIM0Hs4XS"
      },
      "source": [
        "**Description:**\n",
        "* Enter the single input string,  path of image \n",
        "* Reed the image  with the help of keras and tensorflow .\n",
        "* Apply preprocessing.image, use load_img() function\n",
        "* Use image_to_array(), reshape function\n",
        "* Create Sequential model and apply Conv2D with filter as 3x3 and padding as same\n",
        "* Use MaxPooling2D\n",
        "* Predict the model and print the array \n",
        "\n",
        "\n"
      ]
    },
    {
      "cell_type": "markdown",
      "metadata": {
        "id": "JZTebkU0s4XU"
      },
      "source": [
        "**Input format:**  String\n",
        "\n",
        "\n",
        "**Output format:**  ndarray\n",
        "\n",
        "\n"
      ]
    },
    {
      "cell_type": "markdown",
      "metadata": {
        "id": "ejMKoaS9s4XU"
      },
      "source": [
        "**Sample input:**\n",
        "\n",
        "\n",
        "\n",
        "**Sample output:**\n",
        "\n",
        "[[ 91.0951    85.64975   12.114864 ...  98.91874   90.012566  13.513168]\n",
        "\n",
        " [ 91.0951    85.64975   12.114864 ... 100.17621   90.97379   13.706427]\n",
        "\n",
        " [ 91.0951    85.64975   12.114864 ... 100.17621   90.97379   13.706427]\n",
        "\n",
        " ...\n",
        "\n",
        " [114.940254  97.989075  16.514252 ... 119.53957  100.44514   17.325138]\n",
        "\n",
        " [114.940254  97.989075  16.514252 ... 119.53957  100.44514   17.325138]\n",
        " \n",
        " [114.940254  97.989075  16.514252 ... 119.53957  100.44514   17.325138]]\n",
        " "
      ]
    },
    {
      "cell_type": "markdown",
      "metadata": {
        "id": "YBRSulrvs4XV"
      },
      "source": [
        "**Hint1:** Use tensorflow,keras,preprocessing.image\n",
        "\n",
        "**Hint2:** Use load_img(), img_to_array() function\n",
        "\n",
        "**Hint3:** Use reshape, Conv2D  function\n",
        "\n"
      ]
    },
    {
      "cell_type": "code",
      "metadata": {
        "id": "xbcS4PQCs4XV"
      },
      "source": [
        "# Start Your Code Here."
      ],
      "execution_count": null,
      "outputs": []
    },
    {
      "cell_type": "code",
      "metadata": {
        "id": "wcGGWwjRs4XW"
      },
      "source": [
        "# import libraries\n",
        "import tensorflow as tf\n",
        "import keras\n",
        "from keras import Sequential\n",
        "from keras.layers import Dense, Activation,Flatten\n",
        "from keras.layers import Conv2D, BatchNormalization\n",
        "\n",
        "\n"
      ],
      "execution_count": 1,
      "outputs": []
    },
    {
      "cell_type": "code",
      "metadata": {
        "id": "wsyZ2YoFs4XX"
      },
      "source": [
        "path='banana_1.jpg'\n",
        "image = tf.keras.preprocessing.image.load_img(path)\n",
        "image=tf.keras.preprocessing.image.img_to_array(image)\n",
        "lst=list(image.shape)\n",
        "image=image.reshape((lst[0],lst[1],lst[2],1))\n",
        "img=image.reshape(lst[0]*lst[1],lst[2],1)\n"
      ],
      "execution_count": 4,
      "outputs": []
    },
    {
      "cell_type": "code",
      "metadata": {
        "colab": {
          "base_uri": "https://localhost:8080/"
        },
        "id": "WDEOvY_Es4XY",
        "outputId": "48f1fe11-9c8b-4b3c-8ab4-0715e27367b1"
      },
      "source": [
        "model = Sequential()\n",
        "model.add(Conv2D(1, (3, 3),padding='same',input_shape=image.shape))\n",
        "model.add(BatchNormalization())\n",
        "model.add(Conv2D(1, (3, 3),padding='same'))\n",
        "model.add(BatchNormalization())\n",
        "model.add(Flatten())\n",
        "x=model.predict(image)\n",
        "print(x)\n"
      ],
      "execution_count": 5,
      "outputs": [
        {
          "output_type": "stream",
          "text": [
            "WARNING:tensorflow:Model was constructed with shape (None, 406, 722, 3, 1) for input KerasTensor(type_spec=TensorSpec(shape=(None, 406, 722, 3, 1), dtype=tf.float32, name='conv2d_2_input'), name='conv2d_2_input', description=\"created by layer 'conv2d_2_input'\"), but it was called on an input with incompatible shape (None, 722, 3, 1, 1).\n",
            "[[ 91.0951    85.64975   12.114864 ...  98.91874   90.012566  13.513168]\n",
            " [ 91.0951    85.64975   12.114864 ... 100.17621   90.97379   13.706427]\n",
            " [ 91.0951    85.64975   12.114864 ... 100.17621   90.97379   13.706427]\n",
            " ...\n",
            " [114.940254  97.989075  16.514252 ... 119.53957  100.44514   17.325138]\n",
            " [114.940254  97.989075  16.514252 ... 119.53957  100.44514   17.325138]\n",
            " [114.940254  97.989075  16.514252 ... 119.53957  100.44514   17.325138]]\n"
          ],
          "name": "stdout"
        }
      ]
    },
    {
      "cell_type": "code",
      "metadata": {
        "id": "TOAqOqoOs4XZ"
      },
      "source": [
        ""
      ],
      "execution_count": null,
      "outputs": []
    },
    {
      "cell_type": "code",
      "metadata": {
        "id": "XLpZwaLms4XZ"
      },
      "source": [
        ""
      ],
      "execution_count": null,
      "outputs": []
    }
  ]
}
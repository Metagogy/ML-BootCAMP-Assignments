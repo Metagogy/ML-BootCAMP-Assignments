{
 "cells": [
  {
   "cell_type": "markdown",
   "id": "pointed-arizona",
   "metadata": {},
   "source": [
    "### Description :\n",
    "Initialize the variable list of elements with using tf.constant, use activation function softplus them and print the result\n",
    "\n",
    "Library : [tensorflow]\n",
    "\n",
    "Category : Tensorflow"
   ]
  },
  {
   "cell_type": "markdown",
   "id": "turkish-trinidad",
   "metadata": {},
   "source": [
    "### Level: \n",
    "Easy"
   ]
  },
  {
   "cell_type": "markdown",
   "id": "interim-difficulty",
   "metadata": {},
   "source": [
    "### Input format : \n",
    "List"
   ]
  },
  {
   "cell_type": "markdown",
   "id": "referenced-parent",
   "metadata": {},
   "source": [
    "### Output format :  \n",
    "\n",
    "Shape, tensor values and datatype"
   ]
  },
  {
   "cell_type": "markdown",
   "id": "gross-insulation",
   "metadata": {},
   "source": [
    "### Sample input :\n",
    "\n",
    "List of elements\n"
   ]
  },
  {
   "cell_type": "markdown",
   "id": "civilian-aggregate",
   "metadata": {},
   "source": [
    "### Sample output :  \n",
    "tensor values"
   ]
  },
  {
   "cell_type": "markdown",
   "id": "applicable-electricity",
   "metadata": {},
   "source": [
    "### Hints\n",
    "Hint01 : import tensorflow\n",
    "\n",
    "Hint02 : use tf.constant for inserting the values\n",
    "\n",
    "Hint03 : Multiply both lists with using tf.softplus"
   ]
  },
  {
   "cell_type": "code",
   "execution_count": 3,
   "id": "requested-police",
   "metadata": {},
   "outputs": [],
   "source": [
    "import tensorflow as tf"
   ]
  },
  {
   "cell_type": "code",
   "execution_count": 4,
   "id": "asian-iceland",
   "metadata": {},
   "outputs": [
    {
     "ename": "SyntaxError",
     "evalue": "invalid syntax (<ipython-input-4-693950d5ca61>, line 1)",
     "output_type": "error",
     "traceback": [
      "\u001b[1;36m  File \u001b[1;32m\"<ipython-input-4-693950d5ca61>\"\u001b[1;36m, line \u001b[1;32m1\u001b[0m\n\u001b[1;33m    Computes softplus: log(exp(features) + 1).\u001b[0m\n\u001b[1;37m             ^\u001b[0m\n\u001b[1;31mSyntaxError\u001b[0m\u001b[1;31m:\u001b[0m invalid syntax\n"
     ]
    }
   ],
   "source": [
    "Computes softplus: log(exp(features) + 1)."
   ]
  },
  {
   "cell_type": "code",
   "execution_count": 5,
   "id": "hindu-comparison",
   "metadata": {},
   "outputs": [
    {
     "data": {
      "text/plain": [
       "<tf.Tensor: shape=(4,), dtype=float32, numpy=array([  0.6931472,   1.3132616,  50.       , 100.       ], dtype=float32)>"
      ]
     },
     "execution_count": 5,
     "metadata": {},
     "output_type": "execute_result"
    }
   ],
   "source": [
    "x = tf.constant([0.0, 1.0,20.0,40.0,50.0])\n",
    "tf.math.softplus(x)"
   ]
  },
  {
   "cell_type": "code",
   "execution_count": null,
   "id": "scheduled-quilt",
   "metadata": {},
   "outputs": [],
   "source": []
  }
 ],
 "metadata": {
  "kernelspec": {
   "display_name": "Python 3",
   "language": "python",
   "name": "python3"
  },
  "language_info": {
   "codemirror_mode": {
    "name": "ipython",
    "version": 3
   },
   "file_extension": ".py",
   "mimetype": "text/x-python",
   "name": "python",
   "nbconvert_exporter": "python",
   "pygments_lexer": "ipython3",
   "version": "3.8.5"
  }
 },
 "nbformat": 4,
 "nbformat_minor": 5
}

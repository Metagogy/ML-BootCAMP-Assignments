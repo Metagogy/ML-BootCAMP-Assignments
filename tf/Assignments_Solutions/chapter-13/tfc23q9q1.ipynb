{
 "cells": [
  {
   "cell_type": "markdown",
   "metadata": {},
   "source": [
    "**Question:** Print all the dates and time present of a given range "
   ]
  },
  {
   "cell_type": "markdown",
   "metadata": {},
   "source": [
    "**Level :01**"
   ]
  },
  {
   "cell_type": "markdown",
   "metadata": {},
   "source": [
    "**Input Format:**<br/>\n"
   ]
  },
  {
   "cell_type": "markdown",
   "metadata": {},
   "source": [
    "**Output Format:**<br/>\n",
    "Datetime Index\n"
   ]
  },
  {
   "cell_type": "markdown",
   "metadata": {},
   "source": [
    "**Sample Input:**<br/>\n"
   ]
  },
  {
   "cell_type": "markdown",
   "metadata": {},
   "source": [
    "**Sample Output:**<br/>\n",
    "DatetimeIndex(['2018-04-20 00:00:00', '2018-04-20 01:00:00',<br/>\n",
    "               '2018-04-20 02:00:00', '2018-04-20 03:00:00',<br/>\n",
    "               '2018-04-20 04:00:00', '2018-04-20 05:00:00',<br/>\n",
    "               '2018-04-20 06:00:00', '2018-04-20 07:00:00',<br/>\n",
    "               '2018-04-20 08:00:00', '2018-04-20 09:00:00',<br/>\n",
    "               ...<br/>\n",
    "               '2018-04-29 15:00:00', '2018-04-29 16:00:00',<br/>\n",
    "               '2018-04-29 17:00:00', '2018-04-29 18:00:00',<br/>\n",
    "               '2018-04-29 19:00:00', '2018-04-29 20:00:00',<br/>\n",
    "               '2018-04-29 21:00:00', '2018-04-29 22:00:00',<br/>\n",
    "               '2018-04-29 23:00:00', '2018-04-30 00:00:00'],<br/>\n",
    "              dtype='datetime64[ns]', length=241, freq='H')"
   ]
  },
  {
   "cell_type": "markdown",
   "metadata": {},
   "source": [
    "**SOLUTION**"
   ]
  },
  {
   "cell_type": "code",
   "execution_count": 2,
   "metadata": {},
   "outputs": [],
   "source": [
    "#Start your code from here"
   ]
  },
  {
   "cell_type": "code",
   "execution_count": 3,
   "metadata": {},
   "outputs": [
    {
     "name": "stdout",
     "output_type": "stream",
     "text": [
      "DatetimeIndex(['2018-04-20 00:00:00', '2018-04-20 01:00:00',\n",
      "               '2018-04-20 02:00:00', '2018-04-20 03:00:00',\n",
      "               '2018-04-20 04:00:00', '2018-04-20 05:00:00',\n",
      "               '2018-04-20 06:00:00', '2018-04-20 07:00:00',\n",
      "               '2018-04-20 08:00:00', '2018-04-20 09:00:00',\n",
      "               ...\n",
      "               '2018-04-29 15:00:00', '2018-04-29 16:00:00',\n",
      "               '2018-04-29 17:00:00', '2018-04-29 18:00:00',\n",
      "               '2018-04-29 19:00:00', '2018-04-29 20:00:00',\n",
      "               '2018-04-29 21:00:00', '2018-04-29 22:00:00',\n",
      "               '2018-04-29 23:00:00', '2018-04-30 00:00:00'],\n",
      "              dtype='datetime64[ns]', length=241, freq='H')\n"
     ]
    }
   ],
   "source": [
    "#import required libraries\n",
    "import pandas as pd\n",
    "from datetime import datetime\n",
    "import numpy as np\n",
    "date_rng = pd.date_range(start='2018/04/20', end='2018/04/30',freq='H')\n",
    "print(date_rng)\n",
    "\n"
   ]
  },
  {
   "cell_type": "code",
   "execution_count": null,
   "metadata": {},
   "outputs": [],
   "source": []
  }
 ],
 "metadata": {
  "kernelspec": {
   "display_name": "Python 3",
   "language": "python",
   "name": "python3"
  },
  "language_info": {
   "codemirror_mode": {
    "name": "ipython",
    "version": 3
   },
   "file_extension": ".py",
   "mimetype": "text/x-python",
   "name": "python",
   "nbconvert_exporter": "python",
   "pygments_lexer": "ipython3",
   "version": "3.7.3"
  }
 },
 "nbformat": 4,
 "nbformat_minor": 2
}

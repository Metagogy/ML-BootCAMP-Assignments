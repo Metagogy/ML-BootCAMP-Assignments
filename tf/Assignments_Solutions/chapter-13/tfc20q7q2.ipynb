{
 "cells": [
  {
   "cell_type": "markdown",
   "metadata": {},
   "source": [
    "**Question:** Apply parts of speech for a given paragraph, and remove stopwords to convert it into an array form "
   ]
  },
  {
   "cell_type": "markdown",
   "metadata": {},
   "source": [
    "**Description :** \n",
    "* Import necessary libraries \n",
    "* Apply re to remove special characters \n",
    "* Apply word tokenize and stopwords"
   ]
  },
  {
   "cell_type": "markdown",
   "metadata": {},
   "source": [
    "**Output format:** only print without stopwords\n",
    "\n",
    "\n",
    "**Output Format:** [('In', 'IN'), ('corpus', 'JJ'), ('linguistics', 'NNS'), ('parof-speech', 'JJ'), ('tagging', 'NN'), ('also', 'RB'), ('called', 'VBD'), ('grammatical', 'JJ'), ('tagging', 'NN')]\n"
   ]
  },
  {
   "cell_type": "code",
   "execution_count": 1,
   "metadata": {},
   "outputs": [
    {
     "name": "stdout",
     "output_type": "stream",
     "text": [
      "[('In', 'IN'), ('corpus', 'NN'), ('linguistics', 'NNS'), (',', ','), ('part-of-speech', 'JJ'), ('tagging', 'NN'), ('also', 'RB'), ('called', 'VBD'), ('grammatical', 'JJ'), ('tagging', 'NN'), ('is', 'VBZ'), ('the', 'DT'), ('process', 'NN'), ('of', 'IN'), ('marking', 'VBG'), ('up', 'RP'), ('a', 'DT'), ('word', 'NN')]\n"
     ]
    }
   ],
   "source": [
    "from nltk.tag import pos_tag\n",
    "from nltk.tokenize import word_tokenize\n",
    "data=\"In corpus linguistics, part-of-speech tagging also called grammatical tagging is the process of marking up a word\"\n",
    "print(pos_tag(word_tokenize(data)))"
   ]
  },
  {
   "cell_type": "code",
   "execution_count": null,
   "metadata": {},
   "outputs": [],
   "source": []
  }
 ],
 "metadata": {
  "kernelspec": {
   "display_name": "Python 3",
   "language": "python",
   "name": "python3"
  },
  "language_info": {
   "codemirror_mode": {
    "name": "ipython",
    "version": 3
   },
   "file_extension": ".py",
   "mimetype": "text/x-python",
   "name": "python",
   "nbconvert_exporter": "python",
   "pygments_lexer": "ipython3",
   "version": "3.8.5"
  }
 },
 "nbformat": 4,
 "nbformat_minor": 2
}

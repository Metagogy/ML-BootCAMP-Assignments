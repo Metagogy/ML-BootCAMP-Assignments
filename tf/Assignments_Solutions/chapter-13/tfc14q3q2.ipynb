{
 "cells": [
  {
   "cell_type": "markdown",
   "metadata": {},
   "source": [
    "**Question** : Construct a sequential model to demonstrate the Maximum Pooling Layer."
   ]
  },
  {
   "cell_type": "markdown",
   "metadata": {},
   "source": [
    "**Description** :\n",
    "    \n",
    "Define a single input sample that has one channel and is a 6 pixel by 6 pixel square with all 0 values and a two-pixel wide horizontal line in the center.\n",
    "\n",
    "Define a sequential model with the shape (6, 6, 1) and a single hidden convolutional layer with a single filter with the shape of (3x3) pixels having ‘relu’ activation\n",
    "\n",
    "Define MaxPooling2D layer\n",
    "\n",
    "Define our own 3×3 filter that will detect horizontal lines. \n",
    "\n",
    "Apply the filter to our input sample by using the predict() function on the model.\n",
    "\n",
    "Print the result i.e., four-dimensional output with one batch, number of rows and columns, and one filter"
   ]
  },
  {
   "cell_type": "markdown",
   "metadata": {},
   "source": [
    "\n",
    "**Level** : Easy"
   ]
  },
  {
   "cell_type": "markdown",
   "metadata": {},
   "source": [
    "**Input format** : Array\n",
    "\n"
   ]
  },
  {
   "cell_type": "markdown",
   "metadata": {},
   "source": [
    "**Output format** : Array\n",
    "\n"
   ]
  },
  {
   "cell_type": "markdown",
   "metadata": {},
   "source": [
    "**Sample input** : 6 x 6 matrix\n",
    "    \n",
    "[[0, 0, 0, 0, 0, 0],\n",
    "\n",
    " [0, 0, 0, 0, 0, 0],\n",
    "\n",
    " [1, 1, 1, 1, 1, 1],\n",
    "\n",
    " [1, 1, 1, 1, 1, 1],\n",
    " \n",
    " [0, 0, 0, 0, 0, 0],\n",
    "\n",
    " [0, 0, 0, 0, 0, 0]]\n",
    "\n"
   ]
  },
  {
   "cell_type": "markdown",
   "metadata": {},
   "source": [
    "**Sample output** : 2 x 2 matrix\n",
    "    \n",
    "[3.0, 3.0]\n",
    "\n",
    "[3.0, 3.0]\n"
   ]
  },
  {
   "cell_type": "markdown",
   "metadata": {},
   "source": [
    "**Solution** :"
   ]
  },
  {
   "cell_type": "code",
   "execution_count": null,
   "metadata": {},
   "outputs": [],
   "source": [
    "from tensorflow import keras\n",
    "from numpy import asarray\n",
    "from tensorflow.keras.models import Sequential\n",
    "from tensorflow.keras.layers import Conv2D,MaxPooling2D\n",
    "input_data = [[0, 0, 0, 0, 0, 0],\n",
    "[0, 0, 0, 0, 0, 0],\n",
    "[1, 1, 1, 1, 1, 1],\n",
    "[1, 1, 1, 1, 1, 1],\n",
    "[0, 0, 0, 0, 0, 0],\n",
    "[0, 0, 0, 0, 0, 0]]\n",
    "input_data = asarray(input_data)\n",
    "input_data = input_data.reshape(1, 6, 6, 1)\n",
    "model = Sequential()\n",
    "model.add(keras.layers.Conv2D(1, (3,3), activation='relu', input_shape=(6, 6, 1)))\n",
    "model.add(MaxPooling2D())\n",
    "filterr = [[[[0]],[[0]],[[0]]],\n",
    "            [[[1]],[[1]],[[1]]],\n",
    "            [[[0]],[[0]],[[0]]]]\n",
    "weights = [asarray(filterr), asarray([0.0])]\n",
    "model.set_weights(weights)\n",
    "x = model.predict(input_data)\n",
    "for i in range(x.shape[1]):\n",
    "    print([x[0,i,j,0] for j in range(x.shape[2])])"
   ]
  }
 ],
 "metadata": {
  "kernelspec": {
   "display_name": "Python 3",
   "language": "python",
   "name": "python3"
  },
  "language_info": {
   "codemirror_mode": {
    "name": "ipython",
    "version": 3
   },
   "file_extension": ".py",
   "mimetype": "text/x-python",
   "name": "python",
   "nbconvert_exporter": "python",
   "pygments_lexer": "ipython3",
   "version": "3.9.0"
  }
 },
 "nbformat": 4,
 "nbformat_minor": 4
}

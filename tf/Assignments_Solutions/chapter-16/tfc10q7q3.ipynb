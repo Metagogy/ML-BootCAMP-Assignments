{
 "cells": [
  {
   "cell_type": "markdown",
   "id": "derived-maine",
   "metadata": {},
   "source": [
    "### Question:  \n",
    "    \n",
    "Initialize list of elements   with using tf.constant, and find argmax from the list then and print the result"
   ]
  },
  {
   "cell_type": "markdown",
   "id": "widespread-scheme",
   "metadata": {},
   "source": [
    "### Level\n",
    "\n",
    "Easy"
   ]
  },
  {
   "cell_type": "markdown",
   "id": "prescribed-genome",
   "metadata": {},
   "source": [
    "### Explanation:\n",
    "Library : \n",
    "[tensorflow]\n",
    "\n",
    "Category : \n",
    "Tensorflow"
   ]
  },
  {
   "cell_type": "markdown",
   "id": "hairy-island",
   "metadata": {},
   "source": [
    "### Input format : \n",
    "List\n",
    "### Output format :  \n",
    "Shape, tensor values and datatype"
   ]
  },
  {
   "cell_type": "markdown",
   "id": "charged-reservation",
   "metadata": {},
   "source": [
    "### Sample input : \n",
    "List of elements\n",
    "### Sample output :  \n",
    "print the max of the list"
   ]
  },
  {
   "cell_type": "markdown",
   "id": "western-colorado",
   "metadata": {},
   "source": [
    "### Hints:\n",
    "Hint01 : import tensorflow\n",
    "    \n",
    "Hint02 : use tf.constant for inserting the values\n",
    "    \n",
    "Hint03 :tf.math.argmax()"
   ]
  },
  {
   "cell_type": "code",
   "execution_count": null,
   "id": "varying-obligation",
   "metadata": {},
   "outputs": [],
   "source": [
    "import tensorflow as tf\n",
    "\n",
    "import tensorflow as tf\n",
    "a = [1, 10, 26.9, 2.8, ]\n",
    "b = tf.math.argmax(input = a)\n",
    "c = tf.keras.backend.eval(b)\n",
    "a[c]\n"
   ]
  }
 ],
 "metadata": {
  "kernelspec": {
   "display_name": "Python 3",
   "language": "python",
   "name": "python3"
  },
  "language_info": {
   "codemirror_mode": {
    "name": "ipython",
    "version": 3
   },
   "file_extension": ".py",
   "mimetype": "text/x-python",
   "name": "python",
   "nbconvert_exporter": "python",
   "pygments_lexer": "ipython3",
   "version": "3.8.5"
  }
 },
 "nbformat": 4,
 "nbformat_minor": 5
}

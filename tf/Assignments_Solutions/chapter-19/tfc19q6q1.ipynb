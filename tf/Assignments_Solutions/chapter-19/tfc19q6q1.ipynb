{
  "nbformat": 4,
  "nbformat_minor": 0,
  "metadata": {
    "kernelspec": {
      "display_name": "Python 3",
      "language": "python",
      "name": "python3"
    },
    "language_info": {
      "codemirror_mode": {
        "name": "ipython",
        "version": 3
      },
      "file_extension": ".py",
      "mimetype": "text/x-python",
      "name": "python",
      "nbconvert_exporter": "python",
      "pygments_lexer": "ipython3",
      "version": "3.7.3"
    },
    "colab": {
      "name": "tfc19q6q1.ipynb",
      "provenance": [],
      "collapsed_sections": []
    }
  },
  "cells": [
    {
      "cell_type": "markdown",
      "metadata": {
        "id": "JP04c7kh0FtB"
      },
      "source": [
        "**Question**:   Enter a space separated values and convert to list , use tf.random.normal and Build with layer as GRU and print the shape of those list."
      ]
    },
    {
      "cell_type": "markdown",
      "metadata": {
        "id": "VRmhdkVr0FtO"
      },
      "source": [
        "**Input format:**  \n",
        "\n",
        "**Output format:**  tuple\n",
        "\n",
        "\n"
      ]
    },
    {
      "cell_type": "markdown",
      "metadata": {
        "id": "jVN-PvYn0FtQ"
      },
      "source": [
        "**Sample input:**\n",
        "\n",
        "\n",
        "\n",
        "**Sample output:**\n",
        "\n",
        "\n",
        " (48, 4)\n"
      ]
    },
    {
      "cell_type": "markdown",
      "metadata": {
        "id": "x41gLehn0FtR"
      },
      "source": [
        "**Hint1:** Import tensorflow library\n",
        "\n",
        "**Hint2:** Use list with tf.random.normal\n",
        "\n",
        "**Hint3:** Use shape function to print count of array values\n",
        "\n"
      ]
    },
    {
      "cell_type": "code",
      "metadata": {
        "id": "jhw-YNDl0FtS"
      },
      "source": [
        "# Start Your Code Here."
      ],
      "execution_count": null,
      "outputs": []
    },
    {
      "cell_type": "code",
      "metadata": {
        "colab": {
          "base_uri": "https://localhost:8080/"
        },
        "id": "bCUPBTS10FtT",
        "outputId": "b5854757-1b88-454f-9dfe-0d447ee707fa"
      },
      "source": [
        "# import libraries\n",
        "import tensorflow as tf\n",
        "a = tf.random.normal([48,64,2])\n",
        "gru = tf.keras.layers.GRU(4)\n",
        "output = gru(a)\n",
        "print(output.shape)\n",
        "\n"
      ],
      "execution_count": 1,
      "outputs": [
        {
          "output_type": "stream",
          "text": [
            "(48, 4)\n"
          ],
          "name": "stdout"
        }
      ]
    },
    {
      "cell_type": "code",
      "metadata": {
        "id": "N3XXzxN60FtU"
      },
      "source": [
        ""
      ],
      "execution_count": null,
      "outputs": []
    }
  ]
}
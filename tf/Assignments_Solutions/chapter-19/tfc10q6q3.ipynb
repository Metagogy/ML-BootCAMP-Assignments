{
 "cells": [
  {
   "cell_type": "markdown",
   "id": "accomplished-starter",
   "metadata": {},
   "source": [
    "### Question:  \n",
    "    \n",
    "Initialize two variables list of elements with using tf.constant, add them and print the result"
   ]
  },
  {
   "cell_type": "markdown",
   "id": "annual-humidity",
   "metadata": {},
   "source": [
    "### Explanation: \n",
    "\n",
    "Library : \n",
    "\n",
    "[tensorflow]\n",
    "Category : \n",
    "\n",
    "Tensorflow"
   ]
  },
  {
   "cell_type": "markdown",
   "id": "connected-rachel",
   "metadata": {},
   "source": [
    "### Level:\n",
    "Easy"
   ]
  },
  {
   "cell_type": "markdown",
   "id": "aerial-netherlands",
   "metadata": {},
   "source": [
    "### Input format : \n",
    "List\n",
    "### Output format : \n",
    "Shape, tensor values and datatype"
   ]
  },
  {
   "cell_type": "markdown",
   "id": "theoretical-tuition",
   "metadata": {},
   "source": [
    "### Sample input : \n",
    "List of elements\n",
    "### Sample output :  \n",
    "tensor values"
   ]
  },
  {
   "cell_type": "markdown",
   "id": "serial-hierarchy",
   "metadata": {},
   "source": [
    "### Hints:\n",
    "Hint01 : import tensorflow\n",
    "    \n",
    "Hint02 : use tf.constant for inserting the values\n",
    "    \n",
    "Hint03 : add both lists with using tf.math.add"
   ]
  },
  {
   "cell_type": "code",
   "execution_count": 1,
   "id": "stopped-sodium",
   "metadata": {},
   "outputs": [
    {
     "name": "stdout",
     "output_type": "stream",
     "text": [
      "tf.Tensor([ 6  8 12], shape=(3,), dtype=int32)\n"
     ]
    }
   ],
   "source": [
    "import tensorflow as tf\n",
    "\n",
    "\n",
    "x1 = tf.constant([1,2,4])\n",
    "x2 = tf.constant([5,6,8])\n",
    "\n",
    "\n",
    "result = tf.add(x1, x2)\n",
    "\n",
    "print(result)"
   ]
  },
  {
   "cell_type": "code",
   "execution_count": null,
   "id": "divided-gazette",
   "metadata": {},
   "outputs": [],
   "source": []
  }
 ],
 "metadata": {
  "kernelspec": {
   "display_name": "Python 3",
   "language": "python",
   "name": "python3"
  },
  "language_info": {
   "codemirror_mode": {
    "name": "ipython",
    "version": 3
   },
   "file_extension": ".py",
   "mimetype": "text/x-python",
   "name": "python",
   "nbconvert_exporter": "python",
   "pygments_lexer": "ipython3",
   "version": "3.8.5"
  }
 },
 "nbformat": 4,
 "nbformat_minor": 5
}

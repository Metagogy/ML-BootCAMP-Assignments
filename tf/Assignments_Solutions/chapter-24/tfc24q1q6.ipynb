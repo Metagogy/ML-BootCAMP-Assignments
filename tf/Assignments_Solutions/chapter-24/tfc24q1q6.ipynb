{
 "cells": [
  {
   "cell_type": "markdown",
   "metadata": {},
   "source": [
    "**Question**: Build, compile, train and evaluate the cats vs dogs sequential model.\n"
   ]
  },
  {
   "cell_type": "markdown",
   "metadata": {},
   "source": [
    "**Description:**\n",
    "    \n",
    "Load the cats vs dogs dataset into train and validation paths. \n",
    "\n",
    "Normalize the dataset and perform data augmentation. Mention target size as (150,150), class mode as ‘binary’ and batch size as 32 using flow_from_directory().\n",
    "\n",
    "Build the three layer model where 2 layers have 32 neurons and 1 layer have 64 neurons. Use relu activation function. Flatten the layers and use dropout as 0.5. \n",
    "\n",
    "Compile the model using Adam optimizer with learning rate 0.01 and loss as binary cross entropy.\n",
    "\n",
    "Train the model using 5 epochs and mention steps per epoch, validation steps \n",
    "\n",
    "Evaluate the model using validation data and print accuracy\n"
   ]
  },
  {
   "cell_type": "markdown",
   "metadata": {},
   "source": [
    "**Level**: Hard"
   ]
  },
  {
   "cell_type": "markdown",
   "metadata": {},
   "source": [
    "**Input format**: Dataset\n"
   ]
  },
  {
   "cell_type": "markdown",
   "metadata": {},
   "source": [
    "**Output format**: Accuracy\n"
   ]
  },
  {
   "cell_type": "markdown",
   "metadata": {},
   "source": [
    "**Sample Input**: Cats vs Dogs dataset\n"
   ]
  },
  {
   "cell_type": "markdown",
   "metadata": {},
   "source": [
    "**Sample Output**: 0.52300000\n"
   ]
  },
  {
   "cell_type": "markdown",
   "metadata": {},
   "source": [
    "**SOLUTION**\n"
   ]
  },
  {
   "cell_type": "code",
   "execution_count": null,
   "metadata": {},
   "outputs": [],
   "source": [
    "import keras\n",
    "import tensorflow as tf\n",
    "from tensorflow.keras.models import Model, Sequential\n",
    "from tensorflow.keras import optimizers\n",
    "from tensorflow.keras.optimizers import Adam\n",
    "from tensorflow.keras.layers import Dense, Dropout, Flatten\n",
    "from tensorflow.keras.preprocessing.image import ImageDataGenerator\n",
    "from tensorflow.keras.layers import Input, Add, Dense, Activation\n",
    "from tensorflow.keras.layers import Flatten, Conv2D,MaxPooling2D\n",
    "\n",
    "train_path = \"/home/metagogy/cats vs dogs/train\"\n",
    "valid_path = \"/home/metagogy/cats vs dogs/validation\"\n",
    "\n",
    "image_size = 150\n",
    "batch_size = 32\n",
    "\n",
    "train_data_gen = ImageDataGenerator(rescale=1./255,\n",
    "                                    rotation_range=40,\n",
    "                                    width_shift_range=0.15,\n",
    "                                    height_shift_range=0.15,\n",
    "                                    shear_range=0.15,\n",
    "                                    zoom_range=0.15,\n",
    "                                    horizontal_flip=True,\n",
    "                                    fill_mode='nearest')\n",
    "valid_data_gen = ImageDataGenerator(rescale=1./255)\n",
    "\n",
    "train_generator = train_data_gen.flow_from_directory(train_path, target_size=(image_size,image_size), \n",
    "                                                     batch_size=batch_size, class_mode='binary')\n",
    "valid_generator = valid_data_gen.flow_from_directory(valid_path, target_size=(image_size,image_size), \n",
    "                                                     batch_size=batch_size,class_mode='binary')\n",
    "\n",
    "model = Sequential()\n",
    "model.add(Conv2D(32, (3, 3), input_shape=(image_size, image_size, 3)))\n",
    "model.add(Activation('relu'))\n",
    "model.add(MaxPooling2D(pool_size=(2, 2)))\n",
    "\n",
    "model.add(Conv2D(32, (3, 3)))\n",
    "model.add(Activation('relu'))\n",
    "model.add(MaxPooling2D(pool_size=(2, 2)))\n",
    "\n",
    "model.add(Conv2D(64, (3, 3)))\n",
    "model.add(Activation('relu'))\n",
    "model.add(MaxPooling2D(pool_size=(2, 2)))\n",
    "\n",
    "model.add(Flatten())  \n",
    "model.add(Dense(64))\n",
    "model.add(Activation('relu'))\n",
    "model.add(Dropout(0.5))\n",
    "model.add(Dense(1))\n",
    "model.add(Activation('sigmoid'))\n",
    "\n",
    "optimizer = Adam(lr=0.01)\n",
    "model.compile(loss='binary_crossentropy',optimizer=optimizer,metrics=['accuracy'])\n",
    "\n",
    "results = model.fit_generator(train_generator,steps_per_epoch = train_generator.n//batch_size,epochs=5,validation_steps=valid_generator.n//batch_size,validation_data=valid_generator)\n",
    "\n",
    "results = model.evaluate_generator(valid_generator)\n",
    "\n",
    "print(results[1])\n"
   ]
  }
 ],
 "metadata": {
  "kernelspec": {
   "display_name": "Python 3",
   "language": "python",
   "name": "python3"
  },
  "language_info": {
   "codemirror_mode": {
    "name": "ipython",
    "version": 3
   },
   "file_extension": ".py",
   "mimetype": "text/x-python",
   "name": "python",
   "nbconvert_exporter": "python",
   "pygments_lexer": "ipython3",
   "version": "3.7.3"
  }
 },
 "nbformat": 4,
 "nbformat_minor": 2
}

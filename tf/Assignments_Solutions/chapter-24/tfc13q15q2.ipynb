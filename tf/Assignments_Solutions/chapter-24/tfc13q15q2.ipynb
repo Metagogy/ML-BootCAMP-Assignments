{
 "cells": [
  {
   "cell_type": "markdown",
   "metadata": {},
   "source": [
    "**Question :** Create a numpy array of range 16 and reshape it to (4,4) ,convert them to float values and print the output\n"
   ]
  },
  {
   "cell_type": "markdown",
   "metadata": {},
   "source": [
    "**Explanation:**\n",
    "* Create an array  and reshape it,convert to float32.\n",
    "* Print the result.\n"
   ]
  },
  {
   "cell_type": "markdown",
   "metadata": {},
   "source": [
    "**Sample Output:**\n",
    "\n",
    "Numpy array\n",
    "\n",
    "\n",
    "**Sample Output:**\n",
    "\n",
    "tf.Tensor(\n",
    "\n",
    "[[ 0.15875655 -1.8851566   1.1196162  -2.2023537   1.5301061 ]\n",
    "\n",
    "[ 0.15875655 -1.8851566   1.1196162  -2.2023537   1.5301061 ]\n",
    "\n",
    "[ 0.15875655 -1.8851566   1.1196162  -2.2023537   1.5301061 ]\n",
    "\n",
    "[ 0.15875655 -1.8851566   1.1196162  -2.2023537   1.5301061 ]], shape=(4, 5), dtype=float32)"
   ]
  },
  {
   "cell_type": "markdown",
   "metadata": {},
   "source": [
    "* Hint 01: create a array using numpy.arange()\n",
    "* Hint 02: for reshape numpy.reshape()\n",
    "* Hint 03: for typecast astype(numpy)\n"
   ]
  },
  {
   "cell_type": "code",
   "execution_count": 1,
   "metadata": {},
   "outputs": [],
   "source": [
    "#start your code here"
   ]
  },
  {
   "cell_type": "code",
   "execution_count": 1,
   "metadata": {},
   "outputs": [],
   "source": [
    "#import library\n",
    "import numpy"
   ]
  },
  {
   "cell_type": "code",
   "execution_count": 2,
   "metadata": {},
   "outputs": [],
   "source": [
    "#create a numpy array and reshape it and change the datatype\n",
    "data = numpy.arange(16).reshape(4, 4).astype(numpy.float32)"
   ]
  },
  {
   "cell_type": "code",
   "execution_count": 4,
   "metadata": {},
   "outputs": [
    {
     "name": "stdout",
     "output_type": "stream",
     "text": [
      "tf.Tensor(\n",
      "[[ 0.15875655 -1.8851566   1.1196162  -2.2023537   1.5301061 ]\n",
      " [ 0.15875655 -1.8851566   1.1196162  -2.2023537   1.5301061 ]\n",
      " [ 0.15875655 -1.8851566   1.1196162  -2.2023537   1.5301061 ]\n",
      " [ 0.15875655 -1.8851566   1.1196162  -2.2023537   1.5301061 ]], shape=(4, 5), dtype=float32)\n"
     ]
    }
   ],
   "source": [
    "#print the output\n",
    "print(data)"
   ]
  },
  {
   "cell_type": "code",
   "execution_count": null,
   "metadata": {},
   "outputs": [],
   "source": []
  }
 ],
 "metadata": {
  "kernelspec": {
   "display_name": "Python 3",
   "language": "python",
   "name": "python3"
  },
  "language_info": {
   "codemirror_mode": {
    "name": "ipython",
    "version": 3
   },
   "file_extension": ".py",
   "mimetype": "text/x-python",
   "name": "python",
   "nbconvert_exporter": "python",
   "pygments_lexer": "ipython3",
   "version": "3.8.5"
  }
 },
 "nbformat": 4,
 "nbformat_minor": 2
}

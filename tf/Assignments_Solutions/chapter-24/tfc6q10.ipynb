{
 "cells": [
  {
   "cell_type": "markdown",
   "metadata": {},
   "source": [
    "**Question :** Create an ( M x N ) dimensional array. and perform statistical functions like mean, Standard deviation, variance, sum, and prod on the array."
   ]
  },
  {
   "cell_type": "markdown",
   "metadata": {},
   "source": [
    "**Note** : \n",
    "\n",
    "M-----→ number of rows.                                         \n",
    "\n",
    "N-----→ number of columns."
   ]
  },
  {
   "cell_type": "markdown",
   "metadata": {},
   "source": [
    "**Level :** Hard"
   ]
  },
  {
   "cell_type": "markdown",
   "metadata": {},
   "source": [
    "**Input format :**\n",
    "\n",
    "The first line contains M N space-separated values.\n",
    "\n",
    "Next M rows contains N elements each."
   ]
  },
  {
   "cell_type": "markdown",
   "metadata": {},
   "source": [
    "**Output format :**\n",
    "\n",
    "Given functions output line by line."
   ]
  },
  {
   "cell_type": "markdown",
   "metadata": {},
   "source": [
    "**Sample input :**\n",
    "\n",
    "2 3\n",
    "\n",
    "1 2 3\n",
    "\n",
    "4 5 6"
   ]
  },
  {
   "cell_type": "markdown",
   "metadata": {},
   "source": [
    "**Sample output :**\n",
    "\n",
    "Mean:  35.0\n",
    "\n",
    "Std:  17.07825127659933\n",
    "\n",
    "Var:  291.6666666666667\n",
    "\n",
    "Sum:  210\n",
    "\n",
    "Prod:  720000000"
   ]
  },
  {
   "cell_type": "code",
   "execution_count": 1,
   "metadata": {},
   "outputs": [
    {
     "name": "stdout",
     "output_type": "stream",
     "text": [
      "Mean:  35.0\n"
     ]
    }
   ],
   "source": [
    "import numpy as np\n",
    "\n",
    "array1 = np.array([[10, 20, 30], [40, 50, 60]])\n",
    " \n",
    "print(\"Mean: \", np.mean(array1))"
   ]
  },
  {
   "cell_type": "code",
   "execution_count": 2,
   "metadata": {},
   "outputs": [
    {
     "name": "stdout",
     "output_type": "stream",
     "text": [
      "Std:  17.07825127659933\n"
     ]
    }
   ],
   "source": [
    "print(\"Std: \", np.std(array1))"
   ]
  },
  {
   "cell_type": "code",
   "execution_count": 3,
   "metadata": {},
   "outputs": [
    {
     "name": "stdout",
     "output_type": "stream",
     "text": [
      "Var:  291.6666666666667\n"
     ]
    }
   ],
   "source": [
    "print(\"Var: \", np.var(array1))"
   ]
  },
  {
   "cell_type": "code",
   "execution_count": 4,
   "metadata": {},
   "outputs": [
    {
     "name": "stdout",
     "output_type": "stream",
     "text": [
      "Sum:  210\n"
     ]
    }
   ],
   "source": [
    "print(\"Sum: \", np.sum(array1))"
   ]
  },
  {
   "cell_type": "code",
   "execution_count": 5,
   "metadata": {},
   "outputs": [
    {
     "name": "stdout",
     "output_type": "stream",
     "text": [
      "Prod:  720000000\n"
     ]
    }
   ],
   "source": [
    "print(\"Prod: \", np.prod(array1))"
   ]
  },
  {
   "cell_type": "code",
   "execution_count": 4,
   "metadata": {},
   "outputs": [
    {
     "name": "stdout",
     "output_type": "stream",
     "text": [
      "2 3\n",
      "10 20 30\n",
      "40 50 60\n",
      "Mean: 35.0\n",
      "Std: 17.07825127659933\n",
      "Var: 291.6666666666667\n",
      "Sum: 210\n",
      "Prod: 720000000\n"
     ]
    }
   ],
   "source": [
    "M,N=list(map(int,input().split()))\n",
    "arr=[]\n",
    "for i in range(M):\n",
    "    inp=list(map(int,input().split()))\n",
    "    arr.append(inp)\n",
    "arr=np.array(arr)\n",
    "print('Mean:',np.mean(arr))\n",
    "print('Std:',np.std(arr))\n",
    "print('Var:',np.var(arr))\n",
    "print('Sum:',np.sum(arr))\n",
    "print('Prod:',np.prod(arr))"
   ]
  },
  {
   "cell_type": "code",
   "execution_count": null,
   "metadata": {},
   "outputs": [],
   "source": []
  }
 ],
 "metadata": {
  "kernelspec": {
   "display_name": "Python 3",
   "language": "python",
   "name": "python3"
  },
  "language_info": {
   "codemirror_mode": {
    "name": "ipython",
    "version": 3
   },
   "file_extension": ".py",
   "mimetype": "text/x-python",
   "name": "python",
   "nbconvert_exporter": "python",
   "pygments_lexer": "ipython3",
   "version": "3.8.3"
  }
 },
 "nbformat": 4,
 "nbformat_minor": 4
}

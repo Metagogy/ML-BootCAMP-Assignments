{
 "cells": [
  {
   "cell_type": "markdown",
   "metadata": {},
   "source": [
    "**Question** : Train or Fit the model for IMDB large movie review dataset with  Bidirectional RNN "
   ]
  },
  {
   "cell_type": "markdown",
   "metadata": {},
   "source": [
    "**Description** : The dataset is inbuilt data you can download it by using \n",
    "tensorflow_datasets as tfds\n",
    "\n",
    "Load the imdb dataset  using with tensorflow datasets as tfds and split the dataset into train and test\n",
    "\n",
    "Build the model with Sequential API and add the first layer as Embedding with 64 neurons and next layer as bidirectional  with 64 neurons and add the next  activation function as Relu with Dense layer having 64 neurons and last layer as Dense with 1 neuron.\n",
    "\n",
    "Compile the model with loss function as Binary cross entropy and Adam optimizer with metrics as Accuracy\n",
    "\n",
    "Fit or Train the model with training set, Epochs , validation data with testing set and validation steps as 30\n"
   ]
  },
  {
   "cell_type": "markdown",
   "metadata": {},
   "source": [
    "**Level** : Medium"
   ]
  },
  {
   "cell_type": "markdown",
   "metadata": {},
   "source": [
    "**Input Format** : Use inbuilt dataset by tensorflow"
   ]
  },
  {
   "cell_type": "markdown",
   "metadata": {},
   "source": [
    "**Output Format** : Loss and Accuracy values"
   ]
  },
  {
   "cell_type": "markdown",
   "metadata": {},
   "source": [
    "**Sample Input** :  IMDB Dataset"
   ]
  },
  {
   "cell_type": "markdown",
   "metadata": {},
   "source": [
    "**Sample Output** : Accuracy"
   ]
  },
  {
   "cell_type": "markdown",
   "metadata": {},
   "source": [
    "**SOLUTION**"
   ]
  },
  {
   "cell_type": "code",
   "execution_count": 4,
   "metadata": {},
   "outputs": [
    {
     "name": "stdout",
     "output_type": "stream",
     "text": [
      "text:  b\"This was an absolutely terrible movie. Don't be lured in by Christopher Walken or Michael Ironside. Both are great actors, but this must simply be their worst role in history. Even their great acting could not redeem this movie's ridiculous storyline. This movie is an early nineties US propaganda piece. The most pathetic scenes were those when the Columbian rebels were making their cases for revolutions. Maria Conchita Alonso appeared phony, and her pseudo-love affair with Walken was nothing but a pathetic emotional plug in a movie that was devoid of any real meaning. I am disappointed that there are movies like this, ruining actor's like Christopher Walken's good name. I could barely sit through it.\"\n",
      "label:  0\n",
      "texts:  [b'From the first moment, this \"thing\" is just an awful sequence of extremely short cuts of blurry camera work. While the overall plot has every potential for a thriller, the story is so badly told that I\\'m unable to buy it. From the middle of the film, the actions of characters don\\'t make sense to me. Stop reading now to avoid SPOILERS.<br /><br />For instance, Ed\\'s idea to have Edna make coffee for them after having shot off her son\\'s arm is way below his alleged experience; it\\'s just an extremely stupid idea. Domino not questioning the fragmentary orders she receives from Claremont Williams over a breaking-up phone connection just eludes me; shouldn\\'t she be long suspicious that Williams is turning them in? Those FBI agents seem out of their minds showing up with just one single helicopter to something they have every reason to consider a capital mafia shoot-out. Besides, what they do by withholding and leaking information towards Cigliutti is pretty much incitement to murder; it seems to me like farewell to justice if that\\'s they way the FBI does investigations. In reality, they\\'d have a case messed up beyond repair if they acted like this. We get to see a car accident which normally would have at least seriously injured if not killed most of the passengers but miraculously leaves all of them with just a few bruises. Quite the contrary, the accident is immediately followed by Domino making love to Choco, which is from Domino\\'s viewpoint in no way founded by previous events but just by being drugged to the eyeballs.<br /><br />The whole sequence of scenes starting from the phone call of Claremont Williams appears to me just as want-to-be dramatic razzle-dazzle. This combined with the awful, uneasy camera work just makes a piece I hesitate to call a movie. I\\'m sorry for the wasted effort of the main actors, whose talent is out of question.'\n",
      " b\"This is so incredibly bad. Poor actors. You can tell they're trying really hard to polish a turd, but we all know you can't. The writing is so obvious and facile, it's sad watching them try to sell it. The humor and pacing are so labored, it's hard to believe any of these good actors signed on for this.<br /><br />That said, it's so awful that we're having a hard time looking away from the screen. We just have to know where this trainwreck goes. But that's only because we caught it on TV. If we had actually PAID for this, we'd be disgusted. <br /><br />So it gets 2 stars for being at least amusingly/fascinatingly bad. And the incidental music (as opposed to the trying-too-hard indie soundtrack) is laughably reminiscent of an episode of Scooby-Doo... but not as good.\"\n",
      " b\"Camera work - Why is the camera work in this movie so jumpy? This is annoying and distracting. Editing - the Flashes of the still pictures were way too short. Many of the other scenes were too short also. Just flashes. Sound - the background music was way too loud and covered up the voices. One should not have to rewind and replay to catch what was said. Doesn't anybody check these things and make them do it over again. Please reduce the volume of the background music in future. Is adjustment of the relative sound levels the job of the editor, Julia Wong? The plot had way too many loose ends. The basic story line had potential. I think the film needed more work. Was it rushed? Perhaps they ran out of money. Like a lot of movies, it started out great but just petered out toward the end. I really don't understand this, you know you have the story board before it goes into production so why doesn't all the loose ends get taken care of in the storyboard.<br /><br />Sorry to be so critical.\"]\n",
      "\n",
      "labels:  [0 0 0]\n",
      "Original:  b'From the first moment, this \"thing\" is just an awful sequence of extremely short cuts of blurry camera work. While the overall plot has every potential for a thriller, the story is so badly told that I\\'m unable to buy it. From the middle of the film, the actions of characters don\\'t make sense to me. Stop reading now to avoid SPOILERS.<br /><br />For instance, Ed\\'s idea to have Edna make coffee for them after having shot off her son\\'s arm is way below his alleged experience; it\\'s just an extremely stupid idea. Domino not questioning the fragmentary orders she receives from Claremont Williams over a breaking-up phone connection just eludes me; shouldn\\'t she be long suspicious that Williams is turning them in? Those FBI agents seem out of their minds showing up with just one single helicopter to something they have every reason to consider a capital mafia shoot-out. Besides, what they do by withholding and leaking information towards Cigliutti is pretty much incitement to murder; it seems to me like farewell to justice if that\\'s they way the FBI does investigations. In reality, they\\'d have a case messed up beyond repair if they acted like this. We get to see a car accident which normally would have at least seriously injured if not killed most of the passengers but miraculously leaves all of them with just a few bruises. Quite the contrary, the accident is immediately followed by Domino making love to Choco, which is from Domino\\'s viewpoint in no way founded by previous events but just by being drugged to the eyeballs.<br /><br />The whole sequence of scenes starting from the phone call of Claremont Williams appears to me just as want-to-be dramatic razzle-dazzle. This combined with the awful, uneasy camera work just makes a piece I hesitate to call a movie. I\\'m sorry for the wasted effort of the main actors, whose talent is out of question.'\n",
      "Round-trip:  from the first moment this thing is just an awful sequence of extremely short [UNK] of [UNK] camera work while the overall plot has every potential for a thriller the story is so badly told that im [UNK] to buy it from the middle of the film the [UNK] of characters dont make sense to me stop reading now to avoid [UNK] br for [UNK] [UNK] idea to have [UNK] make [UNK] for them after having shot off her [UNK] [UNK] is way [UNK] his [UNK] experience its just an extremely stupid idea [UNK] not [UNK] the [UNK] [UNK] she [UNK] from [UNK] [UNK] over a [UNK] [UNK] [UNK] just [UNK] me [UNK] she be long [UNK] that [UNK] is [UNK] them in those [UNK] [UNK] seem out of their [UNK] showing up with just one single [UNK] to something they have every reason to [UNK] a [UNK] [UNK] [UNK] [UNK] what they do by [UNK] and [UNK] [UNK] towards [UNK] is pretty much [UNK] to murder it seems to me like [UNK] to [UNK] if thats they way the [UNK] does [UNK] in reality [UNK] have a case [UNK] up beyond [UNK] if they [UNK] like this we get to see a car [UNK] which [UNK] would have at least seriously [UNK] if not killed most of the [UNK] but [UNK] leaves all of them with just a few [UNK] quite the [UNK] the [UNK] is [UNK] [UNK] by [UNK] making love to [UNK] which is from [UNK] [UNK] in no way [UNK] by previous events but just by being [UNK] to the [UNK] br the whole sequence of scenes [UNK] from the [UNK] call of [UNK] [UNK] appears to me just as [UNK] dramatic [UNK] this [UNK] with the awful [UNK] camera work just makes a piece i [UNK] to call a movie im sorry for the [UNK] effort of the main actors whose talent is out of question                                                                                                                                                                                                                                                                                                                                                                                                                                                                                                                                                                                                                                                                                                                                                          \n",
      "\n",
      "Original:  b\"This is so incredibly bad. Poor actors. You can tell they're trying really hard to polish a turd, but we all know you can't. The writing is so obvious and facile, it's sad watching them try to sell it. The humor and pacing are so labored, it's hard to believe any of these good actors signed on for this.<br /><br />That said, it's so awful that we're having a hard time looking away from the screen. We just have to know where this trainwreck goes. But that's only because we caught it on TV. If we had actually PAID for this, we'd be disgusted. <br /><br />So it gets 2 stars for being at least amusingly/fascinatingly bad. And the incidental music (as opposed to the trying-too-hard indie soundtrack) is laughably reminiscent of an episode of Scooby-Doo... but not as good.\"\n",
      "Round-trip:  this is so incredibly bad poor actors you can tell theyre trying really hard to [UNK] a [UNK] but we all know you cant the writing is so obvious and [UNK] its sad watching them try to [UNK] it the humor and [UNK] are so [UNK] its hard to believe any of these good actors [UNK] on for [UNK] br that said its so awful that were having a hard time looking away from the screen we just have to know where this [UNK] goes but thats only because we [UNK] it on tv if we had actually [UNK] for this [UNK] be [UNK] br br so it gets 2 stars for being at least [UNK] bad and the [UNK] music as [UNK] to the [UNK] [UNK] soundtrack is [UNK] [UNK] of an episode of [UNK] but not as good                                                                                                                                                                                                                                                                                                                                                                                                                                                                                                                                                                                                                                                                                                                                                                                                                                                                                                                                               \n",
      "\n",
      "Original:  b\"Camera work - Why is the camera work in this movie so jumpy? This is annoying and distracting. Editing - the Flashes of the still pictures were way too short. Many of the other scenes were too short also. Just flashes. Sound - the background music was way too loud and covered up the voices. One should not have to rewind and replay to catch what was said. Doesn't anybody check these things and make them do it over again. Please reduce the volume of the background music in future. Is adjustment of the relative sound levels the job of the editor, Julia Wong? The plot had way too many loose ends. The basic story line had potential. I think the film needed more work. Was it rushed? Perhaps they ran out of money. Like a lot of movies, it started out great but just petered out toward the end. I really don't understand this, you know you have the story board before it goes into production so why doesn't all the loose ends get taken care of in the storyboard.<br /><br />Sorry to be so critical.\"\n",
      "Round-trip:  camera work why is the camera work in this movie so [UNK] this is annoying and [UNK] editing the [UNK] of the still [UNK] were way too short many of the other scenes were too short also just [UNK] sound the background music was way too [UNK] and [UNK] up the [UNK] one should not have to [UNK] and [UNK] to [UNK] what was said doesnt [UNK] check these things and make them do it over again please [UNK] the [UNK] of the background music in future is [UNK] of the [UNK] sound [UNK] the job of the [UNK] [UNK] [UNK] the plot had way too many [UNK] ends the [UNK] story line had potential i think the film needed more work was it [UNK] perhaps they [UNK] out of money like a lot of movies it started out great but just [UNK] out [UNK] the end i really dont understand this you know you have the story [UNK] before it goes into production so why doesnt all the [UNK] ends get taken care of in the [UNK] br sorry to be so [UNK]                                                                                                                                                                                                                                                                                                                                                                                                                                                                                                                                                                                                                                                                                                                                                                                                                                                                                                   \n",
      "\n",
      "[False, True, True, True, True]\n"
     ]
    },
    {
     "name": "stdout",
     "output_type": "stream",
     "text": [
      "[0.00128287]\n",
      "[0.00128287]\n",
      "391/391 [==============================] - 463s 1s/step - loss: 0.6312 - accuracy: 0.5737 - val_loss: 0.4914 - val_accuracy: 0.7063\n"
     ]
    }
   ],
   "source": [
    "import numpy as np\n",
    "import tensorflow_datasets as tfds\n",
    "import tensorflow as tf\n",
    "\n",
    "tfds.disable_progress_bar()\n",
    "import matplotlib.pyplot as plt\n",
    "\n",
    "dataset, info = tfds.load('imdb_reviews', with_info=True,\n",
    "                          as_supervised=True)\n",
    "train, test = dataset['train'], dataset['test']\n",
    "\n",
    "train.element_spec\n",
    "\n",
    "for example, label in train.take(1):\n",
    "  print('text: ', example.numpy())\n",
    "  print('label: ', label.numpy())\n",
    "\n",
    "BUFFER_SIZE = 10000\n",
    "BATCH_SIZE = 64\n",
    "\n",
    "train_dataset = train.shuffle(BUFFER_SIZE).batch(BATCH_SIZE).prefetch(tf.data.experimental.AUTOTUNE)\n",
    "test_dataset = test.batch(BATCH_SIZE).prefetch(tf.data.experimental.AUTOTUNE)\n",
    "\n",
    "for example, label in train_dataset.take(1):\n",
    "  print('texts: ', example.numpy()[:3])\n",
    "  print()\n",
    "  print('labels: ', label.numpy()[:3])\n",
    "\n",
    "VOCAB_SIZE=1000\n",
    "encoder = tf.keras.layers.experimental.preprocessing.TextVectorization(\n",
    "    max_tokens=VOCAB_SIZE)\n",
    "encoder.adapt(train_dataset.map(lambda text, label: text))\n",
    "\n",
    "vocab = np.array(encoder.get_vocabulary())\n",
    "vocab[:20]\n",
    "\n",
    "encoded = encoder(example)[:3].numpy()\n",
    "encoded\n",
    "\n",
    "for n in range(3):\n",
    "  print(\"Original: \", example[n].numpy())\n",
    "  print(\"Round-trip: \", \" \".join(vocab[encoded[n]]))\n",
    "  print()\n",
    "\n",
    "model = tf.keras.Sequential([\n",
    "    encoder,\n",
    "    tf.keras.layers.Embedding(\n",
    "        input_dim=len(encoder.get_vocabulary()),\n",
    "        output_dim=64,\n",
    "        \n",
    "        mask_zero=True),\n",
    "    tf.keras.layers.Bidirectional(tf.keras.layers.LSTM(64)),\n",
    "    tf.keras.layers.Dense(64, activation='relu'),\n",
    "    tf.keras.layers.Dense(1)\n",
    "])\n",
    "\n",
    "print([layer.supports_masking for layer in model.layers])\n",
    "\n",
    "sample_Text = ('The movie was cool. The animation and the graphics '\n",
    "               'were out of this world. I would recommend this movie.')\n",
    "predictions = model.predict(np.array([sample_Text]))\n",
    "print(predictions[0])\n",
    "\n",
    "padding = \"the \" * 2000\n",
    "predictions = model.predict(np.array([sample_Text, padding]))\n",
    "print(predictions[0])\n",
    "\n",
    "model.compile(loss=tf.keras.losses.BinaryCrossentropy(from_logits=True),\n",
    "              optimizer=tf.keras.optimizers.Adam(1e-4),\n",
    "              metrics=['accuracy'])\n",
    "\n",
    "history = model.fit(train_dataset, epochs=1,\n",
    "                    validation_data=test_dataset, \n",
    "                    validation_steps=30)\n",
    "\n"
   ]
  },
  {
   "cell_type": "code",
   "execution_count": null,
   "metadata": {},
   "outputs": [],
   "source": []
  }
 ],
 "metadata": {
  "kernelspec": {
   "display_name": "Python 3",
   "language": "python",
   "name": "python3"
  },
  "language_info": {
   "codemirror_mode": {
    "name": "ipython",
    "version": 3
   },
   "file_extension": ".py",
   "mimetype": "text/x-python",
   "name": "python",
   "nbconvert_exporter": "python",
   "pygments_lexer": "ipython3",
   "version": "3.6.5"
  }
 },
 "nbformat": 4,
 "nbformat_minor": 2
}

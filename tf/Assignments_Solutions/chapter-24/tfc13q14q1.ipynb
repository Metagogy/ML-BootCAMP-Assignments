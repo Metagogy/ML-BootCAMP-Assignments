{
 "cells": [
  {
   "cell_type": "markdown",
   "metadata": {},
   "source": [
    "**Question :** Create a Dense layer with 5 neurons and apply this on tensor of (4,4) with a multiplier 3.5 and print the output."
   ]
  },
  {
   "cell_type": "markdown",
   "metadata": {},
   "source": [
    "**Explanation:**\n",
    "* TensorFlow is a free and open-source software library for dataflow and differentiable programming across a range of tasks.\n",
    "* Import the required libraries.\n",
    "* Create a Dense layer.\n",
    "* Create a tensor with multiplier \n",
    "* Apply the layer on tensor and print the output.\n"
   ]
  },
  {
   "cell_type": "markdown",
   "metadata": {},
   "source": [
    "**Sample Output:**\n",
    "\n",
    "Tensor\n",
    "\n",
    "**Sample Output:**\n",
    "\n",
    "tf.Tensor(\n",
    "\n",
    "[[ 0.15875655 -1.8851566   1.1196162  -2.2023537   1.5301061 ]\n",
    "\n",
    "[ 0.15875655 -1.8851566   1.1196162  -2.2023537   1.5301061 ]\n",
    "\n",
    "[ 0.15875655 -1.8851566   1.1196162  -2.2023537   1.5301061 ]\n",
    "\n",
    "[ 0.15875655 -1.8851566   1.1196162  -2.2023537   1.5301061 ]], shape=(4, 5), dtype=float32)"
   ]
  },
  {
   "cell_type": "markdown",
   "metadata": {},
   "source": [
    "* Hint 01: use tensorflow library\n",
    "* Hint 02: create tensor of one’s using tf.ones(),tf.keras.layers.Dense()\n"
   ]
  },
  {
   "cell_type": "code",
   "execution_count": 1,
   "metadata": {},
   "outputs": [],
   "source": [
    "#start your code here"
   ]
  },
  {
   "cell_type": "code",
   "execution_count": 1,
   "metadata": {},
   "outputs": [],
   "source": [
    "#import library\n",
    "import tensorflow as tf"
   ]
  },
  {
   "cell_type": "code",
   "execution_count": 2,
   "metadata": {},
   "outputs": [],
   "source": [
    "#create a Dense layer and a tensor\n",
    "layer = tf.keras.layers.Dense(5, input_dim=5)\n",
    "tensor = tf.ones(shape=(4, 4)) * 3.5"
   ]
  },
  {
   "cell_type": "code",
   "execution_count": 3,
   "metadata": {},
   "outputs": [],
   "source": [
    "#pass the tensor throgh the layer\n",
    "out = layer(tensor)"
   ]
  },
  {
   "cell_type": "code",
   "execution_count": 4,
   "metadata": {},
   "outputs": [
    {
     "name": "stdout",
     "output_type": "stream",
     "text": [
      "tf.Tensor(\n",
      "[[ 0.15875655 -1.8851566   1.1196162  -2.2023537   1.5301061 ]\n",
      " [ 0.15875655 -1.8851566   1.1196162  -2.2023537   1.5301061 ]\n",
      " [ 0.15875655 -1.8851566   1.1196162  -2.2023537   1.5301061 ]\n",
      " [ 0.15875655 -1.8851566   1.1196162  -2.2023537   1.5301061 ]], shape=(4, 5), dtype=float32)\n"
     ]
    }
   ],
   "source": [
    "#print the output\n",
    "print(out)"
   ]
  },
  {
   "cell_type": "code",
   "execution_count": null,
   "metadata": {},
   "outputs": [],
   "source": []
  }
 ],
 "metadata": {
  "kernelspec": {
   "display_name": "Python 3",
   "language": "python",
   "name": "python3"
  },
  "language_info": {
   "codemirror_mode": {
    "name": "ipython",
    "version": 3
   },
   "file_extension": ".py",
   "mimetype": "text/x-python",
   "name": "python",
   "nbconvert_exporter": "python",
   "pygments_lexer": "ipython3",
   "version": "3.8.5"
  }
 },
 "nbformat": 4,
 "nbformat_minor": 2
}

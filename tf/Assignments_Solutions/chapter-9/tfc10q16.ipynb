{
 "cells": [
  {
   "cell_type": "markdown",
   "metadata": {},
   "source": [
    "### Question:  \n",
    "Initialize two variables list of elements with using tf.constant, subtract them and print the result"
   ]
  },
  {
   "cell_type": "markdown",
   "metadata": {},
   "source": [
    "### Level :\n",
    "Medium"
   ]
  },
  {
   "cell_type": "markdown",
   "metadata": {},
   "source": [
    "### Explanation :\n",
    "Library : [tensorflow]\n",
    "    \n",
    "Category : Tensorflow"
   ]
  },
  {
   "cell_type": "markdown",
   "metadata": {},
   "source": [
    "### Input format : \n",
    "First-line : Space-separated values # Convert these values into list\n",
    "\n",
    "second-line : Space-separated values # Convert these values into list\n",
    "### Output format :  \n",
    "Shape, tensor values and datatype"
   ]
  },
  {
   "cell_type": "markdown",
   "metadata": {},
   "source": [
    "### Sample input : \n",
    "1 2 3 4<br/>\n",
    "5 6 7 8 \n",
    "### Sample output :  \n",
    "tf.Tensor([-4 -4 -4 -4], shape=(4,), dtype=int32)"
   ]
  },
  {
   "cell_type": "code",
   "execution_count": 1,
   "metadata": {},
   "outputs": [
    {
     "name": "stdout",
     "output_type": "stream",
     "text": [
      "1 2 3 4\n",
      "5 6 7 8\n",
      "tf.Tensor([-4. -4. -4. -4.], shape=(4,), dtype=float32)\n"
     ]
    }
   ],
   "source": [
    "import tensorflow as tf\n",
    "\n",
    "\n",
    "lst1=list(map(float,input().split()))\n",
    "lst2=list(map(float,input().split()))\n",
    "\n",
    "\n",
    "x1 = tf.constant(lst1)\n",
    "x2 = tf.constant(lst2)\n",
    "\n",
    "result = tf.subtract(x1, x2)\n",
    "\n",
    "print(result)"
   ]
  }
 ],
 "metadata": {
  "kernelspec": {
   "display_name": "Python 3",
   "language": "python",
   "name": "python3"
  },
  "language_info": {
   "codemirror_mode": {
    "name": "ipython",
    "version": 3
   },
   "file_extension": ".py",
   "mimetype": "text/x-python",
   "name": "python",
   "nbconvert_exporter": "python",
   "pygments_lexer": "ipython3",
   "version": "3.8.5"
  }
 },
 "nbformat": 4,
 "nbformat_minor": 5
}

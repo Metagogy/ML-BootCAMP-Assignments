{
 "cells": [
  {
   "cell_type": "markdown",
   "metadata": {},
   "source": [
    "**Question:**  \n",
    "\n",
    "The given text is a sentence to find the total count of the words, how many times are occurring in total data using Keras.\n"
   ]
  },
  {
   "cell_type": "markdown",
   "metadata": {},
   "source": [
    "**Level**:Easy"
   ]
  },
  {
   "cell_type": "markdown",
   "metadata": {},
   "source": [
    "**Input format:** given a sentence find word count using Keras"
   ]
  },
  {
   "cell_type": "markdown",
   "metadata": {},
   "source": [
    "**output format:** OrderedDict"
   ]
  },
  {
   "cell_type": "markdown",
   "metadata": {},
   "source": [
    "**Sample Input:**\n",
    "\n",
    "Word count After tokenizing a text, the first figure we can calculate is the word frequency.,\n",
    "By word frequency, we indicate the number of times each token occurs in a text.\n",
    "\n"
   ]
  },
  {
   "cell_type": "markdown",
   "metadata": {},
   "source": [
    "**Sample Output:**\n",
    "    \n",
    "OrderedDict([('word', 3), ('count', 1), ('after', 1), ('tokenising', 1), ('a', 2), ('text', 2), ('the', 3), ('first', 1), ('figure', 1), ('we', 2), ('can', 1), ('calculate', 1), ('is', 1), ('frequency', 2), ('by', 1), ('indicate', 1), ('number', 1), ('of', 1), ('times', 1), ('each', 1), ('token', 1), ('occurs', 1), ('in', 1)])\n"
   ]
  },
  {
   "cell_type": "markdown",
   "metadata": {},
   "source": [
    "**Solution**"
   ]
  },
  {
   "cell_type": "code",
   "execution_count": 1,
   "metadata": {},
   "outputs": [],
   "source": [
    "import tensorflow as tf"
   ]
  },
  {
   "cell_type": "code",
   "execution_count": 10,
   "metadata": {},
   "outputs": [
    {
     "name": "stdout",
     "output_type": "stream",
     "text": [
      "Neuro-Linguistic Programming, or NLP, provides practical ways in which you can change the way that you think, view past events, and approach your life. \n"
     ]
    }
   ],
   "source": [
    "documents=input().split(\",\")"
   ]
  },
  {
   "cell_type": "code",
   "execution_count": 11,
   "metadata": {},
   "outputs": [],
   "source": [
    "t = tf.keras.preprocessing.text.Tokenizer(num_words=15)"
   ]
  },
  {
   "cell_type": "code",
   "execution_count": 12,
   "metadata": {},
   "outputs": [],
   "source": [
    "t.fit_on_texts(documents)"
   ]
  },
  {
   "cell_type": "code",
   "execution_count": 13,
   "metadata": {},
   "outputs": [
    {
     "name": "stdout",
     "output_type": "stream",
     "text": [
      "OrderedDict([('neuro', 1), ('linguistic', 1), ('programming', 1), ('or', 1), ('nlp', 1), ('provides', 1), ('practical', 1), ('ways', 1), ('in', 1), ('which', 1), ('you', 2), ('can', 1), ('change', 1), ('the', 1), ('way', 1), ('that', 1), ('think', 1), ('view', 1), ('past', 1), ('events', 1), ('and', 1), ('approach', 1), ('your', 1), ('life', 1)])\n"
     ]
    }
   ],
   "source": [
    "t1=t.word_counts\n",
    "print(t1)"
   ]
  },
  {
   "cell_type": "code",
   "execution_count": null,
   "metadata": {},
   "outputs": [],
   "source": []
  }
 ],
 "metadata": {
  "kernelspec": {
   "display_name": "Python 3",
   "language": "python",
   "name": "python3"
  },
  "language_info": {
   "codemirror_mode": {
    "name": "ipython",
    "version": 3
   },
   "file_extension": ".py",
   "mimetype": "text/x-python",
   "name": "python",
   "nbconvert_exporter": "python",
   "pygments_lexer": "ipython3",
   "version": "3.8.5"
  }
 },
 "nbformat": 4,
 "nbformat_minor": 4
}

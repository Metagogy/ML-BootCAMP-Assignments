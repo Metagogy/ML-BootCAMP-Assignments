{
 "cells": [
  {
   "cell_type": "markdown",
   "metadata": {},
   "source": [
    "**Question:** \n",
    "\n",
    "Read a sentence as input. Find how many unique words are present and print with indexing values?"
   ]
  },
  {
   "cell_type": "markdown",
   "metadata": {},
   "source": [
    "**Note :**\n",
    "    \n",
    "Use from Keras.preprocessing.text import Tokenizer\n"
   ]
  },
  {
   "cell_type": "markdown",
   "metadata": {},
   "source": [
    "**Level:**Medium"
   ]
  },
  {
   "cell_type": "markdown",
   "metadata": {},
   "source": [
    "**Input format:** Read a sentence from the standard input."
   ]
  },
  {
   "cell_type": "markdown",
   "metadata": {},
   "source": [
    "**Output format:** Dictionary with keys and values"
   ]
  },
  {
   "cell_type": "markdown",
   "metadata": {},
   "source": [
    "**Sample Input:** \n",
    "\n",
    "A salt seller used to carry the salt bag on his donkey to the market every day.,\n",
    "      On the way, they had to cross a stream.,\n",
    "      One day the donkey suddenly tumbled down the stream and the salt bag also fell into the water.\n"
   ]
  },
  {
   "cell_type": "markdown",
   "metadata": {},
   "source": [
    "**Sample Output:** \n",
    "\n",
    "{'the': 1, 'salt': 2, 'to': 3, 'a': 4, 'bag': 5, 'on': 6, 'donkey': 7, 'day': 8, 'stream': 9, 'seller': 10, 'used': 11, 'carry': 12, 'his': 13, 'market': 14, 'every': 15, 'way': 16, 'they': 17, 'had': 18, 'cross': 19, 'one': 20, 'suddenly': 21, 'tumbled': 22, 'down': 23, 'and': 24, 'also': 25, 'fell': 26, 'into': 27, 'water': 28}\n"
   ]
  },
  {
   "cell_type": "markdown",
   "metadata": {},
   "source": [
    "**Solution**"
   ]
  },
  {
   "cell_type": "code",
   "execution_count": null,
   "metadata": {},
   "outputs": [],
   "source": []
  },
  {
   "cell_type": "code",
   "execution_count": 1,
   "metadata": {},
   "outputs": [],
   "source": [
    "from keras.preprocessing.text import Tokenizer"
   ]
  },
  {
   "cell_type": "code",
   "execution_count": 14,
   "metadata": {
    "scrolled": true
   },
   "outputs": [
    {
     "name": "stdout",
     "output_type": "stream",
     "text": [
      "For example, in image processing, lower layers may identify edges, while higher layers may identify the concepts relevant to a human such as digits or letters or faces.\n"
     ]
    }
   ],
   "source": [
    "play=input().split(\",\")"
   ]
  },
  {
   "cell_type": "code",
   "execution_count": 15,
   "metadata": {},
   "outputs": [],
   "source": [
    "tokenizer=Tokenizer(filters='!\"#$%&()*+,-./:;<=>?@[\\]^_{|}~`',lower=True)"
   ]
  },
  {
   "cell_type": "code",
   "execution_count": 16,
   "metadata": {},
   "outputs": [],
   "source": [
    "tokenizer.fit_on_texts(play)"
   ]
  },
  {
   "cell_type": "code",
   "execution_count": 17,
   "metadata": {},
   "outputs": [],
   "source": [
    "sequences=tokenizer.texts_to_sequences(play)\n"
   ]
  },
  {
   "cell_type": "code",
   "execution_count": 18,
   "metadata": {},
   "outputs": [],
   "source": [
    "wordindex=tokenizer.word_index"
   ]
  },
  {
   "cell_type": "code",
   "execution_count": 19,
   "metadata": {},
   "outputs": [
    {
     "name": "stdout",
     "output_type": "stream",
     "text": [
      "{'layers': 1, 'may': 2, 'identify': 3, 'or': 4, 'for': 5, 'example': 6, 'in': 7, 'image': 8, 'processing': 9, 'lower': 10, 'edges': 11, 'while': 12, 'higher': 13, 'the': 14, 'concepts': 15, 'relevant': 16, 'to': 17, 'a': 18, 'human': 19, 'such': 20, 'as': 21, 'digits': 22, 'letters': 23, 'faces': 24}\n"
     ]
    }
   ],
   "source": [
    "print(wordindex)"
   ]
  },
  {
   "cell_type": "code",
   "execution_count": null,
   "metadata": {},
   "outputs": [],
   "source": []
  }
 ],
 "metadata": {
  "kernelspec": {
   "display_name": "Python 3",
   "language": "python",
   "name": "python3"
  },
  "language_info": {
   "codemirror_mode": {
    "name": "ipython",
    "version": 3
   },
   "file_extension": ".py",
   "mimetype": "text/x-python",
   "name": "python",
   "nbconvert_exporter": "python",
   "pygments_lexer": "ipython3",
   "version": "3.8.5"
  }
 },
 "nbformat": 4,
 "nbformat_minor": 4
}

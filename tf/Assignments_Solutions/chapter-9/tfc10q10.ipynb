{
 "cells": [
  {
   "cell_type": "markdown",
   "metadata": {},
   "source": [
    "### Question: \n",
    "print the output using  Relu function with python and generate input dataset as 20 points between -5 and 5"
   ]
  },
  {
   "cell_type": "markdown",
   "metadata": {},
   "source": [
    "### Level: \n",
    "Medium"
   ]
  },
  {
   "cell_type": "markdown",
   "metadata": {},
   "source": [
    "### Input format : \n",
    "generate values using numpy array values in between -5 and 5 with range of 20 values\n",
    "### Output format : \n",
    "print the ouput result"
   ]
  },
  {
   "cell_type": "markdown",
   "metadata": {},
   "source": [
    "### Sample input : \n",
    "use numpy linspace to generate values<br/>\n",
    "start=-5\n",
    "\n",
    "stop=5\n",
    "\n",
    "num=10\n",
    "\n",
    "\n",
    "### Sample Output : \n",
    "print the ouput result\n",
    "\n",
    "[0.         0.         0.         0.         0.         0.\n",
    " 0.         0.         0.         0.         0.26315789 0.78947368\n",
    " 1.31578947 1.84210526 2.36842105 2.89473684 3.42105263 3.94736842\n",
    " 4.47368421 5.        ]\n"
   ]
  },
  {
   "cell_type": "markdown",
   "metadata": {},
   "source": [
    "### hints:\n",
    "to define relu function use\n",
    "np.maximum(0,X)"
   ]
  },
  {
   "cell_type": "code",
   "execution_count": 1,
   "metadata": {},
   "outputs": [
    {
     "name": "stdout",
     "output_type": "stream",
     "text": [
      "-5\n",
      "5\n",
      "10\n",
      "[0.         0.         0.         0.         0.         0.55555556\n",
      " 1.66666667 2.77777778 3.88888889 5.        ]\n"
     ]
    }
   ],
   "source": [
    "import numpy as np\n",
    "start=int(input())\n",
    "stop=int(input())\n",
    "var=int(input())\n",
    "a=np.linspace(start,stop,var)\n",
    "\n",
    "def Relu(X):\n",
    "    val = np.maximum(0,X)\n",
    "    return val\n",
    "\n",
    "output = Relu(a)\n",
    "\n",
    "print(output)\n"
   ]
  },
  {
   "cell_type": "code",
   "execution_count": null,
   "metadata": {},
   "outputs": [],
   "source": []
  }
 ],
 "metadata": {
  "kernelspec": {
   "display_name": "Python 3",
   "language": "python",
   "name": "python3"
  },
  "language_info": {
   "codemirror_mode": {
    "name": "ipython",
    "version": 3
   },
   "file_extension": ".py",
   "mimetype": "text/x-python",
   "name": "python",
   "nbconvert_exporter": "python",
   "pygments_lexer": "ipython3",
   "version": "3.8.5"
  }
 },
 "nbformat": 4,
 "nbformat_minor": 5
}

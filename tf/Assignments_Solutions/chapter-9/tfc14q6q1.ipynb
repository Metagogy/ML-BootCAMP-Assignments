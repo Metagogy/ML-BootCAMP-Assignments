{
 "cells": [
  {
   "cell_type": "markdown",
   "metadata": {},
   "source": [
    "**Question:** Create an array apply convolution on it and print the shape"
   ]
  },
  {
   "cell_type": "markdown",
   "metadata": {},
   "source": [
    "**Description:**\n",
    "* Define a single input, an integer number which will decide the number of rows \n",
    "* Then enter the space separated values  and convert it into an array by asarray() method\n",
    "* Define a sequential model with the single hidden convolutional layer with a single filter with the shape of (2x2) pixels having ‘tanh’ activation. \n",
    "* Apply the filter to our input sample by using the predict() function on the model.\n",
    "* Print the result i.e., shape of the predicted input sample\n"
   ]
  },
  {
   "cell_type": "markdown",
   "metadata": {},
   "source": [
    "**Input format:** Integer number\n",
    "**Input format:** Space separated values\n",
    "**Output format:** nd array\n",
    "**Sample input:** \n",
    "\n",
    "5 \n",
    "\n",
    "0 0 0 0 0\n",
    "\n",
    "0 0 0 0 0 \n",
    "\n",
    "1 1 1 1 1 \n",
    "\n",
    "0 0 0 0 0 \n",
    "\n",
    "0 0 0 0 0 \n",
    "\n",
    "**Sample output:**\n",
    "\n",
    "(1, 4, 4, 1)\n"
   ]
  },
  {
   "cell_type": "markdown",
   "metadata": {},
   "source": [
    "* Hint1: Use Conv2D, Sequential model, asarray\n",
    "* Hint2: Use reshape() function\n",
    "* Hint3: Use predict() function\n"
   ]
  },
  {
   "cell_type": "code",
   "execution_count": null,
   "metadata": {},
   "outputs": [],
   "source": [
    "#Start your code"
   ]
  },
  {
   "cell_type": "code",
   "execution_count": 1,
   "metadata": {},
   "outputs": [],
   "source": [
    "#import required libraries\n",
    "from tensorflow import keras\n",
    "from numpy import asarray\n",
    "from tensorflow.keras.models import Sequential\n",
    "from tensorflow.keras.layers import Conv2D\n"
   ]
  },
  {
   "cell_type": "code",
   "execution_count": 2,
   "metadata": {},
   "outputs": [
    {
     "name": "stdout",
     "output_type": "stream",
     "text": [
      "5\n",
      "0 0 0 0 0\n",
      "0 0 0 0 0\n",
      "1 1 1 1 1\n",
      "0 0 0 0 0\n",
      "0 0 0 0 0\n"
     ]
    }
   ],
   "source": [
    "#take the input\n",
    "n=int(input())\n",
    "input_data=[]\n",
    "for x in range(n):\n",
    "    m=[float(j) for j in input().split()]\n",
    "    input_data.append(m)\n"
   ]
  },
  {
   "cell_type": "code",
   "execution_count": 3,
   "metadata": {},
   "outputs": [],
   "source": [
    "#reshape the input\n",
    "input_data = asarray(input_data)\n",
    "input_data = input_data.reshape(1, n, n, 1)\n"
   ]
  },
  {
   "cell_type": "code",
   "execution_count": 4,
   "metadata": {},
   "outputs": [],
   "source": [
    "#Build the model and predict the data\n",
    "model = Sequential()\n",
    "inp=(n,n,1)\n",
    "model.add(keras.layers.Conv2D(1,(2,2), activation='tanh', input_shape=inp))\n",
    " \n",
    "x=model.predict(input_data)\n"
   ]
  },
  {
   "cell_type": "code",
   "execution_count": 5,
   "metadata": {},
   "outputs": [
    {
     "name": "stdout",
     "output_type": "stream",
     "text": [
      "(1, 4, 4, 1)\n"
     ]
    }
   ],
   "source": [
    "#print the shape\n",
    "print(x.shape)"
   ]
  },
  {
   "cell_type": "code",
   "execution_count": null,
   "metadata": {},
   "outputs": [],
   "source": []
  },
  {
   "cell_type": "code",
   "execution_count": null,
   "metadata": {},
   "outputs": [],
   "source": []
  }
 ],
 "metadata": {
  "kernelspec": {
   "display_name": "Python 3",
   "language": "python",
   "name": "python3"
  },
  "language_info": {
   "codemirror_mode": {
    "name": "ipython",
    "version": 3
   },
   "file_extension": ".py",
   "mimetype": "text/x-python",
   "name": "python",
   "nbconvert_exporter": "python",
   "pygments_lexer": "ipython3",
   "version": "3.8.5"
  }
 },
 "nbformat": 4,
 "nbformat_minor": 2
}

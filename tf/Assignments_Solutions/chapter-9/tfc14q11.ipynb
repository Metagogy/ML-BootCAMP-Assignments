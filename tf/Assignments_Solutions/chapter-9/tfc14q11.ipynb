{
 "cells": [
  {
   "cell_type": "markdown",
   "metadata": {},
   "source": [
    "**Question**:   Build, compile, train and evaluate mnist model by using convolution."
   ]
  },
  {
   "cell_type": "markdown",
   "metadata": {},
   "source": [
    "**Level:** 03"
   ]
  },
  {
   "cell_type": "markdown",
   "metadata": {},
   "source": [
    "**Description:**\n",
    "* Load the mnist dataset using an in-built function\n",
    "* Split the dataset into training and testing samples\n",
    "* Normalize the training and testing sets\n",
    "* Reshape the x train and test\n",
    "* Convert y train and test to categorical\n",
    "* Build the sequential model having a layer with conv2D, 64 neurons, Max Pooling with pool size 2x2 la create a dense layer with  ‘softmax’ as activation function. \n",
    "* Compile the model with loss as binary cross-entropy and optimizer as SGD..\n",
    "* Train the model with 5 epochs, verbose as 0\n",
    "* Finally, evaluate the model and print the accuracy\n"
   ]
  },
  {
   "cell_type": "markdown",
   "metadata": {},
   "source": [
    "**Solution**"
   ]
  },
  {
   "cell_type": "code",
   "execution_count": 1,
   "metadata": {},
   "outputs": [],
   "source": [
    "# Start Your Code Here."
   ]
  },
  {
   "cell_type": "code",
   "execution_count": 2,
   "metadata": {},
   "outputs": [],
   "source": [
    "# import libraries\n",
    "\n",
    "import keras\n",
    "from keras import Sequential\n",
    "from keras.layers import Conv2D,MaxPooling2D,Dense,Flatten\n",
    "from keras.datasets import mnist\n",
    "from keras.utils import to_categorical\n",
    "\n"
   ]
  },
  {
   "cell_type": "code",
   "execution_count": 5,
   "metadata": {},
   "outputs": [],
   "source": [
    "# Load mnist data.\n",
    " \n",
    "(x_train,y_train),(x_test,y_test)=mnist.load_data()\n"
   ]
  },
  {
   "cell_type": "code",
   "execution_count": 6,
   "metadata": {},
   "outputs": [],
   "source": [
    "# Normalize train and test data.\n",
    " \n",
    "x_train = x_train / 255.0\n",
    "x_test = x_test / 255.0\n",
    " \n",
    "\n",
    "\n"
   ]
  },
  {
   "cell_type": "code",
   "execution_count": 7,
   "metadata": {},
   "outputs": [],
   "source": [
    "# Reshape x_train,x_test\n",
    " \n",
    "x_train=x_train.reshape(-1,28,28,1)\n",
    "x_test=x_test.reshape(-1,28,28,1)\n",
    " "
   ]
  },
  {
   "cell_type": "code",
   "execution_count": 8,
   "metadata": {},
   "outputs": [],
   "source": [
    "#convert y_train,y_test to categorical\n",
    " \n",
    "y_train=to_categorical(y_train,10)\n",
    "y_test=to_categorical(y_test,10)"
   ]
  },
  {
   "cell_type": "code",
   "execution_count": 9,
   "metadata": {},
   "outputs": [],
   "source": [
    "# Build model architecture.\n",
    " \n",
    "model=Sequential()\n",
    "model.add(Conv2D(64,(3,3),input_shape=x_train.shape[1:]))\n",
    "model.add(MaxPooling2D(pool_size=(2,2)))\n",
    "model.add(Flatten())\n",
    "model.add(Dense(10,activation='softmax'))\n"
   ]
  },
  {
   "cell_type": "code",
   "execution_count": 10,
   "metadata": {},
   "outputs": [],
   "source": [
    "# Compile the model\n",
    " \n",
    "model.compile(optimizer='SGD',loss='binary_crossentropy',metrics=['accuracy'])\n"
   ]
  },
  {
   "cell_type": "code",
   "execution_count": 11,
   "metadata": {},
   "outputs": [],
   "source": [
    "# Fit or Train the model\n",
    " \n",
    "model.fit(x_train,y_train,epochs=5,verbose=0);\n",
    " "
   ]
  },
  {
   "cell_type": "code",
   "execution_count": 12,
   "metadata": {},
   "outputs": [],
   "source": [
    "# evaluate The model\n",
    "los,acc=model.evaluate(x_test,y_test,verbose=0);"
   ]
  },
  {
   "cell_type": "code",
   "execution_count": 13,
   "metadata": {},
   "outputs": [
    {
     "name": "stdout",
     "output_type": "stream",
     "text": [
      "0.9046000242233276\n"
     ]
    }
   ],
   "source": [
    "# Print Accuracy\n",
    "print(acc)"
   ]
  },
  {
   "cell_type": "code",
   "execution_count": null,
   "metadata": {},
   "outputs": [],
   "source": []
  }
 ],
 "metadata": {
  "kernelspec": {
   "display_name": "Python 3",
   "language": "python",
   "name": "python3"
  },
  "language_info": {
   "codemirror_mode": {
    "name": "ipython",
    "version": 3
   },
   "file_extension": ".py",
   "mimetype": "text/x-python",
   "name": "python",
   "nbconvert_exporter": "python",
   "pygments_lexer": "ipython3",
   "version": "3.8.5"
  }
 },
 "nbformat": 4,
 "nbformat_minor": 2
}

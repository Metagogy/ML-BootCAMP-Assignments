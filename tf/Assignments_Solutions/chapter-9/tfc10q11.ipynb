{
 "cells": [
  {
   "cell_type": "markdown",
   "metadata": {},
   "source": [
    "**Question** : \n",
    "\n",
    "Visualize elu  backpropagation function with python and generate input dataset as 10 points between -5 and 5"
   ]
  },
  {
   "cell_type": "markdown",
   "metadata": {},
   "source": [
    "**Level** : \n",
    "\n",
    "Medium"
   ]
  },
  {
   "cell_type": "markdown",
   "metadata": {},
   "source": [
    "**Input format** : \n",
    "\n",
    "generate values using numpy array values in between -5 and 5 with range of 10 values\n",
    "\n",
    "**Output format** : \n",
    "\n",
    "print the output result"
   ]
  },
  {
   "cell_type": "markdown",
   "metadata": {},
   "source": [
    "**Sample input** : \n",
    "\n",
    "\n",
    "start=-5\n",
    "\n",
    "stop=5\n",
    "\n",
    "num=10\n",
    "\n",
    "alpha=0.1\n",
    "\n",
    "**Sample Output** : \n",
    "\n",
    "\n",
    "[ 0.    0.    0.01  0.02  0.06  0.17  0.53  1.61  4.89 14.84]\n"
   ]
  },
  {
   "cell_type": "markdown",
   "metadata": {},
   "source": [
    "### hints:\n",
    "define elu function\n",
    "\n",
    "alpha*(np.exp(X))\n",
    "\n",
    "Take alpha as 0.1 value"
   ]
  },
  {
   "cell_type": "code",
   "execution_count": 1,
   "metadata": {},
   "outputs": [
    {
     "name": "stdout",
     "output_type": "stream",
     "text": [
      "-5\n",
      "5\n",
      "10\n",
      "0.1\n",
      "[ 0.    0.    0.01  0.02  0.06  0.17  0.53  1.61  4.89 14.84]\n"
     ]
    }
   ],
   "source": [
    "#np.random.seed(0) \n",
    "import numpy as np\n",
    "\n",
    "start=int(input())\n",
    "stop=int(input())\n",
    "var=int(input())\n",
    "a=np.linspace(start,stop,var)\n",
    "alpha =float(input())\n",
    "\n",
    "def elu(X):\n",
    "    val =alpha*(np.exp(X))\n",
    "    return val\n",
    "\n",
    "output = elu(a)\n",
    "np.set_printoptions(precision=2,suppress=True)\n",
    "print(output)\n"
   ]
  },
  {
   "cell_type": "code",
   "execution_count": null,
   "metadata": {},
   "outputs": [],
   "source": []
  }
 ],
 "metadata": {
  "kernelspec": {
   "display_name": "Python 3",
   "language": "python",
   "name": "python3"
  },
  "language_info": {
   "codemirror_mode": {
    "name": "ipython",
    "version": 3
   },
   "file_extension": ".py",
   "mimetype": "text/x-python",
   "name": "python",
   "nbconvert_exporter": "python",
   "pygments_lexer": "ipython3",
   "version": "3.8.5"
  }
 },
 "nbformat": 4,
 "nbformat_minor": 5
}

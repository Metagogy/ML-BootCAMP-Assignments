{
 "cells": [
  {
   "cell_type": "markdown",
   "metadata": {},
   "source": [
    "**Question** : Write a program to perform arithmetic operations like addition, subtraction, multiplication, division, floor division, power on given input two numbers a,b and the output should be in the format like\n",
    "\n",
    "+:   5\n",
    "\n",
    "-:    1\n",
    "\n",
    "*:   6\n",
    "\n",
    "/:    1.5\n",
    "\n",
    "//:   1\n",
    "\n",
    "**:  9"
   ]
  },
  {
   "cell_type": "markdown",
   "metadata": {},
   "source": [
    "**Level** : Easy"
   ]
  },
  {
   "cell_type": "markdown",
   "metadata": {},
   "source": [
    "**input format:**\n",
    "integer,integer"
   ]
  },
  {
   "cell_type": "markdown",
   "metadata": {},
   "source": [
    "**output format:**\n",
    "integer/float"
   ]
  },
  {
   "cell_type": "markdown",
   "metadata": {},
   "source": [
    "**Sample input :**\n",
    "3 2"
   ]
  },
  {
   "cell_type": "markdown",
   "metadata": {},
   "source": [
    "**Sample output :**\n",
    "\n",
    "+: 5\n",
    "\n",
    "-: 1\n",
    "\n",
    "*: 6\n",
    "\n",
    "/: 1.5\n",
    "\n",
    "//: 1\n",
    "\n",
    "**: 9"
   ]
  },
  {
   "cell_type": "code",
   "execution_count": 5,
   "metadata": {},
   "outputs": [
    {
     "name": "stdout",
     "output_type": "stream",
     "text": [
      "'3 2'\n",
      "('+:', 5)\n",
      "('-:', 1)\n",
      "('*:', 6)\n",
      "('/:', 1)\n",
      "('//:', 1)\n",
      "('**:', 9)\n"
     ]
    }
   ],
   "source": [
    "\n",
    "a,b=[int(x) for x in input().split()]\n",
    "print(\"+:\",a+b)\n",
    "print(\"-:\",a-b)\n",
    "print(\"*:\",a*b)\n",
    "print(\"/:\",a/b)\n",
    "print(\"//:\",a//b)\n",
    "print(\"**:\",a**b)\n",
    "\n",
    "\n"
   ]
  },
  {
   "cell_type": "code",
   "execution_count": null,
   "metadata": {},
   "outputs": [],
   "source": []
  }
 ],
 "metadata": {
  "kernelspec": {
   "display_name": "Python 3",
   "language": "python",
   "name": "python3"
  },
  "language_info": {
   "codemirror_mode": {
    "name": "ipython",
    "version": 3
   },
   "file_extension": ".py",
   "mimetype": "text/x-python",
   "name": "python",
   "nbconvert_exporter": "python",
   "pygments_lexer": "ipython3",
   "version": "3.7.4"
  }
 },
 "nbformat": 4,
 "nbformat_minor": 4
}

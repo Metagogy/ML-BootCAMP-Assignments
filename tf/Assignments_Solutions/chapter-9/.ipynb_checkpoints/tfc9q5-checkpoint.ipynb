{
 "cells": [
  {
   "cell_type": "markdown",
   "metadata": {},
   "source": [
    "**Question :** Read the iris dataset from the given path. Build, compile, train and evaluate the model using Categorical cross entropy as loss function and RMSprop as optimizer. use only with keras"
   ]
  },
  {
   "cell_type": "markdown",
   "metadata": {},
   "source": [
    "**Description :**\n",
    "\n",
    "* Load the iris.csv dataset and Drop “Id” variable(column) , axis = 1 \n",
    "* Split into training and testing with test size = 0.1 and random state = 0\n",
    "* Build the model by using Sequential model API and adding first activation function as Relu layer having 8 neurons and next       three activation functions as Relu layer having 10 neurons each and last activation function as Softmax layer has 3 neurons\n",
    "* Compile the model by using loss function as categorical cross entropy and Optimizer as RMSprop\n",
    "* Fit or Train the model by using 5 epochs \n",
    "* Evaluate the model by using test values \n",
    "* print the accuracy."
   ]
  },
  {
   "cell_type": "markdown",
   "metadata": {},
   "source": [
    "**Dataset** :"
   ]
  },
  {
   "cell_type": "raw",
   "metadata": {},
   "source": [
    "Read Iris dataset from the below path.\n",
    "\n",
    "https://raw.githubusercontent.com/Metagogy/ML-BootCAMP-Assignments/master/datasets/Iris.csv"
   ]
  },
  {
   "cell_type": "code",
   "execution_count": 30,
   "metadata": {},
   "outputs": [],
   "source": [
    "# Start Your Code From Here."
   ]
  },
  {
   "cell_type": "code",
   "execution_count": 41,
   "metadata": {
    "deletable": false,
    "editable": false
   },
   "outputs": [],
   "source": [
    "import os\n",
    "os.environ['PYTHONHASHSEED'] = '0'\n",
    "import numpy as np\n",
    "import random\n",
    "import tensorflow as tf\n",
    "\n",
    "np.random.seed(0)\n",
    "random.seed(0)\n",
    "tf.random.set_seed(0)"
   ]
  },
  {
   "cell_type": "code",
   "execution_count": 42,
   "metadata": {},
   "outputs": [],
   "source": [
    "# Import required Libraries.\n",
    "\n",
    "import pandas as pd\n",
    "from keras.models import Sequential\n",
    "from keras.layers import Dense\n",
    "import silence_tensorflow.auto\n",
    "from sklearn import preprocessing, model_selection"
   ]
  },
  {
   "cell_type": "code",
   "execution_count": 43,
   "metadata": {},
   "outputs": [],
   "source": [
    "# Load The Dataset.\n",
    "\n",
    "data = pd.read_csv ('https://raw.githubusercontent.com/Metagogy/ML-BootCAMP-Assignments/master/datasets/Iris.csv')"
   ]
  },
  {
   "cell_type": "code",
   "execution_count": 44,
   "metadata": {},
   "outputs": [],
   "source": [
    "# Drop the ID column.\n",
    "\n",
    "data = data.drop(['Id'], axis = 1)"
   ]
  },
  {
   "cell_type": "code",
   "execution_count": 45,
   "metadata": {},
   "outputs": [],
   "source": [
    "# Divide the features and labels.\n",
    "\n",
    "X = data.drop(['Species'] , axis = 1)\n",
    "Y = data['Species']"
   ]
  },
  {
   "cell_type": "code",
   "execution_count": 46,
   "metadata": {},
   "outputs": [],
   "source": [
    "# convert categorical data in to dummy variables.\n",
    "\n",
    "Y=pd.get_dummies(Y)"
   ]
  },
  {
   "cell_type": "code",
   "execution_count": 47,
   "metadata": {},
   "outputs": [],
   "source": [
    "# Split the train and test.\n",
    "\n",
    "train_x, test_x, train_y, test_y = model_selection.train_test_split(X,Y,test_size = 0.1, random_state = 0)"
   ]
  },
  {
   "cell_type": "code",
   "execution_count": 48,
   "metadata": {},
   "outputs": [],
   "source": [
    "# Build the Sequential model.\n",
    "\n",
    "input_dim = len(data.columns) - 1\n",
    "\n",
    "model = Sequential()\n",
    "model.add(Dense(8, input_dim = input_dim , activation = 'relu'))\n",
    "model.add(Dense(10, activation = 'relu'))\n",
    "model.add(Dense(10, activation = 'relu'))\n",
    "model.add(Dense(10, activation = 'relu'))\n",
    "model.add(Dense(3, activation = 'softmax'))"
   ]
  },
  {
   "cell_type": "code",
   "execution_count": 49,
   "metadata": {},
   "outputs": [],
   "source": [
    "# Compile the model.\n",
    "\n",
    "model.compile(\n",
    "    loss= 'categorical_crossentropy',\n",
    "    optimizer='RMSprop',\n",
    "    metrics=['accuracy'])"
   ]
  },
  {
   "cell_type": "code",
   "execution_count": 50,
   "metadata": {},
   "outputs": [],
   "source": [
    "# Fit the model\n",
    "\n",
    "model.fit(train_x, train_y, epochs = 10,verbose=0);"
   ]
  },
  {
   "cell_type": "code",
   "execution_count": 51,
   "metadata": {},
   "outputs": [
    {
     "name": "stdout",
     "output_type": "stream",
     "text": [
      "0.7333333492279053\n"
     ]
    }
   ],
   "source": [
    "# Evaluate and print the accuracy.\n",
    "\n",
    "loss,acc = model.evaluate(test_x, test_y,verbose=0)\n",
    "\n",
    "print(acc)"
   ]
  }
 ],
 "metadata": {
  "kernelspec": {
   "display_name": "Python 3",
   "language": "python",
   "name": "python3"
  },
  "language_info": {
   "codemirror_mode": {
    "name": "ipython",
    "version": 3
   },
   "file_extension": ".py",
   "mimetype": "text/x-python",
   "name": "python",
   "nbconvert_exporter": "python",
   "pygments_lexer": "ipython3",
   "version": "3.8.3"
  }
 },
 "nbformat": 4,
 "nbformat_minor": 4
}

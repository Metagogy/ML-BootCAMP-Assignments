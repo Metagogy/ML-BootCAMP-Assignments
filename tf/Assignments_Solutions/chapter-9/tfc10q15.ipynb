{
 "cells": [
  {
   "cell_type": "markdown",
   "metadata": {},
   "source": [
    "### Question 7: \n",
    "Load the inbuilt wine dataset , Split the data into train and test . Build, compile, train and evaluate the model using adam optimizer, loss as \"amse\"."
   ]
  },
  {
   "cell_type": "markdown",
   "metadata": {},
   "source": [
    "### Description: \n",
    "Load the wine  dataset using inbuilt dataset function and split into train and test.\n",
    "\n",
    "Split into  independent variable and  dependent(labels) variable\n",
    "\n",
    "Build the wine dataset model by using a sequential layer and add the 2 layers and first two activation functions as Relu layers having 64 neurons in each dense layer and last layer having activation function as relu layer with 1 neuron.\n",
    "\n",
    "Compile the model using adam optimizer, loss as \"categorical_crossentropy\" and train the model using 5 epochs, 10  as batch size.\n",
    "Evaluate the  model by using a test and predicted value."
   ]
  },
  {
   "cell_type": "markdown",
   "metadata": {},
   "source": [
    "### Level: \n",
    "Hard\n"
   ]
  },
  {
   "cell_type": "markdown",
   "metadata": {},
   "source": [
    "### Explanation:\n",
    "Compile defines the loss function, the optimizer and the metrics.\n",
    "\n",
    "fit() is used for training models.\n",
    "\n",
    "evaluate function predicts the output for the given input and then computes the metric\n",
    "\n",
    "Library: [tf.keras/tensorflow]\n",
    "Category: ML"
   ]
  },
  {
   "cell_type": "markdown",
   "metadata": {},
   "source": [
    "### Input format : \n",
    "Dataset\n",
    "### Output format : \n",
    "Model Accuracy"
   ]
  },
  {
   "cell_type": "code",
   "execution_count": 3,
   "metadata": {},
   "outputs": [
    {
     "name": "stdout",
     "output_type": "stream",
     "text": [
      "0.9166666865348816\n"
     ]
    }
   ],
   "source": [
    "\n",
    "import keras\n",
    "\n",
    "from sklearn.datasets import load_wine\n",
    "import pandas as pd\n",
    "\n",
    "data12=load_wine()\n",
    "data12_inde=pd.DataFrame(data12.data,columns=data12.feature_names)\n",
    "\n",
    "data12_label=pd.DataFrame(data12.target,columns=['target'])\n",
    "\n",
    "\n",
    "\n",
    "data3=pd.concat([data12_inde,data12_label],axis=1)\n",
    "data3=data3.drop(labels=['alcohol','total_phenols','flavanoids','hue','od280/od315_of_diluted_wines'],axis=1)\n",
    "\n",
    "\n",
    "x=data3.iloc[:,:8]\n",
    "\n",
    "y=data3.iloc[:,8]\n",
    "y=keras.utils.to_categorical(y)\n",
    "\n",
    "from sklearn.model_selection import train_test_split\n",
    "\n",
    "x_train, x_test, y_train, y_test=train_test_split(x,y,test_size=0.2,random_state=42)\n",
    "\n",
    "import keras\n",
    "\n",
    "### Import Libraries\n",
    "\n",
    "#Sequential---Init the NN model\n",
    "from keras.models import Sequential\n",
    "#Dense --Normal Neural Network layer\n",
    "from keras.layers import Dense\n",
    "\n",
    "### Init the Neural Network Model\n",
    "\n",
    "model=Sequential()\n",
    "\n",
    "### Add Input Layer\n",
    "\n",
    "x_train.shape[1]\n",
    "\n",
    "#add() of Sequential() is used to add layers\n",
    "#Dense\n",
    "\n",
    "model.add(Dense(input_dim=x_train.shape[1],kernel_initializer=\"random_uniform\",activation=\"relu\",units=20))\n",
    "\n",
    "### Add Hidden Layer\n",
    "\n",
    "model.add(Dense(kernel_initializer=\"random_uniform\",activation=\"relu\",units=15))\n",
    "model.add(Dense(kernel_initializer=\"random_uniform\",activation=\"relu\",units=15))\n",
    "\n",
    "### Add Output Layer\n",
    "\n",
    "model.add(Dense(kernel_initializer=\"random_uniform\",activation=\"softmax\",units=3))\n",
    "\n",
    "### Compile the Model\n",
    "\n",
    "model.compile(loss=\"categorical_crossentropy\",optimizer=\"adam\",metrics=[\"accuracy\"])\n",
    "\n",
    "\n",
    "\n",
    "model.fit(x_train,y_train,batch_size=10,epochs=500,verbose=0);\n",
    "\n",
    "y_pred=model.predict(x_test)\n",
    "#_, train_acc = model.evaluate(x_train, y_train, verbose=0)\n",
    "_, test_acc = model.evaluate(x_test, y_test, verbose=0)\n",
    "print(test_acc)\n",
    "\n",
    "#from sklearn.metrics import accuracy_score\n",
    "\n",
    "#print(\"Test Accuracy Score:\",accuracy_score(y_test,y_pred)*100,\"%\")\n",
    "#print(\"Train Accuracy Score:\",accuracy_score(x_train,y_train)*100,\"%\")\n"
   ]
  },
  {
   "cell_type": "code",
   "execution_count": null,
   "metadata": {},
   "outputs": [],
   "source": []
  }
 ],
 "metadata": {
  "kernelspec": {
   "display_name": "Python 3",
   "language": "python",
   "name": "python3"
  },
  "language_info": {
   "codemirror_mode": {
    "name": "ipython",
    "version": 3
   },
   "file_extension": ".py",
   "mimetype": "text/x-python",
   "name": "python",
   "nbconvert_exporter": "python",
   "pygments_lexer": "ipython3",
   "version": "3.8.5"
  }
 },
 "nbformat": 4,
 "nbformat_minor": 5
}

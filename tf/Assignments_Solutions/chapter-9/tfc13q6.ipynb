{
 "cells": [
  {
   "cell_type": "markdown",
   "metadata": {
    "id": "kIIeeiYhXsE-"
   },
   "source": [
    "**Question:** Apply a L1 regularization penalty by creating a tensor of ones with a shape of nxn and multiply by m. given through input"
   ]
  },
  {
   "cell_type": "markdown",
   "metadata": {},
   "source": [
    "**Level** : Easy"
   ]
  },
  {
   "cell_type": "markdown",
   "metadata": {
    "id": "SlXV0oM7XsFB"
   },
   "source": [
    "**Input format:**\n",
    "\n",
    "Integer <br/>\n",
    "Integer  <br/>\n",
    "Float  <br/>\n",
    "\n",
    "**Output format :**\n",
    "\n",
    "Tensor\n",
    "\n",
    "\n"
   ]
  },
  {
   "cell_type": "markdown",
   "metadata": {},
   "source": [
    "**Sample Input:**\n",
    "\n",
    "6<br/>\n",
    "2<br/>\n",
    "0.2\n"
   ]
  },
  {
   "cell_type": "markdown",
   "metadata": {},
   "source": [
    "**Sample Output:**\n",
    "\n",
    "tf.Tensor(0.71999997, shape=(), dtype=float32)\n",
    "\n"
   ]
  },
  {
   "cell_type": "markdown",
   "metadata": {},
   "source": [
    "**SOLUTION**"
   ]
  },
  {
   "cell_type": "code",
   "execution_count": null,
   "metadata": {
    "id": "nlyHwRwNXsFB"
   },
   "outputs": [],
   "source": [
    "#start your code here"
   ]
  },
  {
   "cell_type": "code",
   "execution_count": 5,
   "metadata": {
    "id": "vXHPx1ncXsFC"
   },
   "outputs": [],
   "source": [
    "#import your library\n",
    "import tensorflow as tf\n",
    "from tensorflow.keras import regularizers"
   ]
  },
  {
   "cell_type": "code",
   "execution_count": 24,
   "metadata": {
    "colab": {
     "base_uri": "https://localhost:8080/"
    },
    "id": "8bkoVDAMXsFC",
    "outputId": "9fc42f8a-0697-4028-bafe-37563887f631"
   },
   "outputs": [
    {
     "name": "stdout",
     "output_type": "stream",
     "text": [
      "6\n",
      "2\n",
      "0.2\n"
     ]
    }
   ],
   "source": [
    "#Take the respective inputs\n",
    "n=(int(input()))\n",
    "m=(int(input()))\n",
    "l1=(float(input()))"
   ]
  },
  {
   "cell_type": "code",
   "execution_count": 25,
   "metadata": {
    "id": "ff_aMHmwXsFD"
   },
   "outputs": [],
   "source": [
    "# apply the regularizer\n",
    "regularizer = tf.keras.regularizers.l1()"
   ]
  },
  {
   "cell_type": "code",
   "execution_count": 26,
   "metadata": {
    "id": "--0IQ3BkXsFD"
   },
   "outputs": [],
   "source": [
    "# Create the tensor and apply the regularizer on tensor.\n",
    "tensor = tf.ones(shape=(n,n))*m\n",
    "out=regularizer(tensor)"
   ]
  },
  {
   "cell_type": "code",
   "execution_count": 27,
   "metadata": {
    "colab": {
     "base_uri": "https://localhost:8080/"
    },
    "id": "2RJHjSrwXsFE",
    "outputId": "ba069c57-b88a-4e5f-8ac5-3cbebdcbdd3b"
   },
   "outputs": [
    {
     "name": "stdout",
     "output_type": "stream",
     "text": [
      "tf.Tensor(0.71999997, shape=(), dtype=float32)\n"
     ]
    }
   ],
   "source": [
    "#print the output\n",
    "print(out)"
   ]
  },
  {
   "cell_type": "code",
   "execution_count": null,
   "metadata": {
    "id": "jnJOg390XsFE"
   },
   "outputs": [],
   "source": []
  }
 ],
 "metadata": {
  "accelerator": "GPU",
  "colab": {
   "collapsed_sections": [],
   "name": "tfc13q6.ipynb",
   "provenance": []
  },
  "kernelspec": {
   "display_name": "Python 3",
   "language": "python",
   "name": "python3"
  },
  "language_info": {
   "codemirror_mode": {
    "name": "ipython",
    "version": 3
   },
   "file_extension": ".py",
   "mimetype": "text/x-python",
   "name": "python",
   "nbconvert_exporter": "python",
   "pygments_lexer": "ipython3",
   "version": "3.8.5"
  }
 },
 "nbformat": 4,
 "nbformat_minor": 1
}

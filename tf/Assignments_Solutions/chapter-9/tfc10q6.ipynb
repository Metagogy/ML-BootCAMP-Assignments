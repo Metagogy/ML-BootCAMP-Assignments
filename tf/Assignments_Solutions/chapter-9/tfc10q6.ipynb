{
 "cells": [
  {
   "cell_type": "markdown",
   "metadata": {},
   "source": [
    "### Question:  \n",
    "    \n",
    "Initialize two variables list of elements with using tf.constant, add them and print the result"
   ]
  },
  {
   "cell_type": "markdown",
   "metadata": {},
   "source": [
    "### Level:\n",
    "Easy"
   ]
  },
  {
   "cell_type": "markdown",
   "metadata": {},
   "source": [
    "### Input format : \n",
    "First-line : Space-separated values # Convert these values into list\n",
    "\n",
    "second-line : Space-separated values # Convert these values into list\n",
    "### Output format : \n",
    "Shape, tensor values and datatype"
   ]
  },
  {
   "cell_type": "markdown",
   "metadata": {},
   "source": [
    "**Sample input** : \n",
    "\n",
    "1 2 3 4 <br/>\n",
    "5 6 7 8\n",
    "\n",
    "**Sample output** :  \n",
    "\n",
    "\n",
    "tf.Tensor([ 6  8 10 12], shape=(4,), dtype=int32)"
   ]
  },
  {
   "cell_type": "code",
   "execution_count": 2,
   "metadata": {},
   "outputs": [
    {
     "name": "stdout",
     "output_type": "stream",
     "text": [
      "10 11 12 13\n",
      "14 15 16 17\n",
      "tf.Tensor([24. 26. 28. 30.], shape=(4,), dtype=float32)\n"
     ]
    }
   ],
   "source": [
    "import tensorflow as tf\n",
    "\n",
    "\n",
    "lst1=list(map(float,input().split()))\n",
    "lst2=list(map(float,input().split()))\n",
    "\n",
    "\n",
    "result = tf.add(lst1, lst2)\n",
    "\n",
    "print(result)"
   ]
  },
  {
   "cell_type": "code",
   "execution_count": null,
   "metadata": {},
   "outputs": [],
   "source": []
  }
 ],
 "metadata": {
  "kernelspec": {
   "display_name": "Python 3",
   "language": "python",
   "name": "python3"
  },
  "language_info": {
   "codemirror_mode": {
    "name": "ipython",
    "version": 3
   },
   "file_extension": ".py",
   "mimetype": "text/x-python",
   "name": "python",
   "nbconvert_exporter": "python",
   "pygments_lexer": "ipython3",
   "version": "3.8.5"
  }
 },
 "nbformat": 4,
 "nbformat_minor": 5
}

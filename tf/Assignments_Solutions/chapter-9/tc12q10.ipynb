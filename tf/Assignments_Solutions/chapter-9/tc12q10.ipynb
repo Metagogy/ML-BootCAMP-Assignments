{
 "cells": [
  {
   "cell_type": "markdown",
   "metadata": {},
   "source": [
    "**Question:** Given equation (3 * X  +  2 * Y +5 * Z)* *2  find the global optima using tensorflow and SGD with Learning rate=0.1.\n"
   ]
  },
  {
   "cell_type": "markdown",
   "metadata": {},
   "source": [
    "**Level :02**"
   ]
  },
  {
   "cell_type": "markdown",
   "metadata": {},
   "source": [
    "**Input format :** \n",
    " * Float\n",
    " * Float\n",
    " * Float\n",
    "\n",
    "**Output format :** \n",
    " * Float\n",
    " * Float\n",
    " * Float\n",
    " \n",
    "\n",
    " \n",
    "\n"
   ]
  },
  {
   "cell_type": "markdown",
   "metadata": {},
   "source": [
    "**Sample input :**\n",
    " \n",
    " 3<br/>\n",
    " 2.5<br/>\n",
    " 1.25"
   ]
  },
  {
   "cell_type": "markdown",
   "metadata": {},
   "source": [
    "**Sample Output :**\n",
    " \n",
    " -9.150001<br/>\n",
    " -5.6000004<br/>\n",
    " -19.0"
   ]
  },
  {
   "cell_type": "markdown",
   "metadata": {},
   "source": [
    "**SOLUTION**"
   ]
  },
  {
   "cell_type": "code",
   "execution_count": 2,
   "metadata": {},
   "outputs": [],
   "source": [
    "#Import Library\n",
    "import tensorflow as tf"
   ]
  },
  {
   "cell_type": "code",
   "execution_count": 3,
   "metadata": {},
   "outputs": [
    {
     "name": "stdout",
     "output_type": "stream",
     "text": [
      "3\n",
      "2.5\n",
      "1.25\n"
     ]
    }
   ],
   "source": [
    "#Take input tensor variables\n",
    "X=tf.Variable(float(input()))\n",
    "Y=tf.Variable(float(input()))\n",
    "Z=tf.Variable(float(input()))"
   ]
  },
  {
   "cell_type": "code",
   "execution_count": 4,
   "metadata": {},
   "outputs": [],
   "source": [
    "#Create a optimizer, loss for the equation and minimize the loss to a step_count variable\n",
    "opt = tf.keras.optimizers.SGD(learning_rate=0.1)\n",
    "loss = lambda: (3 * X  +  2 * Y +5 * Z)**2 \n",
    "step_count = opt.minimize(loss, [X,Y,Z]).numpy()"
   ]
  },
  {
   "cell_type": "code",
   "execution_count": 5,
   "metadata": {},
   "outputs": [
    {
     "name": "stdout",
     "output_type": "stream",
     "text": [
      "-9.150001\n",
      "-5.6000004\n",
      "-19.0\n"
     ]
    }
   ],
   "source": [
    "#print the result\n",
    "print(X.numpy())\n",
    "print(Y.numpy())\n",
    "print(Z.numpy())"
   ]
  }
 ],
 "metadata": {
  "kernelspec": {
   "display_name": "Python 3",
   "language": "python",
   "name": "python3"
  },
  "language_info": {
   "codemirror_mode": {
    "name": "ipython",
    "version": 3
   },
   "file_extension": ".py",
   "mimetype": "text/x-python",
   "name": "python",
   "nbconvert_exporter": "python",
   "pygments_lexer": "ipython3",
   "version": "3.8.5"
  }
 },
 "nbformat": 4,
 "nbformat_minor": 2
}

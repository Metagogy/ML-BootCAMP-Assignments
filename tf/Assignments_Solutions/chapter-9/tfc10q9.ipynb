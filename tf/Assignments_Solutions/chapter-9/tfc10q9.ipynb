{
 "cells": [
  {
   "cell_type": "markdown",
   "metadata": {},
   "source": [
    "### Question: \n",
    "print the result using  tanh function with python and generate input dataset as 10 points between -5 and 5"
   ]
  },
  {
   "cell_type": "markdown",
   "metadata": {},
   "source": [
    "### Level: \n",
    "medium"
   ]
  },
  {
   "cell_type": "markdown",
   "metadata": {},
   "source": [
    "### Input format : \n",
    "generate values using linspace\n",
    "### Output format : \n",
    "print the ouput result"
   ]
  },
  {
   "cell_type": "markdown",
   "metadata": {},
   "source": [
    "### Sample input : \n",
    "use numpy linspace to generate values<br/>\n",
    "start=-5\n",
    "\n",
    "stop=5\n",
    "\n",
    "num=10\n",
    "\n",
    "\n",
    "### Sample Output : \n",
    "print the ouput result\n",
    "\n",
    "\n",
    "[-0.9999092  -0.99916247 -0.99229794 -0.93110961 -0.5046724   0.5046724\n",
    "  0.93110961  0.99229794  0.99916247  0.9999092 ]\n"
   ]
  },
  {
   "cell_type": "markdown",
   "metadata": {},
   "source": [
    "### Hints:\n",
    "use this code for tanh fun\n",
    "(np.exp(X)-np.exp(-X))/(np.exp(X)+np.exp(-X))\n"
   ]
  },
  {
   "cell_type": "code",
   "execution_count": 4,
   "metadata": {},
   "outputs": [
    {
     "name": "stdout",
     "output_type": "stream",
     "text": [
      "6\n",
      "-6\n",
      "10\n",
      "[ 0.99998771  0.99982316  0.99745797  0.96402758  0.58278295 -0.58278295\n",
      " -0.96402758 -0.99745797 -0.99982316 -0.99998771]\n"
     ]
    }
   ],
   "source": [
    "#np.random.seed(0) \n",
    "import numpy as np\n",
    "start=int(input())\n",
    "stop=int(input())\n",
    "var=int(input())\n",
    "\n",
    "\n",
    "\n",
    "a=np.linspace(start,stop,var)\n",
    "\n",
    "def tanh(X):\n",
    "    val = (np.exp(X)-np.exp(-X))/(np.exp(X)+np.exp(-X))\n",
    "    return val\n",
    "\n",
    "output = tanh(a)\n",
    "\n",
    "print(output)\n"
   ]
  },
  {
   "cell_type": "code",
   "execution_count": null,
   "metadata": {},
   "outputs": [],
   "source": []
  }
 ],
 "metadata": {
  "kernelspec": {
   "display_name": "Python 3",
   "language": "python",
   "name": "python3"
  },
  "language_info": {
   "codemirror_mode": {
    "name": "ipython",
    "version": 3
   },
   "file_extension": ".py",
   "mimetype": "text/x-python",
   "name": "python",
   "nbconvert_exporter": "python",
   "pygments_lexer": "ipython3",
   "version": "3.8.5"
  }
 },
 "nbformat": 4,
 "nbformat_minor": 5
}

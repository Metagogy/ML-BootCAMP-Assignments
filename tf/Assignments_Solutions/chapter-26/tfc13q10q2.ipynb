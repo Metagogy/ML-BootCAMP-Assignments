{
 "cells": [
  {
   "cell_type": "markdown",
   "metadata": {},
   "source": [
    "**Question:** Create a dense layer of 5 neurons and input dimension of 4 and pass a tensor of shape (4,6) through it and print the output."
   ]
  },
  {
   "cell_type": "markdown",
   "metadata": {},
   "source": [
    "**Description:** \n",
    "* Import the required libraries.\n",
    "* Create a tensor and a dense layer \n",
    "* Pass the tensor through the layer and print the output.\n"
   ]
  },
  {
   "cell_type": "markdown",
   "metadata": {},
   "source": [
    "**Sample Output format :**\n",
    "\n",
    "Tensor\n",
    "\n",
    "**Sample Output:**\n",
    "\n",
    "tf.Tensor(\n",
    "\n",
    "[[ 2.2181685   0.98955387  1.0103583  -0.69766754  0.69425327]\n",
    "\n",
    "[ 2.2181685   0.98955387  1.0103583  -0.69766754  0.69425327]\n",
    "\n",
    "[ 2.2181685   0.98955387  1.0103583  -0.69766754  0.69425327]\n",
    "\n",
    "[ 2.2181685   0.98955387  1.0103583  -0.69766754  0.69425327]], shape=(4, 5), dtype=float32)"
   ]
  },
  {
   "cell_type": "markdown",
   "metadata": {},
   "source": [
    "* Hint 01: use tensorflow library\n",
    "* Hint 02: create a tensor (4,6) with tf.tensor\n",
    "* Hint 03: create a  dense layer using tf.keras.layers\n"
   ]
  },
  {
   "cell_type": "code",
   "execution_count": null,
   "metadata": {},
   "outputs": [],
   "source": [
    "#start your code here"
   ]
  },
  {
   "cell_type": "code",
   "execution_count": 1,
   "metadata": {},
   "outputs": [],
   "source": [
    "#import library\n",
    "import tensorflow as tf"
   ]
  },
  {
   "cell_type": "code",
   "execution_count": 2,
   "metadata": {},
   "outputs": [],
   "source": [
    "#create a tensor\n",
    "tensor = tf.ones(shape=(4,6))"
   ]
  },
  {
   "cell_type": "code",
   "execution_count": 3,
   "metadata": {},
   "outputs": [],
   "source": [
    "#create a dense layer and pass the tensor through it\n",
    "layer=tf.keras.layers.Dense(5,input_dim=4)\n",
    "output=layer(tensor)"
   ]
  },
  {
   "cell_type": "code",
   "execution_count": 4,
   "metadata": {},
   "outputs": [
    {
     "name": "stdout",
     "output_type": "stream",
     "text": [
      "tf.Tensor(\n",
      "[[ 2.2181685   0.98955387  1.0103583  -0.69766754  0.69425327]\n",
      " [ 2.2181685   0.98955387  1.0103583  -0.69766754  0.69425327]\n",
      " [ 2.2181685   0.98955387  1.0103583  -0.69766754  0.69425327]\n",
      " [ 2.2181685   0.98955387  1.0103583  -0.69766754  0.69425327]], shape=(4, 5), dtype=float32)\n"
     ]
    }
   ],
   "source": [
    "#print the output\n",
    "print(output)\n"
   ]
  },
  {
   "cell_type": "code",
   "execution_count": null,
   "metadata": {},
   "outputs": [],
   "source": []
  }
 ],
 "metadata": {
  "kernelspec": {
   "display_name": "Python 3",
   "language": "python",
   "name": "python3"
  },
  "language_info": {
   "codemirror_mode": {
    "name": "ipython",
    "version": 3
   },
   "file_extension": ".py",
   "mimetype": "text/x-python",
   "name": "python",
   "nbconvert_exporter": "python",
   "pygments_lexer": "ipython3",
   "version": "3.8.5"
  }
 },
 "nbformat": 4,
 "nbformat_minor": 2
}

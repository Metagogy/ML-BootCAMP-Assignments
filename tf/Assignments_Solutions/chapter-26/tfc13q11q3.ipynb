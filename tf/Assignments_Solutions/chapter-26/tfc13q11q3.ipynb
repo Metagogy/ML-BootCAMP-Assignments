{
 "cells": [
  {
   "cell_type": "markdown",
   "metadata": {
    "id": "L83Odmh9YXTQ"
   },
   "source": [
    "**Question:**  Create a dense layer with ‘5’ neurons and apply a L1 L2  regularization penalty of ‘0.5’,‘0.25’ ,pass a tensor of shape(3,6) with a multiplier ‘1.5’ and print the result\n",
    "\n"
   ]
  },
  {
   "cell_type": "markdown",
   "metadata": {
    "id": "b6KG9LbMYXTa"
   },
   "source": [
    "**Description:** \n",
    "* Import the required libraries.\n",
    "* Ask for the sample input for creating a tensor of ones,multiplier and also ask for input for the value of  L1L2 penalty.\n",
    "* Create a Dense layer.\n",
    "* Create a tensor with multiplier \n",
    "* Apply the layer on tensor and print the output.\n"
   ]
  },
  {
   "cell_type": "markdown",
   "metadata": {
    "id": "V9LsjwSxYXTe"
   },
   "source": [
    "**Sample Output format :**\n",
    "\n",
    "Tensor\n",
    "\n",
    "**Sample Output:**\n",
    "\n",
    "tf.Tensor(\n",
    "\n",
    "[[9. 9. 9. 9. 9.]\n",
    "\n",
    " [9. 9. 9. 9. 9.]\n",
    "\n",
    " [9. 9. 9. 9. 9.]], shape=(3, 5), dtype=float32)"
   ]
  },
  {
   "cell_type": "markdown",
   "metadata": {
    "id": "-khPPg2GYXTf"
   },
   "source": [
    "* Hint 01: use tensorflow library\n",
    "* Hint 02: create dense layer using tf.keras.layers.Dense()\n",
    "* Hint 03: use regularizers using tf.keras.regularizers.L1L2\n"
   ]
  },
  {
   "cell_type": "code",
   "execution_count": null,
   "metadata": {
    "id": "rwXXr-DCYXTg"
   },
   "outputs": [],
   "source": [
    "#start your code here"
   ]
  },
  {
   "cell_type": "code",
   "execution_count": 9,
   "metadata": {
    "id": "xX2SJCvcYXTh"
   },
   "outputs": [],
   "source": [
    "#import library\n",
    "import tensorflow as tf"
   ]
  },
  {
   "cell_type": "code",
   "execution_count": 10,
   "metadata": {
    "id": "pir2nDoZYXTh"
   },
   "outputs": [],
   "source": [
    "#create a tensor\n",
    "tensor = tf.ones(shape=(3, 6)) * 1.5"
   ]
  },
  {
   "cell_type": "code",
   "execution_count": 11,
   "metadata": {
    "id": "PyOngNC3YXTi"
   },
   "outputs": [],
   "source": [
    "#create a dense layer and pass the tensor through it\n",
    "layer = tf.keras.layers.Dense(5, input_dim=5,kernel_initializer='ones',kernel_regularizer=tf.keras.regularizers.L1L2(0.5,0.25))\n",
    "out = layer(tensor)\n"
   ]
  },
  {
   "cell_type": "code",
   "execution_count": 12,
   "metadata": {
    "colab": {
     "base_uri": "https://localhost:8080/"
    },
    "id": "Fc42iJAUYXTj",
    "outputId": "4c3f1bdb-5275-4fe8-c2ed-42d617b7337b"
   },
   "outputs": [
    {
     "name": "stdout",
     "output_type": "stream",
     "text": [
      "tf.Tensor(\n",
      "[[9. 9. 9. 9. 9.]\n",
      " [9. 9. 9. 9. 9.]\n",
      " [9. 9. 9. 9. 9.]], shape=(3, 5), dtype=float32)\n"
     ]
    }
   ],
   "source": [
    "#print the output\n",
    "print(out)"
   ]
  },
  {
   "cell_type": "code",
   "execution_count": null,
   "metadata": {
    "id": "ISsaku2QYXTk"
   },
   "outputs": [],
   "source": []
  }
 ],
 "metadata": {
  "accelerator": "GPU",
  "colab": {
   "collapsed_sections": [],
   "name": "tfc13q11_q3.ipynb",
   "provenance": []
  },
  "kernelspec": {
   "display_name": "Python 3",
   "language": "python",
   "name": "python3"
  },
  "language_info": {
   "codemirror_mode": {
    "name": "ipython",
    "version": 3
   },
   "file_extension": ".py",
   "mimetype": "text/x-python",
   "name": "python",
   "nbconvert_exporter": "python",
   "pygments_lexer": "ipython3",
   "version": "3.8.5"
  }
 },
 "nbformat": 4,
 "nbformat_minor": 1
}

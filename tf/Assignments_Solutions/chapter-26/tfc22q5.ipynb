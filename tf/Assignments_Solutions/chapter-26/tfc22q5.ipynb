{
 "cells": [
  {
   "cell_type": "markdown",
   "metadata": {},
   "source": [
    "**Question** : Read a sentence as input, apply tokenizer and find bag of words, and print the result to the console.\n",
    "\n",
    "Note :\n",
    "\n",
    "from keras.preprocessing.text import Tokenizer"
   ]
  },
  {
   "cell_type": "markdown",
   "metadata": {},
   "source": [
    "**Level** : Hard"
   ]
  },
  {
   "cell_type": "markdown",
   "metadata": {},
   "source": [
    "**Input format** : Sentence."
   ]
  },
  {
   "cell_type": "markdown",
   "metadata": {},
   "source": [
    "**Output format** : Dictionary format with keys and values"
   ]
  },
  {
   "cell_type": "markdown",
   "metadata": {},
   "source": [
    "**Sample Input** : \n",
    "    \n",
    "AIeducator is the place to learn better machine learning courses and better caring"
   ]
  },
  {
   "cell_type": "markdown",
   "metadata": {},
   "source": [
    "**Sample Output** :\n",
    "    \n",
    "{'better': 2, 'aieducator': 1, 'is': 1, 'the': 1, 'place': 1, 'to': 1, 'learn': 1, 'machine': 1, 'learning': 1, 'courses': 1, 'and': 1, 'caring': 1}\n"
   ]
  },
  {
   "cell_type": "code",
   "execution_count": null,
   "metadata": {},
   "outputs": [],
   "source": [
    "# Start Your Code From Here."
   ]
  },
  {
   "cell_type": "code",
   "execution_count": null,
   "metadata": {},
   "outputs": [],
   "source": [
    "# Import Libraries.\n",
    "\n",
    "from keras.preprocessing.text import Tokenizer\n",
    "from nltk.tokenize import sent_tokenize"
   ]
  },
  {
   "cell_type": "code",
   "execution_count": 8,
   "metadata": {},
   "outputs": [],
   "source": [
    "# Complete the below bag_of_words function.\n",
    "\n",
    "def bag_of_words(sent):\n",
    "    sents=sent_tokenize(sent)\n",
    "    tokenizer=Tokenizer()\n",
    "    tokenizer.fit_on_texts(sents)\n",
    "    seq=tokenizer.texts_to_sequences(sents)\n",
    "    d=dict(tokenizer.word_counts)\n",
    "    word_count={}\n",
    "    for key in sorted(d,key=d.get,reverse=True):\n",
    "        word_count[key]=d[key]\n",
    "    return word_count"
   ]
  },
  {
   "cell_type": "code",
   "execution_count": 9,
   "metadata": {},
   "outputs": [
    {
     "name": "stdout",
     "output_type": "stream",
     "text": [
      " AIeducator is the place to learn better machine learning courses and better caring\n"
     ]
    }
   ],
   "source": [
    "text=input()"
   ]
  },
  {
   "cell_type": "code",
   "execution_count": 10,
   "metadata": {},
   "outputs": [
    {
     "name": "stdout",
     "output_type": "stream",
     "text": [
      "{'better': 2, 'aieducator': 1, 'is': 1, 'the': 1, 'place': 1, 'to': 1, 'learn': 1, 'machine': 1, 'learning': 1, 'courses': 1, 'and': 1, 'caring': 1}\n"
     ]
    }
   ],
   "source": [
    "print(bag_of_words(text))"
   ]
  },
  {
   "cell_type": "code",
   "execution_count": null,
   "metadata": {},
   "outputs": [],
   "source": []
  }
 ],
 "metadata": {
  "kernelspec": {
   "display_name": "Python 3",
   "language": "python",
   "name": "python3"
  },
  "language_info": {
   "codemirror_mode": {
    "name": "ipython",
    "version": 3
   },
   "file_extension": ".py",
   "mimetype": "text/x-python",
   "name": "python",
   "nbconvert_exporter": "python",
   "pygments_lexer": "ipython3",
   "version": "3.8.3"
  }
 },
 "nbformat": 4,
 "nbformat_minor": 2
}

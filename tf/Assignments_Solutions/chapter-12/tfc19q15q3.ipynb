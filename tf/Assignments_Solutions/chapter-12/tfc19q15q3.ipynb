{
  "nbformat": 4,
  "nbformat_minor": 0,
  "metadata": {
    "kernelspec": {
      "display_name": "Python 3",
      "language": "python",
      "name": "python3"
    },
    "language_info": {
      "codemirror_mode": {
        "name": "ipython",
        "version": 3
      },
      "file_extension": ".py",
      "mimetype": "text/x-python",
      "name": "python",
      "nbconvert_exporter": "python",
      "pygments_lexer": "ipython3",
      "version": "3.7.3"
    },
    "colab": {
      "name": "tfc19q15q3.ipynb",
      "provenance": [],
      "collapsed_sections": []
    }
  },
  "cells": [
    {
      "cell_type": "markdown",
      "metadata": {
        "id": "-n66dJTtYXnk"
      },
      "source": [
        "**Question**: Load, Split and normalize the mnist dataset. Build, compile and train the model using adam optimizer, loss as \"Categorical_crossentropy\"."
      ]
    },
    {
      "cell_type": "markdown",
      "metadata": {
        "id": "Nbz_5-akYXno"
      },
      "source": [
        "**Description:**  \n",
        "* Load the mnist dataset using inbuilt dataset function and split into training and testing images.\n",
        "\n",
        "\n",
        "* Normalize the dataset images by dividing it with 255 for train and test images. \n",
        "\n",
        "\n",
        "* Build the mnist dataset model by using a sequential API and adding the first Bidirectional LSTM  layer with\n",
        "\n",
        " 64 neurons and relu activation with input shape as x_train.shape,  return_sequences as True \n",
        "* Second layerwith LSTM having 128 neurons and activation as relu, Third layer as dropout with 0.2 , and the last layer is dense with 10 neurons with softmax activation as output layer. \n",
        " \n",
        " \n",
        "* Compile the model using ‘adam’ optimizer, loss as \"categorical_crossentropy\" and train the model using 3 epochs and\n",
        "\n",
        " validation data has testing values.\n",
        "\n",
        "\n",
        "\n",
        "\n"
      ]
    },
    {
      "cell_type": "code",
      "metadata": {
        "id": "KE2oQ1ZFYXn2"
      },
      "source": [
        "# Start Your Code Here."
      ],
      "execution_count": null,
      "outputs": []
    },
    {
      "cell_type": "code",
      "metadata": {
        "id": "_v3fcFmkYXn3"
      },
      "source": [
        "# Import Libraries.\n",
        "import tensorflow as  tf\n",
        "import keras\n",
        "from keras.models import Sequential\n",
        "from keras.layers import Dense, Dropout,Bidirectional,LSTM\n",
        "from keras.utils import to_categorical\n",
        "from keras.datasets import mnist\n",
        " \n"
      ],
      "execution_count": 41,
      "outputs": []
    },
    {
      "cell_type": "code",
      "metadata": {
        "id": "YReZW5DmYXn4"
      },
      "source": [
        "# train test split\n",
        "(x_train, y_train), (x_test, y_test) = mnist.load_data()\n",
        " "
      ],
      "execution_count": 42,
      "outputs": []
    },
    {
      "cell_type": "code",
      "metadata": {
        "id": "E-P4YBKaYXn4"
      },
      "source": [
        "# normalize\n",
        "x_train = x_train / 255.0\n",
        "x_test = x_test / 255.0\n",
        " "
      ],
      "execution_count": 43,
      "outputs": []
    },
    {
      "cell_type": "code",
      "metadata": {
        "id": "jDeDN_8WYXn5"
      },
      "source": [
        "#to categorical\n",
        "y_train=to_categorical(y_train,10)\n",
        "y_test=to_categorical(y_test,10)\n"
      ],
      "execution_count": 44,
      "outputs": []
    },
    {
      "cell_type": "code",
      "metadata": {
        "id": "Q5v0ofCIYXn5"
      },
      "source": [
        "# build model\n",
        "model = Sequential()\n",
        "model.add(Bidirectional(LSTM(64,input_shape=(x_train.shape[1:]),activation='relu',return_sequences=True)))\n",
        "model.add(LSTM(128,activation='relu'))\n",
        "model.add(Dropout(0.2))\n",
        "model.add(Dense(10, activation='softmax'))\n",
        "\n"
      ],
      "execution_count": 45,
      "outputs": []
    },
    {
      "cell_type": "code",
      "metadata": {
        "id": "uuPTFF9jYXn6"
      },
      "source": [
        "# compile the model\n",
        "model.compile(loss='categorical_crossentropy', optimizer='adam',metrics=['accuracy']) "
      ],
      "execution_count": 58,
      "outputs": []
    },
    {
      "cell_type": "code",
      "metadata": {
        "id": "j2klOQmXYXn6"
      },
      "source": [
        "# fit or train the model\n",
        "model.fit(x_train, y_train, epochs=3, validation_data=(x_test, y_test),verbose=0);"
      ],
      "execution_count": 59,
      "outputs": []
    },
    {
      "cell_type": "code",
      "metadata": {
        "id": "l44KaZuPYXn7"
      },
      "source": [
        "# evaluate The model\n",
        "los,acc=model.evaluate(x_test,y_test,verbose=0);\n",
        " \n"
      ],
      "execution_count": 60,
      "outputs": []
    },
    {
      "cell_type": "code",
      "metadata": {
        "colab": {
          "base_uri": "https://localhost:8080/"
        },
        "id": "QH4RjCopYXn7",
        "outputId": "8c2d2068-bb19-4989-d81f-b911ff28acc9"
      },
      "source": [
        "# Print Accuracy\n",
        "print(acc)\n"
      ],
      "execution_count": 61,
      "outputs": [
        {
          "output_type": "stream",
          "text": [
            "0.9639999866485596\n"
          ],
          "name": "stdout"
        }
      ]
    },
    {
      "cell_type": "code",
      "metadata": {
        "id": "k2dGrJ8WYXn8"
      },
      "source": [
        ""
      ],
      "execution_count": null,
      "outputs": []
    }
  ]
}
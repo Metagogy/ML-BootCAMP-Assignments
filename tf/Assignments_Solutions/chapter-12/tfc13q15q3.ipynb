{
 "cells": [
  {
   "cell_type": "markdown",
   "metadata": {},
   "source": [
    "**Question :** Apply a dropout layer of 0.3 on an array of range 12 and reshape it to (6,2) and print before and after arrays.\n"
   ]
  },
  {
   "cell_type": "markdown",
   "metadata": {},
   "source": [
    "**Explanation:**\n",
    "* Create a Dropout layer  of 0.3\n",
    "* Create an array  and reshape it.\n",
    "* Apply the Dropout layer and print the input and output arrays.\n"
   ]
  },
  {
   "cell_type": "markdown",
   "metadata": {},
   "source": [
    "**Sample Output:**\n",
    "\n",
    "Numpy array\n",
    "\n",
    "Tensor\n",
    "\n",
    "**Sample Output:**\n",
    "\n",
    "[[ 0.  1.  2.  3.]\n",
    "\n",
    "[ 4.  5.  6.  7.]\n",
    "\n",
    "[ 8.  9. 10. 11.]\n",
    "\n",
    "[12. 13. 14. 15.]]\n",
    "\n",
    "tf.Tensor(\n",
    "\n",
    "[[ 0.         1.4285715  2.857143   4.285714 ]\n",
    "\n",
    "[ 5.714286   7.1428576  8.571428  10.       ]\n",
    "\n",
    "[11.428572  12.857143  14.285715  15.714286 ]\n",
    "\n",
    "[17.142857   0.         0.        21.428572 ]], shape=(4, 4), dtype=float32)\n",
    "​"
   ]
  },
  {
   "cell_type": "markdown",
   "metadata": {},
   "source": [
    "* Hint 01: use tensorflow library,numpy library\n",
    "* Hint 02: create a dropout layer using tf.keras.layers.Dropout()\n",
    "* Hint 03: create a array using numpy.arange()\n"
   ]
  },
  {
   "cell_type": "code",
   "execution_count": 1,
   "metadata": {},
   "outputs": [],
   "source": [
    "#start your code here"
   ]
  },
  {
   "cell_type": "code",
   "execution_count": 1,
   "metadata": {},
   "outputs": [],
   "source": [
    "#import libraries\n",
    "import tensorflow as tf\n",
    "import numpy"
   ]
  },
  {
   "cell_type": "code",
   "execution_count": 2,
   "metadata": {},
   "outputs": [],
   "source": [
    "#Create a dropout layer\n",
    "layer = tf.keras.layers.Dropout(0.3, input_shape=(2,))"
   ]
  },
  {
   "cell_type": "code",
   "execution_count": 3,
   "metadata": {},
   "outputs": [],
   "source": [
    "#create a numpy array and reshape it and change the datatype\n",
    "data = numpy.arange(16).reshape(4, 4).astype(numpy.float32)"
   ]
  },
  {
   "cell_type": "code",
   "execution_count": 4,
   "metadata": {},
   "outputs": [],
   "source": [
    "#Apply the dropout layer on the array\n",
    "outputs = layer(data, training=True)"
   ]
  },
  {
   "cell_type": "code",
   "execution_count": 5,
   "metadata": {},
   "outputs": [
    {
     "name": "stdout",
     "output_type": "stream",
     "text": [
      "[[ 0.  1.  2.  3.]\n",
      " [ 4.  5.  6.  7.]\n",
      " [ 8.  9. 10. 11.]\n",
      " [12. 13. 14. 15.]]\n",
      "tf.Tensor(\n",
      "[[ 0.         1.4285715  2.857143   4.285714 ]\n",
      " [ 5.714286   7.1428576  8.571428  10.       ]\n",
      " [11.428572  12.857143  14.285715  15.714286 ]\n",
      " [17.142857   0.         0.        21.428572 ]], shape=(4, 4), dtype=float32)\n"
     ]
    }
   ],
   "source": [
    "#print the input and output\n",
    "print(data)\n",
    "print(outputs)"
   ]
  },
  {
   "cell_type": "code",
   "execution_count": null,
   "metadata": {},
   "outputs": [],
   "source": []
  }
 ],
 "metadata": {
  "kernelspec": {
   "display_name": "Python 3",
   "language": "python",
   "name": "python3"
  },
  "language_info": {
   "codemirror_mode": {
    "name": "ipython",
    "version": 3
   },
   "file_extension": ".py",
   "mimetype": "text/x-python",
   "name": "python",
   "nbconvert_exporter": "python",
   "pygments_lexer": "ipython3",
   "version": "3.8.5"
  }
 },
 "nbformat": 4,
 "nbformat_minor": 2
}

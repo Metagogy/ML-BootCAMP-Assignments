{
 "cells": [
  {
   "cell_type": "markdown",
   "id": "further-forge",
   "metadata": {},
   "source": [
    "### Description :\n",
    "\n",
    "**Question** : Load the dataset from given url and print only the columns whose type is object \n",
    "\n",
    "\n"
   ]
  },
  {
   "cell_type": "markdown",
   "id": "verbal-kernel",
   "metadata": {},
   "source": [
    "### Level:\n",
    "Medium"
   ]
  },
  {
   "cell_type": "markdown",
   "id": "interested-stanley",
   "metadata": {},
   "source": [
    "### input:\n",
    "url = 'http://bit.ly/drinksbycountry'\n"
   ]
  },
  {
   "cell_type": "markdown",
   "id": "opening-copper",
   "metadata": {},
   "source": [
    "### output:\n",
    "\n",
    "['beer_servings', 'spirit_servings', 'wine_servings', 'total_litres_of_pure_alcohol']"
   ]
  },
  {
   "cell_type": "markdown",
   "id": "earlier-immigration",
   "metadata": {},
   "source": [
    "### Explanation : \n",
    "use pandas to read csv file and to get columns init and use for loop to loop over the columns and get the dtype of columns"
   ]
  },
  {
   "cell_type": "code",
   "execution_count": 2,
   "id": "democratic-thong",
   "metadata": {},
   "outputs": [],
   "source": [
    "import pandas as pd\n",
    "url = 'http://bit.ly/drinksbycountry'#take any url\n",
    "drinks = pd.read_csv(url)"
   ]
  },
  {
   "cell_type": "code",
   "execution_count": 3,
   "id": "extreme-insertion",
   "metadata": {},
   "outputs": [],
   "source": [
    "lst=[]\n",
    "for i in drinks.columns:\n",
    "    if((drinks[i].dtype =='object')!=True):\n",
    "        lst.append(i)"
   ]
  },
  {
   "cell_type": "code",
   "execution_count": 7,
   "id": "thirty-diameter",
   "metadata": {},
   "outputs": [
    {
     "name": "stdout",
     "output_type": "stream",
     "text": [
      "['beer_servings', 'spirit_servings', 'wine_servings', 'total_litres_of_pure_alcohol']\n"
     ]
    }
   ],
   "source": [
    "print(lst)"
   ]
  }
 ],
 "metadata": {
  "kernelspec": {
   "display_name": "Python 3",
   "language": "python",
   "name": "python3"
  },
  "language_info": {
   "codemirror_mode": {
    "name": "ipython",
    "version": 3
   },
   "file_extension": ".py",
   "mimetype": "text/x-python",
   "name": "python",
   "nbconvert_exporter": "python",
   "pygments_lexer": "ipython3",
   "version": "3.8.5"
  }
 },
 "nbformat": 4,
 "nbformat_minor": 5
}

{
 "cells": [
  {
   "cell_type": "markdown",
   "metadata": {},
   "source": [
    "**Question** : Write a python multiply function which prints documentation strings or (docstrings) by mentioning input strings in triple single or double quotes. \n",
    "\n",
    "Note: To know more about docstrings please refer to the explanation part."
   ]
  },
  {
   "cell_type": "markdown",
   "metadata": {},
   "source": [
    "**Level** : Medium\n"
   ]
  },
  {
   "cell_type": "markdown",
   "metadata": {},
   "source": [
    "**input format** : function\n"
   ]
  },
  {
   "cell_type": "markdown",
   "metadata": {},
   "source": [
    "**output format** : string\n"
   ]
  },
  {
   "cell_type": "markdown",
   "metadata": {},
   "source": [
    "**sample input** :\n",
    "    \n",
    "def multiply(a, b): \n",
    "    \n",
    "\t\"\"\"Multiplies the value of a and b\"\"\"\n",
    "    \n",
    "\treturn a*b\n"
   ]
  },
  {
   "cell_type": "markdown",
   "metadata": {},
   "source": [
    "**sample output** :\n",
    "    \n",
    "'Multiplies the value of a and b'\n"
   ]
  },
  {
   "cell_type": "code",
   "execution_count": 1,
   "metadata": {},
   "outputs": [
    {
     "name": "stdout",
     "output_type": "stream",
     "text": [
      "Multiplies the value of a and b\n"
     ]
    }
   ],
   "source": [
    "\n",
    "def multiply(a, b): \n",
    "\t\"\"\"Multiplies the value of a and b\"\"\"\n",
    "\treturn a*b \n",
    "\t\n",
    "print(multiply.__doc__) \n"
   ]
  },
  {
   "cell_type": "code",
   "execution_count": null,
   "metadata": {},
   "outputs": [],
   "source": []
  }
 ],
 "metadata": {
  "kernelspec": {
   "display_name": "Python 3",
   "language": "python",
   "name": "python3"
  },
  "language_info": {
   "codemirror_mode": {
    "name": "ipython",
    "version": 3
   },
   "file_extension": ".py",
   "mimetype": "text/x-python",
   "name": "python",
   "nbconvert_exporter": "python",
   "pygments_lexer": "ipython3",
   "version": "3.8.3"
  }
 },
 "nbformat": 4,
 "nbformat_minor": 4
}

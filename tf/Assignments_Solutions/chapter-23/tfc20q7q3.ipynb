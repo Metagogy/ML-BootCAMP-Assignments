{
 "cells": [
  {
   "cell_type": "markdown",
   "metadata": {},
   "source": [
    "**Question:** Apply parts of speech for a given paragraph, and remove stopwords to convert it into an array form "
   ]
  },
  {
   "cell_type": "markdown",
   "metadata": {},
   "source": [
    "**Description :** \n",
    "* Import necessary libraries \n",
    "* Apply re to remove special characters \n",
    "* Apply word tokenize and stopwords"
   ]
  },
  {
   "cell_type": "markdown",
   "metadata": {},
   "source": [
    "**Output format:** only print without stopwords\n",
    "\n",
    "**Output Format:** [('In', 'IN'), ('corpus', 'JJ'), ('linguistics', 'NNS'), ('parof-speech', 'JJ'), ('tagging', 'NN'), ('also', 'RB'), ('called', 'VBD'), ('grammatical', 'JJ'), ('tagging', 'NN')]\n"
   ]
  },
  {
   "cell_type": "code",
   "execution_count": 1,
   "metadata": {},
   "outputs": [
    {
     "name": "stdout",
     "output_type": "stream",
     "text": [
      "{'couldn', 'you', 'all', 'o', \"you're\", 'whom', 'didn', 'ourselves', 'haven', 'because', 'm', 'wouldn', 'again', 'which', 'between', 'did', 'while', 'him', 'an', 'needn', 'this', 'myself', \"needn't\", 't', 'itself', 'theirs', 'me', 'off', 'yourselves', \"haven't\", 'were', \"weren't\", 'don', \"shan't\", \"aren't\", 'them', \"doesn't\", 'it', 'so', 'other', 'or', 'doing', 'nor', 'hers', 'your', 're', 'before', 'hadn', 'having', 'of', 'against', 'once', 'own', 'that', 'we', 'should', 'wasn', 'in', 'themselves', 'when', \"you'll\", 'mustn', 'if', \"shouldn't\", 'have', 'then', 'be', 've', 'mightn', \"won't\", 'he', \"it's\", \"mustn't\", 'shan', 'out', 'weren', 'has', 'at', 'just', 'any', 'here', \"don't\", 'do', 'can', 'the', 'very', 'each', 'such', 'will', 'herself', 'above', 'for', 'what', 'hasn', 'few', 'being', \"couldn't\", \"you'd\", 'she', 'but', 'ours', 'from', 'into', \"she's\", 'now', 'both', 'same', 'below', 'yourself', \"that'll\", 'after', 'been', 'most', 'and', 'too', \"should've\", 'll', 'our', 'shouldn', \"hadn't\", 'am', 'my', 'who', 'as', 'to', 'his', 'on', 'its', 'by', 'under', 'are', 'does', 'during', 'is', 'i', 'ain', 'her', \"didn't\", \"you've\", \"isn't\", 'where', 'was', 'over', 's', 'yours', 'a', 'up', 'doesn', 'why', 'not', 'through', \"hasn't\", 'more', 'no', \"wouldn't\", 'y', 'aren', 'isn', 'their', 'than', 'ma', 'only', 'won', 'about', 'had', 'until', \"wasn't\", 'there', 'these', 'with', 'they', \"mightn't\", 'down', 'those', 'd', 'some', 'further', 'how', 'himself'}\n"
     ]
    }
   ],
   "source": [
    "from nltk.tag import pos_tag\n",
    "from nltk.tokenize import word_tokenize\n",
    "from nltk.corpus import stopwords\n",
    "print(set(stopwords.words(\"english\")))"
   ]
  },
  {
   "cell_type": "code",
   "execution_count": null,
   "metadata": {},
   "outputs": [],
   "source": []
  }
 ],
 "metadata": {
  "kernelspec": {
   "display_name": "Python 3",
   "language": "python",
   "name": "python3"
  },
  "language_info": {
   "codemirror_mode": {
    "name": "ipython",
    "version": 3
   },
   "file_extension": ".py",
   "mimetype": "text/x-python",
   "name": "python",
   "nbconvert_exporter": "python",
   "pygments_lexer": "ipython3",
   "version": "3.8.5"
  }
 },
 "nbformat": 4,
 "nbformat_minor": 2
}

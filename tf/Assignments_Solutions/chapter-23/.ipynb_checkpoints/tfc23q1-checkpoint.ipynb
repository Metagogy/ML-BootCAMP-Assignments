{
 "cells": [
  {
   "cell_type": "markdown",
   "metadata": {},
   "source": [
    "**Question**: Build a one to one LSTM model and predict the output for a given sequence."
   ]
  },
  {
   "cell_type": "markdown",
   "metadata": {},
   "source": [
    "**Description**:\n",
    "\n",
    "* For example The sequence [0.2,0.4,0.6,0.8,1.0] will be given as input one item at a time and must be in turn returned as output, one item at a time.\n",
    "\n",
    "* Build the 2 layer LSTM model with 5 neurons in the first layer and 1 neuron in the second layer as output\n",
    "\n",
    "* Compile the model using mean squared error as loss and adam as an optimizer\n",
    "\n",
    "* Train the model using 5000 epochs and 32 as batch size \n",
    "\n",
    "* Evaluate the model and check whether the results are correct"
   ]
  },
  {
   "cell_type": "markdown",
   "metadata": {},
   "source": [
    "\n",
    "\n",
    "**Level**: Medium"
   ]
  },
  {
   "cell_type": "markdown",
   "metadata": {},
   "source": [
    "**Input format**:\n",
    "\n",
    "Space-separated float values."
   ]
  },
  {
   "cell_type": "markdown",
   "metadata": {},
   "source": [
    "**Output format**:\n",
    "\n",
    "line by line values."
   ]
  },
  {
   "cell_type": "markdown",
   "metadata": {},
   "source": [
    "**Sample Input** :\n",
    "\n",
    "0.2 0.4 0.6 0.8 1.0"
   ]
  },
  {
   "cell_type": "markdown",
   "metadata": {},
   "source": [
    "**Sample Output** : \n",
    "\n",
    "0.2\n",
    "\n",
    "0.4\n",
    "\n",
    "0.6\n",
    "\n",
    "0.8\n",
    "\n",
    "1.0"
   ]
  },
  {
   "cell_type": "markdown",
   "metadata": {},
   "source": [
    "**Solution**:\n",
    "\n"
   ]
  },
  {
   "cell_type": "code",
   "execution_count": 193,
   "metadata": {},
   "outputs": [],
   "source": [
    "# Import required libraries.\n",
    "\n",
    "import silence_tensorflow.auto\n",
    "from tensorflow import keras\n",
    "from tensorflow.keras.models import Sequential \n",
    "from tensorflow.keras.layers import Dense, LSTM\n",
    "from tensorflow.keras.optimizers import Adam\n",
    "import numpy as np"
   ]
  },
  {
   "cell_type": "code",
   "execution_count": 194,
   "metadata": {},
   "outputs": [
    {
     "name": "stdout",
     "output_type": "stream",
     "text": [
      "0.2 0.4 0.6 0.8 1.0\n"
     ]
    }
   ],
   "source": [
    "# Read Input.\n",
    "\n",
    "inp=list(map(float,input().split()))"
   ]
  },
  {
   "cell_type": "code",
   "execution_count": 195,
   "metadata": {},
   "outputs": [],
   "source": [
    "# Convert list into array.\n",
    "\n",
    "sequence = np.array(inp)"
   ]
  },
  {
   "cell_type": "code",
   "execution_count": 196,
   "metadata": {},
   "outputs": [],
   "source": [
    "# Reshape array into 2D array.\n",
    "\n",
    "X = sequence.reshape(len(sequence),1,1)\n",
    "y = sequence.reshape(len(sequence),1)"
   ]
  },
  {
   "cell_type": "code",
   "execution_count": 201,
   "metadata": {},
   "outputs": [],
   "source": [
    "# Build a model.\n",
    "\n",
    "model = keras.models.Sequential()\n",
    "model.add(keras.layers.LSTM(32,input_shape=(1,1)))\n",
    "model.add(keras.layers.Dense(1))"
   ]
  },
  {
   "cell_type": "code",
   "execution_count": 202,
   "metadata": {},
   "outputs": [],
   "source": [
    "# Compile model.\n",
    "\n",
    "model.compile(loss=\"mean_squared_error\",optimizer = \"adam\",metrics = [\"accuracy\"])"
   ]
  },
  {
   "cell_type": "code",
   "execution_count": 203,
   "metadata": {
    "scrolled": false
   },
   "outputs": [],
   "source": [
    "# fit the model.\n",
    "\n",
    "model.fit(X,y,epochs=5000,batch_size=32,verbose=0);"
   ]
  },
  {
   "cell_type": "code",
   "execution_count": 204,
   "metadata": {},
   "outputs": [
    {
     "name": "stdout",
     "output_type": "stream",
     "text": [
      "0.2\n",
      "0.4\n",
      "0.6\n",
      "0.8\n",
      "1.0\n"
     ]
    }
   ],
   "source": [
    "# Predict.\n",
    "\n",
    "output = model.predict(X,batch_size=32,verbose=0)\n",
    "\n",
    "for i in output:\n",
    "    print('%.1f' % i)"
   ]
  },
  {
   "cell_type": "code",
   "execution_count": null,
   "metadata": {},
   "outputs": [],
   "source": []
  }
 ],
 "metadata": {
  "kernelspec": {
   "display_name": "Python 3",
   "language": "python",
   "name": "python3"
  },
  "language_info": {
   "codemirror_mode": {
    "name": "ipython",
    "version": 3
   },
   "file_extension": ".py",
   "mimetype": "text/x-python",
   "name": "python",
   "nbconvert_exporter": "python",
   "pygments_lexer": "ipython3",
   "version": "3.8.3"
  }
 },
 "nbformat": 4,
 "nbformat_minor": 4
}

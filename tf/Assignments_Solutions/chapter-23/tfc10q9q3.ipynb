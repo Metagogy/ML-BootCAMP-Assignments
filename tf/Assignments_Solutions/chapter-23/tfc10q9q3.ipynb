{
 "cells": [
  {
   "cell_type": "markdown",
   "id": "serious-insert",
   "metadata": {},
   "source": [
    "### Question: \n",
    "Visualize tanh function with python and generate input dataset as 15 points between -5 and 5"
   ]
  },
  {
   "cell_type": "markdown",
   "id": "minute-advantage",
   "metadata": {},
   "source": [
    "### Level: \n",
    "medium"
   ]
  },
  {
   "cell_type": "markdown",
   "id": "advance-protest",
   "metadata": {},
   "source": [
    "### Explanation:\n",
    "Library: [ numpy / matplotlib ]\n",
    "\n",
    "Category: Tensorflow"
   ]
  },
  {
   "cell_type": "markdown",
   "id": "renewable-offering",
   "metadata": {},
   "source": [
    "### Input format : \n",
    "Create list of array values in between -5 and 5 with range of 15 values\n",
    "### Output format : \n",
    "print the ouput result"
   ]
  },
  {
   "cell_type": "markdown",
   "id": "convenient-vaccine",
   "metadata": {},
   "source": [
    "### Sample input : \n",
    "define tanh function\n",
    "### Sample Output : \n",
    "print the ouput result"
   ]
  },
  {
   "cell_type": "markdown",
   "id": "pleased-database",
   "metadata": {},
   "source": [
    "### Hints:\n",
    "Hint - 01 : Use numpy and matplotlib library\n",
    "\n",
    "Hint - 02 : Use np.linspace(-5, 5 , 15)\n",
    "\n",
    "Hint - 03 : Use (np.exp(X)-np.exp(-X))/(np.exp(X)+np.exp(-X))\n"
   ]
  },
  {
   "cell_type": "code",
   "execution_count": 2,
   "id": "pretty-awareness",
   "metadata": {},
   "outputs": [
    {
     "name": "stdout",
     "output_type": "stream",
     "text": [
      "[-0.9999092  -0.99916247 -0.99229794 -0.93110961 -0.5046724   0.5046724\n",
      "  0.93110961  0.99229794  0.99916247  0.9999092 ]\n"
     ]
    }
   ],
   "source": [
    "#np.random.seed(0) \n",
    "import numpy as np\n",
    "\n",
    "a=np.linspace(-5,5,15)\n",
    "\n",
    "def tanh(X):\n",
    "    val = (np.exp(X)-np.exp(-X))/(np.exp(X)+np.exp(-X))\n",
    "    return val\n",
    "\n",
    "output = tanh(a)\n",
    "\n",
    "print(output)\n"
   ]
  }
 ],
 "metadata": {
  "kernelspec": {
   "display_name": "Python 3",
   "language": "python",
   "name": "python3"
  },
  "language_info": {
   "codemirror_mode": {
    "name": "ipython",
    "version": 3
   },
   "file_extension": ".py",
   "mimetype": "text/x-python",
   "name": "python",
   "nbconvert_exporter": "python",
   "pygments_lexer": "ipython3",
   "version": "3.8.5"
  }
 },
 "nbformat": 4,
 "nbformat_minor": 5
}

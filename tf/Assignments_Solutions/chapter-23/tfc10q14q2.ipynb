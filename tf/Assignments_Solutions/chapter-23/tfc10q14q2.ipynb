{
 "cells": [
  {
   "cell_type": "markdown",
   "id": "progressive-report",
   "metadata": {},
   "source": [
    "### Question : \n",
    "Load the inbuilt diabetes dataset , Split the data into train and test . Build, compile, train and evaluate the model using adam optimizer, loss as \"mae\".\n"
   ]
  },
  {
   "cell_type": "markdown",
   "id": "promising-shannon",
   "metadata": {},
   "source": [
    "### Description: \n",
    "Load the diabetes dataset using inbuilt dataset function and split into train and test.\n",
    "\n",
    "Do the standardscaler to the train and test data\n",
    "\n",
    "Build the diabetes dataset model by using a sequential layer and add the 2 layers and first two activation functions as Relu layers having 64 neurons in each dense layer and last layer having activation function as relu layer with 1 neuron.\n",
    "\n",
    "Compile the model using adam optimizer, loss as \"amse\" and train the model using 50 epochs, 10 as batch size.\n",
    "Evaluate the  model by using a test and predicted value."
   ]
  },
  {
   "cell_type": "markdown",
   "id": "separated-telling",
   "metadata": {},
   "source": [
    "### Level: \n",
    "Hard"
   ]
  },
  {
   "cell_type": "markdown",
   "id": "amended-magazine",
   "metadata": {},
   "source": [
    "### Explanation:\n",
    "Compile defines the loss function, the optimizer and the metrics.\n",
    "\n",
    "fit() is used for training models.\n",
    "\n",
    "evaluate function predicts the output for the given input and then computes the metric\n",
    "\n",
    "Library: [tf.keras/tensorflow]\n",
    "\n",
    "Category: ML\n"
   ]
  },
  {
   "cell_type": "markdown",
   "id": "alert-caution",
   "metadata": {},
   "source": [
    "### Input format : \n",
    "Dataset\n",
    "### Output format : \n",
    "Model Accuracy"
   ]
  },
  {
   "cell_type": "markdown",
   "id": "sonic-margin",
   "metadata": {},
   "source": [
    "### Sample input : \n",
    "Load the dataset using inbuilt function\n",
    "### Output : \n",
    "Accuracy"
   ]
  },
  {
   "cell_type": "markdown",
   "id": "global-reproduction",
   "metadata": {},
   "source": [
    "### Hints\n",
    "Hint - 01 : Use Keras library to download the dataset\n",
    "\n",
    "Hint - 02 : Use activation = relu and linear\n",
    "\n",
    "Hint - 03 : Use epochs = 50 and batch size =10 to fit the model\n"
   ]
  },
  {
   "cell_type": "code",
   "execution_count": null,
   "id": "aggressive-dealing",
   "metadata": {},
   "outputs": [],
   "source": [
    "from sklearn.datasets import load_diabetes\n",
    "\n",
    "data12=load_diabetes()\n",
    "data12_inde=pd.DataFrame(data12.data,columns=data12.feature_names)\n",
    "\n",
    "data12_label=pd.DataFrame(data12.target,columns=['target'])\n",
    "\n",
    "\n",
    "\n",
    "data3=pd.concat([data12_inde,data12_label],axis=1)\n",
    "\n",
    "\n",
    "\n",
    "x=data3.iloc[:,:10]\n",
    "\n",
    "y=data3.iloc[:,10]\n",
    "\n",
    "from sklearn.model_selection import train_test_split\n",
    "\n",
    "x_train, x_test, y_train, y_test=train_test_split(x,y,test_size=0.2,random_state=42)\n",
    "\n",
    "import keras\n",
    "\n",
    "### Import Libraries\n",
    "\n",
    "#Sequential---Init the NN model\n",
    "from keras.models import Sequential\n",
    "#Dense --Normal Neural Network layer\n",
    "from keras.layers import Dense\n",
    "\n",
    "### Init the Neural Network Model\n",
    "\n",
    "model=Sequential()\n",
    "\n",
    "### Add Input Layer\n",
    "\n",
    "x_train.shape[1]\n",
    "\n",
    "#add() of Sequential() is used to add layers\n",
    "#Dense\n",
    "\n",
    "model.add(Dense(input_dim=x_train.shape[1],kernel_initializer=\"random_uniform\",activation=\"relu\",units=64))\n",
    "\n",
    "### Add Hidden Layer\n",
    "\n",
    "model.add(Dense(kernel_initializer=\"random_uniform\",activation=\"relu\",units=64))\n",
    "model.add(Dense(kernel_initializer=\"random_uniform\",activation=\"relu\",units=64))\n",
    "\n",
    "### Add Output Layer\n",
    "\n",
    "model.add(Dense(kernel_initializer=\"random_uniform\",activation=\"linear\",units=1))\n",
    "\n",
    "### Compile the Model\n",
    "\n",
    "model.compile(loss=\"mean_absolute_error\",optimizer=\"adam\",metrics=[\"mean_absolute_percentage_error\"])\n",
    "\n",
    "\n",
    "\n",
    "model.fit(x_train,y_train,batch_size=10,epochs=50,verbose=0);\n",
    "_, train_acc = model.evaluate(trainX, trainy, verbose=0)\n",
    "_, test_acc = model.evaluate(testX, testy, verbose=0)\n",
    "#print('Train: %.3f, Test: %.3f' % (train_acc, test_acc))\n",
    "\n",
    "\n",
    "#ypred=model.predict(x_test)\n",
    "\n",
    "#from sklearn.metrics import r2_score\n",
    "\n",
    "#r2s=r2_score(y_test,ypred)\n",
    "\n",
    "#r2s\n"
   ]
  }
 ],
 "metadata": {
  "kernelspec": {
   "display_name": "Python 3",
   "language": "python",
   "name": "python3"
  },
  "language_info": {
   "codemirror_mode": {
    "name": "ipython",
    "version": 3
   },
   "file_extension": ".py",
   "mimetype": "text/x-python",
   "name": "python",
   "nbconvert_exporter": "python",
   "pygments_lexer": "ipython3",
   "version": "3.8.5"
  }
 },
 "nbformat": 4,
 "nbformat_minor": 5
}

{
 "cells": [
  {
   "cell_type": "markdown",
   "metadata": {
    "id": "L83Odmh9YXTQ"
   },
   "source": [
    "**Question:**  Create a Dense layer with ‘5’ neurons, apply kernel initializer of RandomUniform with min ,max values of 0 and 1and also apply a regularizer of ‘0.5’and create a tensor of (5,5) with a multiplier of ‘2.5’ and pass it through the layer and print the output.\n",
    "\n"
   ]
  },
  {
   "cell_type": "markdown",
   "metadata": {
    "id": "b6KG9LbMYXTa"
   },
   "source": [
    "**Description:** \n",
    "* Import the required libraries.\n",
    "* Ask for the sample input for creating a tensor of ones, multiplier and also the value of  L1 penalty, Initializer min and max values of Random Uniform .\n",
    "* Create a Dense layer.\n",
    "* Create a tensor with multiplier \n",
    "* Apply the layer on tensor and print the output.\n",
    "\n"
   ]
  },
  {
   "cell_type": "markdown",
   "metadata": {
    "id": "V9LsjwSxYXTe"
   },
   "source": [
    "**Sample Output format :**\n",
    "\n",
    "Tensor\n",
    "\n",
    "**Sample Output:**\n",
    "\n",
    "tf.Tensor(\n",
    "\n",
    "[[4.7697105 5.4540505 6.3061476 7.3440504 9.826948 ]\n",
    "\n",
    " [4.7697105 5.4540505 6.3061476 7.3440504 9.826948 ]\n",
    "\n",
    " [4.7697105 5.4540505 6.3061476 7.3440504 9.826948 ]\n",
    "\n",
    " [4.7697105 5.4540505 6.3061476 7.3440504 9.826948 ]\n",
    "\n",
    " [4.7697105 5.4540505 6.3061476 7.3440504 9.826948 ]], shape=(5, 5), dtype=float32)"
   ]
  },
  {
   "cell_type": "markdown",
   "metadata": {
    "id": "-khPPg2GYXTf"
   },
   "source": [
    "* Hint 01: use tensorflow library\n",
    "* Hint 02: create a dense layer using tf.keras.layers.Dense()\n",
    "* Hint 03: use regularizers using tf.keras.regularizers.L1\n",
    "* Hint 04: use initializers using tf.keras.initializers\n",
    "\n"
   ]
  },
  {
   "cell_type": "code",
   "execution_count": null,
   "metadata": {
    "id": "rwXXr-DCYXTg"
   },
   "outputs": [],
   "source": [
    "#start your code here"
   ]
  },
  {
   "cell_type": "code",
   "execution_count": 13,
   "metadata": {
    "id": "xX2SJCvcYXTh"
   },
   "outputs": [],
   "source": [
    "#import library\n",
    "import tensorflow as tf"
   ]
  },
  {
   "cell_type": "code",
   "execution_count": 14,
   "metadata": {
    "id": "pir2nDoZYXTh"
   },
   "outputs": [],
   "source": [
    "#create a tensor\n",
    "tensor = tf.ones(shape=(5, 5)) * 2.5"
   ]
  },
  {
   "cell_type": "code",
   "execution_count": 15,
   "metadata": {
    "id": "LLb63Jxla05d"
   },
   "outputs": [],
   "source": [
    "#Create a initiaizer\n",
    "initializer=tf.keras.initializers.RandomUniform(minval=0,maxval=1)"
   ]
  },
  {
   "cell_type": "code",
   "execution_count": 16,
   "metadata": {
    "id": "PyOngNC3YXTi"
   },
   "outputs": [],
   "source": [
    "#create a dense layer and pass the tensor through it\n",
    "layer = tf.keras.layers.Dense(5, input_dim=5,kernel_initializer=initializer,kernel_regularizer=tf.keras.regularizers.L1(0.5))\n",
    "out = layer(tensor)\n"
   ]
  },
  {
   "cell_type": "code",
   "execution_count": 17,
   "metadata": {
    "colab": {
     "base_uri": "https://localhost:8080/"
    },
    "id": "Fc42iJAUYXTj",
    "outputId": "730e0d71-5db1-4cff-dbc6-8acc48d409ad"
   },
   "outputs": [
    {
     "name": "stdout",
     "output_type": "stream",
     "text": [
      "tf.Tensor(\n",
      "[[4.7697105 5.4540505 6.3061476 7.3440504 9.826948 ]\n",
      " [4.7697105 5.4540505 6.3061476 7.3440504 9.826948 ]\n",
      " [4.7697105 5.4540505 6.3061476 7.3440504 9.826948 ]\n",
      " [4.7697105 5.4540505 6.3061476 7.3440504 9.826948 ]\n",
      " [4.7697105 5.4540505 6.3061476 7.3440504 9.826948 ]], shape=(5, 5), dtype=float32)\n"
     ]
    }
   ],
   "source": [
    "#print the output\n",
    "print(out)"
   ]
  },
  {
   "cell_type": "code",
   "execution_count": null,
   "metadata": {
    "id": "ISsaku2QYXTk"
   },
   "outputs": [],
   "source": []
  }
 ],
 "metadata": {
  "accelerator": "GPU",
  "colab": {
   "collapsed_sections": [],
   "name": "tfc13q12_q3.ipynb",
   "provenance": []
  },
  "kernelspec": {
   "display_name": "Python 3",
   "language": "python",
   "name": "python3"
  },
  "language_info": {
   "codemirror_mode": {
    "name": "ipython",
    "version": 3
   },
   "file_extension": ".py",
   "mimetype": "text/x-python",
   "name": "python",
   "nbconvert_exporter": "python",
   "pygments_lexer": "ipython3",
   "version": "3.8.5"
  }
 },
 "nbformat": 4,
 "nbformat_minor": 1
}

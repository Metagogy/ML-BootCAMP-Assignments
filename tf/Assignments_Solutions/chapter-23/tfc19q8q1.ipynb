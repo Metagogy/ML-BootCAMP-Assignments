{
  "nbformat": 4,
  "nbformat_minor": 0,
  "metadata": {
    "kernelspec": {
      "display_name": "Python 3",
      "language": "python",
      "name": "python3"
    },
    "language_info": {
      "codemirror_mode": {
        "name": "ipython",
        "version": 3
      },
      "file_extension": ".py",
      "mimetype": "text/x-python",
      "name": "python",
      "nbconvert_exporter": "python",
      "pygments_lexer": "ipython3",
      "version": "3.7.3"
    },
    "colab": {
      "name": "tfc19q8q1.ipynb",
      "provenance": [],
      "collapsed_sections": []
    }
  },
  "cells": [
    {
      "cell_type": "markdown",
      "metadata": {
        "id": "EhOt8RQw1emV"
      },
      "source": [
        "**Question**:  Enter a space separated values and convert to list , use tf.random.normal and Build with layer as Bidirectional GRU and print the shape of those list."
      ]
    },
    {
      "cell_type": "markdown",
      "metadata": {
        "id": "5a5A0uNJ1emi"
      },
      "source": [
        "**Input format:**  \n",
        "\n",
        "**Output format:**  tuple\n",
        "\n",
        "\n"
      ]
    },
    {
      "cell_type": "markdown",
      "metadata": {
        "id": "8hmgE_up1emj"
      },
      "source": [
        "**Sample input:**\n",
        "\n",
        "\n",
        "\n",
        "**Sample output:**\n",
        "\n",
        "\n",
        "(32, 8)\n"
      ]
    },
    {
      "cell_type": "markdown",
      "metadata": {
        "id": "FdK3gnzh1emj"
      },
      "source": [
        "**Hint1:** Import tensorflow library\n",
        "\n",
        "**Hint2:** Use list with tf.random.normal\n",
        "\n",
        "**Hint3:** Use shape function to print count of array values\n",
        "\n"
      ]
    },
    {
      "cell_type": "code",
      "metadata": {
        "id": "ixw0Naf71emk"
      },
      "source": [
        "# Start Your Code Here."
      ],
      "execution_count": null,
      "outputs": []
    },
    {
      "cell_type": "code",
      "metadata": {
        "colab": {
          "base_uri": "https://localhost:8080/"
        },
        "id": "ADKoMkC-1eml",
        "outputId": "8c4ab53c-4187-42a6-bbe5-402958124c2f"
      },
      "source": [
        "# import libraries\n",
        "import tensorflow as tf\n",
        "from keras.layers import Bidirectional,GRU\n",
        "a = tf.random.normal([32,64,2])\n",
        "gru = Bidirectional(GRU(4))\n",
        "output = gru(a)\n",
        "print(output.shape)\n"
      ],
      "execution_count": 1,
      "outputs": [
        {
          "output_type": "stream",
          "text": [
            "(32, 8)\n"
          ],
          "name": "stdout"
        }
      ]
    },
    {
      "cell_type": "code",
      "metadata": {
        "id": "CP0azTQ81emm"
      },
      "source": [
        ""
      ],
      "execution_count": null,
      "outputs": []
    }
  ]
}
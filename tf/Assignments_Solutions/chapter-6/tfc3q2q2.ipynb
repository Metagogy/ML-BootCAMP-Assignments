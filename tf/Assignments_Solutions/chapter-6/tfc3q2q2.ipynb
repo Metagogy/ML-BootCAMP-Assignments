{
 "cells": [
  {
   "cell_type": "markdown",
   "metadata": {},
   "source": [
    "**Question** : Write a program to declare three variables inside the function i.e., create three local variables and print the same input values."
   ]
  },
  {
   "cell_type": "markdown",
   "metadata": {},
   "source": [
    "**Level** : Easy\n"
   ]
  },
  {
   "cell_type": "markdown",
   "metadata": {},
   "source": [
    "**Input format** : \n",
    "    \n",
    "Any datatype\n"
   ]
  },
  {
   "cell_type": "markdown",
   "metadata": {},
   "source": [
    "**Output format** :  \n",
    "    \n",
    "same value of input\n"
   ]
  },
  {
   "cell_type": "markdown",
   "metadata": {},
   "source": [
    "**Sample Input** : \n",
    "    \n",
    "metagogy\n",
    "\n",
    "aieducator\n",
    "\n",
    "machinelearning"
   ]
  },
  {
   "cell_type": "markdown",
   "metadata": {},
   "source": [
    "**Sample Output** :  \n",
    "    \n",
    "metagogy\n",
    "\n",
    "aieducator\n",
    "\n",
    "machinelearning"
   ]
  },
  {
   "cell_type": "code",
   "execution_count": 1,
   "metadata": {},
   "outputs": [
    {
     "name": "stdout",
     "output_type": "stream",
     "text": [
      "'me'\n",
      "'ta'\n",
      "'gogy'\n",
      "me\n",
      "ta\n",
      "gogy\n"
     ]
    }
   ],
   "source": [
    "\n",
    "def local_var(y):\n",
    "    print(y)\n",
    "a=input()\n",
    "b=input()\n",
    "c=input()\n",
    "\n",
    "local_var(a)\n",
    "local_var(b)\n",
    "local_var(c)\n"
   ]
  }
 ],
 "metadata": {
  "kernelspec": {
   "display_name": "Python 3",
   "language": "python",
   "name": "python3"
  },
  "language_info": {
   "codemirror_mode": {
    "name": "ipython",
    "version": 3
   },
   "file_extension": ".py",
   "mimetype": "text/x-python",
   "name": "python",
   "nbconvert_exporter": "python",
   "pygments_lexer": "ipython3",
   "version": "3.7.4"
  }
 },
 "nbformat": 4,
 "nbformat_minor": 4
}

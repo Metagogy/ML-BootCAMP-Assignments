{
 "cells": [
  {
   "cell_type": "markdown",
   "metadata": {},
   "source": [
    "**Question** : Create a dictionary containing Name, Age, and University as features mentioned in sample input. Convert the dictionary into a data frame using pandas by mentioning index as a,b,c,d. Drop the ‘c’ row index in the data frame and print the values present in a final data frame."
   ]
  },
  {
   "cell_type": "markdown",
   "metadata": {},
   "source": [
    "**Level** : Hard\n"
   ]
  },
  {
   "cell_type": "markdown",
   "metadata": {},
   "source": [
    "**Input format** : \n",
    "\n",
    "First-line: Space-separated names of Name,\n",
    "\n",
    "Second-line: Space-separated values of Age.\n",
    "\n",
    "Third-line: Space-separated names of University."
   ]
  },
  {
   "cell_type": "markdown",
   "metadata": {},
   "source": [
    "**Output format** : \n",
    "\n",
    "List of Values presented in a Dataframe."
   ]
  },
  {
   "cell_type": "markdown",
   "metadata": {},
   "source": [
    "**Sample input** : \n",
    "    \n",
    "Arun Rahul Deeraj Shiva\n",
    "\n",
    "22 25 21 20\n",
    "\n",
    "IIT NIT MIT IIIT"
   ]
  },
  {
   "cell_type": "markdown",
   "metadata": {},
   "source": [
    "**Sample Output** : "
   ]
  },
  {
   "cell_type": "raw",
   "metadata": {},
   "source": [
    "[['Arun' '22' 'IIT']\n",
    " ['Rahul' '25' 'NIT']\n",
    " ['Shiva' '20' 'IIIT']]"
   ]
  },
  {
   "cell_type": "markdown",
   "metadata": {},
   "source": [
    "## Solution"
   ]
  },
  {
   "cell_type": "code",
   "execution_count": 12,
   "metadata": {},
   "outputs": [
    {
     "name": "stdout",
     "output_type": "stream",
     "text": [
      "kohli sachin rohith dhoni\n",
      "33 39 33 37\n",
      "iitk iitm iitb iitm\n",
      "[['kohli' '33' 'iitk']\n",
      " ['sachin' '39' 'iitm']\n",
      " ['dhoni' '37' 'iitm']]\n"
     ]
    }
   ],
   "source": [
    "import pandas as pd \n",
    "Name=input().split()\n",
    "Age=input().split()\n",
    "University=input().split()\n",
    "details={\"Name\" :Name, \"Age\" :Age, \"University\" : University}\n",
    "\n",
    "df=pd.DataFrame(details,index=['a','b','c','d'])\n",
    "update_df = df.drop('c') \n",
    "print(update_df.values)"
   ]
  },
  {
   "cell_type": "code",
   "execution_count": 2,
   "metadata": {},
   "outputs": [],
   "source": []
  },
  {
   "cell_type": "code",
   "execution_count": null,
   "metadata": {},
   "outputs": [],
   "source": []
  },
  {
   "cell_type": "code",
   "execution_count": 14,
   "metadata": {},
   "outputs": [],
   "source": []
  }
 ],
 "metadata": {
  "kernelspec": {
   "display_name": "Python 3",
   "language": "python",
   "name": "python3"
  },
  "language_info": {
   "codemirror_mode": {
    "name": "ipython",
    "version": 3
   },
   "file_extension": ".py",
   "mimetype": "text/x-python",
   "name": "python",
   "nbconvert_exporter": "python",
   "pygments_lexer": "ipython3",
   "version": "3.8.3"
  }
 },
 "nbformat": 4,
 "nbformat_minor": 4
}

{
 "cells": [
  {
   "cell_type": "markdown",
   "id": "refined-particle",
   "metadata": {},
   "source": [
    "### Question:  \n",
    "\n",
    "Initialize list of elements   with using tf.constant, and find argmin from the list then and print the result"
   ]
  },
  {
   "cell_type": "markdown",
   "id": "earlier-greeting",
   "metadata": {},
   "source": [
    "### Level:\n",
    "Easy"
   ]
  },
  {
   "cell_type": "markdown",
   "id": "noble-execution",
   "metadata": {},
   "source": [
    "### Explanation: \n",
    "Library : \n",
    "[tensorflow]\n",
    "\n",
    "Category : \n",
    "Tensorflow"
   ]
  },
  {
   "cell_type": "markdown",
   "id": "governmental-sandwich",
   "metadata": {},
   "source": [
    "### Input format : \n",
    "    List\n",
    "### Output format : \n",
    "    Shape, tensor values and datatype"
   ]
  },
  {
   "cell_type": "markdown",
   "id": "banned-artwork",
   "metadata": {},
   "source": [
    "### Sample input : \n",
    "List of elements\n",
    "### Sample output : \n",
    "print the min value of the list"
   ]
  },
  {
   "cell_type": "markdown",
   "id": "drawn-picnic",
   "metadata": {},
   "source": [
    "### Hints\n",
    "Hint01 : import tensorflow\n",
    "\n",
    "Hint02 : use tf.constant for inserting the values\n",
    "\n",
    "Hint03 :tf.math.argmin()\n"
   ]
  },
  {
   "cell_type": "code",
   "execution_count": 1,
   "id": "grave-phenomenon",
   "metadata": {},
   "outputs": [
    {
     "data": {
      "text/plain": [
       "10"
      ]
     },
     "execution_count": 1,
     "metadata": {},
     "output_type": "execute_result"
    }
   ],
   "source": [
    "import tensorflow as tf\n",
    "\n",
    "import tensorflow as tf\n",
    "a = [ 10, 26.9,166.32, 62.3]\n",
    "b = tf.math.argmin(input = a)\n",
    "c = tf.keras.backend.eval(b)\n",
    "a[c]\n"
   ]
  },
  {
   "cell_type": "code",
   "execution_count": null,
   "id": "experimental-absence",
   "metadata": {},
   "outputs": [],
   "source": []
  }
 ],
 "metadata": {
  "kernelspec": {
   "display_name": "Python 3",
   "language": "python",
   "name": "python3"
  },
  "language_info": {
   "codemirror_mode": {
    "name": "ipython",
    "version": 3
   },
   "file_extension": ".py",
   "mimetype": "text/x-python",
   "name": "python",
   "nbconvert_exporter": "python",
   "pygments_lexer": "ipython3",
   "version": "3.8.5"
  }
 },
 "nbformat": 4,
 "nbformat_minor": 5
}

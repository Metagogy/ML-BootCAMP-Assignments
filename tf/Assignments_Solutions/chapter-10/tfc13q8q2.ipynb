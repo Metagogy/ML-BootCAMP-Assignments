{
 "cells": [
  {
   "cell_type": "markdown",
   "metadata": {
    "id": "aLvjmXhHyrQq"
   },
   "source": [
    "**Question :** Apply L1L2 regularizer of 0.25,0.01 penalty on a tensor of ones with a shape of (4,4) and print the output"
   ]
  },
  {
   "cell_type": "markdown",
   "metadata": {
    "id": "K-bDdooUyrQt"
   },
   "source": [
    "**Explanation:**\n",
    "\n",
    "* The tensorflow library is an open source library with a range of tasks present in it.\n",
    "* We have many regularizers used in the keras API which has a backend of tensorflow.\n"
   ]
  },
  {
   "cell_type": "markdown",
   "metadata": {
    "id": "oYh4pMqQyrQv"
   },
   "source": [
    "**Sample Output:**\n",
    "\n",
    "Tensor\n",
    "\n",
    "**Sample output:**\n",
    "\n",
    "tf.Tensor(4.16, shape=(), dtype=float32)\n",
    "\n"
   ]
  },
  {
   "cell_type": "markdown",
   "metadata": {
    "id": "Eln23ZGNyrQw"
   },
   "source": [
    "* Hint 01: use tensorflow library\n",
    "* Hint 02: create tensor of one’s using tf.ones()\n",
    "* Hint 03: use tf.keras.regularizers for L1L2"
   ]
  },
  {
   "cell_type": "code",
   "execution_count": null,
   "metadata": {
    "id": "9VVnJAA1yrQw"
   },
   "outputs": [],
   "source": [
    "#Start your code here"
   ]
  },
  {
   "cell_type": "code",
   "execution_count": 11,
   "metadata": {
    "id": "KsuJ140NyrQx"
   },
   "outputs": [],
   "source": [
    "#import your library\n",
    "import tensorflow as tf"
   ]
  },
  {
   "cell_type": "code",
   "execution_count": 12,
   "metadata": {
    "id": "vNNXAtiRyrQx"
   },
   "outputs": [],
   "source": [
    "#Create a tensor\n",
    "tensor = tf.ones(shape=(4,4)) "
   ]
  },
  {
   "cell_type": "code",
   "execution_count": 13,
   "metadata": {
    "id": "cxt5S2pnyrQx"
   },
   "outputs": [],
   "source": [
    "#create a regularizer \n",
    "regularizer = tf.keras.regularizers.L1L2(0.25,0.01)"
   ]
  },
  {
   "cell_type": "code",
   "execution_count": 14,
   "metadata": {
    "id": "MnprKTVSyrQy"
   },
   "outputs": [],
   "source": [
    "#Apply regularizer on tensor\n",
    "output=regularizer(tensor)"
   ]
  },
  {
   "cell_type": "code",
   "execution_count": 15,
   "metadata": {
    "colab": {
     "base_uri": "https://localhost:8080/"
    },
    "id": "F4eZIkB_yrQz",
    "outputId": "3f43cda8-0c1d-41b5-94d1-72bec222eb7d"
   },
   "outputs": [
    {
     "name": "stdout",
     "output_type": "stream",
     "text": [
      "tf.Tensor(4.16, shape=(), dtype=float32)\n"
     ]
    }
   ],
   "source": [
    "#print the output\n",
    "print(output)"
   ]
  },
  {
   "cell_type": "code",
   "execution_count": null,
   "metadata": {
    "id": "e0GRle5eyrQz"
   },
   "outputs": [],
   "source": []
  }
 ],
 "metadata": {
  "accelerator": "GPU",
  "colab": {
   "collapsed_sections": [],
   "name": "tfc13q8_q2.ipynb",
   "provenance": []
  },
  "kernelspec": {
   "display_name": "Python 3",
   "language": "python",
   "name": "python3"
  },
  "language_info": {
   "codemirror_mode": {
    "name": "ipython",
    "version": 3
   },
   "file_extension": ".py",
   "mimetype": "text/x-python",
   "name": "python",
   "nbconvert_exporter": "python",
   "pygments_lexer": "ipython3",
   "version": "3.8.5"
  }
 },
 "nbformat": 4,
 "nbformat_minor": 1
}

{
 "cells": [
  {
   "cell_type": "markdown",
   "metadata": {
    "id": "8K5-xFjManjT"
   },
   "source": [
    "**Question:** Create a Dense layer with ‘n’ neurons, apply kernel initializer of RandomUniform with min ,max values given,add seed=42 and also apply a regularizer of ‘l1’and create a tensor with a multiplier of ‘m’ and pass it through the layer and print the output.\n"
   ]
  },
  {
   "cell_type": "markdown",
   "metadata": {},
   "source": [
    "**Level** : Medium"
   ]
  },
  {
   "cell_type": "markdown",
   "metadata": {
    "id": "E-OBsO5zanjf"
   },
   "source": [
    "**Input format:**\n",
    "\n",
    "Integer\n",
    "\n",
    "Integer\n",
    "\n",
    "Float\n",
    "\n",
    "Float\n",
    "\n",
    "Float\n",
    "\n",
    "\n",
    "\n",
    "**Output format :**\n",
    "\n",
    "Tensor\n",
    "\n",
    "\n",
    "\n"
   ]
  },
  {
   "cell_type": "markdown",
   "metadata": {},
   "source": [
    "**Sample Input:**\n",
    "\n",
    "5 <br/> \n",
    "2 <br/>\n",
    "0.6 <br/>\n",
    "0.8 <br/>\n",
    "0.9"
   ]
  },
  {
   "cell_type": "markdown",
   "metadata": {},
   "source": [
    "**Sample Output:**\n",
    " \n",
    "tf.Tensor( <br/>\n",
    "[[8.531177  8.466711  8.401861  8.2916155 8.375865 ] <br/> \n",
    " [8.531177  8.466711  8.401861  8.2916155 8.375865 ] <br/>\n",
    " [8.531177  8.466711  8.401861  8.2916155 8.375865 ] <br/>\n",
    " [8.531177  8.466711  8.401861  8.2916155 8.375865 ] <br/>\n",
    " [8.531177  8.466711  8.401861  8.2916155 8.375865 ]], shape=(5, 5), dtype=float32)\n"
   ]
  },
  {
   "cell_type": "markdown",
   "metadata": {},
   "source": [
    "**SOLUTION**"
   ]
  },
  {
   "cell_type": "code",
   "execution_count": null,
   "metadata": {
    "id": "fz7srX1Ranjh"
   },
   "outputs": [],
   "source": [
    "#start your code here"
   ]
  },
  {
   "cell_type": "code",
   "execution_count": 56,
   "metadata": {
    "id": "ZOGTE4Ikanjh"
   },
   "outputs": [],
   "source": [
    "#import your library\n",
    "import tensorflow as tf"
   ]
  },
  {
   "cell_type": "code",
   "execution_count": 78,
   "metadata": {
    "colab": {
     "base_uri": "https://localhost:8080/"
    },
    "id": "LoeUA8l4anji",
    "outputId": "8d8b21cd-8391-44bf-acb7-f60ad7a3320a",
    "scrolled": true
   },
   "outputs": [
    {
     "name": "stdout",
     "output_type": "stream",
     "text": [
      "5\n",
      "2\n",
      "0.6\n",
      "0.8\n",
      "0.9\n"
     ]
    }
   ],
   "source": [
    "#take the respective inputs\n",
    "n=(int(input()))\n",
    "m=(int(input()))\n",
    "l1=(float(input()))\n",
    "min_val=(float(input()))\n",
    "max_val=(float(input()))"
   ]
  },
  {
   "cell_type": "code",
   "execution_count": 79,
   "metadata": {
    "id": "M3K6T4Bwanji"
   },
   "outputs": [],
   "source": [
    "#Apply the initializer in to a variable\n",
    "initializer=tf.keras.initializers.RandomUniform(minval=min_val,maxval=max_val,seed=42)"
   ]
  },
  {
   "cell_type": "code",
   "execution_count": 80,
   "metadata": {
    "id": "fhCXKIhjanjj"
   },
   "outputs": [],
   "source": [
    "#apply the dense layer with the initializer and regularizer.\n",
    "layer = tf.keras.layers.Dense(n, input_dim=5,kernel_initializer=initializer,\n",
    "                              kernel_regularizer=tf.keras.regularizers.l1())\n"
   ]
  },
  {
   "cell_type": "code",
   "execution_count": 81,
   "metadata": {
    "id": "u5Zsw8Nhanjj"
   },
   "outputs": [],
   "source": [
    "#create the tensor and apply the layer on it.\n",
    "tensor = tf.ones(shape=(n, n)) * m\n",
    "out = layer(tensor)"
   ]
  },
  {
   "cell_type": "code",
   "execution_count": 82,
   "metadata": {
    "colab": {
     "base_uri": "https://localhost:8080/"
    },
    "id": "uD432Eeuanjk",
    "outputId": "f2324be6-499a-4db4-9355-247b373029ef"
   },
   "outputs": [
    {
     "name": "stdout",
     "output_type": "stream",
     "text": [
      "tf.Tensor(\n",
      "[[8.531177  8.466711  8.401861  8.2916155 8.375865 ]\n",
      " [8.531177  8.466711  8.401861  8.2916155 8.375865 ]\n",
      " [8.531177  8.466711  8.401861  8.2916155 8.375865 ]\n",
      " [8.531177  8.466711  8.401861  8.2916155 8.375865 ]\n",
      " [8.531177  8.466711  8.401861  8.2916155 8.375865 ]], shape=(5, 5), dtype=float32)\n"
     ]
    }
   ],
   "source": [
    "#print the output\n",
    "print(out)"
   ]
  },
  {
   "cell_type": "code",
   "execution_count": null,
   "metadata": {
    "id": "mMOfATh0awBU"
   },
   "outputs": [],
   "source": []
  }
 ],
 "metadata": {
  "accelerator": "GPU",
  "colab": {
   "collapsed_sections": [],
   "name": "tfc13q12.ipynb",
   "provenance": []
  },
  "kernelspec": {
   "display_name": "Python 3",
   "language": "python",
   "name": "python3"
  },
  "language_info": {
   "codemirror_mode": {
    "name": "ipython",
    "version": 3
   },
   "file_extension": ".py",
   "mimetype": "text/x-python",
   "name": "python",
   "nbconvert_exporter": "python",
   "pygments_lexer": "ipython3",
   "version": "3.8.5"
  }
 },
 "nbformat": 4,
 "nbformat_minor": 1
}

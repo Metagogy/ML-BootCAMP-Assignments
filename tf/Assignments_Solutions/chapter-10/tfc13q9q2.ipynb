{
 "cells": [
  {
   "cell_type": "markdown",
   "metadata": {},
   "source": [
    "**Question:** Create a dense layer of 5 neurons and input dimension of 5 and pass a tensor of shape (6,6) through it and print the output."
   ]
  },
  {
   "cell_type": "markdown",
   "metadata": {},
   "source": [
    "**Description:** \n",
    "* Import the required libraries.\n",
    "* Create a tensor and a dense layer \n",
    "* Pass the tensor through the layer and print the output.\n"
   ]
  },
  {
   "cell_type": "markdown",
   "metadata": {},
   "source": [
    "**Sample Output format :**\n",
    "\n",
    "Tensor\n",
    "\n",
    "**Sample Output:**\n",
    "\n",
    "tf.Tensor(\n",
    "\n",
    "[[-0.5740616  -1.1239703   1.1028287  -0.82895494  1.2475867 ]\n",
    "\n",
    "[-0.5740616  -1.1239703   1.1028287  -0.82895494  1.2475867 ]\n",
    "\n",
    "[-0.5740616  -1.1239703   1.1028287  -0.82895494  1.2475867 ]\n",
    "\n",
    "[-0.5740616  -1.1239703   1.1028287  -0.82895494  1.2475867 ]\n",
    "\n",
    "[-0.5740616  -1.1239703   1.1028287  -0.82895494  1.2475867 ]\n",
    "\n",
    "[-0.5740616  -1.1239703   1.1028287  -0.82895494  1.2475867 ]], shape=(6, 5), dtype=float32)\n",
    "​"
   ]
  },
  {
   "cell_type": "markdown",
   "metadata": {},
   "source": [
    "* Hint 01: use tensorflow library\n",
    "* Hint 02: create a tensor (6,6) with tf.tensor\n",
    "* Hint 03: create a  dense layer using tf.keras.layers\n"
   ]
  },
  {
   "cell_type": "code",
   "execution_count": null,
   "metadata": {},
   "outputs": [],
   "source": [
    "#start your code here"
   ]
  },
  {
   "cell_type": "code",
   "execution_count": 2,
   "metadata": {},
   "outputs": [],
   "source": [
    "#import library\n",
    "import tensorflow as tf"
   ]
  },
  {
   "cell_type": "code",
   "execution_count": 6,
   "metadata": {},
   "outputs": [],
   "source": [
    "#create a tensor\n",
    "tensor = tf.ones(shape=(6,6))"
   ]
  },
  {
   "cell_type": "code",
   "execution_count": 7,
   "metadata": {},
   "outputs": [],
   "source": [
    "#create a dense layer and pass the tensor through it\n",
    "layer=tf.keras.layers.Dense(5,input_dim=5)\n",
    "output=layer(tensor)"
   ]
  },
  {
   "cell_type": "code",
   "execution_count": 8,
   "metadata": {},
   "outputs": [
    {
     "name": "stdout",
     "output_type": "stream",
     "text": [
      "tf.Tensor(\n",
      "[[-0.5740616  -1.1239703   1.1028287  -0.82895494  1.2475867 ]\n",
      " [-0.5740616  -1.1239703   1.1028287  -0.82895494  1.2475867 ]\n",
      " [-0.5740616  -1.1239703   1.1028287  -0.82895494  1.2475867 ]\n",
      " [-0.5740616  -1.1239703   1.1028287  -0.82895494  1.2475867 ]\n",
      " [-0.5740616  -1.1239703   1.1028287  -0.82895494  1.2475867 ]\n",
      " [-0.5740616  -1.1239703   1.1028287  -0.82895494  1.2475867 ]], shape=(6, 5), dtype=float32)\n"
     ]
    }
   ],
   "source": [
    "#print the output\n",
    "print(output)\n"
   ]
  },
  {
   "cell_type": "code",
   "execution_count": null,
   "metadata": {},
   "outputs": [],
   "source": []
  }
 ],
 "metadata": {
  "kernelspec": {
   "display_name": "Python 3",
   "language": "python",
   "name": "python3"
  },
  "language_info": {
   "codemirror_mode": {
    "name": "ipython",
    "version": 3
   },
   "file_extension": ".py",
   "mimetype": "text/x-python",
   "name": "python",
   "nbconvert_exporter": "python",
   "pygments_lexer": "ipython3",
   "version": "3.8.5"
  }
 },
 "nbformat": 4,
 "nbformat_minor": 2
}

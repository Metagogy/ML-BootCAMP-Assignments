{
 "cells": [
  {
   "cell_type": "markdown",
   "metadata": {},
   "source": [
    "**Question**:  Read a image with the help of tensorflow and print format, mode of input."
   ]
  },
  {
   "cell_type": "markdown",
   "metadata": {},
   "source": [
    "**Description:**\n",
    "* Enter the single input string,  path of image \n",
    "* Reed the image  with the help of keras and tensorflow .\n",
    "* Apply preprocessing.image\n",
    "* Use load_img() function\n",
    "* Print the result i.e., format, mode of the  input sample\n"
   ]
  },
  {
   "cell_type": "markdown",
   "metadata": {},
   "source": [
    "**Input format:**  String\n",
    "\n",
    "\n",
    "**Output format:**  String\n",
    "\n",
    "\n"
   ]
  },
  {
   "cell_type": "markdown",
   "metadata": {},
   "source": [
    "**Sample input:**\n",
    "\n",
    "\n",
    "\n",
    "\n",
    "**Sample output:**\n",
    "\n",
    "\n",
    "JPEG\n",
    "\n",
    "RGB\n",
    "\n",
    "\n"
   ]
  },
  {
   "cell_type": "markdown",
   "metadata": {},
   "source": [
    "**Hint1:** Use tensorflow,keras,preprocessing.image\n",
    "\n",
    "**Hint2:** Use load_img() function\n",
    "\n",
    "**Hint3:** Use format, mode  function\n",
    " \n"
   ]
  },
  {
   "cell_type": "code",
   "execution_count": 1,
   "metadata": {},
   "outputs": [],
   "source": [
    "# Start Your Code Here."
   ]
  },
  {
   "cell_type": "code",
   "execution_count": 1,
   "metadata": {},
   "outputs": [
    {
     "name": "stdout",
     "output_type": "stream",
     "text": [
      "JPEG\n",
      "RGB\n"
     ]
    }
   ],
   "source": [
    "# import libraries\n",
    "import tensorflow as tf\n",
    "path='banana_1.jpg'\n",
    "image = tf.keras.preprocessing.image.load_img(path)\n",
    "print(image.format)  \n",
    "print(image.mode)\n",
    " \n"
   ]
  },
  {
   "cell_type": "code",
   "execution_count": null,
   "metadata": {},
   "outputs": [],
   "source": []
  }
 ],
 "metadata": {
  "kernelspec": {
   "display_name": "Python 3",
   "language": "python",
   "name": "python3"
  },
  "language_info": {
   "codemirror_mode": {
    "name": "ipython",
    "version": 3
   },
   "file_extension": ".py",
   "mimetype": "text/x-python",
   "name": "python",
   "nbconvert_exporter": "python",
   "pygments_lexer": "ipython3",
   "version": "3.7.3"
  }
 },
 "nbformat": 4,
 "nbformat_minor": 2
}

{
 "cells": [
  {
   "cell_type": "markdown",
   "id": "therapeutic-child",
   "metadata": {},
   "source": [
    "### question :\n",
    "Initialize the variable list of elements with using tf.constant, sqrt them and print the result\n",
    "\n",
    "Library : [tensorflow]\n",
    "\n",
    "Category : Tensorflow"
   ]
  },
  {
   "cell_type": "markdown",
   "id": "restricted-deposit",
   "metadata": {},
   "source": [
    "### Level: \n",
    "Easy\n",
    "\n"
   ]
  },
  {
   "cell_type": "markdown",
   "id": "wanted-senate",
   "metadata": {},
   "source": [
    "### Input format : \n",
    "List"
   ]
  },
  {
   "cell_type": "markdown",
   "id": "operating-wildlife",
   "metadata": {},
   "source": [
    "### Output format :  \n",
    "Shape, tensor values and datatype"
   ]
  },
  {
   "cell_type": "markdown",
   "id": "incredible-orchestra",
   "metadata": {},
   "source": [
    "### sample input\n",
    "list"
   ]
  },
  {
   "cell_type": "markdown",
   "id": "basic-discrimination",
   "metadata": {},
   "source": [
    "### sample output:\n",
    "ndarray"
   ]
  },
  {
   "cell_type": "markdown",
   "id": "demographic-empire",
   "metadata": {},
   "source": [
    "### Hints:\n",
    "Hint01 : import tensorflow\n",
    "\n",
    "Hint02 : use tf.constant for inserting the values\n",
    "\n",
    "Hint03 : Multiply both lists with using tf.sqrt"
   ]
  },
  {
   "cell_type": "code",
   "execution_count": 4,
   "id": "unlikely-taiwan",
   "metadata": {},
   "outputs": [],
   "source": [
    "import tensorflow as tf"
   ]
  },
  {
   "cell_type": "code",
   "execution_count": 5,
   "id": "objective-carolina",
   "metadata": {},
   "outputs": [],
   "source": [
    "y = tf.constant([[16.0], [100.0]])\n",
    "a=tf.math.sqrt(y)"
   ]
  },
  {
   "cell_type": "code",
   "execution_count": 6,
   "id": "other-belgium",
   "metadata": {},
   "outputs": [
    {
     "name": "stdout",
     "output_type": "stream",
     "text": [
      "[[ 4.]\n",
      " [10.]]\n"
     ]
    }
   ],
   "source": [
    "print(a.numpy())"
   ]
  },
  {
   "cell_type": "code",
   "execution_count": 12,
   "id": "demographic-serum",
   "metadata": {},
   "outputs": [
    {
     "data": {
      "text/plain": [
       "numpy.ndarray"
      ]
     },
     "execution_count": 12,
     "metadata": {},
     "output_type": "execute_result"
    }
   ],
   "source": [
    "type(a.numpy())"
   ]
  }
 ],
 "metadata": {
  "kernelspec": {
   "display_name": "Python 3",
   "language": "python",
   "name": "python3"
  },
  "language_info": {
   "codemirror_mode": {
    "name": "ipython",
    "version": 3
   },
   "file_extension": ".py",
   "mimetype": "text/x-python",
   "name": "python",
   "nbconvert_exporter": "python",
   "pygments_lexer": "ipython3",
   "version": "3.8.5"
  }
 },
 "nbformat": 4,
 "nbformat_minor": 5
}

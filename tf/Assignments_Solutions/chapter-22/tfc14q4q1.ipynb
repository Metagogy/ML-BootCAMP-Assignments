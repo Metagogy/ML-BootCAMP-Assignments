{
 "cells": [
  {
   "cell_type": "markdown",
   "metadata": {},
   "source": [
    "**Question** : Construct a sequential model to demonstrate the Global Max Pooling Layer."
   ]
  },
  {
   "cell_type": "markdown",
   "metadata": {},
   "source": [
    "**Description** :\n",
    "    \n",
    "Define a single input sample that has one channel and is an 10 pixel by 10 pixel square with all 0 values and a two-pixel wide vertical line in the center.\n",
    "\n",
    "Define a sequential model with the shape (10, 10, 1) and a single hidden convolutional layer with a single filter with the shape of (3x3) pixels having ‘relu’ activation\n",
    "\n",
    "Define GlobalMaxPooling2D layer\n",
    "\n",
    "Define our own 3×3 filter that will detect vertical lines. \n",
    "\n",
    "Apply the filter to our input sample by using the predict() function on the model.\n",
    "\n",
    "Print the result i.e., four-dimensional output with one batch, number of rows and columns, and one filter"
   ]
  },
  {
   "cell_type": "markdown",
   "metadata": {},
   "source": [
    "\n",
    "**Level** : Easy"
   ]
  },
  {
   "cell_type": "markdown",
   "metadata": {},
   "source": [
    "**Input format** : Array\n"
   ]
  },
  {
   "cell_type": "markdown",
   "metadata": {},
   "source": [
    "**Output format** : Array\n"
   ]
  },
  {
   "cell_type": "markdown",
   "metadata": {},
   "source": [
    "**Sample input** : 10 x 10 matrix\n",
    "    \n",
    "[[0, 0, 0, 0, 1, 1, 0, 0, 0, 0],\n",
    "\n",
    " [0, 0, 0, 0, 1, 1, 0, 0, 0, 0],\n",
    "\n",
    " [0, 0, 0, 0, 1, 1, 0, 0, 0, 0],\n",
    "\n",
    " [0, 0, 0, 0, 1, 1, 0, 0, 0, 0],\n",
    "\n",
    " [0, 0, 0, 0, 1, 1, 0, 0, 0, 0],\n",
    "\n",
    " [0, 0, 0, 0, 1, 1, 0, 0, 0, 0],\n",
    "\n",
    " [0, 0, 0, 0, 1, 1, 0, 0, 0, 0],\n",
    "\n",
    " [0, 0, 0, 0, 1, 1, 0, 0, 0, 0],\n",
    "\n",
    " [0, 0, 0, 0, 1, 1, 0, 0, 0, 0],\n",
    "\n",
    " [0, 0, 0, 0, 1, 1, 0, 0, 0, 0]]\n"
   ]
  },
  {
   "cell_type": "markdown",
   "metadata": {},
   "source": [
    "**Sample output** : \n",
    "    \n",
    "[[3.]]"
   ]
  },
  {
   "cell_type": "markdown",
   "metadata": {},
   "source": [
    "**Solution** :"
   ]
  },
  {
   "cell_type": "code",
   "execution_count": null,
   "metadata": {},
   "outputs": [],
   "source": [
    "from tensorflow import keras\n",
    "from numpy import asarray\n",
    "from tensorflow.keras.models import Sequential\n",
    "from tensorflow.keras.layers import Conv2D,GlobalMaxPooling2D\n",
    "input_data = [[0, 0, 0, 0, 1, 1, 0, 0, 0, 0],\n",
    "            [0, 0, 0, 0, 1, 1, 0, 0, 0, 0],\n",
    "            [0, 0, 0, 0, 1, 1, 0, 0, 0, 0],\n",
    "            [0, 0, 0, 0, 1, 1, 0, 0, 0, 0],\n",
    "            [0, 0, 0, 0, 1, 1, 0, 0, 0, 0],\n",
    "            [0, 0, 0, 0, 1, 1, 0, 0, 0, 0],\n",
    "            [0, 0, 0, 0, 1, 1, 0, 0, 0, 0],\n",
    "            [0, 0, 0, 0, 1, 1, 0, 0, 0, 0],\n",
    "            [0, 0, 0, 0, 1, 1, 0, 0, 0, 0],\n",
    "            [0, 0, 0, 0, 1, 1, 0, 0, 0, 0]]\n",
    "input_data = asarray(input_data)\n",
    "input_data = input_data.reshape(1, 10, 10, 1)\n",
    "model = Sequential()\n",
    "model.add(keras.layers.Conv2D(1, (3,3), activation='relu', input_shape=(10, 10, 1)))\n",
    "model.add(GlobalMaxPooling2D())\n",
    "filterr = [[[[0]],[[1]],[[0]]],\n",
    "            [[[0]],[[1]],[[0]]],\n",
    "            [[[0]],[[1]],[[0]]]]\n",
    "weights = [asarray(filterr), asarray([0.0])]\n",
    "model.set_weights(weights)\n",
    "x = model.predict(input_data)\n",
    "print(x)\n"
   ]
  }
 ],
 "metadata": {
  "kernelspec": {
   "display_name": "Python 3",
   "language": "python",
   "name": "python3"
  },
  "language_info": {
   "codemirror_mode": {
    "name": "ipython",
    "version": 3
   },
   "file_extension": ".py",
   "mimetype": "text/x-python",
   "name": "python",
   "nbconvert_exporter": "python",
   "pygments_lexer": "ipython3",
   "version": "3.9.0"
  }
 },
 "nbformat": 4,
 "nbformat_minor": 4
}

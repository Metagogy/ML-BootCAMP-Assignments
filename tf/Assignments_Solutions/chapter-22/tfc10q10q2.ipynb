{
 "cells": [
  {
   "cell_type": "markdown",
   "id": "threatened-evanescence",
   "metadata": {},
   "source": [
    "### Question: \n",
    "Visualize Relu function with python and generate input dataset as 30 points between -5 and 5"
   ]
  },
  {
   "cell_type": "markdown",
   "id": "applicable-burke",
   "metadata": {},
   "source": [
    "### Level: \n",
    "Medium"
   ]
  },
  {
   "cell_type": "markdown",
   "id": "defined-texture",
   "metadata": {},
   "source": [
    "### Explanation:\n",
    "Library: [ numpy / matplotlib ]\n",
    "\n",
    "Category: Tensorflow"
   ]
  },
  {
   "cell_type": "markdown",
   "id": "indie-dutch",
   "metadata": {},
   "source": [
    "### Input format : \n",
    "Create list of array values in between -5 and 5 with range of 30 values\n",
    "### Output format : \n",
    "print the ouput result"
   ]
  },
  {
   "cell_type": "markdown",
   "id": "concrete-partnership",
   "metadata": {},
   "source": [
    "### Sample input : \n",
    "define relu function\n",
    "### Sample Output : \n",
    "print the ouput result"
   ]
  },
  {
   "cell_type": "markdown",
   "id": "homeless-responsibility",
   "metadata": {},
   "source": [
    "### Hints\n",
    "Hint - 01 : Use numpy and matplotlib library\n",
    "    \n",
    "Hint - 02 : Use np.linspace(-5, 5 , 30 )\n",
    "    \n",
    "Hint - 03 : Use maximum(0,x)\n"
   ]
  },
  {
   "cell_type": "code",
   "execution_count": 2,
   "id": "super-gravity",
   "metadata": {},
   "outputs": [
    {
     "name": "stdout",
     "output_type": "stream",
     "text": [
      "[0.         0.         0.         0.         0.         0.\n",
      " 0.         0.         0.         0.         0.         0.\n",
      " 0.         0.         0.         0.17241379 0.51724138 0.86206897\n",
      " 1.20689655 1.55172414 1.89655172 2.24137931 2.5862069  2.93103448\n",
      " 3.27586207 3.62068966 3.96551724 4.31034483 4.65517241 5.        ]\n"
     ]
    }
   ],
   "source": [
    "import numpy as np\n",
    "a=np.linspace(-5,5,30)\n",
    "\n",
    "def Relu(X):\n",
    "    val = np.maximum(0,X)\n",
    "    return val\n",
    "\n",
    "output = Relu(a)\n",
    "\n",
    "print(output)\n"
   ]
  }
 ],
 "metadata": {
  "kernelspec": {
   "display_name": "Python 3",
   "language": "python",
   "name": "python3"
  },
  "language_info": {
   "codemirror_mode": {
    "name": "ipython",
    "version": 3
   },
   "file_extension": ".py",
   "mimetype": "text/x-python",
   "name": "python",
   "nbconvert_exporter": "python",
   "pygments_lexer": "ipython3",
   "version": "3.8.5"
  }
 },
 "nbformat": 4,
 "nbformat_minor": 5
}

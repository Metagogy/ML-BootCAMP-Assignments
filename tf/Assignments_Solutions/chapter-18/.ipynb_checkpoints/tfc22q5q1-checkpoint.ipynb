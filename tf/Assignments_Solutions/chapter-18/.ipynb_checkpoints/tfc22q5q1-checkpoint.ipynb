{
 "cells": [
  {
   "cell_type": "markdown",
   "metadata": {},
   "source": [
    "**Question** : For the given sentences remove stop words and convert words into the lower case by using Scikit-learn’s CountVectorizer to find the bag of words vectorized representation.\n"
   ]
  },
  {
   "cell_type": "markdown",
   "metadata": {},
   "source": [
    "**Level** : Easy"
   ]
  },
  {
   "cell_type": "markdown",
   "metadata": {},
   "source": [
    "**Input format** : Couple of sentences converted into strings then count for those strings"
   ]
  },
  {
   "cell_type": "markdown",
   "metadata": {},
   "source": [
    "**Output format** : List of strings and count of those strings"
   ]
  },
  {
   "cell_type": "markdown",
   "metadata": {},
   "source": [
    "**Sample Input** : \n",
    "      \n",
    "          AIEducator provides Machine Learning Course,\n",
    "         \n",
    "          AIEducator provides TENSORFLOW Certification Course,\n",
    "         \n",
    "          MENTOR support is available for STUDENTS\n"
   ]
  },
  {
   "cell_type": "markdown",
   "metadata": {},
   "source": [
    "**Sample Output** : \n",
    "\n",
    "aieducator\t<br/>\n",
    "1           <br/>\n",
    "1           <br/>\n",
    "0           <br/>\n",
    "\n",
    "available   <br/>\n",
    "0      <br/>\n",
    "0      <br/>\n",
    "1      <br/>\n",
    "\n",
    "certification   <br/>\n",
    "0    <br/>\n",
    "1    <br/>\n",
    "0    <br/>\n",
    "\n",
    "course   <br/>\n",
    "1    <br/>\n",
    "1     <br/>\n",
    "0    <br/>\n",
    "\n",
    "learning    <br/>\n",
    "1    <br/>\n",
    "0    <br/>\n",
    "0    <br/>\n",
    "\n",
    "machine   <br/>\n",
    "1     <br/>\n",
    "0     <br/>\n",
    "0     <br/>\n",
    "\n",
    "mentor  <br/>\n",
    "0    <br/> \n",
    "0    <br/>\n",
    "1     <br/>\n",
    "\n",
    "provides   <br/> \n",
    "1     <br/>\n",
    "1     <br/>\n",
    "0     <br/> \n",
    "\n",
    "students   <br/>\n",
    "0  <br/> \n",
    "0  <br/>\n",
    "1   <br/> \n",
    "\n",
    "support   <br/> \n",
    "0    <br/>\n",
    "0     <br/>\n",
    "1     <br/>\n",
    "\n",
    "tensorflow   <br/> \n",
    "0   <br/>\n",
    "1   <br/>\n",
    "0    <br/>\n"
   ]
  },
  {
   "cell_type": "markdown",
   "metadata": {},
   "source": [
    "**SOLUTION**"
   ]
  },
  {
   "cell_type": "code",
   "execution_count": 1,
   "metadata": {},
   "outputs": [
    {
     "name": "stdout",
     "output_type": "stream",
     "text": [
      "['aieducator', 'available', 'certification', 'course', 'learning', 'machine', 'mentor', 'provides', 'students', 'support', 'tensorflow']\n"
     ]
    },
    {
     "data": {
      "text/html": [
       "<div>\n",
       "<style scoped>\n",
       "    .dataframe tbody tr th:only-of-type {\n",
       "        vertical-align: middle;\n",
       "    }\n",
       "\n",
       "    .dataframe tbody tr th {\n",
       "        vertical-align: top;\n",
       "    }\n",
       "\n",
       "    .dataframe thead th {\n",
       "        text-align: right;\n",
       "    }\n",
       "</style>\n",
       "<table border=\"1\" class=\"dataframe\">\n",
       "  <thead>\n",
       "    <tr style=\"text-align: right;\">\n",
       "      <th></th>\n",
       "      <th>aieducator</th>\n",
       "      <th>available</th>\n",
       "      <th>certification</th>\n",
       "      <th>course</th>\n",
       "      <th>learning</th>\n",
       "      <th>machine</th>\n",
       "      <th>mentor</th>\n",
       "      <th>provides</th>\n",
       "      <th>students</th>\n",
       "      <th>support</th>\n",
       "      <th>tensorflow</th>\n",
       "    </tr>\n",
       "  </thead>\n",
       "  <tbody>\n",
       "    <tr>\n",
       "      <th>0</th>\n",
       "      <td>1</td>\n",
       "      <td>0</td>\n",
       "      <td>0</td>\n",
       "      <td>1</td>\n",
       "      <td>1</td>\n",
       "      <td>1</td>\n",
       "      <td>0</td>\n",
       "      <td>1</td>\n",
       "      <td>0</td>\n",
       "      <td>0</td>\n",
       "      <td>0</td>\n",
       "    </tr>\n",
       "    <tr>\n",
       "      <th>1</th>\n",
       "      <td>1</td>\n",
       "      <td>0</td>\n",
       "      <td>1</td>\n",
       "      <td>1</td>\n",
       "      <td>0</td>\n",
       "      <td>0</td>\n",
       "      <td>0</td>\n",
       "      <td>1</td>\n",
       "      <td>0</td>\n",
       "      <td>0</td>\n",
       "      <td>1</td>\n",
       "    </tr>\n",
       "    <tr>\n",
       "      <th>2</th>\n",
       "      <td>0</td>\n",
       "      <td>1</td>\n",
       "      <td>0</td>\n",
       "      <td>0</td>\n",
       "      <td>0</td>\n",
       "      <td>0</td>\n",
       "      <td>1</td>\n",
       "      <td>0</td>\n",
       "      <td>1</td>\n",
       "      <td>1</td>\n",
       "      <td>0</td>\n",
       "    </tr>\n",
       "  </tbody>\n",
       "</table>\n",
       "</div>"
      ],
      "text/plain": [
       "   aieducator  available  certification  course  learning  machine  mentor  \\\n",
       "0           1          0              0       1         1        1       0   \n",
       "1           1          0              1       1         0        0       0   \n",
       "2           0          1              0       0         0        0       1   \n",
       "\n",
       "   provides  students  support  tensorflow  \n",
       "0         1         0        0           0  \n",
       "1         1         0        0           1  \n",
       "2         0         1        1           0  "
      ]
     },
     "execution_count": 1,
     "metadata": {},
     "output_type": "execute_result"
    }
   ],
   "source": [
    "from sklearn.feature_extraction.text import CountVectorizer\n",
    "import pandas as pd\n",
    "\n",
    "\n",
    "cv = CountVectorizer(stop_words='english', lowercase=True)\n",
    "\n",
    "corpus = ['AIEducator provides Machine Learning Course',\n",
    "         'AIEducator provides TENSORFLOW Certification Course',\n",
    "         'MENTOR support is available for STUDENTS']\n",
    "\n",
    "word_count = cv.fit_transform(corpus) \n",
    "\n",
    "print(cv.get_feature_names()) \n",
    "\n",
    "df = pd.DataFrame(word_count.toarray(), columns = cv.get_feature_names())\n",
    "df"
   ]
  }
 ],
 "metadata": {
  "kernelspec": {
   "display_name": "Python 3",
   "language": "python",
   "name": "python3"
  },
  "language_info": {
   "codemirror_mode": {
    "name": "ipython",
    "version": 3
   },
   "file_extension": ".py",
   "mimetype": "text/x-python",
   "name": "python",
   "nbconvert_exporter": "python",
   "pygments_lexer": "ipython3",
   "version": "3.6.5"
  }
 },
 "nbformat": 4,
 "nbformat_minor": 2
}

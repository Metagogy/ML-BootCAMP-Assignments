{
 "cells": [
  {
   "cell_type": "markdown",
   "id": "sapphire-briefing",
   "metadata": {},
   "source": [
    "### Question 7: \n",
    "Load the inbuilt wine dataset , Split the data into train and test . Build, compile, train and evaluate the model using adam optimizer, loss as \"amse\"."
   ]
  },
  {
   "cell_type": "markdown",
   "id": "fatty-particle",
   "metadata": {},
   "source": [
    "### Description: \n",
    "Load the wine  dataset using inbuilt dataset function and split into train and test.\n",
    "\n",
    "Split into  independent variable and  dependent(labels) variable\n",
    "\n",
    "Build the wine dataset model by using a sequential layer and add the 2 layers and first two activation functions as Relu layers having 64 neurons in each dense layer and last layer having activation function as relu layer with 1 neuron.\n",
    "\n",
    "Compile the model using adam optimizer, loss as \"categorical_crossentropy\" and train the model using 5 epochs, 10  as batch size.\n",
    "Evaluate the  model by using a test and predicted value."
   ]
  },
  {
   "cell_type": "markdown",
   "id": "circular-indonesian",
   "metadata": {},
   "source": [
    "### Level: \n",
    "Hard\n"
   ]
  },
  {
   "cell_type": "markdown",
   "id": "boring-kentucky",
   "metadata": {},
   "source": [
    "### Explanation:\n",
    "Compile defines the loss function, the optimizer and the metrics.\n",
    "\n",
    "fit() is used for training models.\n",
    "\n",
    "evaluate function predicts the output for the given input and then computes the metric\n",
    "\n",
    "Library: [tf.keras/tensorflow]\n",
    "Category: ML"
   ]
  },
  {
   "cell_type": "markdown",
   "id": "sunset-pitch",
   "metadata": {},
   "source": [
    "### Input format : \n",
    "Dataset\n",
    "### Output format : \n",
    "Model Accuracy"
   ]
  },
  {
   "cell_type": "markdown",
   "id": "human-pizza",
   "metadata": {},
   "source": [
    "### Hints:\n",
    "Hint - 01 : Use Keras library to download the dataset\n",
    "    \n",
    "Hint - 02 : Use activation = softmax\n",
    "    \n",
    "Hint - 03 : Use epochs = 5 and batch size =32 to fit the model\n"
   ]
  },
  {
   "cell_type": "code",
   "execution_count": null,
   "id": "charitable-nowhere",
   "metadata": {},
   "outputs": [],
   "source": [
    "from sklearn.datasets import load_wine\n",
    "\n",
    "data12=load_wine()\n",
    "data12_inde=pd.DataFrame(data12.data,columns=data12.feature_names)\n",
    "\n",
    "data12_label=pd.DataFrame(data12.target,columns=['target'])\n",
    "\n",
    "\n",
    "\n",
    "data3=pd.concat([data12_inde,data12_label],axis=1)\n",
    "\n",
    "\n",
    "\n",
    "x=data3.iloc[:,:13]\n",
    "\n",
    "y=data3.iloc[:,13]\n",
    "\n",
    "from sklearn.model_selection import train_test_split\n",
    "\n",
    "x_train, x_test, y_train, y_test=train_test_split(x,y,test_size=0.2,random_state=42)\n",
    "\n",
    "import keras\n",
    "\n",
    "### Import Libraries\n",
    "\n",
    "#Sequential---Init the NN model\n",
    "from keras.models import Sequential\n",
    "#Dense --Normal Neural Network layer\n",
    "from keras.layers import Dense\n",
    "\n",
    "### Init the Neural Network Model\n",
    "\n",
    "model=Sequential()\n",
    "\n",
    "### Add Input Layer\n",
    "\n",
    "x_train.shape[1]\n",
    "\n",
    "#add() of Sequential() is used to add layers\n",
    "#Dense\n",
    "\n",
    "model.add(Dense(input_dim=x_train.shape[1],kernel_initializer=\"random_uniform\",activation=\"relu\",units=20))\n",
    "\n",
    "### Add Hidden Layer\n",
    "\n",
    "model.add(Dense(kernel_initializer=\"random_uniform\",activation=\"relu\",units=15))\n",
    "model.add(Dense(kernel_initializer=\"random_uniform\",activation=\"relu\",units=15))\n",
    "\n",
    "### Add Output Layer\n",
    "\n",
    "model.add(Dense(kernel_initializer=\"random_uniform\",activation=\"softmax\",units=3))\n",
    "\n",
    "### Compile the Model\n",
    "\n",
    "model.compile(loss=\"categorical_crossentropy\",optimizer=\"adam\",metrics=[\"accuracy\"])\n",
    "\n",
    "\n",
    "\n",
    "model.fit(x_train,y_train,batch_size=10,epochs=50,verbose=0);\n",
    "\n",
    "y_pred=model.predict(x_test)\n",
    "\n",
    "from sklearn.metrics import accuracy_score\n",
    "\n",
    "print(\"Test Accuracy Score:\",accuracy_score(y_test,y_pred)*100,\"%\")\n"
   ]
  }
 ],
 "metadata": {
  "kernelspec": {
   "display_name": "Python 3",
   "language": "python",
   "name": "python3"
  },
  "language_info": {
   "codemirror_mode": {
    "name": "ipython",
    "version": 3
   },
   "file_extension": ".py",
   "mimetype": "text/x-python",
   "name": "python",
   "nbconvert_exporter": "python",
   "pygments_lexer": "ipython3",
   "version": "3.8.5"
  }
 },
 "nbformat": 4,
 "nbformat_minor": 5
}

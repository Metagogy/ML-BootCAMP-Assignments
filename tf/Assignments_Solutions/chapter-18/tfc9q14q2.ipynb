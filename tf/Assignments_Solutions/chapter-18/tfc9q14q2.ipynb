{
 "cells": [
  {
   "cell_type": "markdown",
   "id": "assigned-watershed",
   "metadata": {},
   "source": [
    "### Description :\n",
    "\n",
    "**Question** : Take two lists of elements and find the error loss using mae formula and print the loss error"
   ]
  },
  {
   "cell_type": "markdown",
   "id": "through-paradise",
   "metadata": {},
   "source": [
    "### Level:\n",
    "Medium"
   ]
  },
  {
   "cell_type": "markdown",
   "id": "seeing-temperature",
   "metadata": {},
   "source": [
    "### Input format : \n",
    "Lists"
   ]
  },
  {
   "cell_type": "markdown",
   "id": "upper-poland",
   "metadata": {},
   "source": [
    "### Sample input :\n",
    "\n",
    "take two List of elements"
   ]
  },
  {
   "cell_type": "markdown",
   "id": "extreme-flush",
   "metadata": {},
   "source": [
    "### Sample output :  \n",
    "error losss mae"
   ]
  },
  {
   "cell_type": "code",
   "execution_count": 1,
   "id": "solved-buffer",
   "metadata": {},
   "outputs": [
    {
     "name": "stdout",
     "output_type": "stream",
     "text": [
      "0.006666666666666654\n"
     ]
    }
   ],
   "source": [
    "def mae_metric(actual, predicted):\n",
    "    sum_error = 0.0\n",
    "    for i in range(len(actual)):\n",
    "        sum_error += abs(predicted[i] - actual[i])\n",
    "    return sum_error / float(len(actual))\n",
    " \n",
    "# Test RMSE\n",
    "actual = [ 0.3, 0.4, 0.5]\n",
    "predicted = [ 0.29, 0.41, 0.5]\n",
    "mae = mae_metric(actual, predicted)\n",
    "print(mae)"
   ]
  },
  {
   "cell_type": "code",
   "execution_count": null,
   "id": "printable-triangle",
   "metadata": {},
   "outputs": [],
   "source": []
  }
 ],
 "metadata": {
  "kernelspec": {
   "display_name": "Python 3",
   "language": "python",
   "name": "python3"
  },
  "language_info": {
   "codemirror_mode": {
    "name": "ipython",
    "version": 3
   },
   "file_extension": ".py",
   "mimetype": "text/x-python",
   "name": "python",
   "nbconvert_exporter": "python",
   "pygments_lexer": "ipython3",
   "version": "3.8.5"
  }
 },
 "nbformat": 4,
 "nbformat_minor": 5
}

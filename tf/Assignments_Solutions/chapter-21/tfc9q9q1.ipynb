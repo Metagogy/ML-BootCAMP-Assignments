{
 "cells": [
  {
   "cell_type": "markdown",
   "id": "whole-keeping",
   "metadata": {},
   "source": [
    "### Description :\n",
    "\n",
    "**Question** : Load the inbuilt  botson dataset which is present in sklearn or kears and split into independent and dependent sets.and print the shapes of the given datasets.\n"
   ]
  },
  {
   "cell_type": "markdown",
   "id": "monthly-making",
   "metadata": {},
   "source": [
    "### Level:\n",
    "Medium"
   ]
  },
  {
   "cell_type": "markdown",
   "id": "duplicate-strap",
   "metadata": {},
   "source": [
    "### Input Format :\n",
    "String "
   ]
  },
  {
   "cell_type": "markdown",
   "id": "registered-armenia",
   "metadata": {},
   "source": [
    "### Output Format: \n",
    "Tuples contain shape of the given dataset."
   ]
  },
  {
   "cell_type": "markdown",
   "id": "charged-drunk",
   "metadata": {},
   "source": [
    "### Sample Input : \n",
    "Labels"
   ]
  },
  {
   "cell_type": "markdown",
   "id": "directed-updating",
   "metadata": {},
   "source": [
    "### Sample Output :\n",
    "\n",
    "(506, 1) <br/>\n"
   ]
  },
  {
   "cell_type": "markdown",
   "id": "seventh-chuck",
   "metadata": {},
   "source": [
    "### Explanation : \n",
    "If the input is 'Features,' then print shape. If the input is 'Labels,' then print the shape. For any other value, don't print anything."
   ]
  },
  {
   "cell_type": "code",
   "execution_count": 14,
   "id": "specific-account",
   "metadata": {
    "scrolled": true
   },
   "outputs": [],
   "source": [
    "from sklearn.datasets import load_boston\n",
    "\n",
    "data1=load_boston()\n",
    "\n"
   ]
  },
  {
   "cell_type": "code",
   "execution_count": 10,
   "id": "olive-kruger",
   "metadata": {},
   "outputs": [],
   "source": [
    "import pandas as pd\n",
    "\n",
    "### split the data into independent and dependent variable\n",
    "\n",
    "\n",
    "features=pd.DataFrame(data1.data,columns=data1.feature_names)\n",
    "\n",
    "label=pd.DataFrame(data1.target,columns=['target'])\n",
    "\n",
    "### concat the independent and dependent variables\n",
    "\n",
    "#data1=pd.concat([data1_inde,data1_label],axis=1)"
   ]
  },
  {
   "cell_type": "code",
   "execution_count": 2,
   "id": "convertible-rebound",
   "metadata": {},
   "outputs": [
    {
     "name": "stdout",
     "output_type": "stream",
     "text": [
      "features\n"
     ]
    },
    {
     "ename": "NameError",
     "evalue": "name 'features' is not defined",
     "output_type": "error",
     "traceback": [
      "\u001b[1;31m---------------------------------------------------------------------------\u001b[0m",
      "\u001b[1;31mNameError\u001b[0m                                 Traceback (most recent call last)",
      "\u001b[1;32m<ipython-input-2-1e5d03f642b4>\u001b[0m in \u001b[0;36m<module>\u001b[1;34m\u001b[0m\n\u001b[0;32m      1\u001b[0m \u001b[0minp\u001b[0m\u001b[1;33m=\u001b[0m\u001b[0minput\u001b[0m\u001b[1;33m(\u001b[0m\u001b[1;33m)\u001b[0m\u001b[1;33m\u001b[0m\u001b[1;33m\u001b[0m\u001b[0m\n\u001b[0;32m      2\u001b[0m \u001b[1;32mif\u001b[0m \u001b[0minp\u001b[0m\u001b[1;33m.\u001b[0m\u001b[0mlower\u001b[0m\u001b[1;33m(\u001b[0m\u001b[1;33m)\u001b[0m\u001b[1;33m==\u001b[0m\u001b[1;34m'features'\u001b[0m\u001b[1;33m:\u001b[0m\u001b[1;33m\u001b[0m\u001b[1;33m\u001b[0m\u001b[0m\n\u001b[1;32m----> 3\u001b[1;33m     \u001b[0mprint\u001b[0m\u001b[1;33m(\u001b[0m\u001b[0mfeatures\u001b[0m\u001b[1;33m.\u001b[0m\u001b[0mshape\u001b[0m\u001b[1;33m)\u001b[0m\u001b[1;33m\u001b[0m\u001b[1;33m\u001b[0m\u001b[0m\n\u001b[0m",
      "\u001b[1;31mNameError\u001b[0m: name 'features' is not defined"
     ]
    }
   ],
   "source": [
    "inp=input()\n",
    "if inp.lower()=='features':\n",
    "    print(features.shape)"
   ]
  },
  {
   "cell_type": "code",
   "execution_count": null,
   "id": "exposed-economics",
   "metadata": {},
   "outputs": [],
   "source": []
  }
 ],
 "metadata": {
  "kernelspec": {
   "display_name": "Python 3",
   "language": "python",
   "name": "python3"
  },
  "language_info": {
   "codemirror_mode": {
    "name": "ipython",
    "version": 3
   },
   "file_extension": ".py",
   "mimetype": "text/x-python",
   "name": "python",
   "nbconvert_exporter": "python",
   "pygments_lexer": "ipython3",
   "version": "3.8.5"
  }
 },
 "nbformat": 4,
 "nbformat_minor": 5
}

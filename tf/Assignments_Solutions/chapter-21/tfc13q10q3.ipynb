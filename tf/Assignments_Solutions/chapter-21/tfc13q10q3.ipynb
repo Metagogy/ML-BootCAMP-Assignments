{
 "cells": [
  {
   "cell_type": "markdown",
   "metadata": {
    "id": "L83Odmh9YXTQ"
   },
   "source": [
    "**Question:**  Create a dense layer with ‘5’ neurons and apply a L2  regularization penalty of ‘0.15’ ,pass a tensor of shape(4,6) with a multiplier ‘2.5’ and print the result\n"
   ]
  },
  {
   "cell_type": "markdown",
   "metadata": {
    "id": "b6KG9LbMYXTa"
   },
   "source": [
    "**Description:** \n",
    "* Import the required libraries.\n",
    "* Ask for the sample input for creating a tensor of ones,multiplier and also ask for input for the value of  L2 penalty.\n",
    "* Create a Dense layer.\n",
    "* Create a tensor with multiplier \n",
    "* Apply the layer on tensor and print the output.\n"
   ]
  },
  {
   "cell_type": "markdown",
   "metadata": {
    "id": "V9LsjwSxYXTe"
   },
   "source": [
    "**Sample Output format :**\n",
    "\n",
    "Tensor\n",
    "\n",
    "**Sample Output:**\n",
    "\n",
    "tf.Tensor(\n",
    "\n",
    "[[15. 15. 15. 15. 15.]\n",
    "\n",
    " [15. 15. 15. 15. 15.]\n",
    "\n",
    " [15. 15. 15. 15. 15.]\n",
    "\n",
    " [15. 15. 15. 15. 15.]], shape=(4, 5), dtype=float32)"
   ]
  },
  {
   "cell_type": "markdown",
   "metadata": {
    "id": "-khPPg2GYXTf"
   },
   "source": [
    "* Hint 01: use tensorflow library\n",
    "* Hint 02: create dense layer using tf.keras.layers.Dense()\n",
    "* Hint 03: use regularizers using tf.keras.regularizers.L1\n"
   ]
  },
  {
   "cell_type": "code",
   "execution_count": null,
   "metadata": {
    "id": "rwXXr-DCYXTg"
   },
   "outputs": [],
   "source": [
    "#start your code here"
   ]
  },
  {
   "cell_type": "code",
   "execution_count": 5,
   "metadata": {
    "id": "xX2SJCvcYXTh"
   },
   "outputs": [],
   "source": [
    "#import library\n",
    "import tensorflow as tf"
   ]
  },
  {
   "cell_type": "code",
   "execution_count": 6,
   "metadata": {
    "id": "pir2nDoZYXTh"
   },
   "outputs": [],
   "source": [
    "#create a tensor\n",
    "tensor = tf.ones(shape=(4, 6)) * 2.5"
   ]
  },
  {
   "cell_type": "code",
   "execution_count": 7,
   "metadata": {
    "id": "PyOngNC3YXTi"
   },
   "outputs": [],
   "source": [
    "#create a dense layer and pass the tensor through it\n",
    "layer = tf.keras.layers.Dense(5, input_dim=5,kernel_initializer='ones',kernel_regularizer=tf.keras.regularizers.L2(0.15))\n",
    "out = layer(tensor)\n"
   ]
  },
  {
   "cell_type": "code",
   "execution_count": 8,
   "metadata": {
    "colab": {
     "base_uri": "https://localhost:8080/"
    },
    "id": "Fc42iJAUYXTj",
    "outputId": "bef672bf-2d54-44d4-854d-0bd18ca837b4"
   },
   "outputs": [
    {
     "name": "stdout",
     "output_type": "stream",
     "text": [
      "tf.Tensor(\n",
      "[[15. 15. 15. 15. 15.]\n",
      " [15. 15. 15. 15. 15.]\n",
      " [15. 15. 15. 15. 15.]\n",
      " [15. 15. 15. 15. 15.]], shape=(4, 5), dtype=float32)\n"
     ]
    }
   ],
   "source": [
    "#print the output\n",
    "print(out)"
   ]
  },
  {
   "cell_type": "code",
   "execution_count": null,
   "metadata": {
    "id": "ISsaku2QYXTk"
   },
   "outputs": [],
   "source": []
  }
 ],
 "metadata": {
  "accelerator": "GPU",
  "colab": {
   "collapsed_sections": [],
   "name": "tfc13q10_q3.ipynb",
   "provenance": []
  },
  "kernelspec": {
   "display_name": "Python 3",
   "language": "python",
   "name": "python3"
  },
  "language_info": {
   "codemirror_mode": {
    "name": "ipython",
    "version": 3
   },
   "file_extension": ".py",
   "mimetype": "text/x-python",
   "name": "python",
   "nbconvert_exporter": "python",
   "pygments_lexer": "ipython3",
   "version": "3.8.5"
  }
 },
 "nbformat": 4,
 "nbformat_minor": 1
}

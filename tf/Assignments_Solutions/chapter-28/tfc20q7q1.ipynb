{
 "cells": [
  {
   "cell_type": "markdown",
   "metadata": {},
   "source": [
    "**Question:** Apply parts of speech for a given paragraph, and remove stopwords to convert it into an array form "
   ]
  },
  {
   "cell_type": "markdown",
   "metadata": {},
   "source": [
    "**Description :** \n",
    "* Import necessary libraries \n",
    "* Apply re to remove special characters \n",
    "* Apply word tokenize and stopwords"
   ]
  },
  {
   "cell_type": "markdown",
   "metadata": {},
   "source": [
    "**Output format:** only print without stopwords\n",
    "\n",
    "**Output Format:** [('In', 'IN'), ('corpus', 'JJ'), ('linguistics', 'NNS'), ('parof-speech', 'JJ'), ('tagging', 'NN'), ('also', 'RB'), ('called', 'VBD'), ('grammatical', 'JJ'), ('tagging', 'NN')]\n"
   ]
  },
  {
   "cell_type": "code",
   "execution_count": 1,
   "metadata": {},
   "outputs": [
    {
     "name": "stdout",
     "output_type": "stream",
     "text": [
      "['In', 'corpus', 'linguistics', ',', 'part-of-speech', 'tagging', 'also', 'called', 'grammatical', 'tagging', 'is', 'the', 'process', 'of', 'marking', 'up', 'a', 'word']\n"
     ]
    }
   ],
   "source": [
    "from nltk import word_tokenize,pos_tag\n",
    "data=\"In corpus linguistics, part-of-speech tagging also called grammatical tagging is the process of marking up a word\"\n",
    "print(word_tokenize(data))"
   ]
  },
  {
   "cell_type": "code",
   "execution_count": null,
   "metadata": {},
   "outputs": [],
   "source": []
  }
 ],
 "metadata": {
  "kernelspec": {
   "display_name": "Python 3",
   "language": "python",
   "name": "python3"
  },
  "language_info": {
   "codemirror_mode": {
    "name": "ipython",
    "version": 3
   },
   "file_extension": ".py",
   "mimetype": "text/x-python",
   "name": "python",
   "nbconvert_exporter": "python",
   "pygments_lexer": "ipython3",
   "version": "3.8.5"
  }
 },
 "nbformat": 4,
 "nbformat_minor": 2
}

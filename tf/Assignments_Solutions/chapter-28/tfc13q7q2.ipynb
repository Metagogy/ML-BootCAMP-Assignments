{
 "cells": [
  {
   "cell_type": "markdown",
   "metadata": {
    "id": "aLvjmXhHyrQq"
   },
   "source": [
    "**Question :** Apply L2 regularizer of 0.5 penalty on a tensor of ones with a shape of (5,5) and print the output"
   ]
  },
  {
   "cell_type": "markdown",
   "metadata": {
    "id": "K-bDdooUyrQt"
   },
   "source": [
    "**Explanation:**\n",
    "\n",
    "* The tensorflow library is an open source library with a range of tasks present in it.\n",
    "* We have many regularizers used in the keras API which has a backend of tensorflow.\n"
   ]
  },
  {
   "cell_type": "markdown",
   "metadata": {
    "id": "oYh4pMqQyrQv"
   },
   "source": [
    "**Sample Output:**\n",
    "\n",
    "Tensor\n",
    "\n",
    "**Sample output:**\n",
    "\n",
    "tf.Tensor(12.5, shape=(), dtype=float32)\n",
    "\n"
   ]
  },
  {
   "cell_type": "markdown",
   "metadata": {
    "id": "Eln23ZGNyrQw"
   },
   "source": [
    "* Hint 01: use tensorflow library\n",
    "* Hint 02: create tensor of one’s using tf.ones()\n",
    "* Hint 03: use tf.keras.regularizers for L2"
   ]
  },
  {
   "cell_type": "code",
   "execution_count": null,
   "metadata": {
    "id": "9VVnJAA1yrQw"
   },
   "outputs": [],
   "source": [
    "#Start your code here"
   ]
  },
  {
   "cell_type": "code",
   "execution_count": 6,
   "metadata": {
    "id": "KsuJ140NyrQx"
   },
   "outputs": [],
   "source": [
    "#import your library\n",
    "import tensorflow as tf"
   ]
  },
  {
   "cell_type": "code",
   "execution_count": 7,
   "metadata": {
    "id": "vNNXAtiRyrQx"
   },
   "outputs": [],
   "source": [
    "#Create a tensor\n",
    "tensor = tf.ones(shape=(5,5)) "
   ]
  },
  {
   "cell_type": "code",
   "execution_count": 8,
   "metadata": {
    "id": "cxt5S2pnyrQx"
   },
   "outputs": [],
   "source": [
    "#create a regularizer \n",
    "regularizer = tf.keras.regularizers.L2(0.5)"
   ]
  },
  {
   "cell_type": "code",
   "execution_count": 9,
   "metadata": {
    "id": "MnprKTVSyrQy"
   },
   "outputs": [],
   "source": [
    "#Apply regularizer on tensor\n",
    "output=regularizer(tensor)"
   ]
  },
  {
   "cell_type": "code",
   "execution_count": 10,
   "metadata": {
    "colab": {
     "base_uri": "https://localhost:8080/"
    },
    "id": "F4eZIkB_yrQz",
    "outputId": "d8e46ab8-7b52-4c34-a81f-0902e53fc948"
   },
   "outputs": [
    {
     "name": "stdout",
     "output_type": "stream",
     "text": [
      "tf.Tensor(12.5, shape=(), dtype=float32)\n"
     ]
    }
   ],
   "source": [
    "#print the output\n",
    "print(output)"
   ]
  },
  {
   "cell_type": "code",
   "execution_count": null,
   "metadata": {
    "id": "e0GRle5eyrQz"
   },
   "outputs": [],
   "source": []
  }
 ],
 "metadata": {
  "accelerator": "GPU",
  "colab": {
   "collapsed_sections": [],
   "name": "tfc13q7_q2.ipynb",
   "provenance": []
  },
  "kernelspec": {
   "display_name": "Python 3",
   "language": "python",
   "name": "python3"
  },
  "language_info": {
   "codemirror_mode": {
    "name": "ipython",
    "version": 3
   },
   "file_extension": ".py",
   "mimetype": "text/x-python",
   "name": "python",
   "nbconvert_exporter": "python",
   "pygments_lexer": "ipython3",
   "version": "3.8.5"
  }
 },
 "nbformat": 4,
 "nbformat_minor": 1
}

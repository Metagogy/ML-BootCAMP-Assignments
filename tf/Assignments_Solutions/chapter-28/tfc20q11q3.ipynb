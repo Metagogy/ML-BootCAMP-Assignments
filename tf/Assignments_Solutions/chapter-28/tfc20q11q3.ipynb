{
 "cells": [
  {
   "cell_type": "markdown",
   "metadata": {},
   "source": [
    "**Question:** Apply parts of speech for a given paragraph, and remove stopwords and show the proper noun singular form(NNP)\n"
   ]
  },
  {
   "cell_type": "markdown",
   "metadata": {},
   "source": [
    "**Description :** \n",
    "* Import necessary libraries \n",
    "* Apply re to remove special characters \n",
    "* Apply word tokenize and stopwords\n",
    "* Apply parts of speech tagging"
   ]
  },
  {
   "cell_type": "markdown",
   "metadata": {},
   "source": [
    "**Output Format:** list"
   ]
  },
  {
   "cell_type": "code",
   "execution_count": 1,
   "metadata": {},
   "outputs": [],
   "source": [
    "from nltk.corpus import stopwords\n",
    "import nltk \n",
    "import re\n",
    "from nltk.corpus import stopwords\n",
    "from nltk import word_tokenize,pos_tag"
   ]
  },
  {
   "cell_type": "code",
   "execution_count": 3,
   "metadata": {},
   "outputs": [
    {
     "name": "stdout",
     "output_type": "stream",
     "text": [
      "[('I', 'PRON'), ('am', 'VERB'), ('using', 'VERB'), ('Mi', 'NOUN'), ('note5', 'NOUN'), ('it', 'PRON'), ('is', 'VERB'), ('working', 'VERB'), ('great,My', 'NOUN'), ('Samsung', 'NOUN'), ('s7', 'NOUN'), ('is', 'VERB'), ('hanging', 'VERB'), ('very', 'ADV'), ('often,My', 'ADJ'), ('friend', 'NOUN'), ('is', 'VERB'), ('using', 'VERB'), ('Oneplus', 'NOUN'), ('for', 'ADP'), ('last', 'ADJ'), ('5', 'NUM'), ('years', 'NOUN')]\n"
     ]
    }
   ],
   "source": [
    "data=\"I am using Mi note5 it is working great,My Samsung s7 is hanging very often,My friend is using Oneplus for last 5 years\"\n",
    "print(pos_tag(data.split(\" \"),tagset=\"universal\"))"
   ]
  },
  {
   "cell_type": "code",
   "execution_count": null,
   "metadata": {},
   "outputs": [],
   "source": []
  }
 ],
 "metadata": {
  "kernelspec": {
   "display_name": "Python 3",
   "language": "python",
   "name": "python3"
  },
  "language_info": {
   "codemirror_mode": {
    "name": "ipython",
    "version": 3
   },
   "file_extension": ".py",
   "mimetype": "text/x-python",
   "name": "python",
   "nbconvert_exporter": "python",
   "pygments_lexer": "ipython3",
   "version": "3.8.5"
  }
 },
 "nbformat": 4,
 "nbformat_minor": 2
}

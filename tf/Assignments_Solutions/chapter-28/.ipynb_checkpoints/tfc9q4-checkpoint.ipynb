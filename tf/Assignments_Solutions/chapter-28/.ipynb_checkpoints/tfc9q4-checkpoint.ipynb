{
 "cells": [
  {
   "cell_type": "markdown",
   "metadata": {},
   "source": [
    "**Question :** Apply tf.constant on given two lists, Multiply them and print the result"
   ]
  },
  {
   "cell_type": "markdown",
   "metadata": {},
   "source": [
    "**Input format :** "
   ]
  },
  {
   "cell_type": "raw",
   "metadata": {},
   "source": [
    "First-line : Space-separated values        # Convert these values into list \n",
    "\n",
    "Second-line : Space-separated values       # Convert these values into list"
   ]
  },
  {
   "cell_type": "markdown",
   "metadata": {},
   "source": [
    "**Output format :**  Array."
   ]
  },
  {
   "cell_type": "markdown",
   "metadata": {},
   "source": [
    "**Sample input :**"
   ]
  },
  {
   "cell_type": "raw",
   "metadata": {},
   "source": [
    "1 2 3 4\n",
    "5 6 7 8"
   ]
  },
  {
   "cell_type": "markdown",
   "metadata": {},
   "source": [
    "**Sample output :**  tensor values"
   ]
  },
  {
   "cell_type": "markdown",
   "metadata": {},
   "source": [
    "**Solution :**"
   ]
  },
  {
   "cell_type": "code",
   "execution_count": 4,
   "metadata": {},
   "outputs": [
    {
     "name": "stdout",
     "output_type": "stream",
     "text": [
      "1 2 3 4\n",
      "5 6 7 8\n",
      "[ 5 12 21 32]\n"
     ]
    }
   ],
   "source": [
    "import tensorflow as tf\n",
    "\n",
    "lst1=list(map(int,input().split()))\n",
    "lst2=list(map(int,input().split()))\n",
    "\n",
    "x1 = tf.constant(lst1)\n",
    "x2 = tf.constant(lst2)\n",
    "\n",
    "result = tf.multiply(x1, x2)\n",
    "\n",
    "print(result.numpy())"
   ]
  }
 ],
 "metadata": {
  "kernelspec": {
   "display_name": "Python 3",
   "language": "python",
   "name": "python3"
  },
  "language_info": {
   "codemirror_mode": {
    "name": "ipython",
    "version": 3
   },
   "file_extension": ".py",
   "mimetype": "text/x-python",
   "name": "python",
   "nbconvert_exporter": "python",
   "pygments_lexer": "ipython3",
   "version": "3.8.3"
  }
 },
 "nbformat": 4,
 "nbformat_minor": 4
}

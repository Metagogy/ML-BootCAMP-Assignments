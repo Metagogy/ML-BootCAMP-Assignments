{
 "cells": [
  {
   "cell_type": "markdown",
   "metadata": {},
   "source": [
    "**Question** : Read a paragraph as input, apply word2vec for a given paragraph, and print any word in the paragraph that converts the given word to vector form\n"
   ]
  },
  {
   "cell_type": "markdown",
   "metadata": {},
   "source": [
    "**Description** : \n",
    "\n",
    "Import necessary libraries \n",
    "\n",
    "Preprocess the paragraph by using regular expressions ( it removes special characters like number , commas , etc.  next apply sentence tokenizer for given paragraph then next word_tokenize. In the next step apply stop words removal ( it removes a, an , the etc. )\n",
    "\n",
    "Apply word2vec for given paragraph and use min_count = 1 ( Here we are using min count = 1 because our input data is less so we are using 1 if our data is huge then we will use 2 or 3 )\n",
    "\n",
    "In the next step apply word vector vocabulary\n",
    "\n",
    "Apply word2vec for ‘explanation ’ keyword \n"
   ]
  },
  {
   "cell_type": "markdown",
   "metadata": {},
   "source": [
    "**Level** : Medium"
   ]
  },
  {
   "cell_type": "markdown",
   "metadata": {},
   "source": [
    "**Input format** : Any word that converts into vector form"
   ]
  },
  {
   "cell_type": "markdown",
   "metadata": {},
   "source": [
    "**Output format** : word to vector form"
   ]
  },
  {
   "cell_type": "markdown",
   "metadata": {},
   "source": [
    "**Sample Input** : \n",
    "\n",
    "Paragraphs are the building blocks of papers.Many students define paragraphs in terms of length: a paragraph is a group of at least five sentences, a paragraph is half a page long, etc. In reality, though, the unity and coherence of ideas among sentences is what constitutes a paragraph.A paragraph is defined as “a group of sentences or a single sentence that forms a unit” (Lunsford and Connors 116). Length and appearance do not determine whether a section in a paper is a paragraph. For instance, in some styles of writing, particularly journalistic styles, a paragraph can be just one sentence long. Ultimately, a paragraph is a sentence or group of sentences that support one main idea.In this handout, we will refer to this as the controlling idea, because it controls what happens in the rest of the paragraph.Paragraph development progresses with the expression of some type of support or evidence for the idea and the explanation that came before it. The example serves as a sign or representation of the relationship established in the idea and explanation portions of the paragraph.\n"
   ]
  },
  {
   "cell_type": "markdown",
   "metadata": {},
   "source": [
    "**Sample Output** :  Array of values"
   ]
  },
  {
   "cell_type": "markdown",
   "metadata": {},
   "source": [
    "**SOLUTION**"
   ]
  },
  {
   "cell_type": "code",
   "execution_count": 2,
   "metadata": {},
   "outputs": [
    {
     "data": {
      "text/plain": [
       "array([-7.1877113e-04, -1.5112937e-03,  1.4216061e-03,  6.8780652e-04,\n",
       "       -3.5825977e-03, -4.8391493e-03, -1.0956939e-03, -2.5379919e-03,\n",
       "       -1.8966105e-03,  2.6397621e-03,  3.8754363e-03, -4.0194262e-03,\n",
       "       -2.7003519e-03,  1.4392777e-03, -3.9747115e-03, -4.8143310e-03,\n",
       "       -1.6061831e-03, -1.9021994e-03, -1.7841924e-03,  1.6102649e-03,\n",
       "        5.3463475e-04,  4.4290544e-03, -2.6620210e-03,  4.8439004e-03,\n",
       "        1.9082875e-03,  2.3686036e-03,  1.8314788e-03,  1.9426999e-03,\n",
       "        1.5809579e-03,  3.3444823e-03, -2.1674426e-03, -4.8128162e-03,\n",
       "        2.7952003e-03,  2.4631701e-03, -4.4517778e-04, -2.1956640e-03,\n",
       "       -6.2126643e-04,  1.6037251e-04, -2.1388396e-03,  8.4168860e-04,\n",
       "        3.8575327e-03,  4.9786284e-03,  1.4553843e-03, -4.0952992e-03,\n",
       "       -2.2138685e-03, -1.0905444e-03, -3.9232187e-03,  2.4378409e-03,\n",
       "        2.9941313e-03,  1.2688065e-03, -2.1506706e-03, -1.0775677e-03,\n",
       "       -4.5076362e-03, -1.9608366e-03,  1.6955833e-03,  9.5735228e-04,\n",
       "        9.3525450e-04, -5.9267710e-04, -6.3201954e-04,  4.3533044e-03,\n",
       "       -1.3420723e-03, -4.7328342e-03, -1.8013986e-03, -4.9736197e-03,\n",
       "       -1.6246696e-03, -4.2432845e-03,  2.2820025e-04,  4.8325020e-03,\n",
       "        1.4436182e-04, -2.9088412e-03,  4.5765378e-03, -2.9086438e-03,\n",
       "       -2.2332680e-03, -3.5209430e-03, -2.3609174e-03, -4.7859452e-03,\n",
       "       -2.5437751e-03,  3.4286801e-03,  3.9877985e-03,  9.5679628e-04,\n",
       "       -1.6252053e-03, -2.0121811e-03,  4.0661022e-03, -4.7384286e-03,\n",
       "       -1.5608970e-03,  2.9540551e-04,  4.4830195e-03, -2.6928922e-03,\n",
       "       -7.6584220e-05, -3.7201953e-03, -8.9326972e-04,  2.3464456e-03,\n",
       "       -2.7878198e-03,  1.5936114e-03,  4.0737013e-03, -1.7014490e-03,\n",
       "        4.4727717e-03, -1.3478016e-03, -4.6792715e-03, -2.8673888e-03],\n",
       "      dtype=float32)"
      ]
     },
     "execution_count": 2,
     "metadata": {},
     "output_type": "execute_result"
    }
   ],
   "source": [
    "import nltk\n",
    "from gensim.models import Word2Vec\n",
    "from nltk.corpus import stopwords\n",
    "import re\n",
    "\n",
    "\n",
    "paragraph = 'Paragraphs are the building blocks of papers.Many students define paragraphs in terms of length: a paragraph is a group of at least five sentences, a paragraph is half a page long, etc. In reality, though, the unity and coherence of ideas among sentences is what constitutes a paragraph.A paragraph is defined as \"a group of sentences or a single sentence that forms a unit\" (Lunsford and Connors 116). Length and appearance do not determine whether a section in a paper is a paragraph. For instance, in some styles of writing, particularly journalistic styles, a paragraph can be just one sentence long. Ultimately, a paragraph is a sentence or group of sentences that support one main idea.In this handout, we will refer to this as the controlling idea, because it controls what happens in the rest of the paragraph.Paragraph development progresses with the expression of some type of support or evidence for the idea and the explanation that came before it. The example serves as a sign or representation of the relationship established in the idea and explanation portions of the paragraph.'\n",
    "            \n",
    "len(paragraph)\n",
    "paragraph = re.sub(r'\\[[0-9]*\\]', ' ', paragraph)\n",
    "paragraph = re.sub(r'\\s+', ' ', paragraph)\n",
    "\n",
    "paragraph = nltk.sent_tokenize(paragraph)\n",
    "paragraph\n",
    "\n",
    "paragraph = [nltk.word_tokenize(sentence) for sentence in paragraph]\n",
    "paragraph\n",
    "\n",
    "for i in range(len(paragraph)):\n",
    "    paragraph[i] = [word for word in paragraph[i] if word not in stopwords.words('english')]\n",
    "\n",
    "paragraph[i]\n",
    "\n",
    "model = Word2Vec(paragraph, min_count = 2)\n",
    "words = model.wv.vocab\n",
    "words\n",
    "\n",
    "a = model.wv['explanation']\n",
    "a"
   ]
  }
 ],
 "metadata": {
  "kernelspec": {
   "display_name": "Python 3",
   "language": "python",
   "name": "python3"
  },
  "language_info": {
   "codemirror_mode": {
    "name": "ipython",
    "version": 3
   },
   "file_extension": ".py",
   "mimetype": "text/x-python",
   "name": "python",
   "nbconvert_exporter": "python",
   "pygments_lexer": "ipython3",
   "version": "3.6.5"
  }
 },
 "nbformat": 4,
 "nbformat_minor": 2
}

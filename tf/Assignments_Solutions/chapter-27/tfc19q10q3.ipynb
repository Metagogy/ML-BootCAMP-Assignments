{
  "nbformat": 4,
  "nbformat_minor": 0,
  "metadata": {
    "kernelspec": {
      "display_name": "Python 3",
      "language": "python",
      "name": "python3"
    },
    "language_info": {
      "codemirror_mode": {
        "name": "ipython",
        "version": 3
      },
      "file_extension": ".py",
      "mimetype": "text/x-python",
      "name": "python",
      "nbconvert_exporter": "python",
      "pygments_lexer": "ipython3",
      "version": "3.7.3"
    },
    "colab": {
      "name": "tfc19q10q3.ipynb",
      "provenance": [],
      "collapsed_sections": []
    }
  },
  "cells": [
    {
      "cell_type": "markdown",
      "metadata": {
        "id": "hCcmAL5n5pE1"
      },
      "source": [
        "**Question**: Load, Split and normalize the mnist dataset. Build, compile and train the model using adam optimizer, loss as \"Categorical_crossentropy\".\n"
      ]
    },
    {
      "cell_type": "markdown",
      "metadata": {
        "id": "YpzJXMKG5pFC"
      },
      "source": [
        "**Description:**  \n",
        "* Load the mnist dataset using inbuilt dataset function and split into training and testing images.\n",
        "\n",
        "\n",
        "* Normalize the dataset images by dividing it with 255 for train and test images. \n",
        "\n",
        "\n",
        "* Build the mnist dataset model by using a sequential API and adding the first GRU layer with\n",
        "\n",
        " 128 neurons and relu activation with input shape as x_train.shape Second layer with dropout has 0.2 neurons\n",
        "\n",
        " and the last layer is dense with 10 neurons with softmax activation as output layer. \n",
        " \n",
        " \n",
        "* Compile the model using ‘adam’ optimizer, loss as \"categorical_crossentropy\" and train the model using 3 epochs and\n",
        "\n",
        " validation data has testing values.\n",
        "\n",
        "\n"
      ]
    },
    {
      "cell_type": "code",
      "metadata": {
        "id": "9IlnORnX5pFD"
      },
      "source": [
        "# Start Your Code Here."
      ],
      "execution_count": null,
      "outputs": []
    },
    {
      "cell_type": "code",
      "metadata": {
        "id": "Jj279Xjw5pFE"
      },
      "source": [
        "# Import Libraries.\n",
        "import tensorflow as  tf\n",
        "import keras\n",
        "from keras.models import Sequential\n",
        "from keras.layers import Dense, Dropout,GRU\n",
        "from keras.utils import to_categorical\n",
        "from keras.datasets import mnist\n",
        " \n"
      ],
      "execution_count": 1,
      "outputs": []
    },
    {
      "cell_type": "code",
      "metadata": {
        "colab": {
          "base_uri": "https://localhost:8080/"
        },
        "id": "jrJ8pRHJ5pFF",
        "outputId": "eacd26d7-e3ad-4e53-9fba-b91946a0407b"
      },
      "source": [
        "# train test split\n",
        "(x_train, y_train), (x_test, y_test) = mnist.load_data()\n",
        " "
      ],
      "execution_count": 2,
      "outputs": [
        {
          "output_type": "stream",
          "text": [
            "Downloading data from https://storage.googleapis.com/tensorflow/tf-keras-datasets/mnist.npz\n",
            "11493376/11490434 [==============================] - 0s 0us/step\n"
          ],
          "name": "stdout"
        }
      ]
    },
    {
      "cell_type": "code",
      "metadata": {
        "id": "_LwmkHBq5pFF"
      },
      "source": [
        "# normalize\n",
        "x_train = x_train / 255.0\n",
        "x_test = x_test / 255.0\n",
        " "
      ],
      "execution_count": 3,
      "outputs": []
    },
    {
      "cell_type": "code",
      "metadata": {
        "id": "J9vH59Lu5pFG"
      },
      "source": [
        "#to categorical\n",
        "y_train=to_categorical(y_train,10)\n",
        "y_test=to_categorical(y_test,10)\n"
      ],
      "execution_count": 4,
      "outputs": []
    },
    {
      "cell_type": "code",
      "metadata": {
        "id": "FSk0RDlR5pFG"
      },
      "source": [
        "# build model\n",
        "model = Sequential()\n",
        "model.add(GRU(128, input_shape=(x_train.shape[1:]), activation='relu'))\n",
        "model.add(Dropout(0.2))\n",
        "model.add(Dense(10, activation='softmax'))\n"
      ],
      "execution_count": 15,
      "outputs": []
    },
    {
      "cell_type": "code",
      "metadata": {
        "id": "F-AflYev5pFH"
      },
      "source": [
        "# compile the model\n",
        "model.compile(loss='categorical_crossentropy', optimizer='adam',metrics=['accuracy'])\n",
        " "
      ],
      "execution_count": 16,
      "outputs": []
    },
    {
      "cell_type": "code",
      "metadata": {
        "id": "wpKlT4gq5pFH"
      },
      "source": [
        "# fit or train the model\n",
        "model.fit(x_train, y_train, epochs=3, validation_data=(x_test, y_test),verbose=0);"
      ],
      "execution_count": 17,
      "outputs": []
    },
    {
      "cell_type": "code",
      "metadata": {
        "id": "aHEEagXa5pFI"
      },
      "source": [
        "# evaluate The model\n",
        "los,acc=model.evaluate(x_test,y_test,verbose=0);\n",
        " \n"
      ],
      "execution_count": 18,
      "outputs": []
    },
    {
      "cell_type": "code",
      "metadata": {
        "colab": {
          "base_uri": "https://localhost:8080/"
        },
        "id": "p0dM5iHO5pFI",
        "outputId": "62a5fcaf-6013-43b1-a131-69b93ddb94a2"
      },
      "source": [
        "# Print Accuracy\n",
        "print(acc)\n"
      ],
      "execution_count": 19,
      "outputs": [
        {
          "output_type": "stream",
          "text": [
            "0.9836000204086304\n"
          ],
          "name": "stdout"
        }
      ]
    },
    {
      "cell_type": "code",
      "metadata": {
        "id": "anQcDSIC5pFJ"
      },
      "source": [
        ""
      ],
      "execution_count": null,
      "outputs": []
    }
  ]
}
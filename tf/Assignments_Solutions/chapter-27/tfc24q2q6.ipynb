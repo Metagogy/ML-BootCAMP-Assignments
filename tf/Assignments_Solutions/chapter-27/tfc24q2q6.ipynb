{
 "cells": [
  {
   "cell_type": "markdown",
   "metadata": {},
   "source": [
    "**Question**: Build, compile, train and evaluate the cats vs dogs pretrained VGG16 model \n",
    "\n"
   ]
  },
  {
   "cell_type": "markdown",
   "metadata": {},
   "source": [
    "**Description**:\n",
    "\n",
    "Load the cats vs dogs dataset into train and validation paths. \n",
    "\n",
    "Normalize the dataset and perform data augmentation. Mention target size as (150,150), class mode as ‘binary’ and batch size as 32 using flow_from_directory().\n",
    "\n",
    "Get the pre-trained vgg16 model and freeze initial layers.\n",
    "\n",
    "For fully connected layers use 512 neurons and 1 neuron in the last layer having relu and sigmoid activation functions respectively\n",
    "\n",
    "Compile the model using Adam optimizer with learning rate 0.01 and loss as binary cross entropy.\n",
    "\n",
    "Train the model using 5 epochs and mention steps per epoch, validation steps \n",
    "\n",
    "Evaluate the model using validation data and print accuracy\n"
   ]
  },
  {
   "cell_type": "markdown",
   "metadata": {},
   "source": [
    "**Level**: Hard\n"
   ]
  },
  {
   "cell_type": "markdown",
   "metadata": {},
   "source": [
    "**Input format**: Dataset\n"
   ]
  },
  {
   "cell_type": "markdown",
   "metadata": {},
   "source": [
    "**Output format**: Accuracy\n"
   ]
  },
  {
   "cell_type": "markdown",
   "metadata": {},
   "source": [
    "**Sample Input**: Cats vs Dogs dataset\n"
   ]
  },
  {
   "cell_type": "markdown",
   "metadata": {},
   "source": [
    "**Sample Output**: 0.907999\n"
   ]
  },
  {
   "cell_type": "markdown",
   "metadata": {},
   "source": [
    "**SOLUTION**\n"
   ]
  },
  {
   "cell_type": "code",
   "execution_count": null,
   "metadata": {},
   "outputs": [],
   "source": [
    "import keras\n",
    "import tensorflow as tf\n",
    "from tensorflow.keras.models import Model, Sequential\n",
    "from tensorflow.keras import optimizers\n",
    "from tensorflow.keras.optimizers import Adam\n",
    "from tensorflow.keras.layers import Dropout, Flatten\n",
    "from tensorflow.keras.preprocessing.image import ImageDataGenerator\n",
    "from tensorflow.keras.layers import Input, Add, Dense, Activation\n",
    "from tensorflow.keras.layers import Conv2D,MaxPooling2D,GlobalAveragePooling2D\n",
    "from tensorflow.keras.applications import VGG16\n",
    "\n",
    "train_path = \"/home/metagogy/cats vs dogs/train\"\n",
    "valid_path = \"/home/metagogy/cats vs dogs/validation\"\n",
    "\n",
    "image_size = 150\n",
    "batch_size = 32\n",
    "\n",
    "train_data_gen = ImageDataGenerator(rescale=1./255,\n",
    "                                    rotation_range=40,\n",
    "                                    width_shift_range=0.15,\n",
    "                                    height_shift_range=0.15,\n",
    "                                    shear_range=0.15,\n",
    "                                    zoom_range=0.15\n",
    "                                    ,horizontal_flip=True,\n",
    "                                    fill_mode='nearest')\n",
    "valid_data_gen = ImageDataGenerator(rescale=1./255)\n",
    "\n",
    "train_generator = train_data_gen.flow_from_directory(train_path, target_size=(image_size,image_size), batch_size=batch_size, class_mode='binary')\n",
    "valid_generator = valid_data_gen.flow_from_directory(valid_path, target_size=(image_size,image_size), batch_size=batch_size,class_mode='binary')\n",
    "\n",
    "# number of classes \n",
    "num_classes = 1\n",
    "\n",
    "def get_model():\n",
    "    base_model = VGG16(weights='imagenet', include_top=False)\n",
    "    for layer in base_model.layers:\n",
    "        layer.trainable = False \n",
    "    base_model_ouput = base_model.output\n",
    "    x = GlobalAveragePooling2D()(base_model_ouput)\n",
    "    x = Dense(512, activation='relu')(x)\n",
    "    x = Dense(num_classes, activation='sigmoid', name='fcnew')(x)\n",
    "    model = Model(inputs=base_model.input, outputs=x)\n",
    "    return model\n",
    "\n",
    "# Get the model\n",
    "model = get_model()\n",
    "\n",
    "optimizer = Adam(lr=0.01)\n",
    "model.compile(loss='binary_crossentropy',optimizer=optimizer,metrics=['accuracy'])\n",
    "\n",
    "results = model.fit_generator(train_generator,\n",
    "                              steps_per_epoch = train_generator.n//batch_size,\n",
    "                              epochs=5,\n",
    "                              validation_steps=valid_generator.n//batch_size,\n",
    "                              validation_data=valid_generator)\n",
    "\n",
    "results = model.evaluate_generator(valid_generator)\n",
    "\n",
    "print(results[1])\n",
    "\n"
   ]
  }
 ],
 "metadata": {
  "kernelspec": {
   "display_name": "Python 3",
   "language": "python",
   "name": "python3"
  },
  "language_info": {
   "codemirror_mode": {
    "name": "ipython",
    "version": 3
   },
   "file_extension": ".py",
   "mimetype": "text/x-python",
   "name": "python",
   "nbconvert_exporter": "python",
   "pygments_lexer": "ipython3",
   "version": "3.7.3"
  }
 },
 "nbformat": 4,
 "nbformat_minor": 2
}

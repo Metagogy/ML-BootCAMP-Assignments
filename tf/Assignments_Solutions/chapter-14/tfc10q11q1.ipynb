{
 "cells": [
  {
   "cell_type": "markdown",
   "id": "interim-example",
   "metadata": {},
   "source": [
    "### Question: \n",
    "Visualize elu  backpropagation function with python and generate input dataset as 20 points between -5 and 5"
   ]
  },
  {
   "cell_type": "markdown",
   "id": "elder-style",
   "metadata": {},
   "source": [
    "### Level: \n",
    "Medium"
   ]
  },
  {
   "cell_type": "markdown",
   "id": "prepared-hearing",
   "metadata": {},
   "source": [
    "### Explanation:\n",
    "Library: [ numpy / matplotlib ]\n",
    "\n",
    "Category: Tensorflow"
   ]
  },
  {
   "cell_type": "markdown",
   "id": "nearby-montana",
   "metadata": {},
   "source": [
    "### Input format : \n",
    "Create list of array values in between -5 and 5 with range of 20 values\n",
    "### Output format : \n",
    "print the output result"
   ]
  },
  {
   "cell_type": "markdown",
   "id": "parallel-thumbnail",
   "metadata": {},
   "source": [
    "### Sample input : \n",
    "define elu function\n",
    "### Sample Output : \n",
    "print the ouput value"
   ]
  },
  {
   "cell_type": "markdown",
   "id": "owned-locator",
   "metadata": {},
   "source": [
    "### Hints\n",
    "Hint - 01 : Use numpy and matplotlib library\n",
    "\n",
    "Hint - 02 : Use np.linspace(-5, 5 , 20 )\n",
    "\n",
    "Hint - 03 alpha = int(input())\n",
    "\n",
    "Hint - 04 : Use alpha*(np.exp(X))\n"
   ]
  },
  {
   "cell_type": "code",
   "execution_count": 3,
   "id": "shared-metallic",
   "metadata": {},
   "outputs": [
    {
     "name": "stdout",
     "output_type": "stream",
     "text": [
      "0.1\n",
      "[ 0.    0.    0.    0.    0.01  0.01  0.02  0.03  0.05  0.08  0.13  0.22\n",
      "  0.37  0.63  1.07  1.81  3.06  5.18  8.77 14.84]\n"
     ]
    }
   ],
   "source": [
    "#np.random.seed(0) \n",
    "import numpy as np\n",
    "alpha =float(input())\n",
    "a=np.linspace(-5,5,20)\n",
    "\n",
    "def elu(X):\n",
    "    val =alpha*(np.exp(X))\n",
    "    return val\n",
    "\n",
    "output = elu(a)\n",
    "np.set_printoptions(precision=2,suppress=True)\n",
    "print(output)\n"
   ]
  }
 ],
 "metadata": {
  "kernelspec": {
   "display_name": "Python 3",
   "language": "python",
   "name": "python3"
  },
  "language_info": {
   "codemirror_mode": {
    "name": "ipython",
    "version": 3
   },
   "file_extension": ".py",
   "mimetype": "text/x-python",
   "name": "python",
   "nbconvert_exporter": "python",
   "pygments_lexer": "ipython3",
   "version": "3.8.5"
  }
 },
 "nbformat": 4,
 "nbformat_minor": 5
}

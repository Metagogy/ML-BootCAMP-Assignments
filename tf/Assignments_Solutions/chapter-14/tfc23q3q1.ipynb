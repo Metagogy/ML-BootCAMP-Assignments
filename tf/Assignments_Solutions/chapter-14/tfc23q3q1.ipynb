{
 "cells": [
  {
   "cell_type": "markdown",
   "metadata": {},
   "source": [
    "**Question**: Build a many-to-many LSTM model to output the sequence by using the Time Distributed layer \n"
   ]
  },
  {
   "cell_type": "markdown",
   "metadata": {},
   "source": [
    "\n",
    "**Description**:\n",
    "\n",
    "The sequence [0.2,0.4,0.6,0.8,1.0,1.2,1.4,1.6,1.8,2.0] will be given as input all at once and must be in turn returned as output at once.\n",
    "\n",
    "Build the 2 layer LSTM model with 10 neurons in the first layer and 1 neuron in the second layer as output\n",
    "\n",
    "Compile the model using mean squared error as loss and adam as an optimizer\n",
    "\n",
    "Train the model using 900 epochs and 1 as batch size \n",
    "\n",
    "Finally, evaluate the model \n",
    "\n"
   ]
  },
  {
   "cell_type": "markdown",
   "metadata": {},
   "source": [
    "**Level**: Easy"
   ]
  },
  {
   "cell_type": "markdown",
   "metadata": {},
   "source": [
    "**Input Format**:\n",
    "array\n"
   ]
  },
  {
   "cell_type": "markdown",
   "metadata": {},
   "source": [
    "**Output Format**:\n",
    "array"
   ]
  },
  {
   "cell_type": "markdown",
   "metadata": {},
   "source": [
    "\n",
    "**Sample Input**:\n",
    "[0.2,0.4,0.6,0.8,1.0,1.2,1.4,1.6,1.8,2.0]\n"
   ]
  },
  {
   "cell_type": "markdown",
   "metadata": {},
   "source": [
    "**Sample Output**:\n",
    "0.2\n",
    "0.4\n",
    "0.6\n",
    "0.8\n",
    "1.0\n",
    "1.2\n",
    "1.4\n",
    "1.6\n",
    "1.8\n",
    "2.0\n"
   ]
  },
  {
   "cell_type": "markdown",
   "metadata": {},
   "source": [
    "\n",
    "**Solution**:\n"
   ]
  },
  {
   "cell_type": "code",
   "execution_count": null,
   "metadata": {},
   "outputs": [],
   "source": [
    "\n",
    "from tensorflow import keras\n",
    "from tensorflow.keras.models import Sequential \n",
    "from tensorflow.keras.layers import Dense, LSTM, TimeDistributed\n",
    "from tensorflow.keras.optimizers import Adam\n",
    "import numpy as np\n",
    "\n",
    "sequence = np.array([0.2,0.4,0.6,0.8,1.0,1.2,1.4,1.6,1.8,2.0])\n",
    "X = sequence.reshape(1,10,1)\n",
    "y = sequence.reshape(1,10,1)\n",
    "\n",
    "model = keras.models.Sequential()\n",
    "model.add(keras.layers.LSTM(10,input_shape=(10,1),return_sequences = True))\n",
    "model.add(keras.layers.TimeDistributed(keras.layers.Dense((1))))\n",
    "model.compile(loss=\"mean_squared_error\",optimizer = \"adam\",metrics = \"accuracy\")\n",
    "\n",
    "model.fit(X,y,epochs=900,batch_size=1,verbose=2)\n",
    "\n",
    "output = model.predict(X,batch_size=1,verbose=2)\n",
    "for i in output[0,:,0]:\n",
    "\tprint('%.1f' % i)"
   ]
  }
 ],
 "metadata": {
  "kernelspec": {
   "display_name": "Python 3",
   "language": "python",
   "name": "python3"
  },
  "language_info": {
   "codemirror_mode": {
    "name": "ipython",
    "version": 3
   },
   "file_extension": ".py",
   "mimetype": "text/x-python",
   "name": "python",
   "nbconvert_exporter": "python",
   "pygments_lexer": "ipython3",
   "version": "3.7.6"
  }
 },
 "nbformat": 4,
 "nbformat_minor": 4
}

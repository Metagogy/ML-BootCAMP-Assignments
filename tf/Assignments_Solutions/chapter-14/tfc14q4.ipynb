{
 "cells": [
  {
   "cell_type": "markdown",
   "metadata": {},
   "source": [
    "**Question** : Construct a sequential model to demonstrate the Global Max Pooling Layer."
   ]
  },
  {
   "cell_type": "markdown",
   "metadata": {},
   "source": [
    "\n",
    "**Description** :\n",
    "    \n",
    "* Define a single input sample that has one channel and is an (MxM) square with all 0 values and a two-pixel wide horizontal line in the center.\n",
    "\n",
    "* Define a sequential model with the shape (M, M, 1) and a single hidden convolutional layer with a single filter with the shape of (3x3) pixels having ‘relu’ activation\n",
    "\n",
    "* Define GlobalMaxPooling2D layer\n",
    "\n",
    "* Define our own 3×3 filter that will detect horizontal lines. \n",
    "\n",
    "* Apply the filter to our input sample by using the predict() function on the model.\n",
    "\n",
    "* Print the result i.e., four-dimensional output with one batch, number of rows and columns, and one filter"
   ]
  },
  {
   "cell_type": "markdown",
   "metadata": {},
   "source": [
    "**Level** : Medium"
   ]
  },
  {
   "cell_type": "markdown",
   "metadata": {},
   "source": [
    "**Input format** :\n",
    "\n",
    "First-line integer number which represents the dimension of the sqquare matrix (M)\n",
    "\n",
    "Next M lines Space-separated values later we convert this values into list."
   ]
  },
  {
   "cell_type": "markdown",
   "metadata": {},
   "source": [
    "**Output format** : \n",
    "\n",
    "Array"
   ]
  },
  {
   "cell_type": "markdown",
   "metadata": {},
   "source": [
    "**Sample input** :"
   ]
  },
  {
   "cell_type": "raw",
   "metadata": {},
   "source": [
    "8\n",
    "0 0 0 0 0 0 0 0\n",
    "0 0 0 0 0 0 0 0\n",
    "0 0 0 0 0 0 0 0\n",
    "1 1 1 1 1 1 1 1\n",
    "1 1 1 1 1 1 1 1\n",
    "0 0 0 0 0 0 0 0\n",
    "0 0 0 0 0 0 0 0\n",
    "0 0 0 0 0 0 0 0"
   ]
  },
  {
   "cell_type": "markdown",
   "metadata": {},
   "source": [
    "**Sample output** : \n",
    "    \n",
    "[[3.]]"
   ]
  },
  {
   "cell_type": "markdown",
   "metadata": {},
   "source": [
    "**Solution** :"
   ]
  },
  {
   "cell_type": "code",
   "execution_count": 1,
   "metadata": {},
   "outputs": [],
   "source": [
    "# Import required libraries.\n",
    "\n",
    "from tensorflow import keras\n",
    "from numpy import asarray\n",
    "from tensorflow.keras.models import Sequential\n",
    "from tensorflow.keras.layers import Conv2D,GlobalMaxPooling2D"
   ]
  },
  {
   "cell_type": "code",
   "execution_count": 2,
   "metadata": {},
   "outputs": [
    {
     "name": "stdout",
     "output_type": "stream",
     "text": [
      "6\n"
     ]
    }
   ],
   "source": [
    "# Read M value.\n",
    "\n",
    "M=int(input())"
   ]
  },
  {
   "cell_type": "code",
   "execution_count": 3,
   "metadata": {},
   "outputs": [
    {
     "name": "stdout",
     "output_type": "stream",
     "text": [
      "0 0 0 0 0 0\n",
      "0 0 0 0 0 0\n",
      "1 1 1 1 1 1\n",
      "1 1 1 1 1 1\n",
      "0 0 0 0 0 0\n",
      "0 0 0 0 0 0\n"
     ]
    }
   ],
   "source": [
    "# Create a (MxM) list with given input.\n",
    "\n",
    "input_data=[]\n",
    "for i in range(M):\n",
    "    lst=list(map(float,input().split()))\n",
    "    input_data.append(lst)\n",
    "  "
   ]
  },
  {
   "cell_type": "code",
   "execution_count": 4,
   "metadata": {},
   "outputs": [],
   "source": [
    "# Convert MxM list into an array.\n",
    "\n",
    "input_data = asarray(input_data)"
   ]
  },
  {
   "cell_type": "code",
   "execution_count": 5,
   "metadata": {},
   "outputs": [],
   "source": [
    "# Reshape the array \n",
    "\n",
    "input_data = input_data.reshape(1, M, M, 1)"
   ]
  },
  {
   "cell_type": "code",
   "execution_count": 6,
   "metadata": {},
   "outputs": [],
   "source": [
    "# Build a model\n",
    "\n",
    "model = Sequential()\n",
    "model.add(keras.layers.Conv2D(1, (3,3), activation='relu', input_shape=(M, M, 1)))\n",
    "model.add(GlobalMaxPooling2D())"
   ]
  },
  {
   "cell_type": "code",
   "execution_count": 7,
   "metadata": {},
   "outputs": [],
   "source": [
    "# Define a filter\n",
    "\n",
    "filterr = [[[[0]],[[0]],[[0]]],\n",
    "            [[[1]],[[1]],[[1]]],\n",
    "            [[[0]],[[0]],[[0]]]]"
   ]
  },
  {
   "cell_type": "code",
   "execution_count": 8,
   "metadata": {},
   "outputs": [],
   "source": [
    "# Create weights.\n",
    "\n",
    "weights = [asarray(filterr),asarray([0.0])]"
   ]
  },
  {
   "cell_type": "code",
   "execution_count": 9,
   "metadata": {},
   "outputs": [],
   "source": [
    "# Set wieghts to the model.\n",
    "\n",
    "model.set_weights(weights)"
   ]
  },
  {
   "cell_type": "code",
   "execution_count": 10,
   "metadata": {},
   "outputs": [],
   "source": [
    "# Predict for input data.\n",
    "\n",
    "x = model.predict(input_data)"
   ]
  },
  {
   "cell_type": "code",
   "execution_count": 11,
   "metadata": {},
   "outputs": [
    {
     "name": "stdout",
     "output_type": "stream",
     "text": [
      "[[3.]]\n"
     ]
    }
   ],
   "source": [
    "# Print the predicted output.\n",
    "\n",
    "print(x)"
   ]
  },
  {
   "cell_type": "code",
   "execution_count": null,
   "metadata": {},
   "outputs": [],
   "source": []
  }
 ],
 "metadata": {
  "kernelspec": {
   "display_name": "Python 3",
   "language": "python",
   "name": "python3"
  },
  "language_info": {
   "codemirror_mode": {
    "name": "ipython",
    "version": 3
   },
   "file_extension": ".py",
   "mimetype": "text/x-python",
   "name": "python",
   "nbconvert_exporter": "python",
   "pygments_lexer": "ipython3",
   "version": "3.8.3"
  }
 },
 "nbformat": 4,
 "nbformat_minor": 4
}

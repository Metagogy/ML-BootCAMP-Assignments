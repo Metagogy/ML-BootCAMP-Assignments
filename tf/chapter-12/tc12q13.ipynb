{
 "cells": [
  {
   "cell_type": "markdown",
   "metadata": {},
   "source": [
    "**Question :** Load, Split a  gre dataset. Build, Compile,Train and Evaluate a model using ‘SGD’ as optimizer and loss as ‘binary crossentropy’and print the accuracy.\n"
   ]
  },
  {
   "cell_type": "markdown",
   "metadata": {},
   "source": [
    "**Level** :Hard"
   ]
  },
  {
   "cell_type": "markdown",
   "metadata": {},
   "source": [
    "**Description:**\n",
    "* Load the gre dataset , drop admitted column and make seperate as target and split them into training and testing as 80:20 ratio\n",
    "* Build a sequential model using the first layer as Dense with  neurons and input shape and activation function as relu.\n",
    "* Add next layer as a Dense layer with 512 neurons and activation function as relu\n",
    "* Add next layer as a Dense layer with 512 neurons and activation function as relu\n",
    "* Add next layer as a Dense layer with 512 neurons and activation function as relu\n",
    "* Add the next layer as the Dense layer with 1 neuron and activation function as sigmoid.\n",
    "* Compile the model using SGD as optimizer and loss as binary crossentropy and metrics as accuracy.\n",
    "* Train the model using epochs=100 and evaluate the model using x_test and y_test.\n",
    "* Print the accuray."
   ]
  },
  {
   "cell_type": "markdown",
   "metadata": {},
   "source": [
    "**SOLUTION**"
   ]
  },
  {
   "cell_type": "code",
   "execution_count": null,
   "metadata": {},
   "outputs": [],
   "source": [
    "#Start your code here"
   ]
  },
  {
   "cell_type": "code",
   "execution_count": 1,
   "metadata": {},
   "outputs": [],
   "source": [
    "#import required libraries\n",
    "import pandas as pd\n",
    "import tensorflow as tf\n",
    "from sklearn.model_selection import train_test_split"
   ]
  },
  {
   "cell_type": "code",
   "execution_count": 2,
   "metadata": {},
   "outputs": [],
   "source": [
    "#read the dataset and split in to inputs and outputs\n",
    "df= # Complete Your code here\n",
    "x= # Complete Your code here\n",
    "y= # Complete Your code here"
   ]
  },
  {
   "cell_type": "code",
   "execution_count": 3,
   "metadata": {},
   "outputs": [],
   "source": [
    "# split the data in to training and testing\n",
    "x_train, x_test, y_train, y_test = train_test_split(# Complete Your code here)"
   ]
  },
  {
   "cell_type": "code",
   "execution_count": 4,
   "metadata": {},
   "outputs": [],
   "source": [
    "#Build the model\n",
    "model = tf.keras.Sequential()\n",
    "model.add(tf.keras.layers.Dense(256,input_shape =(3,), activation='relu'))\n",
    "model.add(tf.keras.layers.Dense(# Complete Your code here)\n",
    "model.add(tf.keras.layers.Dense(# Complete Your code here)\n",
    "model.add(tf.keras.layers.Dense(# Complete Your code here)\n",
    "model.add(tf.keras.layers.Dense(# Complete Your code here)"
   ]
  },
  {
   "cell_type": "code",
   "execution_count": 5,
   "metadata": {},
   "outputs": [],
   "source": [
    "#complie the model\n",
    "model.compile(# Complete Your code here)"
   ]
  },
  {
   "cell_type": "code",
   "execution_count": null,
   "metadata": {},
   "outputs": [],
   "source": [
    "# train the model\n",
    "model.fit(# Complete Your code here)"
   ]
  },
  {
   "cell_type": "code",
   "execution_count": null,
   "metadata": {},
   "outputs": [],
   "source": [
    "#evaluate the model\n",
    "history = model.evaluate(# Complete Your code here)"
   ]
  },
  {
   "cell_type": "code",
   "execution_count": 1,
   "metadata": {},
   "outputs": [],
   "source": [
    "# print the accuracy\n",
    "                # Complete Your code here"
   ]
  },
  {
   "cell_type": "code",
   "execution_count": null,
   "metadata": {},
   "outputs": [],
   "source": []
  }
 ],
 "metadata": {
  "kernelspec": {
   "display_name": "Python 3",
   "language": "python",
   "name": "python3"
  },
  "language_info": {
   "codemirror_mode": {
    "name": "ipython",
    "version": 3
   },
   "file_extension": ".py",
   "mimetype": "text/x-python",
   "name": "python",
   "nbconvert_exporter": "python",
   "pygments_lexer": "ipython3",
   "version": "3.8.5"
  }
 },
 "nbformat": 4,
 "nbformat_minor": 2
}

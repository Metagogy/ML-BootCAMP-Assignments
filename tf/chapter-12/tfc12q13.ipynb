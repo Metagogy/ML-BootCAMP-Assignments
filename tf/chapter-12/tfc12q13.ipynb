{
 "cells": [
  {
   "cell_type": "markdown",
   "metadata": {},
   "source": [
    "**Question :** Load, Split a  gre dataset. Build, Compile,Train and Evaluate a model using ‘SGD’ as optimizer and loss as ‘binary crossentropy’and print the accuracy.\n"
   ]
  },
  {
   "cell_type": "markdown",
   "metadata": {},
   "source": [
    "**Level :03**"
   ]
  },
  {
   "cell_type": "markdown",
   "metadata": {},
   "source": [
    "**Description:**\n",
    "* Load the gre dataset and split them into training and testing variables.\n",
    "* Build a sequential model using the first layer as Dense with  neurons and input shape and activation function as relu.\n",
    "* Add next layer as a Dense layer with 512 neurons and activation function as relu\n",
    "* Add next layer as a Dense layer with 512 neurons and activation function as relu\n",
    "* Add next layer as a Dense layer with 512 neurons and activation function as relu\n",
    "* Add the next layer as the Dense layer with 1 neuron and activation function as sigmoid.\n",
    "* Compile the model using SGD as optimizer and loss as binary crossentropy and metrics as accuracy.\n",
    "* Train the model using epochs=100 and evaluate the model using x_test and y_test.\n",
    "* Print the accuray."
   ]
  },
  {
   "cell_type": "code",
   "execution_count": null,
   "metadata": {},
   "outputs": [],
   "source": [
    "#Start your code here"
   ]
  },
  {
   "cell_type": "code",
   "execution_count": null,
   "metadata": {},
   "outputs": [],
   "source": [
    "#import required libraries\n",
    "#Complete your code here."
   ]
  },
  {
   "cell_type": "code",
   "execution_count": null,
   "metadata": {},
   "outputs": [],
   "source": [
    "#read the dataset and split in to inputs and outputs\n",
    "df=#Complete your code here.\n",
    "x=#Complete your code here.\n",
    "y=#Complete your code here."
   ]
  },
  {
   "cell_type": "code",
   "execution_count": null,
   "metadata": {},
   "outputs": [],
   "source": [
    "# split the data in to training and testing\n",
    "x_train, x_test, y_train, y_test = #Complete your code here."
   ]
  },
  {
   "cell_type": "code",
   "execution_count": null,
   "metadata": {},
   "outputs": [],
   "source": [
    "#Build the model\n",
    "model = #Complete your code here.\n",
    "model.add(#Complete your code here.)\n",
    "model.add(#Complete your code here.)\n",
    "model.add(#Complete your code here.)\n",
    "model.add(#Complete your code here.)\n",
    "model.add(#Complete your code here.)"
   ]
  },
  {
   "cell_type": "code",
   "execution_count": null,
   "metadata": {},
   "outputs": [],
   "source": [
    "#complie the model\n",
    "model.compile(#Complete your code here.);"
   ]
  },
  {
   "cell_type": "code",
   "execution_count": null,
   "metadata": {},
   "outputs": [],
   "source": [
    "# train the model\n",
    "model.fit(#Complete your code here.);"
   ]
  },
  {
   "cell_type": "code",
   "execution_count": null,
   "metadata": {},
   "outputs": [],
   "source": [
    "#evaluate the model\n",
    "history = model.evaluate(#Complete your code here.);"
   ]
  },
  {
   "cell_type": "code",
   "execution_count": null,
   "metadata": {},
   "outputs": [],
   "source": [
    "# print the accuracy\n",
    "print(history[1])"
   ]
  },
  {
   "cell_type": "code",
   "execution_count": null,
   "metadata": {},
   "outputs": [],
   "source": []
  }
 ],
 "metadata": {
  "kernelspec": {
   "display_name": "Python 3",
   "language": "python",
   "name": "python3"
  },
  "language_info": {
   "codemirror_mode": {
    "name": "ipython",
    "version": 3
   },
   "file_extension": ".py",
   "mimetype": "text/x-python",
   "name": "python",
   "nbconvert_exporter": "python",
   "pygments_lexer": "ipython3",
   "version": "3.7.3"
  }
 },
 "nbformat": 4,
 "nbformat_minor": 2
}

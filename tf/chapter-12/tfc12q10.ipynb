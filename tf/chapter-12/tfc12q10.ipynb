{
 "cells": [
  {
   "cell_type": "markdown",
   "metadata": {},
   "source": [
    "**Question:** Given equation (3 * X  +  2 * Y +5 * Z)* *2  find the global optima using tensorflow and SGD with Learning rate=0.1.\n"
   ]
  },
  {
   "cell_type": "markdown",
   "metadata": {},
   "source": [
    "**Level :02**"
   ]
  },
  {
   "cell_type": "markdown",
   "metadata": {},
   "source": [
    "**Input format :** \n",
    " * Float\n",
    " * Float\n",
    " * Float\n",
    "\n",
    "**Output format :** \n",
    " * Float\n",
    " * Float\n",
    " * Float\n",
    " "
   ]
  },
  {
   "cell_type": "markdown",
   "metadata": {},
   "source": [
    "**Sample input :**\n",
    " \n",
    " 2<br/>\n",
    " 3.5"
   ]
  },
  {
   "cell_type": "markdown",
   "metadata": {},
   "source": [
    "**Sample Output :**\n",
    " \n",
    " -9.150001<br/>\n",
    " -5.6000004<br/>\n",
    " -19.0\n"
   ]
  },
  {
   "cell_type": "code",
   "execution_count": null,
   "metadata": {},
   "outputs": [],
   "source": [
    "#Import Library\n",
    "#Complete your code here."
   ]
  },
  {
   "cell_type": "code",
   "execution_count": null,
   "metadata": {},
   "outputs": [],
   "source": [
    "#Take input tensor variables\n",
    "X=#Complete your code here.\n",
    "Y=#Complete your code here.\n",
    "Z=#Complete your code here."
   ]
  },
  {
   "cell_type": "code",
   "execution_count": null,
   "metadata": {},
   "outputs": [],
   "source": [
    "#Create a optimizer, loss for the equation and minimize the loss to a step_count variable\n",
    "opt = #Complete your code here.\n",
    "loss = #Complete your code here.\n",
    "step_count = #Complete your code here."
   ]
  },
  {
   "cell_type": "code",
   "execution_count": null,
   "metadata": {},
   "outputs": [],
   "source": [
    "#print the result\n",
    "print(X.numpy())\n",
    "print(Y.numpy())\n",
    "print(Z.numpy())"
   ]
  }
 ],
 "metadata": {
  "kernelspec": {
   "display_name": "Python 3",
   "language": "python",
   "name": "python3"
  },
  "language_info": {
   "codemirror_mode": {
    "name": "ipython",
    "version": 3
   },
   "file_extension": ".py",
   "mimetype": "text/x-python",
   "name": "python",
   "nbconvert_exporter": "python",
   "pygments_lexer": "ipython3",
   "version": "3.7.3"
  }
 },
 "nbformat": 4,
 "nbformat_minor": 2
}

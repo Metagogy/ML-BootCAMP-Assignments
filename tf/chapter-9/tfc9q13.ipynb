{
 "cells": [
  {
   "cell_type": "markdown",
   "metadata": {},
   "source": [
    "### Question: \n",
    "Build, compile, train and evaluate multilayer perceptron model by making your own dataset of Regression type using sklearn.datasets.make_regression and use sgd as optimizer and loss as amse."
   ]
  },
  {
   "cell_type": "markdown",
   "metadata": {},
   "source": [
    "### Description : \n",
    "    \n",
    "Develop a Multilayer Perceptron model for dataset.\n",
    "\n",
    "generate 2d classification dataset with\n",
    "\n",
    "sklearn.datasets.make_regression(n_samples=120, n_features=10, *, n_informative=10, n_targets=1, bias=0.0, effective_rank=None, tail_strength=0.5, noise=0.0, shuffle=True, coef=False, random_state=None)\n",
    "\n",
    "Split the model by using training and testing\n",
    "\n",
    "Build the model by using the Sequential model and adding the first activation as relu layer having 5 neurons and the second \n",
    "\n",
    "activation function as a relu or linear layer having 1 neuron\n",
    "\n",
    "Compile the model by using SGD optimizer and loss has amse\n",
    "\n",
    "Fit or train the model by using with training, validation data, 500 Epochs, and 0 verbose\n",
    "\n",
    "get result of  model with train and test values"
   ]
  },
  {
   "cell_type": "markdown",
   "metadata": {},
   "source": [
    "### Explanation :\n",
    "A dense layer is just a regular layer of neurons in a neural network. Each neuron receives input from all the neurons in the previous layer, thus densely connected. The layer has a weight matrix W, a bias vector b, and the activations of the previous layer a.\n",
    "\n",
    "Compile defines the loss function, the optimizer, and the metrics.\n",
    "\n",
    "model.fit() used to train our built model.\n",
    "\n",
    "evaluate() is for evaluating your trained model. Its output is accuracy or loss, not a prediction of your input data.\n",
    "\n",
    "print the acuuracy of test and train of the model\n"
   ]
  },
  {
   "cell_type": "markdown",
   "metadata": {},
   "source": [
    "### Library : \n",
    "    [tensorflow/keras/layers/models/optimizers/initializers/matplotlib/sklearn]\n",
    "### Category: \n",
    "    Machine Learning"
   ]
  },
  {
   "cell_type": "markdown",
   "metadata": {},
   "source": [
    "### Input format : \n",
    "Dataset"
   ]
  },
  {
   "cell_type": "markdown",
   "metadata": {},
   "source": [
    "### Output format :\n",
    "Model accuracy and visualization"
   ]
  },
  {
   "cell_type": "markdown",
   "metadata": {},
   "source": [
    "### Sample Input :\n",
    "Load given data"
   ]
  },
  {
   "cell_type": "markdown",
   "metadata": {},
   "source": [
    "### Sample Output :\n",
    "Train: 51.913, Test: 46.343"
   ]
  },
  {
   "cell_type": "code",
   "execution_count": null,
   "metadata": {},
   "outputs": [],
   "source": [
    "# write your code here"
   ]
  }
 ],
 "metadata": {
  "kernelspec": {
   "display_name": "Python 3",
   "language": "python",
   "name": "python3"
  },
  "language_info": {
   "codemirror_mode": {
    "name": "ipython",
    "version": 3
   },
   "file_extension": ".py",
   "mimetype": "text/x-python",
   "name": "python",
   "nbconvert_exporter": "python",
   "pygments_lexer": "ipython3",
   "version": "3.7.4"
  }
 },
 "nbformat": 4,
 "nbformat_minor": 5
}

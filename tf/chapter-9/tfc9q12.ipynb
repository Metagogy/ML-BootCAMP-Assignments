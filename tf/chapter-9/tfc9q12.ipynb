{
 "cells": [
  {
   "cell_type": "markdown",
   "id": "random-absorption",
   "metadata": {},
   "source": [
    "### Question: \n",
    "Build, compile, train and evaluate multilayer perceptron model by making your own dataset of classification using from sklearn.datasets import make_gaussian_quantiles and use SGD as optimizer and loss as binary cross entropy."
   ]
  },
  {
   "cell_type": "markdown",
   "id": "worthy-badge",
   "metadata": {},
   "source": [
    "### Description : \n",
    "    \n",
    "Develop a Multilayer Perceptron model for dataset.\n",
    "\n",
    "generate 2d classification dataset with\n",
    "\n",
    "\n",
    "from sklearn.datasets import make_gaussian_quantiles\n",
    "\n",
    "X1, y1 = make_gaussian_quantiles(cov=3.,\n",
    "                                 n_samples=10000, n_features=2,\n",
    "                                 n_classes=3, random_state=1)\n",
    "\n",
    "Split the model by using training and testing\n",
    "\n",
    "Build the model by using the Sequential model and adding the first activation as relu layer having 5 neurons and the second \n",
    "\n",
    "activation function as a sigmoid layer having 1 neuron\n",
    "\n",
    "Compile the model by using SGD optimizer and loss has binary_cross entropy\n",
    "\n",
    "Fit or train the model by using with training, validation data, 500 Epochs, and 0 verbose\n",
    "\n",
    "get result of  model with train and test values"
   ]
  },
  {
   "cell_type": "markdown",
   "id": "protective-relation",
   "metadata": {},
   "source": [
    "### Explanation :\n",
    "A dense layer is just a regular layer of neurons in a neural network. Each neuron receives input from all the neurons in the previous layer, thus densely connected. The layer has a weight matrix W, a bias vector b, and the activations of the previous layer a.\n",
    "\n",
    "Compile defines the loss function, the optimizer, and the metrics.\n",
    "\n",
    "model.fit() used to train our built model.\n",
    "\n",
    "evaluate() is for evaluating your trained model. Its output is accuracy or loss, not a prediction of your input data.\n",
    "\n",
    "print the acuuracy of test and train of the model\n"
   ]
  },
  {
   "cell_type": "markdown",
   "id": "stuffed-composite",
   "metadata": {},
   "source": [
    "### Library : \n",
    "    [tensorflow/keras/layers/models/optimizers/initializers/matplotlib/sklearn]\n",
    "### Category: \n",
    "    Machine Learning"
   ]
  },
  {
   "cell_type": "markdown",
   "id": "plastic-wilson",
   "metadata": {},
   "source": [
    "### Input format : \n",
    "Dataset"
   ]
  },
  {
   "cell_type": "markdown",
   "id": "recorded-fundamentals",
   "metadata": {},
   "source": [
    "### Output format :\n",
    "Model accuracy and visualization"
   ]
  },
  {
   "cell_type": "markdown",
   "id": "taken-homeless",
   "metadata": {},
   "source": [
    "### Sample Input :\n",
    "Load given data"
   ]
  },
  {
   "cell_type": "markdown",
   "id": "antique-warrant",
   "metadata": {},
   "source": [
    "### Sample Output :\n",
    "Train: 0.957, Test: 0.633"
   ]
  },
  {
   "cell_type": "code",
   "execution_count": 2,
   "id": "close-commission",
   "metadata": {},
   "outputs": [],
   "source": [
    "from sklearn.datasets import make_gaussian_quantiles"
   ]
  }
 ],
 "metadata": {
  "kernelspec": {
   "display_name": "Python 3",
   "language": "python",
   "name": "python3"
  },
  "language_info": {
   "codemirror_mode": {
    "name": "ipython",
    "version": 3
   },
   "file_extension": ".py",
   "mimetype": "text/x-python",
   "name": "python",
   "nbconvert_exporter": "python",
   "pygments_lexer": "ipython3",
   "version": "3.8.5"
  }
 },
 "nbformat": 4,
 "nbformat_minor": 5
}

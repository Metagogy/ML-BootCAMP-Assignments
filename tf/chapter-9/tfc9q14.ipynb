{
 "cells": [
  {
   "cell_type": "markdown",
   "id": "assigned-watershed",
   "metadata": {},
   "source": [
    "### Description :\n",
    "\n",
    "**Question** : Take two lists of elements and find the error loss using mae formula and print the loss error"
   ]
  },
  {
   "cell_type": "markdown",
   "id": "through-paradise",
   "metadata": {},
   "source": [
    "### Level:\n",
    "Medium"
   ]
  },
  {
   "cell_type": "markdown",
   "id": "seeing-temperature",
   "metadata": {},
   "source": [
    "### Input format : \n",
    "First-line : Space-separated values        # Convert these values into list \n",
    "\n",
    "second-line : Space-separated values        # Convert these values into list "
   ]
  },
  {
   "cell_type": "markdown",
   "id": "upper-poland",
   "metadata": {},
   "source": [
    "### Sample input :\n",
    "\n",
    "0.1 0.2 0.3 0.4 0.5 <br/>\n",
    "0.11 0.19 0.29 0.41 0.5"
   ]
  },
  {
   "cell_type": "markdown",
   "id": "extreme-flush",
   "metadata": {},
   "source": [
    "### Sample output :  \n",
    "error losss mae\n",
    "\n",
    "0.007999999999999993"
   ]
  }
 ],
 "metadata": {
  "kernelspec": {
   "display_name": "Python 3",
   "language": "python",
   "name": "python3"
  },
  "language_info": {
   "codemirror_mode": {
    "name": "ipython",
    "version": 3
   },
   "file_extension": ".py",
   "mimetype": "text/x-python",
   "name": "python",
   "nbconvert_exporter": "python",
   "pygments_lexer": "ipython3",
   "version": "3.8.5"
  }
 },
 "nbformat": 4,
 "nbformat_minor": 5
}

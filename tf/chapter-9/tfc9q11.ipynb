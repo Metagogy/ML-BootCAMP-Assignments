{
 "cells": [
  {
   "cell_type": "markdown",
   "metadata": {},
   "source": [
    "**Question** : \n",
    "Build, compile, train and evaluate multilayer perceptron model by making your own dataset of classification using sklearn.datasets import make_gaussian_quantiles and use adam as optimizer and loss as binary cross entropy."
   ]
  },
  {
   "cell_type": "markdown",
   "metadata": {},
   "source": [
    "**Description** : \n",
    "    \n",
    "Develop a Multilayer Perceptron model for dataset.\n",
    "\n",
    "generate 2d classification dataset with\n",
    "\n",
    "\n",
    "\n",
    "from sklearn.datasets import make_gaussian_quantiles\n",
    "\n",
    "X1, y1 = make_gaussian_quantiles(cov=2.,\n",
    "                                 n_samples=1000, n_features=5,\n",
    "                                 n_classes=3, random_state=1)\n",
    "\n",
    "Split the model by using training and testing\n",
    "\n",
    "Build the model by using the Sequential model and adding the first activation as relu layer having 5 neurons with input_dimesions as 5  and the second \n",
    "\n",
    "activation function as a softmax layer having 1 neuron\n",
    "\n",
    "Compile the model by using SGD optimizer and loss has binary_cross entropy\n",
    "\n",
    "Fit or train the model by using with training, validation data, 500 Epochs, and 0 verbose\n",
    "\n",
    "get result of  model with train and test values"
   ]
  },
  {
   "cell_type": "markdown",
   "metadata": {},
   "source": [
    "**Input format** : \n",
    "Dataset"
   ]
  },
  {
   "cell_type": "markdown",
   "metadata": {},
   "source": [
    "**Output format** :\n",
    "Model accuracy and visualization"
   ]
  },
  {
   "cell_type": "markdown",
   "metadata": {},
   "source": [
    "**Sample Input** :\n",
    "Load given data"
   ]
  },
  {
   "cell_type": "markdown",
   "metadata": {},
   "source": [
    "**Sample Output** :\n",
    "Train: 0.814, Test: 0.816"
   ]
  },
  {
   "cell_type": "code",
   "execution_count": 4,
   "metadata": {},
   "outputs": [],
   "source": [
    "from sklearn.datasets import make_gaussian_quantiles\n",
    "import tensorflow as tf\n",
    "from tensorflow import keras\n",
    "from tensorflow.keras.layers import Input, Dense\n",
    "from tensorflow.keras.models import Sequential\n",
    "from tensorflow.keras.initializers import RandomUniform"
   ]
  },
  {
   "cell_type": "code",
   "execution_count": null,
   "metadata": {},
   "outputs": [],
   "source": [
    "# generate 2d classification dataset\n",
    "X, y = # Complete Your code here"
   ]
  },
  {
   "cell_type": "code",
   "execution_count": null,
   "metadata": {},
   "outputs": [],
   "source": [
    "# split into train and test\n",
    "n_train = 70\n",
    "trainX, testX = X[:n_train, :], X[n_train:, :]\n",
    "trainy, testy = y[:n_train], y[n_train:]"
   ]
  },
  {
   "cell_type": "code",
   "execution_count": null,
   "metadata": {},
   "outputs": [],
   "source": [
    "# define model\n",
    "model = tf.keras.Sequential()\n",
    "init = RandomUniform(minval=0, maxval=1)\n",
    "model.add(tf.keras.layers.Dense( # Complete Your code here kernel_initializer=init))\n",
    "model.add(tf.keras.layers.Dense(# Complete Your code here)"
   ]
  },
  {
   "cell_type": "code",
   "execution_count": null,
   "metadata": {},
   "outputs": [],
   "source": [
    "# compile model\n",
    "\n",
    "model.compile(# Complete Your code here)"
   ]
  },
  {
   "cell_type": "code",
   "execution_count": null,
   "metadata": {},
   "outputs": [],
   "source": [
    "# fit model\n",
    "history = model.fit(# Complete Your code here)"
   ]
  },
  {
   "cell_type": "code",
   "execution_count": null,
   "metadata": {},
   "outputs": [],
   "source": [
    "# evaluate the model\n",
    "_, train_acc = model.evaluate(# Complete Your code here)\n",
    "_, test_acc = model.evaluate(# Complete Your code here)"
   ]
  },
  {
   "cell_type": "code",
   "execution_count": null,
   "metadata": {},
   "outputs": [],
   "source": [
    "# Print Accuracy"
   ]
  }
 ],
 "metadata": {
  "kernelspec": {
   "display_name": "Python 3",
   "language": "python",
   "name": "python3"
  },
  "language_info": {
   "codemirror_mode": {
    "name": "ipython",
    "version": 3
   },
   "file_extension": ".py",
   "mimetype": "text/x-python",
   "name": "python",
   "nbconvert_exporter": "python",
   "pygments_lexer": "ipython3",
   "version": "3.8.5"
  }
 },
 "nbformat": 4,
 "nbformat_minor": 5
}

{
 "cells": [
  {
   "cell_type": "markdown",
   "id": "endangered-discipline",
   "metadata": {},
   "source": [
    "### question :\n",
    "\n",
    " Take two lists of elements and find the error loss using rmse formula and print the loss error"
   ]
  },
  {
   "cell_type": "markdown",
   "id": "dated-enclosure",
   "metadata": {},
   "source": [
    "### Level:\n",
    "Medium"
   ]
  },
  {
   "cell_type": "markdown",
   "id": "positive-donor",
   "metadata": {},
   "source": [
    "### Input format : \n",
    "First-line : Space-separated values        # Convert these values into list \n",
    "\n",
    "second-line : Space-separated values        # Convert these values into list "
   ]
  },
  {
   "cell_type": "markdown",
   "id": "hydraulic-candle",
   "metadata": {},
   "source": [
    "### Sample input :\n",
    "\n",
    "take two List of elements\n",
    "\n",
    "0.1 0.2 0.3 0.4 0.5 <br/>\n",
    "0.11 0.19 0.29 0.41 0.5"
   ]
  },
  {
   "cell_type": "markdown",
   "id": "fabulous-designation",
   "metadata": {},
   "source": [
    "### Sample output :  \n",
    "error loss of rmse\n",
    "\n",
    "0.00894427190999915"
   ]
  },
  {
   "cell_type": "code",
   "execution_count": null,
   "id": "immediate-owner",
   "metadata": {},
   "outputs": [],
   "source": []
  }
 ],
 "metadata": {
  "kernelspec": {
   "display_name": "Python 3",
   "language": "python",
   "name": "python3"
  },
  "language_info": {
   "codemirror_mode": {
    "name": "ipython",
    "version": 3
   },
   "file_extension": ".py",
   "mimetype": "text/x-python",
   "name": "python",
   "nbconvert_exporter": "python",
   "pygments_lexer": "ipython3",
   "version": "3.8.5"
  }
 },
 "nbformat": 4,
 "nbformat_minor": 5
}

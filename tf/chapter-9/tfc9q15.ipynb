{
 "cells": [
  {
   "cell_type": "markdown",
   "metadata": {},
   "source": [
    "### question :\n",
    "\n",
    " Take two lists of elements and find the error loss using rmse formula and print the loss error"
   ]
  },
  {
   "cell_type": "markdown",
   "metadata": {},
   "source": [
    "### Level:\n",
    "Medium"
   ]
  },
  {
   "cell_type": "markdown",
   "metadata": {},
   "source": [
    "### Input format : \n",
    "First-line : Space-separated values        # Convert these values into list \n",
    "\n",
    "second-line : Space-separated values        # Convert these values into list "
   ]
  },
  {
   "cell_type": "markdown",
   "metadata": {},
   "source": [
    "### Sample input :\n",
    "\n",
    "take two List of elements\n",
    "\n",
    "0.1 0.2 0.3 0.4 0.5 <br/>\n",
    "0.11 0.19 0.29 0.41 0.5"
   ]
  },
  {
   "cell_type": "markdown",
   "metadata": {},
   "source": [
    "### Sample output :  \n",
    "error loss of rmse\n",
    "\n",
    "0.00894427190999915"
   ]
  },
  {
   "cell_type": "code",
   "execution_count": null,
   "metadata": {},
   "outputs": [],
   "source": [
    "# write your code here"
   ]
  }
 ],
 "metadata": {
  "kernelspec": {
   "display_name": "Python 3",
   "language": "python",
   "name": "python3"
  },
  "language_info": {
   "codemirror_mode": {
    "name": "ipython",
    "version": 3
   },
   "file_extension": ".py",
   "mimetype": "text/x-python",
   "name": "python",
   "nbconvert_exporter": "python",
   "pygments_lexer": "ipython3",
   "version": "3.7.4"
  }
 },
 "nbformat": 4,
 "nbformat_minor": 5
}

{
 "cells": [
  {
   "cell_type": "markdown",
   "id": "whole-keeping",
   "metadata": {},
   "source": [
    "### Description :\n",
    "\n",
    "**Question** : Load the inbuilt  botson dataset which is present in sklearn or kears and split into independent and dependent sets.and print the shapes of the given datasets.\n"
   ]
  },
  {
   "cell_type": "markdown",
   "id": "monthly-making",
   "metadata": {},
   "source": [
    "### Level:\n",
    "Medium"
   ]
  },
  {
   "cell_type": "markdown",
   "id": "duplicate-strap",
   "metadata": {},
   "source": [
    "### Input Format :\n",
    "String "
   ]
  },
  {
   "cell_type": "markdown",
   "id": "registered-armenia",
   "metadata": {},
   "source": [
    "### Output Format: \n",
    "Tuples contain shape of the given dataset."
   ]
  },
  {
   "cell_type": "markdown",
   "id": "charged-drunk",
   "metadata": {},
   "source": [
    "### Sample Input : \n",
    "Labels"
   ]
  },
  {
   "cell_type": "markdown",
   "id": "directed-updating",
   "metadata": {},
   "source": [
    "### Sample Output :\n",
    "\n",
    "(506, 1) <br/>\n"
   ]
  },
  {
   "cell_type": "markdown",
   "id": "seventh-chuck",
   "metadata": {},
   "source": [
    "### Explanation : \n",
    "If the input is 'Features,' then print shape. If the input is 'Labels,' then print the shape. For any other value, don't print anything."
   ]
  },
  {
   "cell_type": "code",
   "execution_count": null,
   "id": "exposed-economics",
   "metadata": {},
   "outputs": [],
   "source": []
  }
 ],
 "metadata": {
  "kernelspec": {
   "display_name": "Python 3",
   "language": "python",
   "name": "python3"
  },
  "language_info": {
   "codemirror_mode": {
    "name": "ipython",
    "version": 3
   },
   "file_extension": ".py",
   "mimetype": "text/x-python",
   "name": "python",
   "nbconvert_exporter": "python",
   "pygments_lexer": "ipython3",
   "version": "3.8.5"
  }
 },
 "nbformat": 4,
 "nbformat_minor": 5
}

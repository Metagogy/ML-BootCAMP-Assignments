{
 "cells": [
  {
   "cell_type": "markdown",
   "id": "otherwise-glasgow",
   "metadata": {},
   "source": [
    "### Description :\n",
    "Initialize the variable list of elements with using tf.constant, use activation function softplus them and print the result\n",
    "\n",
    "Library : [tensorflow]\n",
    "\n",
    "Category : Tensorflow"
   ]
  },
  {
   "cell_type": "markdown",
   "id": "prime-edition",
   "metadata": {},
   "source": [
    "### Level: \n",
    "Easy"
   ]
  },
  {
   "cell_type": "markdown",
   "id": "genuine-communist",
   "metadata": {},
   "source": [
    "### Input format : \n",
    "First-line : Space-separated values        # Convert these values into list "
   ]
  },
  {
   "cell_type": "markdown",
   "id": "assigned-consequence",
   "metadata": {},
   "source": [
    "### Output format :  \n",
    "\n",
    "array"
   ]
  },
  {
   "cell_type": "markdown",
   "id": "greek-miracle",
   "metadata": {},
   "source": [
    "### Sample input :\n",
    "\n",
    "\n",
    "\n",
    "0 1 50 100"
   ]
  },
  {
   "cell_type": "markdown",
   "id": "ruled-variable",
   "metadata": {},
   "source": [
    "### Sample output :  \n",
    "array values\n",
    "\n",
    "array([  0.6931472,   1.3132616,  50.       , 100.       ], dtype=float32)"
   ]
  }
 ],
 "metadata": {
  "kernelspec": {
   "display_name": "Python 3",
   "language": "python",
   "name": "python3"
  },
  "language_info": {
   "codemirror_mode": {
    "name": "ipython",
    "version": 3
   },
   "file_extension": ".py",
   "mimetype": "text/x-python",
   "name": "python",
   "nbconvert_exporter": "python",
   "pygments_lexer": "ipython3",
   "version": "3.8.5"
  }
 },
 "nbformat": 4,
 "nbformat_minor": 5
}

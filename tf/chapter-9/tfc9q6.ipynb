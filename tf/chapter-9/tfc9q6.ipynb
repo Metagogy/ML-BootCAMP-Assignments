{
 "cells": [
  {
   "cell_type": "markdown",
   "id": "ordinary-password",
   "metadata": {},
   "source": [
    "### question :\n",
    "Initialize the variable list of elements with using tf.constant, sqrt them and print the result\n",
    "\n",
    "Library : [tensorflow]\n",
    "\n",
    "Category : Tensorflow"
   ]
  },
  {
   "cell_type": "markdown",
   "id": "christian-google",
   "metadata": {},
   "source": [
    "### Level: \n",
    "Easy\n",
    "\n"
   ]
  },
  {
   "cell_type": "markdown",
   "id": "covered-railway",
   "metadata": {},
   "source": [
    "### Input format : \n",
    "First-line : Space-separated values        # Convert these values into list \n",
    "\n"
   ]
  },
  {
   "cell_type": "markdown",
   "id": "adequate-indiana",
   "metadata": {},
   "source": [
    "### Output format :  \n",
    "array"
   ]
  },
  {
   "cell_type": "markdown",
   "id": "twelve-wiring",
   "metadata": {},
   "source": [
    "### sample input\n",
    "\n",
    "\n",
    "1 2 3 4"
   ]
  },
  {
   "cell_type": "markdown",
   "id": "surprised-scotland",
   "metadata": {},
   "source": [
    "### sample output:\n",
    "ndarray\n",
    "[1.        1.4142135 1.7320508]"
   ]
  }
 ],
 "metadata": {
  "kernelspec": {
   "display_name": "Python 3",
   "language": "python",
   "name": "python3"
  },
  "language_info": {
   "codemirror_mode": {
    "name": "ipython",
    "version": 3
   },
   "file_extension": ".py",
   "mimetype": "text/x-python",
   "name": "python",
   "nbconvert_exporter": "python",
   "pygments_lexer": "ipython3",
   "version": "3.8.5"
  }
 },
 "nbformat": 4,
 "nbformat_minor": 5
}

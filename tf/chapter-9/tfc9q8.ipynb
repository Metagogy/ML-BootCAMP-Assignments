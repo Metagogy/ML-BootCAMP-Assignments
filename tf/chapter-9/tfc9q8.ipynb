{
 "cells": [
  {
   "cell_type": "markdown",
   "metadata": {
    "id": "asian-thread"
   },
   "source": [
    "**Question** :  Initialize the variables of strings  list of elements with using tf.constant , join them and print the result\n",
    "\n"
   ]
  },
  {
   "cell_type": "markdown",
   "metadata": {
    "id": "fixed-collar"
   },
   "source": [
    "**Input format** : \n",
    "\n",
    "First-line : take space separated characters.        # Convert these values into list "
   ]
  },
  {
   "cell_type": "markdown",
   "metadata": {
    "id": "characteristic-philippines"
   },
   "source": [
    "**Output format** :  \n",
    "\n",
    "tensor values and datatype"
   ]
  },
  {
   "cell_type": "markdown",
   "metadata": {
    "id": "superb-skating"
   },
   "source": [
    "**Sample input** : \n",
    "\n",
    "a b c d 1 2 3 4"
   ]
  },
  {
   "cell_type": "markdown",
   "metadata": {
    "id": "fancy-increase"
   },
   "source": [
    "**Sample output** :  \n",
    "\n",
    "b'abcd1234'"
   ]
  },
  {
   "cell_type": "code",
   "execution_count": null,
   "metadata": {},
   "outputs": [],
   "source": [
    "# Start Your Code From Here."
   ]
  },
  {
   "cell_type": "code",
   "execution_count": 1,
   "metadata": {
    "id": "established-baking"
   },
   "outputs": [],
   "source": [
    "# Import Required Libraries.\n",
    "import tensorflow as tf"
   ]
  },
  {
   "cell_type": "code",
   "execution_count": null,
   "metadata": {},
   "outputs": [],
   "source": [
    "# Convert space-separated characters into list\n",
    "lst1=input().split()"
   ]
  },
  {
   "cell_type": "code",
   "execution_count": 3,
   "metadata": {},
   "outputs": [],
   "source": [
    "#convert list into tensor using tf.constant().\n",
    "x1 = # Complete Your code here"
   ]
  },
  {
   "cell_type": "code",
   "execution_count": 4,
   "metadata": {
    "colab": {
     "base_uri": "https://localhost:8080/"
    },
    "executionInfo": {
     "elapsed": 2021,
     "status": "ok",
     "timestamp": 1616049901996,
     "user": {
      "displayName": "penugonda saichand",
      "photoUrl": "https://lh3.googleusercontent.com/a-/AOh14GgOvwUOvj53Lz50l-bd6ZMLg381urPlOeyKqIHY=s64",
      "userId": "12056616321569921325"
     },
     "user_tz": -330
    },
    "id": "anticipated-editing",
    "outputId": "af6579f1-0c24-45d5-f8d3-8e0b86a49bed"
   },
   "outputs": [],
   "source": [
    "#Apply tf.strings.join() function on converted tensor.\n",
    "a=tf.strings.join(lst1,separator='')"
   ]
  },
  {
   "cell_type": "code",
   "execution_count": 1,
   "metadata": {},
   "outputs": [],
   "source": [
    "# print the output.\n"
   ]
  },
  {
   "cell_type": "code",
   "execution_count": null,
   "metadata": {},
   "outputs": [],
   "source": []
  }
 ],
 "metadata": {
  "colab": {
   "name": "question 3.ipynb",
   "provenance": []
  },
  "kernelspec": {
   "display_name": "Python 3",
   "language": "python",
   "name": "python3"
  },
  "language_info": {
   "codemirror_mode": {
    "name": "ipython",
    "version": 3
   },
   "file_extension": ".py",
   "mimetype": "text/x-python",
   "name": "python",
   "nbconvert_exporter": "python",
   "pygments_lexer": "ipython3",
   "version": "3.8.5"
  }
 },
 "nbformat": 4,
 "nbformat_minor": 5
}

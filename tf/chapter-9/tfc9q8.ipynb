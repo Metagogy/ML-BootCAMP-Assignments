{
 "cells": [
  {
   "cell_type": "markdown",
   "metadata": {
    "id": "asian-thread"
   },
   "source": [
    "### Description :\n",
    "Question:  Initialize the variables of strings  list of elements with using tf.constant , join them and print the result\n",
    "\n",
    "Library : [tensorflow]\n",
    "\n",
    "Category : Tensorflow\n"
   ]
  },
  {
   "cell_type": "markdown",
   "metadata": {
    "id": "fixed-collar"
   },
   "source": [
    "### Input format : \n",
    "First-line : take space separated values        # Convert these values into list \n",
    "\n"
   ]
  },
  {
   "cell_type": "markdown",
   "metadata": {
    "id": "characteristic-philippines"
   },
   "source": [
    "### Output format :  \n",
    "Shape, tensor values and datatype"
   ]
  },
  {
   "cell_type": "markdown",
   "metadata": {
    "id": "superb-skating"
   },
   "source": [
    "### Sample input : \n",
    "ab cd 12 34"
   ]
  },
  {
   "cell_type": "markdown",
   "metadata": {
    "id": "fancy-increase"
   },
   "source": [
    "### Sample output :  \n",
    "ndarray\n",
    "\n",
    "b'abcd1234'"
   ]
  },
  {
   "cell_type": "code",
   "execution_count": null,
   "metadata": {},
   "outputs": [],
   "source": [
    "# write your code here"
   ]
  }
 ],
 "metadata": {
  "colab": {
   "name": "question 3.ipynb",
   "provenance": []
  },
  "kernelspec": {
   "display_name": "Python 3",
   "language": "python",
   "name": "python3"
  },
  "language_info": {
   "codemirror_mode": {
    "name": "ipython",
    "version": 3
   },
   "file_extension": ".py",
   "mimetype": "text/x-python",
   "name": "python",
   "nbconvert_exporter": "python",
   "pygments_lexer": "ipython3",
   "version": "3.7.4"
  }
 },
 "nbformat": 4,
 "nbformat_minor": 5
}

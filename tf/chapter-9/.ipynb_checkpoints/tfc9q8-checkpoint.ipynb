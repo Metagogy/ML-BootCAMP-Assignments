{
 "cells": [
  {
   "cell_type": "markdown",
   "id": "asian-thread",
   "metadata": {
    "id": "asian-thread"
   },
   "source": [
    "### Description :\n",
    "Question:  Initialize the variables of strings  list of elements with using tf.constant , join them and print the result\n",
    "\n",
    "Library : [tensorflow]\n",
    "\n",
    "Category : Tensorflow\n"
   ]
  },
  {
   "cell_type": "markdown",
   "id": "fixed-collar",
   "metadata": {
    "id": "fixed-collar"
   },
   "source": [
    "### Input format : \n",
    "First-line : take space separated values        # Convert these values into list \n",
    "\n"
   ]
  },
  {
   "cell_type": "markdown",
   "id": "characteristic-philippines",
   "metadata": {
    "id": "characteristic-philippines"
   },
   "source": [
    "### Output format :  \n",
    "Shape, tensor values and datatype"
   ]
  },
  {
   "cell_type": "markdown",
   "id": "superb-skating",
   "metadata": {
    "id": "superb-skating"
   },
   "source": [
    "### Sample input : \n",
    "ab cd 12 34"
   ]
  },
  {
   "cell_type": "markdown",
   "id": "fancy-increase",
   "metadata": {
    "id": "fancy-increase"
   },
   "source": [
    "### Sample output :  \n",
    "ndarray\n",
    "\n",
    "b'abcd1234'"
   ]
  },
  {
   "cell_type": "code",
   "execution_count": 2,
   "id": "established-baking",
   "metadata": {
    "id": "established-baking"
   },
   "outputs": [],
   "source": [
    "import tensorflow as tf"
   ]
  },
  {
   "cell_type": "code",
   "execution_count": 9,
   "id": "running-albert",
   "metadata": {},
   "outputs": [
    {
     "name": "stdout",
     "output_type": "stream",
     "text": [
      "ab cd 12 34\n"
     ]
    }
   ],
   "source": [
    "lst1=input().split()\n"
   ]
  },
  {
   "cell_type": "code",
   "execution_count": 10,
   "id": "ahead-brush",
   "metadata": {},
   "outputs": [],
   "source": [
    "x1 = tf.constant(lst1)\n"
   ]
  },
  {
   "cell_type": "code",
   "execution_count": 11,
   "id": "charitable-pontiac",
   "metadata": {},
   "outputs": [
    {
     "data": {
      "text/plain": [
       "<tf.Tensor: shape=(4,), dtype=string, numpy=array([b'ab', b'cd', b'12', b'34'], dtype=object)>"
      ]
     },
     "execution_count": 11,
     "metadata": {},
     "output_type": "execute_result"
    }
   ],
   "source": [
    "x1"
   ]
  },
  {
   "cell_type": "code",
   "execution_count": 17,
   "id": "anticipated-editing",
   "metadata": {
    "colab": {
     "base_uri": "https://localhost:8080/"
    },
    "executionInfo": {
     "elapsed": 2021,
     "status": "ok",
     "timestamp": 1616049901996,
     "user": {
      "displayName": "penugonda saichand",
      "photoUrl": "https://lh3.googleusercontent.com/a-/AOh14GgOvwUOvj53Lz50l-bd6ZMLg381urPlOeyKqIHY=s64",
      "userId": "12056616321569921325"
     },
     "user_tz": -330
    },
    "id": "anticipated-editing",
    "outputId": "af6579f1-0c24-45d5-f8d3-8e0b86a49bed"
   },
   "outputs": [
    {
     "data": {
      "text/plain": [
       "b'abcd1234'"
      ]
     },
     "execution_count": 17,
     "metadata": {},
     "output_type": "execute_result"
    }
   ],
   "source": [
    "tf.strings.join(lst1,separator='').numpy()"
   ]
  },
  {
   "cell_type": "code",
   "execution_count": null,
   "id": "dying-uganda",
   "metadata": {},
   "outputs": [],
   "source": []
  }
 ],
 "metadata": {
  "colab": {
   "name": "question 3.ipynb",
   "provenance": []
  },
  "kernelspec": {
   "display_name": "Python 3",
   "language": "python",
   "name": "python3"
  },
  "language_info": {
   "codemirror_mode": {
    "name": "ipython",
    "version": 3
   },
   "file_extension": ".py",
   "mimetype": "text/x-python",
   "name": "python",
   "nbconvert_exporter": "python",
   "pygments_lexer": "ipython3",
   "version": "3.8.5"
  }
 },
 "nbformat": 4,
 "nbformat_minor": 5
}

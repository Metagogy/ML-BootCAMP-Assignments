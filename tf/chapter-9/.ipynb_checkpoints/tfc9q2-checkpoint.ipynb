{
 "cells": [
  {
   "cell_type": "markdown",
   "metadata": {},
   "source": [
    "**Question**: Build, compile, train and evaluate multilayer perceptron model to address two circles problem using SGD as optimizer and loss as binary cross entropy.\n",
    "        \n",
    "\n",
    "\n",
    "**Description** : \n",
    "\n",
    "* Develop a Multilayer Perceptron model to address the two circles problem.\n",
    "\n",
    "      X, y = make_circles(n_samples=1000, noise=0.1, random_state=1)\n",
    "\n",
    "* Split the model by using training and testing\n",
    "\n",
    "* Build the model by using the Sequential model and adding the first activation as tanh layer having 5 neurons and the second     activation function as a sigmoid layer having 1 neuron\n",
    "\n",
    "* Compile the model by using SGD optimizer and loss has binary_cross entropy\n",
    "\n",
    "* Fit or train the model by using with training, validation data, 500 Epochs, and 0 verbose\n",
    "\n",
    "* Print the test accuracy."
   ]
  },
  {
   "cell_type": "code",
   "execution_count": null,
   "metadata": {},
   "outputs": [],
   "source": [
    "# Start Your Code From Here."
   ]
  },
  {
   "cell_type": "code",
   "execution_count": null,
   "metadata": {},
   "outputs": [],
   "source": [
    "# Import Required Libraries.\n",
    "\n",
    "import tensorflow as tf\n",
    "from tensorflow import keras\n",
    "from sklearn.datasets import make_circles\n"
   ]
  },
  {
   "cell_type": "code",
   "execution_count": null,
   "metadata": {},
   "outputs": [],
   "source": [
    "# generate 2d classification dataset\n",
    "\n",
    "X, y = # Complete Your Code Here."
   ]
  },
  {
   "cell_type": "code",
   "execution_count": null,
   "metadata": {},
   "outputs": [],
   "source": [
    "# scale input data to [-1,1]\n",
    "\n",
    "scaler = # Complete Your Code Here\n",
    "X = scaler.fit_transform(X)"
   ]
  },
  {
   "cell_type": "code",
   "execution_count": null,
   "metadata": {},
   "outputs": [],
   "source": [
    "# split into train and test\n",
    "\n",
    "n_train = 500\n",
    "trainX, testX = X[:n_train, :], X[n_train:, :]\n",
    "trainy, testy = y[:n_train], y[n_train:]"
   ]
  },
  {
   "cell_type": "code",
   "execution_count": null,
   "metadata": {},
   "outputs": [],
   "source": [
    "# define model\n",
    "\n",
    "model = # Complete Your Code Here\n",
    "init = RandomUniform(minval=0, maxval=1)\n",
    "model.add(Dense(# Complete Your Code Here , kernel_initializer=init))\n",
    "model.add(Dense(# Complete Your Code Here , kernel_initializer=init))"
   ]
  },
  {
   "cell_type": "code",
   "execution_count": null,
   "metadata": {},
   "outputs": [],
   "source": [
    "# compile model\n",
    "\n",
    "opt = SGD(lr=0.01, momentum=0.9)\n",
    "model.compile( # Complete Your Code Here  )"
   ]
  },
  {
   "cell_type": "code",
   "execution_count": null,
   "metadata": {},
   "outputs": [],
   "source": [
    "# fit model\n",
    "\n",
    "history = model.fit(# Complete Your Code Here , verbose=0);"
   ]
  },
  {
   "cell_type": "code",
   "execution_count": null,
   "metadata": {},
   "outputs": [],
   "source": [
    "# evaluate the model\n",
    "\n",
    "loss,test_acc = model.evaluate(# Complete Your Code Here , verbose=0);"
   ]
  },
  {
   "cell_type": "code",
   "execution_count": null,
   "metadata": {},
   "outputs": [],
   "source": [
    "# Print the accuracy.\n",
    "\n"
   ]
  }
 ],
 "metadata": {
  "kernelspec": {
   "display_name": "Python 3",
   "language": "python",
   "name": "python3"
  },
  "language_info": {
   "codemirror_mode": {
    "name": "ipython",
    "version": 3
   },
   "file_extension": ".py",
   "mimetype": "text/x-python",
   "name": "python",
   "nbconvert_exporter": "python",
   "pygments_lexer": "ipython3",
   "version": "3.8.3"
  }
 },
 "nbformat": 4,
 "nbformat_minor": 4
}

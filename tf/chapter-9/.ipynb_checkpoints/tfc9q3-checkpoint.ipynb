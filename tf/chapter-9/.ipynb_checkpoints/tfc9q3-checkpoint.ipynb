{
 "cells": [
  {
   "cell_type": "markdown",
   "metadata": {},
   "source": [
    "**Question:** Load the inbuilt iris dataset and classify the dataset using with MLP classifier"
   ]
  },
  {
   "cell_type": "markdown",
   "metadata": {},
   "source": [
    "**Description :**\n",
    "\n",
    "* Load the iris dataset and split the dataset into Independent and dependent ( Target ) variable. Split the dataset into train     and test with 20% as test size.\n",
    "* Preprocess the dataset with standard scaler \n",
    "* Build  MLP classifier with hidden layers as 256,128,64,32 and add activation function as relu with train set\n",
    "* Print the accuracy score for test dataset."
   ]
  },
  {
   "cell_type": "code",
   "execution_count": null,
   "metadata": {},
   "outputs": [],
   "source": [
    "# Start Your Code From Here."
   ]
  },
  {
   "cell_type": "code",
   "execution_count": 1,
   "metadata": {},
   "outputs": [],
   "source": [
    "#Import Required Libraries.\n",
    "\n",
    "from sklearn.datasets import load_iris\n",
    "from sklearn.neural_network import MLPClassifier\n",
    "from sklearn.model_selection import train_test_split\n",
    "from sklearn.preprocessing import StandardScaler\n",
    "import pandas as pd"
   ]
  },
  {
   "cell_type": "code",
   "execution_count": 2,
   "metadata": {},
   "outputs": [],
   "source": [
    "# Load the iris dataset\n",
    "\n",
    "iris_data = # Complete Your Code Here"
   ]
  },
  {
   "cell_type": "code",
   "execution_count": 3,
   "metadata": {},
   "outputs": [],
   "source": [
    "# divide the data into features and labels.\n",
    "\n",
    "X = # Complete Your Code Here\n",
    "y = # Complete Your Code Here"
   ]
  },
  {
   "cell_type": "code",
   "execution_count": 4,
   "metadata": {},
   "outputs": [],
   "source": [
    "# Split the data into train and test. Use random_state=1,test_size=0.2\n",
    "\n",
    "X_train, X_test, y_train, y_test = train_test_split( # Complete Your Code Here )"
   ]
  },
  {
   "cell_type": "code",
   "execution_count": 5,
   "metadata": {},
   "outputs": [],
   "source": [
    "# Normalize the data.\n",
    "\n",
    "scalar = StandardScaler()\n",
    "X_trainscaled=# Complete Your Code Here\n",
    "X_testscaled=# Complete Your Code Here"
   ]
  },
  {
   "cell_type": "code",
   "execution_count": 6,
   "metadata": {},
   "outputs": [],
   "source": [
    "# Build a MLPClassifier\n",
    "\n",
    "clf = MLPClassifier( # Complete Your Code Here ).fit(X_trainscaled, y_train)"
   ]
  },
  {
   "cell_type": "code",
   "execution_count": null,
   "metadata": {},
   "outputs": [],
   "source": [
    "# Print the accuracy of test data.\n",
    "\n"
   ]
  }
 ],
 "metadata": {
  "kernelspec": {
   "display_name": "Python 3",
   "language": "python",
   "name": "python3"
  },
  "language_info": {
   "codemirror_mode": {
    "name": "ipython",
    "version": 3
   },
   "file_extension": ".py",
   "mimetype": "text/x-python",
   "name": "python",
   "nbconvert_exporter": "python",
   "pygments_lexer": "ipython3",
   "version": "3.8.3"
  }
 },
 "nbformat": 4,
 "nbformat_minor": 4
}

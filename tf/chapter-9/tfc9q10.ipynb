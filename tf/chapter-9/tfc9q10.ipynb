{
 "cells": [
  {
   "cell_type": "markdown",
   "metadata": {},
   "source": [
    "### Description :\n",
    "\n",
    "**Question** : Load the dataset from given url and print unique values of beer_servings feature"
   ]
  },
  {
   "cell_type": "markdown",
   "metadata": {},
   "source": [
    "### Level:\n",
    "Medium"
   ]
  },
  {
   "cell_type": "markdown",
   "metadata": {},
   "source": [
    "### input:\n",
    "\n",
    "'http://bit.ly/drinksbycountry'\n"
   ]
  },
  {
   "cell_type": "markdown",
   "metadata": {},
   "source": [
    "### output:\n",
    "\n",
    "[  0  89  25 245 217 102 193  21 261 279 122  42 143 142 295 263  34  23\n",
    " 167  76 173  31 231  88  37 144  57 147 240  17  15 130  79 159   1 149\n",
    " 230  93 192 361  32 224  52 162   6  92  18  20  77 127 347   8 346 133\n",
    " 199  53   9  28  69 234 233   5 313  63  85  82 124  58  62 281  19 343\n",
    " 236  26  13  98 238  12  47 376  49 251 203  78   3 188 169  22 306 285\n",
    "  44 213 163  71 194 140 109 297 247  43 171 120 105  56 283 157  60 196\n",
    " 270 225 284  16 128  90 152 185   2  99 106  36 197  51  45 206 219 249\n",
    " 115 333 111  64]"
   ]
  },
  {
   "cell_type": "code",
   "execution_count": 2,
   "metadata": {},
   "outputs": [],
   "source": [
    "#write your code here"
   ]
  },
  {
   "cell_type": "code",
   "execution_count": null,
   "metadata": {},
   "outputs": [],
   "source": []
  }
 ],
 "metadata": {
  "kernelspec": {
   "display_name": "Python 3",
   "language": "python",
   "name": "python3"
  },
  "language_info": {
   "codemirror_mode": {
    "name": "ipython",
    "version": 3
   },
   "file_extension": ".py",
   "mimetype": "text/x-python",
   "name": "python",
   "nbconvert_exporter": "python",
   "pygments_lexer": "ipython3",
   "version": "3.7.4"
  }
 },
 "nbformat": 4,
 "nbformat_minor": 5
}

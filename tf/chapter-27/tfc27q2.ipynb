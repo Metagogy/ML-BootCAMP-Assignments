{
 "cells": [
  {
   "cell_type": "markdown",
   "metadata": {},
   "source": [
    "**Question:** Build, compile, train, and predict the Twitter US Airline Sentiment dataset using the Bidirectional LSTM model\n"
   ]
  },
  {
   "cell_type": "markdown",
   "metadata": {},
   "source": [
    "**Description:**\n",
    "\n",
    "* Load the Twitter US Airline Sentiment dataset which has 14585 rows and 21 columns\n",
    "\n",
    "* Select only text and airline sentiment columns for modeling\n",
    "\n",
    "* Remove the neutral label from the dataset such that we need to process positive and negative labels\n",
    "\n",
    "* Convert airline sentiment feature into numeric values\n",
    "\n",
    "* Perform tokenization for text feature\n",
    "\n",
    "* Build the sequential model 12975 as vocabulary size, 32 as embedding length, 200 as input length, next add Bidirectional LSTM layer with 50 neurons, dropout as 0.5, and finally, add a dense layer with sigmoid as activation.\n",
    "\n",
    "* Compile the model using loss as binary cross-entropy, adam as the optimizer\n",
    "\n",
    "* Train the model with 10 epochs, batch size as 32 and 0.2 as validation split\n",
    "\n",
    "* By using given sample input text predict the sentiment of the text\n"
   ]
  },
  {
   "cell_type": "code",
   "execution_count": null,
   "metadata": {},
   "outputs": [],
   "source": [
    "# Start Your Code From Here."
   ]
  },
  {
   "cell_type": "code",
   "execution_count": null,
   "metadata": {},
   "outputs": [],
   "source": [
    "# Import libraries.\n",
    "\n",
    "import pandas as pd\n",
    "from tensorflow.keras.preprocessing.text import Tokenizer\n",
    "from tensorflow.keras.preprocessing.sequence import pad_sequences\n",
    "from tensorflow.keras.models import Sequential\n",
    "from tensorflow.keras.layers import LSTM,Dense, Dropout, SpatialDropout1D, Bidirectional\n",
    "from tensorflow.keras.layers import Embedding"
   ]
  },
  {
   "cell_type": "code",
   "execution_count": null,
   "metadata": {},
   "outputs": [],
   "source": [
    "# load the data.\n",
    "\n",
    "df= # Complete Your Code Here."
   ]
  },
  {
   "cell_type": "code",
   "execution_count": null,
   "metadata": {},
   "outputs": [],
   "source": [
    "# Select 'text' and 'airline_sentiment' columns.\n",
    "\n",
    "tweet_df = # Complete Your Code Here."
   ]
  },
  {
   "cell_type": "code",
   "execution_count": null,
   "metadata": {},
   "outputs": [],
   "source": [
    "# Remove the neutral labels from the airline_sentiment.\n",
    "\n",
    "tweet_df = # Complete Your Code Here."
   ]
  },
  {
   "cell_type": "code",
   "execution_count": null,
   "metadata": {},
   "outputs": [],
   "source": [
    "# Convert Labels into numerical.\n",
    "\n",
    "sentiment_label = # Complete Your Code Here."
   ]
  },
  {
   "cell_type": "code",
   "execution_count": null,
   "metadata": {},
   "outputs": [],
   "source": [
    "# tokenization.\n",
    "\n",
    "tweet = tweet_df.text.values\n",
    "tokenizer = Tokenizer(num_words=5000)\n",
    "tokenizer.fit_on_texts(tweet)\n",
    "vocab_size = len(tokenizer.word_index) + 1\n",
    "encoded_docs = tokenizer.texts_to_sequences(tweet)\n",
    "padded_sequence = pad_sequences(encoded_docs, maxlen=200)"
   ]
  },
  {
   "cell_type": "code",
   "execution_count": null,
   "metadata": {},
   "outputs": [],
   "source": [
    "# Build a model.\n",
    "\n",
    "embedding_vector_length = 32\n",
    "\n",
    "model = Sequential() \n",
    "model.add(Embedding(# Complete Your Code Here.) )  \n",
    "model.add(Bidirectional(LSTM(# Complete Your Code Here.  )))\n",
    "model.add(Dropout(0.2))\n",
    "model.add(Dense(# Complete Your Code Here.  )) "
   ]
  },
  {
   "cell_type": "code",
   "execution_count": null,
   "metadata": {},
   "outputs": [],
   "source": [
    "# Compile the model.\n",
    "\n"
   ]
  },
  {
   "cell_type": "code",
   "execution_count": null,
   "metadata": {},
   "outputs": [],
   "source": [
    "# Train the model.\n",
    "\n",
    "model.fit(# Complete Your Code Here.,\n",
    "          verbose=0)"
   ]
  },
  {
   "cell_type": "code",
   "execution_count": null,
   "metadata": {},
   "outputs": [],
   "source": [
    "# Predict the model.\n",
    "\n",
    "test_word =\"AI educator provides best courses\"\n",
    "tw = tokenizer.texts_to_sequences([test_word])\n",
    "\n",
    "tw = pad_sequences(tw,maxlen=200)\n",
    "\n",
    "prediction = int(model.predict(tw).round().item())\n",
    "sentiment_label[1][prediction]"
   ]
  }
 ],
 "metadata": {
  "kernelspec": {
   "display_name": "Python 3",
   "language": "python",
   "name": "python3"
  },
  "language_info": {
   "codemirror_mode": {
    "name": "ipython",
    "version": 3
   },
   "file_extension": ".py",
   "mimetype": "text/x-python",
   "name": "python",
   "nbconvert_exporter": "python",
   "pygments_lexer": "ipython3",
   "version": "3.8.3"
  }
 },
 "nbformat": 4,
 "nbformat_minor": 2
}

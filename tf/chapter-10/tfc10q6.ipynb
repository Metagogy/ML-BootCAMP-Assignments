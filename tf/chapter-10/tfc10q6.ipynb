{
 "cells": [
  {
   "cell_type": "markdown",
   "id": "accomplished-starter",
   "metadata": {},
   "source": [
    "### Question:  \n",
    "    \n",
    "Initialize two variables list of elements with using tf.constant, add them and print the result"
   ]
  },
  {
   "cell_type": "markdown",
   "id": "connected-rachel",
   "metadata": {},
   "source": [
    "### Level:\n",
    "Easy"
   ]
  },
  {
   "cell_type": "markdown",
   "id": "aerial-netherlands",
   "metadata": {},
   "source": [
    "### Input format : \n",
    "Lists\n",
    "### Output format : \n",
    "Shape, tensor values and datatype"
   ]
  },
  {
   "cell_type": "markdown",
   "id": "theoretical-tuition",
   "metadata": {},
   "source": [
    "### Sample input : \n",
    "List of elements<br/>\n",
    "l1=[1,2,3,4]<br/>\n",
    "l=[5,6,7,8]\n",
    "\n",
    "### Sample output :  \n",
    "tensor values\n",
    "\n",
    "tf.Tensor([ 6  8 10 12], shape=(4,), dtype=int32)"
   ]
  }
 ],
 "metadata": {
  "kernelspec": {
   "display_name": "Python 3",
   "language": "python",
   "name": "python3"
  },
  "language_info": {
   "codemirror_mode": {
    "name": "ipython",
    "version": 3
   },
   "file_extension": ".py",
   "mimetype": "text/x-python",
   "name": "python",
   "nbconvert_exporter": "python",
   "pygments_lexer": "ipython3",
   "version": "3.8.5"
  }
 },
 "nbformat": 4,
 "nbformat_minor": 5
}

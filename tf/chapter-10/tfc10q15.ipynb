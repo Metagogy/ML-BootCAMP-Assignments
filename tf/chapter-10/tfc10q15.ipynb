{
 "cells": [
  {
   "cell_type": "markdown",
   "metadata": {},
   "source": [
    "**Question** : \n",
    "Load the inbuilt wine dataset , Split the data into train and test . Build, compile, train and evaluate the model using adam optimizer, loss as Categorical cross entropy"
   ]
  },
  {
   "cell_type": "markdown",
   "metadata": {},
   "source": [
    "**Description** :\n",
    "\n",
    "Load the wine  dataset using inbuilt dataset function and split into train and test with 80:20 ratio\n",
    "\n",
    "Split into  independent variable and  dependent(labels) variable\n",
    "\n",
    "Build the wine dataset model by using a sequential layer and add first layer as dense with input_dimensions,kernel_initializer=\"random_uniform\",relu activation,20 units and add other 2 layers as dense with kernel_initializer=\"random_uniform\",activation=\"relu\",units=15 and last layer having activation function as softmax layer with 3 units.\n",
    "\n",
    "Compile the model using adam optimizer, loss as \"categorical_crossentropy\" with metrics accuracy and train the model using 500 epochs, 10  as batch size.\n",
    "\n",
    "Evaluate the  model by using a test "
   ]
  },
  {
   "cell_type": "markdown",
   "metadata": {},
   "source": [
    "**Level** :  Hard\n"
   ]
  },
  {
   "cell_type": "markdown",
   "metadata": {},
   "source": [
    "**Input format** : \n",
    "Dataset\n",
    "\n",
    "**Output format** : \n",
    "Model Accuracy"
   ]
  },
  {
   "cell_type": "code",
   "execution_count": 20,
   "metadata": {},
   "outputs": [],
   "source": [
    "import keras\n",
    "from sklearn.datasets import load_wine\n",
    "import pandas as pd\n",
    "from sklearn.model_selection import train_test_split\n",
    "from keras.models import Sequential\n",
    "from keras.layers import Dense\n"
   ]
  },
  {
   "cell_type": "code",
   "execution_count": null,
   "metadata": {},
   "outputs": [],
   "source": [
    "data12= # Complete Your code here\n",
    "data12_inde=pd.DataFrame(data12.data,columns=data12.feature_names)\n",
    "\n",
    "data12_label=pd.DataFrame(data12.target,columns=['target'])\n",
    "\n"
   ]
  },
  {
   "cell_type": "code",
   "execution_count": null,
   "metadata": {},
   "outputs": [],
   "source": [
    "data3=pd.concat(# Complete Your code here)\n",
    "data3=data3.drop(labels=['alcohol','total_phenols','flavanoids','hue','od280/od315_of_diluted_wines'],axis=1)\n"
   ]
  },
  {
   "cell_type": "code",
   "execution_count": null,
   "metadata": {},
   "outputs": [],
   "source": [
    "x=data3.iloc[:,:8]\n",
    "\n",
    "y=data3.iloc[:,8]"
   ]
  },
  {
   "cell_type": "code",
   "execution_count": null,
   "metadata": {},
   "outputs": [],
   "source": [
    "y=keras.utils.to_categorical(# Complete Your code here)"
   ]
  },
  {
   "cell_type": "code",
   "execution_count": null,
   "metadata": {},
   "outputs": [],
   "source": [
    "x_train, x_test, y_train, y_test=train_test_split(# Complete your code here)"
   ]
  },
  {
   "cell_type": "code",
   "execution_count": null,
   "metadata": {},
   "outputs": [],
   "source": [
    "model=Sequential()\n",
    "\n",
    "model.add(Dense(input_dim=x_train.shape[1],kernel_initializer=\"random_uniform\",activation=\"relu\",units=20))\n",
    "\n",
    "\n",
    "model.add(Dense(# Complete Your code here)\n",
    "model.add(Dense(# Complete Your code here)\n",
    "\n",
    "\n",
    "\n",
    "model.add(Dense(# complete Your code here)\n"
   ]
  },
  {
   "cell_type": "code",
   "execution_count": null,
   "metadata": {},
   "outputs": [],
   "source": [
    "model.compile(# Complete your code here)"
   ]
  },
  {
   "cell_type": "code",
   "execution_count": null,
   "metadata": {},
   "outputs": [],
   "source": [
    "model.fit(# complete Your code here)"
   ]
  },
  {
   "cell_type": "code",
   "execution_count": null,
   "metadata": {},
   "outputs": [],
   "source": [
    "_, test_acc = model.evaluate(# Complete Your code here)\n"
   ]
  },
  {
   "cell_type": "code",
   "execution_count": null,
   "metadata": {},
   "outputs": [],
   "source": [
    "# print Accuracy"
   ]
  }
 ],
 "metadata": {
  "kernelspec": {
   "display_name": "Python 3",
   "language": "python",
   "name": "python3"
  },
  "language_info": {
   "codemirror_mode": {
    "name": "ipython",
    "version": 3
   },
   "file_extension": ".py",
   "mimetype": "text/x-python",
   "name": "python",
   "nbconvert_exporter": "python",
   "pygments_lexer": "ipython3",
   "version": "3.8.5"
  }
 },
 "nbformat": 4,
 "nbformat_minor": 5
}

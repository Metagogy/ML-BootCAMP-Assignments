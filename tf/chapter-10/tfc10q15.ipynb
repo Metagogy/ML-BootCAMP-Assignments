{
 "cells": [
  {
   "cell_type": "markdown",
   "id": "sapphire-briefing",
   "metadata": {},
   "source": [
    "### Question 7: \n",
    "Load the inbuilt wine dataset , Split the data into train and test . Build, compile, train and evaluate the model using adam optimizer, loss as \"amse\"."
   ]
  },
  {
   "cell_type": "markdown",
   "id": "fatty-particle",
   "metadata": {},
   "source": [
    "### Description: \n",
    "Load the wine  dataset using inbuilt dataset function and split into train and test.\n",
    "\n",
    "Split into  independent variable and  dependent(labels) variable\n",
    "\n",
    "Build the wine dataset model by using a sequential layer and add the 2 layers and first two activation functions as Relu layers having 64 neurons in each dense layer and last layer having activation function as relu layer with 1 neuron.\n",
    "\n",
    "Compile the model using adam optimizer, loss as \"categorical_crossentropy\" and train the model using 5 epochs, 10  as batch size.\n",
    "Evaluate the  model by using a test and predicted value."
   ]
  },
  {
   "cell_type": "markdown",
   "id": "circular-indonesian",
   "metadata": {},
   "source": [
    "### Level: \n",
    "Hard\n"
   ]
  },
  {
   "cell_type": "markdown",
   "id": "boring-kentucky",
   "metadata": {},
   "source": [
    "### Explanation:\n",
    "Compile defines the loss function, the optimizer and the metrics.\n",
    "\n",
    "fit() is used for training models.\n",
    "\n",
    "evaluate function predicts the output for the given input and then computes the metric\n",
    "\n",
    "Library: [tf.keras/tensorflow]\n",
    "Category: ML"
   ]
  },
  {
   "cell_type": "markdown",
   "id": "sunset-pitch",
   "metadata": {},
   "source": [
    "### Input format : \n",
    "Dataset\n",
    "### Output format : \n",
    "Model Accuracy"
   ]
  }
 ],
 "metadata": {
  "kernelspec": {
   "display_name": "Python 3",
   "language": "python",
   "name": "python3"
  },
  "language_info": {
   "codemirror_mode": {
    "name": "ipython",
    "version": 3
   },
   "file_extension": ".py",
   "mimetype": "text/x-python",
   "name": "python",
   "nbconvert_exporter": "python",
   "pygments_lexer": "ipython3",
   "version": "3.8.5"
  }
 },
 "nbformat": 4,
 "nbformat_minor": 5
}

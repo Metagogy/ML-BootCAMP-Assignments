{
 "cells": [
  {
   "cell_type": "markdown",
   "id": "progressive-report",
   "metadata": {},
   "source": [
    "### Question : \n",
    "Load the inbuilt diabetes dataset , Split the data into train and test . Build, compile, train and evaluate the model using adam optimizer, loss as \"amse\".\n"
   ]
  },
  {
   "cell_type": "markdown",
   "id": "promising-shannon",
   "metadata": {},
   "source": [
    "### Description: \n",
    "Load the diabetes dataset using inbuilt dataset function and split into train and test.\n",
    "\n",
    "Do the standardscaler to the train and test data\n",
    "\n",
    "Build the diabetes dataset model by using a sequential layer and add the 2 layers and first two activation functions as Relu layers having 64 neurons in each dense layer and last layer having activation function as relu layer with 1 neuron.\n",
    "\n",
    "Compile the model using adam optimizer, loss as \"amse\" and train the model using 5 epochs, 32 as batch size.\n",
    "Evaluate the  model by using a test and predicted value."
   ]
  },
  {
   "cell_type": "markdown",
   "id": "separated-telling",
   "metadata": {},
   "source": [
    "### Level: \n",
    "Hard"
   ]
  },
  {
   "cell_type": "markdown",
   "id": "amended-magazine",
   "metadata": {},
   "source": [
    "### Explanation:\n",
    "Compile defines the loss function, the optimizer and the metrics.\n",
    "\n",
    "fit() is used for training models.\n",
    "\n",
    "evaluate function predicts the output for the given input and then computes the metric\n",
    "\n",
    "Library: [tf.keras/tensorflow]\n",
    "\n",
    "Category: ML\n"
   ]
  },
  {
   "cell_type": "markdown",
   "id": "alert-caution",
   "metadata": {},
   "source": [
    "### Input format : \n",
    "Dataset\n",
    "### Output format : \n",
    "Model Accuracy"
   ]
  },
  {
   "cell_type": "markdown",
   "id": "sonic-margin",
   "metadata": {},
   "source": [
    "### Sample input : \n",
    "Load the dataset using inbuilt function\n",
    "### Output : \n",
    "Accuracy"
   ]
  }
 ],
 "metadata": {
  "kernelspec": {
   "display_name": "Python 3",
   "language": "python",
   "name": "python3"
  },
  "language_info": {
   "codemirror_mode": {
    "name": "ipython",
    "version": 3
   },
   "file_extension": ".py",
   "mimetype": "text/x-python",
   "name": "python",
   "nbconvert_exporter": "python",
   "pygments_lexer": "ipython3",
   "version": "3.8.5"
  }
 },
 "nbformat": 4,
 "nbformat_minor": 5
}

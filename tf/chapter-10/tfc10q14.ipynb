{
 "cells": [
  {
   "cell_type": "markdown",
   "metadata": {},
   "source": [
    "**Question** : \n",
    "\n",
    "Load the inbuilt diabetes dataset , Split the data into train and test . Build, compile, train and evaluate the model using adam optimizer, loss as \"amse\".\n"
   ]
  },
  {
   "cell_type": "markdown",
   "metadata": {},
   "source": [
    "**Description** : \n",
    "\n",
    "Load the diabetes dataset using inbuilt dataset function and split into train and test.\n",
    "\n",
    "Do the standardscaler to the train and test data\n",
    "\n",
    "Build the diabetes dataset model by using a sequential layer and add the first layers as dense with input_dimensions,kernel_initializer=\"random_uniform\",relu activation,units=20 and add second and third layer as dense with kernel_initializer=\"random_uniform\", relu activation and units=15 and last layer having activation function as sigmoid layer with 1 neuron.\n",
    "\n",
    "Compile the model using adam optimizer, loss as \"mae\" and  metrics as mean_absolute_percentage_error\n",
    "\n",
    "train the model using 5 epochs, 32 as batch size.\n",
    "\n",
    "Evaluate the  model by using a test values"
   ]
  },
  {
   "cell_type": "markdown",
   "metadata": {},
   "source": [
    "**Level**: \n",
    "Hard"
   ]
  },
  {
   "cell_type": "markdown",
   "metadata": {},
   "source": [
    "**Input format** : \n",
    "Dataset\n",
    "\n",
    "**Output format** : \n",
    "Model Accuracy"
   ]
  },
  {
   "cell_type": "markdown",
   "metadata": {},
   "source": [
    "**Sample input** : \n",
    "Load the dataset using inbuilt function\n",
    "\n",
    "**Sample Output** : \n",
    "Accuracy"
   ]
  },
  {
   "cell_type": "code",
   "execution_count": 1,
   "metadata": {},
   "outputs": [],
   "source": [
    "from sklearn.datasets import load_diabetes\n",
    "import pandas as pd\n",
    "from sklearn.model_selection import train_test_split\n",
    "import keras\n",
    "from keras.models import Sequential\n",
    "from keras.layers import Dense"
   ]
  },
  {
   "cell_type": "code",
   "execution_count": null,
   "metadata": {},
   "outputs": [],
   "source": [
    "data12= # Complete Your code here\n",
    "data12_inde=pd.DataFrame(data12.data,columns=data12.feature_names)\n",
    "\n",
    "data12_label=pd.DataFrame(data12.target,columns=['target'])\n"
   ]
  },
  {
   "cell_type": "code",
   "execution_count": null,
   "metadata": {},
   "outputs": [],
   "source": [
    "data3= pd.concat(# Complete Your code here)"
   ]
  },
  {
   "cell_type": "code",
   "execution_count": null,
   "metadata": {},
   "outputs": [],
   "source": [
    "x=data3.iloc[:,:10]\n",
    "\n",
    "y=data3.iloc[:,10]"
   ]
  },
  {
   "cell_type": "code",
   "execution_count": null,
   "metadata": {},
   "outputs": [],
   "source": [
    "x_train, x_test, y_train, y_test=train_test_split( # Complete Your code here)"
   ]
  },
  {
   "cell_type": "code",
   "execution_count": null,
   "metadata": {},
   "outputs": [],
   "source": [
    "model=Sequential()\n",
    "\n",
    "model.add(Dense(input_dim=x_train.shape[1],kernel_initializer=\"random_uniform\",activation=\"relu\",units=20))\n",
    "\n",
    "### Add Hidden Layer\n",
    "\n",
    "model.add(Dense(# Complete Your code here)\n",
    "model.add(Dense(# Complete Your code here)\n",
    "\n",
    "### Add Output Layer\n",
    "\n",
    "model.add(Dense(# Complete Your code here)"
   ]
  },
  {
   "cell_type": "code",
   "execution_count": null,
   "metadata": {},
   "outputs": [],
   "source": [
    "model.compile(# Complete Your code here)"
   ]
  },
  {
   "cell_type": "code",
   "execution_count": null,
   "metadata": {},
   "outputs": [],
   "source": [
    "model.fit(# Complete Your code here)"
   ]
  },
  {
   "cell_type": "code",
   "execution_count": null,
   "metadata": {},
   "outputs": [],
   "source": [
    "_, test_acc = model.evaluate( # complete Your code here)"
   ]
  },
  {
   "cell_type": "code",
   "execution_count": null,
   "metadata": {},
   "outputs": [],
   "source": [
    "# Print Accuracy"
   ]
  },
  {
   "cell_type": "code",
   "execution_count": null,
   "metadata": {},
   "outputs": [],
   "source": []
  }
 ],
 "metadata": {
  "kernelspec": {
   "display_name": "Python 3",
   "language": "python",
   "name": "python3"
  },
  "language_info": {
   "codemirror_mode": {
    "name": "ipython",
    "version": 3
   },
   "file_extension": ".py",
   "mimetype": "text/x-python",
   "name": "python",
   "nbconvert_exporter": "python",
   "pygments_lexer": "ipython3",
   "version": "3.8.5"
  }
 },
 "nbformat": 4,
 "nbformat_minor": 5
}

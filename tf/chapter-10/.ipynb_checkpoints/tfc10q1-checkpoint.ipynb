{
 "cells": [
  {
   "cell_type": "markdown",
   "metadata": {},
   "source": [
    "**Question**: For a given list apply relu activation function with alpha, max_value and threshold values."
   ]
  },
  {
   "cell_type": "markdown",
   "metadata": {},
   "source": [
    "**Description**: \n",
    "\n",
    "* Read Space-separated values from input() function  \n",
    "* Convert Space-separated values into list of float values.\n",
    "* convert list into tensor using tf.constant() and use dtype=tf.float32.\n",
    "* Apply the relu activation function on the list using tf.keras\n",
    "* Apply the relu activation function on the list using tf.keras with alpha = 0.5\n",
    "* Apply the relu activation function on the list using tf.keras with max_value = 5\n",
    "* Apply the relu activation function on the list using tf.keras with threshold = 5"
   ]
  },
  {
   "cell_type": "markdown",
   "metadata": {},
   "source": [
    "**Level**: Medium"
   ]
  },
  {
   "cell_type": "markdown",
   "metadata": {},
   "source": [
    "**Input format**: Space-separated values."
   ]
  },
  {
   "cell_type": "markdown",
   "metadata": {},
   "source": [
    "\n",
    "**Output format**: Arrays"
   ]
  },
  {
   "cell_type": "markdown",
   "metadata": {},
   "source": [
    "**Sample Input**: \n",
    "\n",
    "-20 -15 -10 -5 0 5 10 15 20"
   ]
  },
  {
   "cell_type": "markdown",
   "metadata": {},
   "source": [
    "**Sample Output**:"
   ]
  },
  {
   "cell_type": "raw",
   "metadata": {},
   "source": [
    "[ 0.  0.  0.  0.  0.  5. 10. 15. 20.]\n",
    "[-10.   -7.5  -5.   -2.5   0.    5.   10.   15.   20. ]\n",
    "[0. 0. 0. 0. 0. 5. 5. 5. 5.]\n",
    "[-0. -0. -0. -0.  0.  0. 10. 15. 20.]"
   ]
  },
  {
   "cell_type": "code",
   "execution_count": null,
   "metadata": {},
   "outputs": [],
   "source": [
    "#Start Your Code From Here."
   ]
  },
  {
   "cell_type": "code",
   "execution_count": null,
   "metadata": {},
   "outputs": [],
   "source": [
    "#Import Libraries.\n",
    "import tensorflow as tf\n"
   ]
  },
  {
   "cell_type": "code",
   "execution_count": null,
   "metadata": {
    "deletable": false,
    "editable": false
   },
   "outputs": [],
   "source": [
    "# Read input and Convert into list.\n",
    "\n",
    "lst=list(map(int,input().split()))"
   ]
  },
  {
   "cell_type": "code",
   "execution_count": null,
   "metadata": {},
   "outputs": [],
   "source": [
    "# Apply tf.constant() on list and use dtype float32\n",
    "\n",
    "lst=tf.constant(# Complete Your Code Here.)"
   ]
  },
  {
   "cell_type": "code",
   "execution_count": null,
   "metadata": {},
   "outputs": [],
   "source": [
    "# Apply the relu activation function on tensor\n",
    "\n",
    "print(tf.keras.activations.relu(lst).numpy())"
   ]
  },
  {
   "cell_type": "code",
   "execution_count": null,
   "metadata": {},
   "outputs": [],
   "source": [
    "# Apply the relu activation function with alpha=0.5\n",
    "\n",
    "print(tf.keras.activations.relu(# Complete Your Code Here ).numpy())"
   ]
  },
  {
   "cell_type": "code",
   "execution_count": null,
   "metadata": {},
   "outputs": [],
   "source": [
    "# Apply the relu activation function with max_value=5\n",
    "\n",
    "print( # Complete Your Code Here )"
   ]
  },
  {
   "cell_type": "code",
   "execution_count": null,
   "metadata": {},
   "outputs": [],
   "source": [
    "# Apply the relu activation function with threshold=5\n",
    "\n",
    "print(  # Complete Your Code Here )"
   ]
  }
 ],
 "metadata": {
  "kernelspec": {
   "display_name": "Python 3",
   "language": "python",
   "name": "python3"
  },
  "language_info": {
   "codemirror_mode": {
    "name": "ipython",
    "version": 3
   },
   "file_extension": ".py",
   "mimetype": "text/x-python",
   "name": "python",
   "nbconvert_exporter": "python",
   "pygments_lexer": "ipython3",
   "version": "3.8.3"
  }
 },
 "nbformat": 4,
 "nbformat_minor": 4
}

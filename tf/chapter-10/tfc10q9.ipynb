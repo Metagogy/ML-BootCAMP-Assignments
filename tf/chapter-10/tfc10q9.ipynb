{
 "cells": [
  {
   "cell_type": "markdown",
   "id": "serious-insert",
   "metadata": {},
   "source": [
    "### Question: \n",
    "Visualize tanh function with python and generate input dataset as 10 points between -5 and 5"
   ]
  },
  {
   "cell_type": "markdown",
   "id": "minute-advantage",
   "metadata": {},
   "source": [
    "### Level: \n",
    "medium"
   ]
  },
  {
   "cell_type": "markdown",
   "id": "renewable-offering",
   "metadata": {},
   "source": [
    "### Input format : \n",
    "Create list of array values in between -5 and 5 with range of 10 values\n",
    "### Output format : \n",
    "print the ouput result"
   ]
  },
  {
   "cell_type": "markdown",
   "id": "convenient-vaccine",
   "metadata": {},
   "source": [
    "### Sample input : \n",
    "define tanh function\n",
    "\n",
    "(np.exp(X)-np.exp(-X))/(np.exp(X)+np.exp(-X))\n",
    "### Sample Output : \n",
    "print the ouput result\n",
    "\n",
    "print(output)\n",
    "[-0.9999092  -0.99916247 -0.99229794 -0.93110961 -0.5046724   0.5046724\n",
    "  0.93110961  0.99229794  0.99916247  0.9999092 ]\n"
   ]
  }
 ],
 "metadata": {
  "kernelspec": {
   "display_name": "Python 3",
   "language": "python",
   "name": "python3"
  },
  "language_info": {
   "codemirror_mode": {
    "name": "ipython",
    "version": 3
   },
   "file_extension": ".py",
   "mimetype": "text/x-python",
   "name": "python",
   "nbconvert_exporter": "python",
   "pygments_lexer": "ipython3",
   "version": "3.8.5"
  }
 },
 "nbformat": 4,
 "nbformat_minor": 5
}

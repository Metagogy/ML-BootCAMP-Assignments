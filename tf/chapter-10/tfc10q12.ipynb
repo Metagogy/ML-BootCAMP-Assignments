{
 "cells": [
  {
   "cell_type": "markdown",
   "metadata": {},
   "source": [
    "**Question** : \n",
    "\n",
    "Load, Split, normalize and flatten the mnist dataset. Build, compile, train and evaluate the model using adam optimizer, loss as \"categorical_crossentropy\"."
   ]
  },
  {
   "cell_type": "markdown",
   "metadata": {},
   "source": [
    "**Description** : \n",
    "\n",
    "Load the mnist dataset using inbuilt dataset function and split into training and testing images.\n",
    "\n",
    "Normalize the dataset images by dividing it with 255 of train and test images. \n",
    "\n",
    "Flatten the dataset images by using reshape. \n",
    "\n",
    "Build the mnist dataset model by using a sequential layer and adding first two activation functions as Relu layers having units = 200 and kernel_initializer=\"random_uniform\" and last layer having activation function as softmax layer with 10 neurons with kernel_initializer=\"random_uniform\"\n",
    "\n",
    "Compile the model using adam optimizer, loss as \"categorical_crossentropy\" and train the model using 5 epochs, 32 as batch size.\n",
    "\n",
    "Evaluate the mnist model by using test images and labels.\n",
    "\n"
   ]
  },
  {
   "cell_type": "markdown",
   "metadata": {},
   "source": [
    "**Level** : \n",
    "\n",
    "Hard\n"
   ]
  },
  {
   "cell_type": "markdown",
   "metadata": {},
   "source": [
    "**Input format** : \n",
    "\n",
    "Dataset\n",
    "\n",
    "**Output format** : \n",
    "\n",
    "Model Accuracy"
   ]
  },
  {
   "cell_type": "markdown",
   "metadata": {},
   "source": [
    "**Sample input** : \n",
    "\n",
    "Load the dataset using inbuilt function\n",
    "\n",
    "**Sample Output** : \n",
    "\n",
    "Accuracy"
   ]
  },
  {
   "cell_type": "code",
   "execution_count": null,
   "metadata": {},
   "outputs": [],
   "source": [
    "import keras\n",
    "from keras.datasets import mnist\n",
    "from keras.models import Sequential\n",
    "from keras.layers import Dense\n",
    "from keras.utils import normalize\n"
   ]
  },
  {
   "cell_type": "code",
   "execution_count": null,
   "metadata": {},
   "outputs": [],
   "source": [
    "(x_train, y_train), (x_test, y_test) = # Complete Your code here"
   ]
  },
  {
   "cell_type": "code",
   "execution_count": null,
   "metadata": {},
   "outputs": [],
   "source": [
    "x_train=x_train.reshape(# Complete Your code here)\n",
    "x_test=x_test.reshape(# Complete Your code here)"
   ]
  },
  {
   "cell_type": "code",
   "execution_count": null,
   "metadata": {},
   "outputs": [],
   "source": [
    "#converts pixel values into 0 to 1\n",
    "\n",
    "x_train=keras.utils.normalize(# Complete Your code here)\n",
    "x_test=keras.utils.normalize(# Complete Your code here)"
   ]
  },
  {
   "cell_type": "code",
   "execution_count": null,
   "metadata": {},
   "outputs": [],
   "source": [
    "y_train=keras.utils.to_categorical(# Complete Your code here)"
   ]
  },
  {
   "cell_type": "code",
   "execution_count": null,
   "metadata": {},
   "outputs": [],
   "source": [
    "model=Sequential()\n",
    "\n",
    "# Add Input Layer\n",
    "\n",
    "model.add(Dense(input_dim=784,kernel_initializer=\"random_uniform\",activation=\"relu\",units=200))\n",
    "\n",
    "# Add Hidden Layer\n",
    "\n",
    "model.add(Dense(# Complete Your code here)\n",
    "\n",
    "# Add Output Layer\n",
    "\n",
    "model.add(Dense(# complete Your code here)\n"
   ]
  },
  {
   "cell_type": "code",
   "execution_count": null,
   "metadata": {},
   "outputs": [],
   "source": [
    "model.compile(# complete Your code here)"
   ]
  },
  {
   "cell_type": "code",
   "execution_count": null,
   "metadata": {},
   "outputs": [],
   "source": [
    "model.fit(#Complete Your code here)"
   ]
  },
  {
   "cell_type": "code",
   "execution_count": null,
   "metadata": {},
   "outputs": [],
   "source": [
    "_, test_acc = model.evaluate(# Complete Your code here)\n"
   ]
  },
  {
   "cell_type": "code",
   "execution_count": null,
   "metadata": {},
   "outputs": [],
   "source": [
    "# Print accuracy"
   ]
  }
 ],
 "metadata": {
  "kernelspec": {
   "display_name": "Python 3",
   "language": "python",
   "name": "python3"
  },
  "language_info": {
   "codemirror_mode": {
    "name": "ipython",
    "version": 3
   },
   "file_extension": ".py",
   "mimetype": "text/x-python",
   "name": "python",
   "nbconvert_exporter": "python",
   "pygments_lexer": "ipython3",
   "version": "3.8.5"
  }
 },
 "nbformat": 4,
 "nbformat_minor": 5
}

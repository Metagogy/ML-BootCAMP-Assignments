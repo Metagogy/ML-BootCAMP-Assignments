{
 "cells": [
  {
   "cell_type": "markdown",
   "id": "exposed-audio",
   "metadata": {},
   "source": [
    "### Question: \n",
    "\n",
    "Load, Split, normalize and flatten the mnist dataset. Build, compile, train and evaluate the model using adam optimizer, loss as \"categorical_crossentropy\"."
   ]
  },
  {
   "cell_type": "markdown",
   "id": "coastal-charm",
   "metadata": {},
   "source": [
    "### Description: \n",
    "Load the mnist dataset using inbuilt dataset function and split into training and testing images.\n",
    "\n",
    "Normalize the dataset images by dividing it with 255 of train and test images. \n",
    "\n",
    "Flatten the dataset images by using reshape. \n",
    "\n",
    "Build the mnist dataset model by using a sequential layer and adding first two activation functions as Relu layers having 64 \n",
    "\n",
    "neurons in each dense layer and last layer having activation function as Sigmoid layer with 10 neurons.\n",
    "\n",
    "Compile the model using adam optimizer, loss as \"categorical_crossentropy\" and train the model using 5 epochs, 32 as batch size.\n",
    "\n",
    "Evaluate the mnist model by using test images and labels.\n",
    "\n"
   ]
  },
  {
   "cell_type": "markdown",
   "id": "visible-opposition",
   "metadata": {},
   "source": [
    "### Level: \n",
    "Hard\n"
   ]
  },
  {
   "cell_type": "markdown",
   "id": "elegant-check",
   "metadata": {},
   "source": [
    "### Explanation:\n",
    "Compile defines the loss function, the optimizer and the metrics.\n",
    "\n",
    "fit() is used for training models.\n",
    "\n",
    "evaluate function predicts the output for the given input and then computes the metric\n",
    "\n",
    "Library: [tf.keras/tensorflow]\n",
    "\n",
    "Category: ML"
   ]
  },
  {
   "cell_type": "markdown",
   "id": "polar-participant",
   "metadata": {},
   "source": [
    "### Input format : \n",
    "Dataset\n",
    "### Output format : \n",
    "Model Accuracy"
   ]
  },
  {
   "cell_type": "markdown",
   "id": "outstanding-highland",
   "metadata": {},
   "source": [
    "### Sample input : \n",
    "Load the dataset using inbuilt function\n",
    "### Sample Output : \n",
    "Accuracy"
   ]
  }
 ],
 "metadata": {
  "kernelspec": {
   "display_name": "Python 3",
   "language": "python",
   "name": "python3"
  },
  "language_info": {
   "codemirror_mode": {
    "name": "ipython",
    "version": 3
   },
   "file_extension": ".py",
   "mimetype": "text/x-python",
   "name": "python",
   "nbconvert_exporter": "python",
   "pygments_lexer": "ipython3",
   "version": "3.8.5"
  }
 },
 "nbformat": 4,
 "nbformat_minor": 5
}

{
 "cells": [
  {
   "cell_type": "markdown",
   "id": "detected-pepper",
   "metadata": {},
   "source": [
    "### Question : \n",
    "Load the inbuilt bostan  dataset , Split the data into train and test . Build, compile, train and evaluate the model using adam optimizer, loss as \"amse\"."
   ]
  },
  {
   "cell_type": "markdown",
   "id": "demonstrated-creation",
   "metadata": {},
   "source": [
    "### Description: \n",
    "Load the bostan dataset using inbuilt dataset function and split into train and test.\n",
    "\n",
    "Take only first column in independent variable and first column in dependent(labels) variable\n",
    "\n",
    "Do the standardscaler to the train and test data\n",
    "\n",
    "Build the bostan dataset model by using a sequential layer and add the 2 layers and first two activation functions as Relu \n",
    "layers having 64 neurons in each dense layer and last layer having activation function as relu layer with 1 neuron.\n",
    "\n",
    "Compile the model using adam optimizer, loss as \"amse\" and train the model using 5 epochs,1 as batch size.\n",
    "Evaluate the  model by using a test and predicted value."
   ]
  },
  {
   "cell_type": "markdown",
   "id": "obvious-determination",
   "metadata": {},
   "source": [
    "### Level: \n",
    "Hard"
   ]
  },
  {
   "cell_type": "markdown",
   "id": "conditional-polls",
   "metadata": {},
   "source": [
    "### Explanation:\n",
    "Compile defines the loss function, the optimizer and the metrics.\n",
    "\n",
    "fit() is used for training models.\n",
    "\n",
    "evaluate function predicts the output for the given input and then computes the metric\n",
    "\n",
    "Library: [tf.keras/tensorflow]\n",
    "\n",
    "Category: ML"
   ]
  },
  {
   "cell_type": "markdown",
   "id": "behavioral-watch",
   "metadata": {},
   "source": [
    "### Input format : \n",
    "Dataset\n",
    "### Output format : \n",
    "Model Accuracy"
   ]
  },
  {
   "cell_type": "markdown",
   "id": "reserved-wichita",
   "metadata": {},
   "source": [
    "### Sample input : \n",
    "Load the dataset using inbuilt function\n",
    "### Sample Output : \n",
    "Accuracy"
   ]
  },
  {
   "cell_type": "code",
   "execution_count": null,
   "id": "delayed-advocacy",
   "metadata": {},
   "outputs": [],
   "source": []
  }
 ],
 "metadata": {
  "kernelspec": {
   "display_name": "Python 3",
   "language": "python",
   "name": "python3"
  },
  "language_info": {
   "codemirror_mode": {
    "name": "ipython",
    "version": 3
   },
   "file_extension": ".py",
   "mimetype": "text/x-python",
   "name": "python",
   "nbconvert_exporter": "python",
   "pygments_lexer": "ipython3",
   "version": "3.8.5"
  }
 },
 "nbformat": 4,
 "nbformat_minor": 5
}

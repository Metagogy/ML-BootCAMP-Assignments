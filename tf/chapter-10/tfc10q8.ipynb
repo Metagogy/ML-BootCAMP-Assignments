{
 "cells": [
  {
   "cell_type": "markdown",
   "id": "refined-particle",
   "metadata": {},
   "source": [
    "### Question:  \n",
    "\n",
    "Initialize list of elements   with using tf.constant, and find argmin from the list then and print the result"
   ]
  },
  {
   "cell_type": "markdown",
   "id": "earlier-greeting",
   "metadata": {},
   "source": [
    "### Level:\n",
    "Easy"
   ]
  },
  {
   "cell_type": "markdown",
   "id": "governmental-sandwich",
   "metadata": {},
   "source": [
    "### Input format : \n",
    "    List\n",
    "### Output format : \n",
    "    Shape, tensor values and datatype"
   ]
  },
  {
   "cell_type": "markdown",
   "id": "banned-artwork",
   "metadata": {},
   "source": [
    "### Sample input : \n",
    "List of elements\n",
    "\n",
    "[1, 10, 26.9, 2.8, 166.32, 62.3]\n",
    "\n",
    "### Sample output : \n",
    "print the min value of the list\n",
    "\n",
    "1"
   ]
  }
 ],
 "metadata": {
  "kernelspec": {
   "display_name": "Python 3",
   "language": "python",
   "name": "python3"
  },
  "language_info": {
   "codemirror_mode": {
    "name": "ipython",
    "version": 3
   },
   "file_extension": ".py",
   "mimetype": "text/x-python",
   "name": "python",
   "nbconvert_exporter": "python",
   "pygments_lexer": "ipython3",
   "version": "3.8.5"
  }
 },
 "nbformat": 4,
 "nbformat_minor": 5
}

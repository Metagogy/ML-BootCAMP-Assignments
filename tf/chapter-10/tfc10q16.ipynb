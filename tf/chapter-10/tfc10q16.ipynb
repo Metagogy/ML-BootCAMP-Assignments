{
 "cells": [
  {
   "cell_type": "markdown",
   "id": "collective-statistics",
   "metadata": {},
   "source": [
    "### Question:  \n",
    "Initialize two variables list of elements with using tf.constant, subtract them and print the result"
   ]
  },
  {
   "cell_type": "markdown",
   "id": "electric-kitty",
   "metadata": {},
   "source": [
    "### Level :\n",
    "Medium"
   ]
  },
  {
   "cell_type": "markdown",
   "id": "under-twelve",
   "metadata": {},
   "source": [
    "### Explanation :\n",
    "Library : [tensorflow]\n",
    "    \n",
    "Category : Tensorflow"
   ]
  },
  {
   "cell_type": "markdown",
   "id": "super-small",
   "metadata": {},
   "source": [
    "### Input format : \n",
    "First-line : Space-separated values # Convert these values into list\n",
    "\n",
    "second-line : Space-separated values # Convert these values into list\n",
    "### Output format :  \n",
    "Shape, tensor values and datatype"
   ]
  },
  {
   "cell_type": "markdown",
   "id": "latest-ensemble",
   "metadata": {},
   "source": [
    "### Sample input : \n",
    "1 2 3 4<br/>\n",
    "5 6 7 8 \n",
    "### Sample output :  \n",
    "tf.Tensor([-4 -4 -4 -4], shape=(4,), dtype=int32)"
   ]
  }
 ],
 "metadata": {
  "kernelspec": {
   "display_name": "Python 3",
   "language": "python",
   "name": "python3"
  },
  "language_info": {
   "codemirror_mode": {
    "name": "ipython",
    "version": 3
   },
   "file_extension": ".py",
   "mimetype": "text/x-python",
   "name": "python",
   "nbconvert_exporter": "python",
   "pygments_lexer": "ipython3",
   "version": "3.8.5"
  }
 },
 "nbformat": 4,
 "nbformat_minor": 5
}

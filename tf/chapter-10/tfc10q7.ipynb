{
 "cells": [
  {
   "cell_type": "markdown",
   "id": "derived-maine",
   "metadata": {},
   "source": [
    "### Question:  \n",
    "    \n",
    "Initialize list of elements   with using tf.constant, and find argmax from the list then and print the result"
   ]
  },
  {
   "cell_type": "markdown",
   "id": "widespread-scheme",
   "metadata": {},
   "source": [
    "### Level\n",
    "\n",
    "Easy"
   ]
  },
  {
   "cell_type": "markdown",
   "id": "hairy-island",
   "metadata": {},
   "source": [
    "### Input format : \n",
    "List\n",
    "### Output format :  \n",
    "Shape, tensor values and datatype"
   ]
  },
  {
   "cell_type": "markdown",
   "id": "charged-reservation",
   "metadata": {},
   "source": [
    "### Sample input : \n",
    "List of elements\n",
    "[1, 10, 26.9, 2.8, 166.32, 62.3]\n",
    "### Sample output :  \n",
    "print the max of the list<br/>\n",
    "166.32"
   ]
  }
 ],
 "metadata": {
  "kernelspec": {
   "display_name": "Python 3",
   "language": "python",
   "name": "python3"
  },
  "language_info": {
   "codemirror_mode": {
    "name": "ipython",
    "version": 3
   },
   "file_extension": ".py",
   "mimetype": "text/x-python",
   "name": "python",
   "nbconvert_exporter": "python",
   "pygments_lexer": "ipython3",
   "version": "3.8.5"
  }
 },
 "nbformat": 4,
 "nbformat_minor": 5
}

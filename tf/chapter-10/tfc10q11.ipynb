{
 "cells": [
  {
   "cell_type": "markdown",
   "id": "interim-example",
   "metadata": {},
   "source": [
    "### Question: \n",
    "Visualize elu  backpropagation function with python and generate input dataset as 10 points between -5 and 5"
   ]
  },
  {
   "cell_type": "markdown",
   "id": "elder-style",
   "metadata": {},
   "source": [
    "### Level: \n",
    "Medium"
   ]
  },
  {
   "cell_type": "markdown",
   "id": "nearby-montana",
   "metadata": {},
   "source": [
    "### Input format : \n",
    "Create list of array values in between -5 and 5 with range of 50 values\n",
    "### Output format : \n",
    "print the output result"
   ]
  },
  {
   "cell_type": "markdown",
   "id": "parallel-thumbnail",
   "metadata": {},
   "source": [
    "### Sample input : \n",
    "define elu function\n",
    "\n",
    "alpha*(np.exp(X))\n",
    "\n",
    "Take alpha as 0.1 value\n",
    "\n",
    "### Sample Output : \n",
    "print the ouput value\n",
    "\n",
    "[  0.01   0.02   0.06   0.19   0.57   1.74   5.29  16.08  48.86 148.41]\n"
   ]
  },
  {
   "cell_type": "code",
   "execution_count": null,
   "id": "invalid-newcastle",
   "metadata": {},
   "outputs": [],
   "source": []
  }
 ],
 "metadata": {
  "kernelspec": {
   "display_name": "Python 3",
   "language": "python",
   "name": "python3"
  },
  "language_info": {
   "codemirror_mode": {
    "name": "ipython",
    "version": 3
   },
   "file_extension": ".py",
   "mimetype": "text/x-python",
   "name": "python",
   "nbconvert_exporter": "python",
   "pygments_lexer": "ipython3",
   "version": "3.8.5"
  }
 },
 "nbformat": 4,
 "nbformat_minor": 5
}

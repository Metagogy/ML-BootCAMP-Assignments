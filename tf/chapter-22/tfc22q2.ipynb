{
 "cells": [
  {
   "cell_type": "markdown",
   "metadata": {},
   "source": [
    "**Question** : Read a sentence as input, apply Lemmatization, and print the result to the console.\n",
    "\n",
    "**Note** :\n",
    "\n",
    "Use nltk library.\n",
    "\n",
    "from nltk.stem import WordNetLemmatizer "
   ]
  },
  {
   "cell_type": "markdown",
   "metadata": {},
   "source": [
    "**Level** : Medium"
   ]
  },
  {
   "cell_type": "markdown",
   "metadata": {},
   "source": [
    "**Input format** : Read a sentence from the standard input."
   ]
  },
  {
   "cell_type": "markdown",
   "metadata": {},
   "source": [
    "**Output format** : The list contains lemmatizing words.\n"
   ]
  },
  {
   "cell_type": "markdown",
   "metadata": {},
   "source": [
    "**Sample Input** :\n",
    "    \n",
    "Artificial intelligence refers to the simulation of human intelligence in machines that are programmed to think like humans and mimic their actions"
   ]
  },
  {
   "cell_type": "markdown",
   "metadata": {},
   "source": [
    "**Sample Output** : \n",
    "    \n",
    "['Artificial', 'intelligence', 'refers', 'to', 'the', 'simulation', 'of', 'human', 'intelligence', 'in', 'machine', 'that', 'are', 'programmed', 'to', 'think', 'like', 'human', 'and', 'mimic', 'their', 'action']"
   ]
  },
  {
   "cell_type": "code",
   "execution_count": null,
   "metadata": {},
   "outputs": [],
   "source": [
    "# Start Your Code From Here."
   ]
  },
  {
   "cell_type": "code",
   "execution_count": null,
   "metadata": {},
   "outputs": [],
   "source": [
    "# Import Libraries.\n",
    "\n"
   ]
  },
  {
   "cell_type": "code",
   "execution_count": null,
   "metadata": {},
   "outputs": [],
   "source": [
    "# Complete The Below function.\n",
    "\n",
    "lemmatizer=WordNetLemmatizer()\n",
    "\n",
    "def lemmatize_word(text): \n",
    "    word_tokens = # Complete Your Code Here. \n",
    "    lemmas = # Complete Your Code Here.\n",
    "    return lemmas "
   ]
  },
  {
   "cell_type": "code",
   "execution_count": null,
   "metadata": {},
   "outputs": [],
   "source": [
    "# Read a sentence from standard input.\n",
    "\n",
    "text=input()"
   ]
  },
  {
   "cell_type": "code",
   "execution_count": null,
   "metadata": {},
   "outputs": [],
   "source": [
    "# print the lemmatize words \n",
    "\n",
    "print( lemmatize_word(text) )"
   ]
  }
 ],
 "metadata": {
  "kernelspec": {
   "display_name": "Python 3",
   "language": "python",
   "name": "python3"
  },
  "language_info": {
   "codemirror_mode": {
    "name": "ipython",
    "version": 3
   },
   "file_extension": ".py",
   "mimetype": "text/x-python",
   "name": "python",
   "nbconvert_exporter": "python",
   "pygments_lexer": "ipython3",
   "version": "3.8.3"
  }
 },
 "nbformat": 4,
 "nbformat_minor": 2
}

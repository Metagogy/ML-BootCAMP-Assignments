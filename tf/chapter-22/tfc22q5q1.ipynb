{
 "cells": [
  {
   "cell_type": "markdown",
   "metadata": {},
   "source": [
    "**Question** : For the given sentences remove stop words and convert words into the lower case by using Scikit-learn’s CountVectorizer to find the bag of words vectorized representation.\n"
   ]
  },
  {
   "cell_type": "markdown",
   "metadata": {},
   "source": [
    "**Level** : Easy"
   ]
  },
  {
   "cell_type": "markdown",
   "metadata": {},
   "source": [
    "**Input format** : Couple of sentences converted into strings then count for those strings"
   ]
  },
  {
   "cell_type": "markdown",
   "metadata": {},
   "source": [
    "**Output format** : List of strings and count of those strings"
   ]
  },
  {
   "cell_type": "markdown",
   "metadata": {},
   "source": [
    "**Sample Input** : \n",
    "      \n",
    "          AIEducator provides Machine Learning Course,\n",
    "         \n",
    "          AIEducator provides TENSORFLOW Certification Course,\n",
    "         \n",
    "          MENTOR support is available for STUDENTS\n"
   ]
  },
  {
   "cell_type": "markdown",
   "metadata": {},
   "source": [
    "**Sample Output** : \n",
    "\n",
    "aieducator\t<br/>\n",
    "1           <br/>\n",
    "1           <br/>\n",
    "0           <br/>\n",
    "\n",
    "available   <br/>\n",
    "0      <br/>\n",
    "0      <br/>\n",
    "1      <br/>\n",
    "\n",
    "certification   <br/>\n",
    "0    <br/>\n",
    "1    <br/>\n",
    "0    <br/>\n",
    "\n",
    "course   <br/>\n",
    "1    <br/>\n",
    "1     <br/>\n",
    "0    <br/>\n",
    "\n",
    "learning    <br/>\n",
    "1    <br/>\n",
    "0    <br/>\n",
    "0    <br/>\n",
    "\n",
    "machine   <br/>\n",
    "1     <br/>\n",
    "0     <br/>\n",
    "0     <br/>\n",
    "\n",
    "mentor  <br/>\n",
    "0    <br/> \n",
    "0    <br/>\n",
    "1     <br/>\n",
    "\n",
    "provides   <br/> \n",
    "1     <br/>\n",
    "1     <br/>\n",
    "0     <br/> \n",
    "\n",
    "students   <br/>\n",
    "0  <br/> \n",
    "0  <br/>\n",
    "1   <br/> \n",
    "\n",
    "support   <br/> \n",
    "0    <br/>\n",
    "0     <br/>\n",
    "1     <br/>\n",
    "\n",
    "tensorflow   <br/> \n",
    "0   <br/>\n",
    "1   <br/>\n",
    "0    <br/>\n"
   ]
  },
  {
   "cell_type": "markdown",
   "metadata": {},
   "source": [
    "**SOLUTION**"
   ]
  },
  {
   "cell_type": "code",
   "execution_count": 1,
   "metadata": {},
   "outputs": [],
   "source": [
    "from sklearn.feature_extraction.text import CountVectorizer\n",
    "import pandas as pd"
   ]
  },
  {
   "cell_type": "code",
   "execution_count": 2,
   "metadata": {},
   "outputs": [],
   "source": [
    "# Write your code here."
   ]
  },
  {
   "cell_type": "code",
   "execution_count": null,
   "metadata": {},
   "outputs": [],
   "source": []
  }
 ],
 "metadata": {
  "kernelspec": {
   "display_name": "Python 3",
   "language": "python",
   "name": "python3"
  },
  "language_info": {
   "codemirror_mode": {
    "name": "ipython",
    "version": 3
   },
   "file_extension": ".py",
   "mimetype": "text/x-python",
   "name": "python",
   "nbconvert_exporter": "python",
   "pygments_lexer": "ipython3",
   "version": "3.6.5"
  }
 },
 "nbformat": 4,
 "nbformat_minor": 2
}

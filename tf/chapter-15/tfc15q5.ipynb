{
 "cells": [
  {
   "cell_type": "markdown",
   "metadata": {},
   "source": [
    "**Question**:  Build, compile, train and evaluate cifar-10 model by using batch normalization, dropout layers and l2 regularizer.\n",
    "\n"
   ]
  },
  {
   "cell_type": "markdown",
   "metadata": {},
   "source": [
    "**Description:**\n",
    "    \n",
    "* Load the Cifar-10 dataset using an in-built function\n",
    "* Split the dataset into 50,000 training and 10,000 testing samples\n",
    "* Convert class vectors into binary class matrices\n",
    "* Build the sequential model having 2 layers with 32 neurons, 2 layers with 64 neurons and 2 layers with 128 neurons. Use ‘relu’   as activation function. Use batch normalization and max pooling layers. Dropouts as 0.25 or 0.5\n",
    "* Compile the model with loss as categorical cross-entropy and optimizer as stochastic gradient descent\n",
    "* Normalize the training and testing sets\n",
    "* Train the model with 10 epochs, 32 as a batch size\n",
    "* Finally, evaluate the model and print the validation accuracy"
   ]
  },
  {
   "cell_type": "markdown",
   "metadata": {},
   "source": [
    "**Solution:**\n"
   ]
  },
  {
   "cell_type": "code",
   "execution_count": null,
   "metadata": {},
   "outputs": [],
   "source": [
    "# Import Libraries.\n",
    "\n",
    "import keras\n",
    "import tensorflow as tf\n",
    "import numpy as np"
   ]
  },
  {
   "cell_type": "code",
   "execution_count": null,
   "metadata": {},
   "outputs": [],
   "source": [
    "# Splitting the data as train and test\n",
    "(x_train, y_train), (x_test, y_test) = # Complete Your Code Here."
   ]
  },
  {
   "cell_type": "code",
   "execution_count": null,
   "metadata": {},
   "outputs": [],
   "source": [
    "# classes\n",
    "\n",
    "class_names = ['airplane','automobile','bird','cat','deer','dog','frog','horse','ship','truck']"
   ]
  },
  {
   "cell_type": "code",
   "execution_count": null,
   "metadata": {},
   "outputs": [],
   "source": [
    "# Convert train and test images into float datatype.\n",
    "\n",
    "x_train = x_train.astype('float32')\n",
    "x_test = x_test.astype('float32')"
   ]
  },
  {
   "cell_type": "code",
   "execution_count": null,
   "metadata": {},
   "outputs": [],
   "source": [
    "# Normalize the train and test images.\n",
    "\n",
    "x_train = # Complete Your Code Here.\n",
    "x_test = # Complete Your Code Here."
   ]
  },
  {
   "cell_type": "code",
   "execution_count": null,
   "metadata": {},
   "outputs": [],
   "source": [
    "# Convert class vectors to binary class matrices.\n",
    "\n",
    "num_classes = 10\n",
    "y_train = to_categorical( # Complete Your Code Here. )\n",
    "y_test = to_categorical( # Complete Your Code Here. )"
   ]
  },
  {
   "cell_type": "code",
   "execution_count": null,
   "metadata": {},
   "outputs": [],
   "source": [
    "# Build the model.\n",
    "\n",
    "model = Sequential()\n",
    "model.add(Conv2D(# Complete Your Code Here. )) \n",
    "model.add(BatchNormalization())\n",
    "model.add(Conv2D(# Complete Your Code Here. ))\n",
    "model.add(BatchNormalization())\n",
    "model.add(MaxPooling2D(# Complete Your Code Here. ))\n",
    "model.add(Dropout(0.25))\n",
    "\n",
    "model.add(Conv2D(# Complete Your Code Here. ))\n",
    "model.add(BatchNormalization())\n",
    "model.add(Conv2D(# Complete Your Code Here.))\n",
    "model.add(BatchNormalization())\n",
    "model.add(MaxPooling2D(pool_size=(2, 2)))\n",
    "model.add(Dropout(0.25))\n",
    "\n",
    "model.add(Conv2D(# Complete Your Code Here.))\n",
    "model.add(BatchNormalization())\n",
    "model.add(Conv2D(# Complete Your Code Here. ))\n",
    "model.add(BatchNormalization())\n",
    "model.add(MaxPooling2D(# Complete Your Code Here. ))\n",
    "model.add(Dropout(0.25))\n",
    "\n",
    "model.add(Flatten())\n",
    "model.add(Dense(# Complete Your Code Here. ))\n",
    "model.add(Dropout(0.5))\n",
    "model.add(Dense(num_classes))"
   ]
  },
  {
   "cell_type": "code",
   "execution_count": null,
   "metadata": {},
   "outputs": [],
   "source": [
    "# compile\n",
    "\n",
    "# Complete Your Code Here."
   ]
  },
  {
   "cell_type": "code",
   "execution_count": null,
   "metadata": {},
   "outputs": [],
   "source": [
    "# Training the model\n",
    "\n",
    "batch_size = 32\n",
    "epochs = 10\n",
    "history = model.fit(  ,shuffle=True,verbose=0);      # Complete Your Code Here."
   ]
  },
  {
   "cell_type": "code",
   "execution_count": null,
   "metadata": {},
   "outputs": [],
   "source": [
    "# Evaluate the model.\n",
    "\n",
    "results = model.evaluate(# Complete Your Code Here. ,verbose=0);"
   ]
  },
  {
   "cell_type": "code",
   "execution_count": null,
   "metadata": {},
   "outputs": [],
   "source": [
    "# Print accuracy.\n",
    "\n",
    "                        # Complete Your Code Here."
   ]
  }
 ],
 "metadata": {
  "kernelspec": {
   "display_name": "Python 3",
   "language": "python",
   "name": "python3"
  },
  "language_info": {
   "codemirror_mode": {
    "name": "ipython",
    "version": 3
   },
   "file_extension": ".py",
   "mimetype": "text/x-python",
   "name": "python",
   "nbconvert_exporter": "python",
   "pygments_lexer": "ipython3",
   "version": "3.8.3"
  }
 },
 "nbformat": 4,
 "nbformat_minor": 2
}

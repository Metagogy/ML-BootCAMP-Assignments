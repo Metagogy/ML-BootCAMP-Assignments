{
 "cells": [
  {
   "cell_type": "markdown",
   "metadata": {},
   "source": [
    "**Question**:  Build, compile, train and evaluate cifar-10 model by using dropouts and without using batch normalization."
   ]
  },
  {
   "cell_type": "markdown",
   "metadata": {},
   "source": [
    "**Description:**\n",
    "    \n",
    "* Load the Cifar-10 dataset using an in-built function\n",
    "* Split the dataset into 50,000 training and 10,000 testing samples\n",
    "* Normalize the training and testing sets\n",
    "* Convert class vectors into binary class matrices\n",
    "* Build the sequential model having 2 layers with 32 neurons, 2 layers with 64 neurons. Use ‘relu’ as activation function and     dropout as 0.2\n",
    "* Compile the model with loss as categorical cross-entropy and optimizer as stochastic gradient descent\n",
    "* Train the model with 10 epochs, 32 as a batch size\n",
    "* Finally, evaluate the model and print the validation accuracy"
   ]
  },
  {
   "cell_type": "code",
   "execution_count": null,
   "metadata": {},
   "outputs": [],
   "source": [
    "# Start Your Code Here."
   ]
  },
  {
   "cell_type": "code",
   "execution_count": null,
   "metadata": {},
   "outputs": [],
   "source": [
    "# import Required libraries.\n",
    "\n",
    "import tensorflow as tf\n"
   ]
  },
  {
   "cell_type": "code",
   "execution_count": null,
   "metadata": {},
   "outputs": [],
   "source": [
    "# split train and test samples.\n",
    "\n",
    "(x_train, y_train), (x_test, y_test) = # Complete Your Code Here."
   ]
  },
  {
   "cell_type": "code",
   "execution_count": null,
   "metadata": {},
   "outputs": [],
   "source": [
    "# convert to float, normalise the data\n",
    "\n",
    "x_train = x_train.astype('float32')\n",
    "x_test = x_test.astype('float32')\n",
    "x_train = # Complete Your Code Here.\n",
    "x_test = # Complete Your Code Here."
   ]
  },
  {
   "cell_type": "code",
   "execution_count": null,
   "metadata": {},
   "outputs": [],
   "source": [
    "# Convert class vectors to binary class matrices.\n",
    "\n",
    "y_train = to_categorical(# Complete Your Code Here. )\n",
    "y_test = to_categorical(# Complete Your Code Here. )"
   ]
  },
  {
   "cell_type": "code",
   "execution_count": null,
   "metadata": {},
   "outputs": [],
   "source": [
    "# Build model architecture.\n",
    "\n",
    "model = Sequential()\n",
    "model.add(Conv2D(32, (3, 3), activation='relu',padding='same',input_shape=x_train.shape[1:]))\n",
    "model.add(Conv2D(# Complete Your Code Here. ))\n",
    "model.add(MaxPooling2D(# Complete Your Code Here.))\n",
    "model.add(Dropout(0.2))\n",
    "\n",
    "model.add(Conv2D( # Complete Your Code Here. ))\n",
    "model.add(Conv2D( # Complete Your Code Here. ))\n",
    "model.add(MaxPooling2D(# Complete Your Code Here.))\n",
    "model.add(Dropout(0.2))\n",
    "\n",
    "model.add(Flatten())\n",
    "model.add(Dense(# Complete Your Code Here. ))\n",
    "model.add(Dropout(0.2))\n",
    "model.add(Dense(# Complete Your Code Here. ))"
   ]
  },
  {
   "cell_type": "code",
   "execution_count": null,
   "metadata": {},
   "outputs": [],
   "source": [
    "# Compile the model\n",
    "\n",
    "model.compile(# Complete Your Code Here.)"
   ]
  },
  {
   "cell_type": "code",
   "execution_count": null,
   "metadata": {
    "scrolled": true
   },
   "outputs": [],
   "source": [
    "# Fit the model\n",
    "\n",
    "batch_size = 32\n",
    "epochs = 10\n",
    "model.fit( ,shuffle=True,verbose=0);      # Complete Your Code Here."
   ]
  },
  {
   "cell_type": "code",
   "execution_count": null,
   "metadata": {},
   "outputs": [],
   "source": [
    "# evaluate The model\n",
    "\n",
    "loss,acc = # Complete Your Code Here."
   ]
  },
  {
   "cell_type": "code",
   "execution_count": null,
   "metadata": {},
   "outputs": [],
   "source": [
    "# Print Accuracy\n",
    "\n",
    "                  # Complete Your Code Here."
   ]
  }
 ],
 "metadata": {
  "kernelspec": {
   "display_name": "Python 3",
   "language": "python",
   "name": "python3"
  },
  "language_info": {
   "codemirror_mode": {
    "name": "ipython",
    "version": 3
   },
   "file_extension": ".py",
   "mimetype": "text/x-python",
   "name": "python",
   "nbconvert_exporter": "python",
   "pygments_lexer": "ipython3",
   "version": "3.8.3"
  }
 },
 "nbformat": 4,
 "nbformat_minor": 2
}

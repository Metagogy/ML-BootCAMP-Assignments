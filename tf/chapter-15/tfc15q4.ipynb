{
 "cells": [
  {
   "cell_type": "markdown",
   "metadata": {},
   "source": [
    "**Question**:  Build, compile, train and evaluate cifar-10 model by using feature map\n",
    "\n",
    "**Description:**\n",
    "    \n",
    "* Load the Cifar-10 dataset using an in-built function\n",
    "* Split the dataset into 50,000 training and 10,000 testing samples\n",
    "* Normalize the training and testing sets\n",
    "* Convert class vectors into binary class matrices\n",
    "* Build the sequential model having 2 layers with 64 neurons, 2 layers with 128 neurons. Use ‘relu’ as activation function. Use   batch normalization and max pooling layers. Dropouts as 0.2.\n",
    "* Compile the model with loss as categorical cross-entropy and optimizer as RMSprop.\n",
    "* Apply Data Augmentation on trained data.\n",
    "* Train the model with 10 epochs, 32 as a batch size\n",
    "* Finally, evaluate the model and print the validation accuracy"
   ]
  },
  {
   "cell_type": "code",
   "execution_count": null,
   "metadata": {},
   "outputs": [],
   "source": [
    "# Start Your Code From Here."
   ]
  },
  {
   "cell_type": "code",
   "execution_count": null,
   "metadata": {},
   "outputs": [],
   "source": [
    "# import libraries\n",
    "\n",
    "import tensorflow as tf"
   ]
  },
  {
   "cell_type": "code",
   "execution_count": null,
   "metadata": {},
   "outputs": [],
   "source": [
    "# split train and test samples.\n",
    "\n",
    "(x_train, y_train), (x_test, y_test) = # Complete Your Code Here."
   ]
  },
  {
   "cell_type": "code",
   "execution_count": null,
   "metadata": {},
   "outputs": [],
   "source": [
    "# convert to float, normalise the data\n",
    "\n",
    "x_train = x_train.astype('float32')\n",
    "x_test = x_test.astype('float32')\n",
    "x_train = # Complete Your Code Here.\n",
    "x_test = # Complete Your Code Here.\n"
   ]
  },
  {
   "cell_type": "code",
   "execution_count": null,
   "metadata": {},
   "outputs": [],
   "source": [
    "# Convert class vectors to binary class matrices.\n",
    "\n",
    "y_train = to_categorical(# Complete Your Code Here. )\n",
    "y_test = to_categorical(# Complete Your Code Here. )"
   ]
  },
  {
   "cell_type": "code",
   "execution_count": null,
   "metadata": {},
   "outputs": [],
   "source": [
    "# Build model architecture.\n",
    "num_classes=10\n",
    "model = Sequential()\n",
    "model.add(Conv2D(# Complete Your Code Here. ))\n",
    "model.add(BatchNormalization())\n",
    "model.add(Conv2D(# Complete Your Code Here. ))\n",
    "model.add(BatchNormalization())\n",
    "model.add(MaxPooling2D(# Complete Your Code Here.))\n",
    "model.add(Dropout(0.2))\n",
    "\n",
    "model.add(Conv2D(# Complete Your Code Here. ))\n",
    "model.add(BatchNormalization())\n",
    "model.add(Conv2D(# Complete Your Code Here. ))\n",
    "model.add(BatchNormalization())\n",
    "model.add(MaxPooling2D(# Complete Your Code Here. ))\n",
    "model.add(Dropout(0.2))\n",
    "\n",
    "model.add(Flatten())\n",
    "model.add(Dense(# Complete Your Code Here. ))\n",
    "model.add(Dropout(0.2))\n",
    "model.add(Dense(# Complete Your Code Here. ))"
   ]
  },
  {
   "cell_type": "code",
   "execution_count": null,
   "metadata": {},
   "outputs": [],
   "source": [
    "# Apply DataAugmentation.\n",
    "\n",
    "datagen = ImageDataGenerator(\n",
    "    featurewise_center=False,\n",
    "    samplewise_center=False,\n",
    "    featurewise_std_normalization=False,\n",
    "    samplewise_std_normalization=False,\n",
    "    zca_whitening=False,\n",
    "    rotation_range=15,\n",
    "    width_shift_range=0.1,\n",
    "    height_shift_range=0.1,\n",
    "    horizontal_flip=True,\n",
    "    vertical_flip=False\n",
    "    )\n",
    "\n",
    "datagen.fit(X_train)\n",
    "batch_size=32\n",
    "epochs=10"
   ]
  },
  {
   "cell_type": "code",
   "execution_count": null,
   "metadata": {},
   "outputs": [],
   "source": [
    "# Compile the model\n",
    "\n",
    "# Complete Your Code Here."
   ]
  },
  {
   "cell_type": "code",
   "execution_count": null,
   "metadata": {},
   "outputs": [],
   "source": [
    "# Fit the Model.\n",
    "\n",
    "model.fit_generator(datagen.flow(X_train,y_train,batch_size=batch_size),steps_per_epoch=len(X_train)//batch_size,epochs=epochs,verbose=1,validation_data=(X_test,y_test))"
   ]
  },
  {
   "cell_type": "code",
   "execution_count": null,
   "metadata": {},
   "outputs": [],
   "source": [
    "# evaluate The model\n",
    "\n",
    "loss,acc = model.evaluate( ,verbose=0);    # Complete Your Code Here."
   ]
  },
  {
   "cell_type": "code",
   "execution_count": null,
   "metadata": {},
   "outputs": [],
   "source": [
    "# Print Accuracy\n",
    "\n",
    "                        # Complete Your Code Here."
   ]
  }
 ],
 "metadata": {
  "kernelspec": {
   "display_name": "Python 3",
   "language": "python",
   "name": "python3"
  },
  "language_info": {
   "codemirror_mode": {
    "name": "ipython",
    "version": 3
   },
   "file_extension": ".py",
   "mimetype": "text/x-python",
   "name": "python",
   "nbconvert_exporter": "python",
   "pygments_lexer": "ipython3",
   "version": "3.8.3"
  }
 },
 "nbformat": 4,
 "nbformat_minor": 2
}

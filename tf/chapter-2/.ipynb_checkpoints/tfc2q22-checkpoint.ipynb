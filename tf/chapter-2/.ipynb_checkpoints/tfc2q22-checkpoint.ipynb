{
 "cells": [
  {
   "cell_type": "markdown",
   "metadata": {},
   "source": [
    "**Question :** Write a program to print the difference between the two sets A and B?"
   ]
  },
  {
   "cell_type": "markdown",
   "metadata": {},
   "source": [
    "**Explanation**\n",
    "  \n",
    "**input() function:** This is used to fetch input from the user. in this case. We are expecting the user to provide a list of integers.\n",
    "   Suppose, a=input() will allow the user to give the input.\n",
    "   We cannot give lists, sets, dictionaries, and arrays directly as input.\n",
    "   Because of that, we will give input as space-separated values.\n",
    "   Basically, the input() function reads and stores data in the format of the string.\n",
    "   \n",
    "ex:\n",
    "**a=input()**\n",
    "  \n",
    "###   1  2  3  4\n",
    "     \n",
    "   so, here **a=\"1 2 3 4\",**\n",
    "   \n",
    "   Values are separated with space so we can split these values with space.\n",
    "   \n",
    "**a=input().split()** #['1','2','3','4'] \n",
    "   \n",
    "**split() function :** The split() method splits a string into a list. You can specify the separator, default separator is any whitespace.So, now we have:['1','2','3','4']\n",
    "   \n",
    "**a=map(int,input().split())**\n",
    "   \n",
    "**map() function :** It takes two arguments. The first one is the method to apply, the second one is the data to apply it to. By this understanding, we can see this is doing nothing but typecasting every element of the list to an integer value. Since map returns the data type it was applied to, the list() method applied over map() is redundant. So now we have covered the following:\n",
    "                \n",
    "**a=list(map(int,input().split()))**\n",
    "\n",
    "now we have: [1 , 2 ,3, 4] #Observe missing Quotes.This means now all elements are int.\n",
    "   \n",
    "                                set(a)      # {1,2,3,4}\n",
    "\n",
    "                                tuple(a)    #(1,2,3,4)"
   ]
  },
  {
   "cell_type": "markdown",
   "metadata": {},
   "source": [
    "**Level :** Easy"
   ]
  },
  {
   "cell_type": "markdown",
   "metadata": {},
   "source": [
    "**Input format :** space-separated values."
   ]
  },
  {
   "cell_type": "markdown",
   "metadata": {},
   "source": [
    "**Output format :** set."
   ]
  },
  {
   "cell_type": "markdown",
   "metadata": {},
   "source": [
    "**Sample Input :** \n",
    "\n",
    "a b c d e <br/>\n",
    "d e b a b"
   ]
  },
  {
   "cell_type": "markdown",
   "metadata": {},
   "source": [
    "**Sample Output :**\n",
    "\n",
    "{'c'}"
   ]
  },
  {
   "cell_type": "code",
   "execution_count": null,
   "metadata": {},
   "outputs": [],
   "source": [
    "# Write Your Code Here."
   ]
  },
  {
   "cell_type": "code",
   "execution_count": null,
   "metadata": {},
   "outputs": [],
   "source": []
  },
  {
   "cell_type": "code",
   "execution_count": null,
   "metadata": {},
   "outputs": [],
   "source": []
  }
 ],
 "metadata": {
  "kernelspec": {
   "display_name": "Python 3",
   "language": "python",
   "name": "python3"
  },
  "language_info": {
   "codemirror_mode": {
    "name": "ipython",
    "version": 3
   },
   "file_extension": ".py",
   "mimetype": "text/x-python",
   "name": "python",
   "nbconvert_exporter": "python",
   "pygments_lexer": "ipython3",
   "version": "3.8.3"
  }
 },
 "nbformat": 4,
 "nbformat_minor": 4
}

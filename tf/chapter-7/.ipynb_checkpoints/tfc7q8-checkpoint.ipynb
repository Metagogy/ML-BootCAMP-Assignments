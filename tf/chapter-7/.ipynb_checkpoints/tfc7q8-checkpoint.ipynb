{
 "cells": [
  {
   "cell_type": "markdown",
   "metadata": {},
   "source": [
    "**Question :**  Create a dictionary with given key-value pairs. Convert the created dictionary into a data frame using pandas. Add a new column (column name and values are given from standard input) to the data frame, And print the new data frame columns and values to the console."
   ]
  },
  {
   "cell_type": "markdown",
   "metadata": {},
   "source": [
    "### Description\n",
    "\n",
    "Create a dictionary using below key-value pairs."
   ]
  },
  {
   "cell_type": "raw",
   "metadata": {},
   "source": [
    "    'A':['A1', 'A2', 'A3', 'A4', 'A5'], \n",
    "    'B':['B1', 'B2', 'B3', 'B4', 'B5'], \n",
    "    'C':['C1', 'C2', 'C3', 'C4', 'C5'], \n",
    "    'D':['D1', 'D2', 'D3', 'D4', 'D5'], \n",
    "    'E':['E1', 'E2', 'E3', 'E4', 'E5'] "
   ]
  },
  {
   "cell_type": "markdown",
   "metadata": {},
   "source": [
    "**Level** : Hard\n"
   ]
  },
  {
   "cell_type": "markdown",
   "metadata": {},
   "source": [
    "**Input format** : \n",
    "\n",
    "First-line : Column-name\n",
    "\n",
    "Second-line : Space-separated values."
   ]
  },
  {
   "cell_type": "markdown",
   "metadata": {},
   "source": [
    "**Output format** :\n",
    "\n",
    "First-line : List of Columns in Dataframe.\n",
    "\n",
    "Second-line :Array of values in Dataframe."
   ]
  },
  {
   "cell_type": "markdown",
   "metadata": {},
   "source": [
    "**Sample input** : \n",
    "\n",
    "F\n",
    "\n",
    "F1 F2 F3 F4 F5"
   ]
  },
  {
   "cell_type": "markdown",
   "metadata": {},
   "source": [
    "**Sample Output** : "
   ]
  },
  {
   "cell_type": "raw",
   "metadata": {},
   "source": [
    "['A', 'B', 'C', 'D', 'E', 'F']\n",
    "[['A1' 'B1' 'C1' 'D1' 'E1' 'F1']\n",
    " ['A2' 'B2' 'C2' 'D2' 'E2' 'F2']\n",
    " ['A3' 'B3' 'C3' 'D3' 'E3' 'F3']\n",
    " ['A4' 'B4' 'C4' 'D4' 'E4' 'F4']\n",
    " ['A5' 'B5' 'C5' 'D5' 'E5' 'F5']] "
   ]
  },
  {
   "cell_type": "code",
   "execution_count": null,
   "metadata": {},
   "outputs": [],
   "source": [
    "# Start Your Code From Here."
   ]
  },
  {
   "cell_type": "code",
   "execution_count": null,
   "metadata": {},
   "outputs": [],
   "source": [
    "import pandas as pd "
   ]
  },
  {
   "cell_type": "code",
   "execution_count": null,
   "metadata": {},
   "outputs": [],
   "source": []
  },
  {
   "cell_type": "code",
   "execution_count": null,
   "metadata": {},
   "outputs": [],
   "source": []
  },
  {
   "cell_type": "code",
   "execution_count": null,
   "metadata": {},
   "outputs": [],
   "source": []
  },
  {
   "cell_type": "code",
   "execution_count": null,
   "metadata": {},
   "outputs": [],
   "source": []
  }
 ],
 "metadata": {
  "kernelspec": {
   "display_name": "Python 3",
   "language": "python",
   "name": "python3"
  },
  "language_info": {
   "codemirror_mode": {
    "name": "ipython",
    "version": 3
   },
   "file_extension": ".py",
   "mimetype": "text/x-python",
   "name": "python",
   "nbconvert_exporter": "python",
   "pygments_lexer": "ipython3",
   "version": "3.8.3"
  }
 },
 "nbformat": 4,
 "nbformat_minor": 4
}

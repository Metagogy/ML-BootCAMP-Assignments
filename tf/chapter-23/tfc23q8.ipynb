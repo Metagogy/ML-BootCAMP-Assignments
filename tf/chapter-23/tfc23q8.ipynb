{
 "cells": [
  {
   "cell_type": "markdown",
   "metadata": {},
   "source": [
    "**Question :** Print all the dates present of a given range "
   ]
  },
  {
   "cell_type": "markdown",
   "metadata": {},
   "source": [
    "**Level** : Easy"
   ]
  },
  {
   "cell_type": "markdown",
   "metadata": {},
   "source": [
    "**Input Format:**<br/>\n",
    "\n",
    "Year, Month and Date <br/>\n",
    "Year, Month and Date"
   ]
  },
  {
   "cell_type": "markdown",
   "metadata": {},
   "source": [
    "**Output Format:**<br/>\n",
    "Datetime Index\n"
   ]
  },
  {
   "cell_type": "markdown",
   "metadata": {},
   "source": [
    "**Sample Input:**<br/>\n",
    "2018/01/01<br/>\n",
    "2018/01/30\n"
   ]
  },
  {
   "cell_type": "markdown",
   "metadata": {},
   "source": [
    "**Sample Output:**<br/>\n",
    "DatetimeIndex(['2018-01-01', '2018-01-02', '2018-01-03', '2018-01-04',<br/>\n",
    "               '2018-01-05', '2018-01-06', '2018-01-07', '2018-01-08',<br/>\n",
    "               '2018-01-09', '2018-01-10', '2018-01-11', '2018-01-12',<br/>\n",
    "               '2018-01-13', '2018-01-14', '2018-01-15', '2018-01-16',<br/>\n",
    "               '2018-01-17', '2018-01-18', '2018-01-19', '2018-01-20',<br/>\n",
    "               '2018-01-21', '2018-01-22', '2018-01-23', '2018-01-24',<br/>\n",
    "               '2018-01-25', '2018-01-26', '2018-01-27', '2018-01-28',<br/>\n",
    "               '2018-01-29', '2018-01-30'],<br/>\n",
    "              dtype='datetime64[ns]', freq='D')\n"
   ]
  },
  {
   "cell_type": "markdown",
   "metadata": {},
   "source": [
    "**SOLUTION**"
   ]
  },
  {
   "cell_type": "code",
   "execution_count": 1,
   "metadata": {},
   "outputs": [],
   "source": [
    "import pandas as pd\n",
    "from datetime import datetime\n",
    "import numpy as np"
   ]
  },
  {
   "cell_type": "code",
   "execution_count": null,
   "metadata": {},
   "outputs": [],
   "source": [
    "s=input()\n",
    "e=input()"
   ]
  },
  {
   "cell_type": "code",
   "execution_count": 6,
   "metadata": {},
   "outputs": [],
   "source": [
    "date_rng = #Complete your code here"
   ]
  },
  {
   "cell_type": "code",
   "execution_count": null,
   "metadata": {},
   "outputs": [],
   "source": []
  }
 ],
 "metadata": {
  "kernelspec": {
   "display_name": "Python 3",
   "language": "python",
   "name": "python3"
  },
  "language_info": {
   "codemirror_mode": {
    "name": "ipython",
    "version": 3
   },
   "file_extension": ".py",
   "mimetype": "text/x-python",
   "name": "python",
   "nbconvert_exporter": "python",
   "pygments_lexer": "ipython3",
   "version": "3.8.5"
  }
 },
 "nbformat": 4,
 "nbformat_minor": 2
}

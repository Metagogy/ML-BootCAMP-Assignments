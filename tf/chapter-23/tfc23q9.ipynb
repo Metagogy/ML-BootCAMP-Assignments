{
 "cells": [
  {
   "cell_type": "markdown",
   "metadata": {},
   "source": [
    "**Question :** Print all the dates and time present of a given range "
   ]
  },
  {
   "cell_type": "markdown",
   "metadata": {},
   "source": [
    "**Level :01**"
   ]
  },
  {
   "cell_type": "markdown",
   "metadata": {},
   "source": [
    "**Input Format:**<br/>\n",
    "String<br/>\n",
    "string"
   ]
  },
  {
   "cell_type": "markdown",
   "metadata": {},
   "source": [
    "**Output Format:**<br/>\n",
    "Datetime Index\n"
   ]
  },
  {
   "cell_type": "markdown",
   "metadata": {},
   "source": [
    "**Sample Input:**<br/>\n",
    "01/01/2018<br/>\n",
    "01/30/2018\n"
   ]
  },
  {
   "cell_type": "markdown",
   "metadata": {},
   "source": [
    "**Sample Output:**<br/>\n",
    "DatetimeIndex(['2018-01-01 00:00:00', '2018-01-01 01:00:00',<br/>\n",
    "               '2018-01-01 02:00:00', '2018-01-01 03:00:00',<br/>\n",
    "               '2018-01-01 04:00:00', '2018-01-01 05:00:00',<br/>\n",
    "               '2018-01-01 06:00:00', '2018-01-01 07:00:00',<br/>\n",
    "               '2018-01-01 08:00:00', '2018-01-01 09:00:00',<br/>\n",
    "               ...<br/>\n",
    "               '2018-01-29 15:00:00', '2018-01-29 16:00:00',<br/>\n",
    "               '2018-01-29 17:00:00', '2018-01-29 18:00:00',<br/>\n",
    "               '2018-01-29 19:00:00', '2018-01-29 20:00:00',<br/>\n",
    "               '2018-01-29 21:00:00', '2018-01-29 22:00:00',<br/>\n",
    "               '2018-01-29 23:00:00', '2018-01-30 00:00:00'],<br/>\n",
    "              dtype='datetime64[ns]', length=697, freq='H')\n",
    "\n"
   ]
  },
  {
   "cell_type": "markdown",
   "metadata": {},
   "source": [
    "**SOLUTION**"
   ]
  },
  {
   "cell_type": "code",
   "execution_count": null,
   "metadata": {},
   "outputs": [],
   "source": [
    "#Start your code from here"
   ]
  },
  {
   "cell_type": "code",
   "execution_count": null,
   "metadata": {},
   "outputs": [],
   "source": [
    "#import required libraries\n"
   ]
  },
  {
   "cell_type": "code",
   "execution_count": null,
   "metadata": {},
   "outputs": [],
   "source": [
    "#take the given inputs\n"
   ]
  },
  {
   "cell_type": "code",
   "execution_count": null,
   "metadata": {},
   "outputs": [],
   "source": [
    "#write to a date range\n"
   ]
  },
  {
   "cell_type": "code",
   "execution_count": null,
   "metadata": {},
   "outputs": [],
   "source": [
    "#print the range\n"
   ]
  },
  {
   "cell_type": "code",
   "execution_count": null,
   "metadata": {},
   "outputs": [],
   "source": []
  }
 ],
 "metadata": {
  "kernelspec": {
   "display_name": "Python 3",
   "language": "python",
   "name": "python3"
  },
  "language_info": {
   "codemirror_mode": {
    "name": "ipython",
    "version": 3
   },
   "file_extension": ".py",
   "mimetype": "text/x-python",
   "name": "python",
   "nbconvert_exporter": "python",
   "pygments_lexer": "ipython3",
   "version": "3.7.3"
  }
 },
 "nbformat": 4,
 "nbformat_minor": 2
}

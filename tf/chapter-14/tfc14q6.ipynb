{
 "cells": [
  {
   "cell_type": "markdown",
   "metadata": {},
   "source": [
    "**Question**:  Create an array, apply convolution on it and print the shape."
   ]
  },
  {
   "cell_type": "markdown",
   "metadata": {},
   "source": [
    "**Level:** 01"
   ]
  },
  {
   "cell_type": "markdown",
   "metadata": {},
   "source": [
    "**Description:**\n",
    "* Define a single input, an integer number which will decide the number of rows \n",
    "* Then enter the space separated values  and convert it into an array by asarray() method\n",
    "* Define a sequential model with the single hidden convolutional layer with a single filter with the shape of (2x2) pixels having ‘relu’ activation. \n",
    "* Apply the filter to our input sample by using the predict() function on the model.\n",
    "* Print the result i.e., shape of the predicted input sample\n"
   ]
  },
  {
   "cell_type": "markdown",
   "metadata": {},
   "source": [
    "**Input format:**  Space separated  Integer values\n",
    "\n",
    "\n",
    "**Output format:**  tuple\n",
    "\n",
    "\n"
   ]
  },
  {
   "cell_type": "markdown",
   "metadata": {},
   "source": [
    "**Sample input:**\n",
    "\n",
    "8<br/>\n",
    "0 0 0 0 0 0 0 0<br/>\n",
    "0 0 0 0 0 0 0 0<br/>\n",
    "0 0 0 0 0 0 0 0<br/>\n",
    "1 1 1 1 1 1 1 1<br/>\n",
    "1 1 1 1 1 1 1 1<br/>\n",
    "0 0 0 0 0 0 0 0<br/>\n",
    "0 0 0 0 0 0 0 0<br/>\n",
    "0 0 0 0 0 0 0 0<br/>\n",
    "\n"
   ]
  },
  {
   "cell_type": "markdown",
   "metadata": {},
   "source": [
    "**Sample output:**\n",
    "\n",
    "\n",
    "(1, 7, 7, 1)\n"
   ]
  },
  {
   "cell_type": "code",
   "execution_count": 1,
   "metadata": {},
   "outputs": [],
   "source": [
    "# Start Your Code Here."
   ]
  },
  {
   "cell_type": "code",
   "execution_count": 2,
   "metadata": {},
   "outputs": [],
   "source": [
    "# import libraries\n"
   ]
  },
  {
   "cell_type": "code",
   "execution_count": null,
   "metadata": {},
   "outputs": [],
   "source": []
  },
  {
   "cell_type": "code",
   "execution_count": null,
   "metadata": {},
   "outputs": [],
   "source": []
  }
 ],
 "metadata": {
  "kernelspec": {
   "display_name": "Python 3",
   "language": "python",
   "name": "python3"
  },
  "language_info": {
   "codemirror_mode": {
    "name": "ipython",
    "version": 3
   },
   "file_extension": ".py",
   "mimetype": "text/x-python",
   "name": "python",
   "nbconvert_exporter": "python",
   "pygments_lexer": "ipython3",
   "version": "3.7.3"
  }
 },
 "nbformat": 4,
 "nbformat_minor": 2
}

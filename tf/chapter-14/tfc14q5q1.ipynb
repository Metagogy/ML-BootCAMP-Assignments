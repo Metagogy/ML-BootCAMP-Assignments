{
 "cells": [
  {
   "cell_type": "markdown",
   "metadata": {},
   "source": [
    "**Question** : Construct a sequential model to demonstrate the stride parameter in the convolution layer."
   ]
  },
  {
   "cell_type": "markdown",
   "metadata": {},
   "source": [
    "**Description** :\n",
    "    \n",
    "Define a single input sample that has one channel and is a 6 pixel by 6 pixel square with all 0 values and a two-pixel wide vertical line in the center.\n",
    "\n",
    "Define a sequential model with the shape (6, 6, 1) and a single hidden convolutional layer with a single filter with the shape of (3x3) pixels and (2x2) as stride\n",
    "\n",
    "Define our own 3×3 filter that will detect vertical lines. \n",
    "\n",
    "Apply the filter to our input sample by using the predict() function on the model.\n",
    "\n",
    "Print the result i.e., four-dimensional output with one batch, number of rows and columns, and one filter"
   ]
  },
  {
   "cell_type": "markdown",
   "metadata": {},
   "source": [
    "**Level** : Easy"
   ]
  },
  {
   "cell_type": "markdown",
   "metadata": {},
   "source": [
    "**Input format** : Array\n"
   ]
  },
  {
   "cell_type": "markdown",
   "metadata": {},
   "source": [
    "**Output format** : Array\n",
    "\n"
   ]
  },
  {
   "cell_type": "markdown",
   "metadata": {},
   "source": [
    "**Sample input** : 6 x 6matrix\n",
    "\n",
    "[[0, 0, 1, 1, 0, 0],\n",
    "\n",
    "[0, 0, 1, 1, 0, 0],\n",
    "\n",
    "[0, 0, 1, 1, 0, 0],\n",
    "\n",
    "[0, 0, 1, 1, 0, 0],\n",
    "\n",
    "[0, 0, 1, 1, 0, 0],\n",
    "\n",
    "[0, 0, 1, 1, 0, 0]]\n"
   ]
  },
  {
   "cell_type": "markdown",
   "metadata": {},
   "source": [
    "**Sample output** : 2 x 2 matrix \n",
    "[0.0, 3.0]\n",
    "[0.0, 3.0]\n"
   ]
  },
  {
   "cell_type": "markdown",
   "metadata": {},
   "source": [
    "\n",
    "**Solution** :"
   ]
  },
  {
   "cell_type": "code",
   "execution_count": null,
   "metadata": {},
   "outputs": [],
   "source": [
    "from tensorflow import keras\n",
    "from numpy import asarray\n",
    "from tensorflow.keras.models import Sequential\n",
    "from tensorflow.keras.layers import Conv2D "
   ]
  },
  {
   "cell_type": "code",
   "execution_count": null,
   "metadata": {},
   "outputs": [],
   "source": [
    "#Write Your Code Here"
   ]
  }
 ],
 "metadata": {
  "kernelspec": {
   "display_name": "Python 3",
   "language": "python",
   "name": "python3"
  },
  "language_info": {
   "codemirror_mode": {
    "name": "ipython",
    "version": 3
   },
   "file_extension": ".py",
   "mimetype": "text/x-python",
   "name": "python",
   "nbconvert_exporter": "python",
   "pygments_lexer": "ipython3",
   "version": "3.9.0"
  }
 },
 "nbformat": 4,
 "nbformat_minor": 4
}

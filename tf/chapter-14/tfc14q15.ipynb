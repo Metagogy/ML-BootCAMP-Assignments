{
 "cells": [
  {
   "cell_type": "markdown",
   "metadata": {
    "id": "kWw30W_1xNeR"
   },
   "source": [
    "**Question**:   Build, compile, train and evaluate mnist model by using convolution."
   ]
  },
  {
   "cell_type": "markdown",
   "metadata": {
    "id": "JgtmKvzbxNej"
   },
   "source": [
    "**level:** 03"
   ]
  },
  {
   "cell_type": "markdown",
   "metadata": {
    "id": "SI3DeG0AxNei"
   },
   "source": [
    "**Description:**\n",
    "* Load the fashion mnist dataset using an in-built function\n",
    "* Split the dataset into training and testing samples\n",
    "* Normalize the training and testing sets\n",
    "* Reshape the x train and test\n",
    "* Convert y train and test to categorical\n",
    "* Build the sequential model having a 2  layer with conv2D, 32 neurons,Batch Normalize, Max Pooling with pool size 2x2 , Drop out with 0.2 and 64 neurons,Batch Normalize, Max Pooling with pool size 2x2, Drop out with 0.2, create a dense layer with  ‘softmax’ as activation function. \n",
    "* Compile the model with loss as binary cross-entropy and optimizer as SGD..\n",
    "* Train the model with 5 epochs, verbose as 0\n",
    "* Finally, evaluate the model and print the accuracy\n",
    "\n"
   ]
  },
  {
   "cell_type": "code",
   "execution_count": null,
   "metadata": {
    "id": "AhFicDpDxNel"
   },
   "outputs": [],
   "source": [
    "# Start Your Code Here."
   ]
  },
  {
   "cell_type": "code",
   "execution_count": null,
   "metadata": {
    "id": "_T-2vZLFxNep"
   },
   "outputs": [],
   "source": [
    "# import libraries\n",
    "\n",
    "import keras\n",
    "from keras import Sequential\n",
    "from keras.layers import Conv2D,MaxPooling2D,Dense,Flatten\n",
    "from keras.layers import BatchNormalization,Dropout\n",
    "from keras.datasets import mnist\n",
    "from keras.utils import to_categorical\n",
    "\n"
   ]
  },
  {
   "cell_type": "code",
   "execution_count": null,
   "metadata": {
    "id": "jCQhOw4PxNeq"
   },
   "outputs": [],
   "source": [
    "# Load mnist data.\n",
    " \n",
    "(x_train,y_train),(x_test,y_test)=# complete your code here.\n"
   ]
  },
  {
   "cell_type": "code",
   "execution_count": null,
   "metadata": {
    "id": "dwTrgcsyxNer"
   },
   "outputs": [],
   "source": [
    "# Normalize train and test data.\n",
    " \n",
    "x_train = # complete your code here.\n",
    "x_test = # complete your code here.\n",
    " \n",
    "\n",
    "\n"
   ]
  },
  {
   "cell_type": "code",
   "execution_count": null,
   "metadata": {
    "id": "CRSbCv5zxNes"
   },
   "outputs": [],
   "source": [
    "# Reshape x_train,x_test\n",
    " \n",
    "x_train=x_train.reshape(-1,28,28,1)\n",
    "x_test=x_test.reshape(-1,28,28,1)\n",
    " "
   ]
  },
  {
   "cell_type": "code",
   "execution_count": null,
   "metadata": {
    "id": "Jr7HeB_pxNes"
   },
   "outputs": [],
   "source": [
    "#convert y_train,y_test to categorical\n",
    " \n",
    "y_train=# complete your code here.\n",
    "y_test=# complete your code here."
   ]
  },
  {
   "cell_type": "code",
   "execution_count": null,
   "metadata": {
    "id": "O5Q3FpMSxNet"
   },
   "outputs": [],
   "source": [
    "# Build model architecture.\n",
    " \n",
    "model=# complete your code here.\n",
    "model.add(Conv2D(# complete your code here.))\n",
    "model.add(BatchNormalization())\n",
    "model.add(MaxPooling2D(# complete your code here.))\n",
    "model.add(Dropout(0.2))\n",
    "model.add(Conv2D(# complete your code here.))\n",
    "model.add(BatchNormalization())\n",
    "model.add(MaxPooling2D(# complete your code here.))\n",
    "model.add(Dropout(0.2))\n",
    "model.add(Flatten())\n",
    "model.add(Dense(# complete your code here.))"
   ]
  },
  {
   "cell_type": "code",
   "execution_count": null,
   "metadata": {
    "id": "0S-KiEwIxNet"
   },
   "outputs": [],
   "source": [
    "# Compile the model\n",
    " \n"
   ]
  },
  {
   "cell_type": "code",
   "execution_count": null,
   "metadata": {
    "id": "qRqMiu46xNeu"
   },
   "outputs": [],
   "source": [
    "# Fit or Train the model\n",
    " \n",
    "model.fit(# complete your code here,verbose=0);\n",
    " "
   ]
  },
  {
   "cell_type": "code",
   "execution_count": null,
   "metadata": {
    "id": "384IPtPfxNeu"
   },
   "outputs": [],
   "source": [
    "# evaluate The model\n",
    "los,acc=model.evaluate(# complete your code her,verbose=0);"
   ]
  },
  {
   "cell_type": "code",
   "execution_count": null,
   "metadata": {
    "colab": {
     "base_uri": "https://localhost:8080/"
    },
    "id": "_xfOpek9xNeu",
    "outputId": "4ae85426-587e-431c-ba34-a690eec50e35"
   },
   "outputs": [],
   "source": [
    "# Print Accuracy\n",
    "print(acc)"
   ]
  },
  {
   "cell_type": "code",
   "execution_count": null,
   "metadata": {
    "id": "oSTD9zJBxNev"
   },
   "outputs": [],
   "source": []
  }
 ],
 "metadata": {
  "colab": {
   "collapsed_sections": [],
   "name": "tfc14q15.ipynb",
   "provenance": []
  },
  "kernelspec": {
   "display_name": "Python 3",
   "language": "python",
   "name": "python3"
  },
  "language_info": {
   "codemirror_mode": {
    "name": "ipython",
    "version": 3
   },
   "file_extension": ".py",
   "mimetype": "text/x-python",
   "name": "python",
   "nbconvert_exporter": "python",
   "pygments_lexer": "ipython3",
   "version": "3.7.3"
  }
 },
 "nbformat": 4,
 "nbformat_minor": 1
}

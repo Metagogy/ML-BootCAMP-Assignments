{
 "cells": [
  {
   "cell_type": "markdown",
   "metadata": {
    "id": "tIvFQUz5w9H1"
   },
   "source": [
    "**Question**:   Build, compile, train and evaluate fashion mnist model by using convolution."
   ]
  },
  {
   "cell_type": "markdown",
   "metadata": {},
   "source": [
    "**Level:** Hard"
   ]
  },
  {
   "cell_type": "markdown",
   "metadata": {
    "id": "urv2V9TZw9Il"
   },
   "source": [
    "**Description:**\n",
    "* Load the fashion mnist dataset using an in-built function\n",
    "* Split the dataset into training and testing samples\n",
    "* Normalize the training and testing sets\n",
    "* Reshape the x train and test\n",
    "* Convert y train and test to categorical\n",
    "* Build the sequential model having a 2  layer with conv2D, 32 neurons, Max Pooling with pool size 2x2 and 64 neurons, Max Pooling with pool size 2x2, create a dense layer with  ‘softmax’ as activation function. \n",
    "* Compile the model with loss as binary cross-entropy and optimizer as SGD..\n",
    "* Train the model with 5 epochs, verbose as 0\n",
    "* Finally, evaluate the model and print the accuracy\n",
    "\n",
    "\n"
   ]
  },
  {
   "cell_type": "markdown",
   "metadata": {
    "id": "uYz-Gm5hw9In"
   },
   "source": [
    "**Solution** \n"
   ]
  },
  {
   "cell_type": "code",
   "execution_count": 1,
   "metadata": {
    "id": "fQQM0vmww9Io"
   },
   "outputs": [],
   "source": [
    "# Start Your Code Here."
   ]
  },
  {
   "cell_type": "code",
   "execution_count": 2,
   "metadata": {
    "id": "pj4HIKL1w9Iq"
   },
   "outputs": [],
   "source": [
    "# import libraries\n",
    "\n",
    "import keras\n",
    "from keras import Sequential\n",
    "from keras.layers import Conv2D,MaxPooling2D,Dense,Flatten\n",
    "from keras.datasets import fashion_mnist\n",
    "from keras.utils import to_categorical\n",
    "\n"
   ]
  },
  {
   "cell_type": "code",
   "execution_count": 12,
   "metadata": {
    "id": "bER8ZHMRw9Is"
   },
   "outputs": [],
   "source": [
    "# Load mnist data.\n",
    " \n",
    "(x_train,y_train),(x_test,y_test)= # Complete your code here"
   ]
  },
  {
   "cell_type": "code",
   "execution_count": 4,
   "metadata": {
    "id": "kooIThQ5w9Iv"
   },
   "outputs": [],
   "source": [
    "# Normalize train and test data.\n",
    " \n",
    "x_train = # Complete your code here \n",
    "x_test =  # Complete your code here\n"
   ]
  },
  {
   "cell_type": "code",
   "execution_count": 5,
   "metadata": {
    "id": "BAxsEtuYw9Iw"
   },
   "outputs": [],
   "source": [
    "# Reshape x_train,x_test\n",
    " \n",
    "x_train=x_train.reshape(-1,28,28,1)\n",
    "x_test=x_test.reshape(-1,28,28,1)\n",
    " "
   ]
  },
  {
   "cell_type": "code",
   "execution_count": 6,
   "metadata": {
    "id": "JHXFMwUuw9Ix"
   },
   "outputs": [],
   "source": [
    "#convert y_train,y_test to categorical\n",
    " \n",
    "y_train=to_categorical(# Complete your code here )\n",
    "y_test=to_categorical(# Complete your code here )"
   ]
  },
  {
   "cell_type": "code",
   "execution_count": 7,
   "metadata": {
    "id": "oZClhg9zw9Iy"
   },
   "outputs": [],
   "source": [
    "# Build model architecture.\n",
    " \n",
    "model=Sequential()\n",
    "model.add(Conv2D(32,(3,3),input_shape=x_train.shape[1:]))\n",
    "model.add(MaxPooling2D(# Complete your code here)\n",
    "    \n",
    "model.add(Conv2D(# Complete your code here)\n",
    "model.add(MaxPooling2D(# Complete your code here)\n",
    "model.add(Flatten())\n",
    "model.add(Dense(# Complete your code here)\n",
    "\n"
   ]
  },
  {
   "cell_type": "code",
   "execution_count": 8,
   "metadata": {
    "id": "RxbbS7pEw9Iz"
   },
   "outputs": [],
   "source": [
    "# Compile the model\n",
    " \n",
    "model.compile(# Complete your code here)\n"
   ]
  },
  {
   "cell_type": "code",
   "execution_count": 9,
   "metadata": {
    "id": "ijCnsbTow9I0"
   },
   "outputs": [],
   "source": [
    "# Fit or Train the model\n",
    " \n",
    "model.fit(# Complete your code here);\n",
    " "
   ]
  },
  {
   "cell_type": "code",
   "execution_count": 10,
   "metadata": {
    "id": "GXxf3Lh-w9I1"
   },
   "outputs": [],
   "source": [
    "# evaluate The model\n",
    "los,acc=model.evaluate(# Complete your code here);"
   ]
  },
  {
   "cell_type": "code",
   "execution_count": 1,
   "metadata": {
    "colab": {
     "base_uri": "https://localhost:8080/"
    },
    "id": "Zd8Eg2YLw9I2",
    "outputId": "ab177486-b4b0-4cdc-dbf7-1b1bf3a07583"
   },
   "outputs": [],
   "source": [
    "# Print Accuracy\n",
    "                        # Complete your code here"
   ]
  },
  {
   "cell_type": "code",
   "execution_count": 11,
   "metadata": {
    "id": "78ybYT15w9I3"
   },
   "outputs": [],
   "source": []
  }
 ],
 "metadata": {
  "colab": {
   "collapsed_sections": [],
   "name": "tfc14q14.ipynb",
   "provenance": []
  },
  "kernelspec": {
   "display_name": "Python 3",
   "language": "python",
   "name": "python3"
  },
  "language_info": {
   "codemirror_mode": {
    "name": "ipython",
    "version": 3
   },
   "file_extension": ".py",
   "mimetype": "text/x-python",
   "name": "python",
   "nbconvert_exporter": "python",
   "pygments_lexer": "ipython3",
   "version": "3.8.5"
  }
 },
 "nbformat": 4,
 "nbformat_minor": 1
}

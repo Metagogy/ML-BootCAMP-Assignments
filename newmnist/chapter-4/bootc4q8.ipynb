{
 "cells": [
  {
   "cell_type": "markdown",
   "metadata": {},
   "source": [
    "**Question :** Create MxN dimensional array.apply transpose,flip left rright(fliplr),flip up and down(flipud),rotate 90 degrees(np.rot90) on created array .and print all outputs."
   ]
  },
  {
   "cell_type": "markdown",
   "metadata": {},
   "source": [
    "**Level :** Hard"
   ]
  },
  {
   "cell_type": "markdown",
   "metadata": {},
   "source": [
    "**Input format :**\n",
    "\n",
    "Integer   #M represents no.of rows.\n",
    "\n",
    "Integer   #N represents no.of columns.\n",
    "\n",
    "M rows of N columns."
   ]
  },
  {
   "cell_type": "markdown",
   "metadata": {},
   "source": [
    "**Output format :**\n",
    "\n",
    "Arrays."
   ]
  },
  {
   "cell_type": "markdown",
   "metadata": {},
   "source": [
    "**Sample input :**\n",
    "\n",
    "2\n",
    "\n",
    "2\n",
    "\n",
    "1 2\n",
    "\n",
    "3 4"
   ]
  },
  {
   "cell_type": "markdown",
   "metadata": {},
   "source": [
    "**Sample output  :**"
   ]
  },
  {
   "cell_type": "raw",
   "metadata": {},
   "source": [
    "[[1 3]\n",
    " [2 4]]\n",
    "[[2 1]\n",
    " [4 3]]\n",
    "[[3 4]\n",
    " [1 2]]\n",
    "[[2 4]\n",
    " [1 3]]"
   ]
  },
  {
   "cell_type": "code",
   "execution_count": null,
   "metadata": {},
   "outputs": [],
   "source": [
    "#Dont't Change Code Here.\n",
    "import numpy as np\n",
    "m=int(input())\n",
    "n=int(input())\n",
    "array2d = np.array([list(map(int,input().split())) for i in range(m)])\n",
    "\n",
    "#Write Your Code From Here"
   ]
  },
  {
   "cell_type": "code",
   "execution_count": null,
   "metadata": {},
   "outputs": [],
   "source": []
  },
  {
   "cell_type": "code",
   "execution_count": null,
   "metadata": {},
   "outputs": [],
   "source": []
  },
  {
   "cell_type": "code",
   "execution_count": null,
   "metadata": {},
   "outputs": [],
   "source": []
  }
 ],
 "metadata": {
  "kernelspec": {
   "display_name": "Python 3",
   "language": "python",
   "name": "python3"
  },
  "language_info": {
   "codemirror_mode": {
    "name": "ipython",
    "version": 3
   },
   "file_extension": ".py",
   "mimetype": "text/x-python",
   "name": "python",
   "nbconvert_exporter": "python",
   "pygments_lexer": "ipython3",
   "version": "3.8.3"
  }
 },
 "nbformat": 4,
 "nbformat_minor": 4
}

{
 "cells": [
  {
   "cell_type": "markdown",
   "metadata": {},
   "source": [
    "**Question :** Build, compile, train and evaluate the Iris  model using categorical cross entropy as loss function.\n"
   ]
  },
  {
   "cell_type": "markdown",
   "metadata": {},
   "source": [
    "**Description** : \n",
    "\n",
    "* Load the iris.csv dataset and Drop “Id” variable(column) , axis = 1 \n",
    "\n",
    "* Split into training and testing with test size = 0.1 and random state = 0\n",
    "\n",
    "* Build the model by using Sequential model and adding first activation function as Relu layer having 8 neurons and next three activation functions as Relu layer having 10 neurons each and last activation function as Softmax layer has 3 neurons\n",
    "\n",
    "* Compile the model by using loss function as categorical cross entropy and Optimizer as adam.\n",
    " \n",
    "* Fit or Train the model by using 5 epochs and 2 as batch size\n",
    "\n",
    "* Evaluate the model by using test values\n"
   ]
  },
  {
   "cell_type": "markdown",
   "metadata": {},
   "source": [
    "**Dataset** :"
   ]
  },
  {
   "cell_type": "raw",
   "metadata": {},
   "source": [
    "https://raw.githubusercontent.com/Metagogy/ML-BootCAMP-Assignments/master/datasets/Iris.csv"
   ]
  },
  {
   "cell_type": "code",
   "execution_count": 82,
   "metadata": {},
   "outputs": [],
   "source": [
    "# Start Your Code From Here."
   ]
  },
  {
   "cell_type": "code",
   "execution_count": 83,
   "metadata": {},
   "outputs": [],
   "source": [
    "# import pandas as pd\n",
    "\n",
    "import silence_tensorflow.auto\n",
    "from sklearn import preprocessing, model_selection\n",
    "import tensorflow as tf\n",
    "import pandas as pd"
   ]
  },
  {
   "cell_type": "code",
   "execution_count": 84,
   "metadata": {},
   "outputs": [],
   "source": [
    "# Load the dataset.\n",
    "\n",
    "data = pd.read_csv ('https://raw.githubusercontent.com/Metagogy/ML-BootCAMP-Assignments/master/datasets/Iris.csv')"
   ]
  },
  {
   "cell_type": "code",
   "execution_count": 85,
   "metadata": {},
   "outputs": [],
   "source": [
    "# Drop th Id column\n",
    "\n",
    "data = data.drop(['Id'], axis = 1)"
   ]
  },
  {
   "cell_type": "code",
   "execution_count": 86,
   "metadata": {},
   "outputs": [],
   "source": [
    "# Create Features and labels.\n",
    "\n",
    "X = data.drop(['Species'] , axis = 1)\n",
    "Y = data['Species']"
   ]
  },
  {
   "cell_type": "code",
   "execution_count": 87,
   "metadata": {},
   "outputs": [],
   "source": [
    "# Convert class labels into categorical labels.\n",
    "\n",
    "Y=pd.get_dummies(Y)"
   ]
  },
  {
   "cell_type": "code",
   "execution_count": 88,
   "metadata": {},
   "outputs": [],
   "source": [
    "# Split the data into train and test.\n",
    "\n",
    "train_x, test_x, train_y, test_y = model_selection.train_test_split(X,Y,test_size = 0.1, random_state = 0)"
   ]
  },
  {
   "cell_type": "code",
   "execution_count": 89,
   "metadata": {},
   "outputs": [],
   "source": [
    "# Build the model.\n",
    "\n",
    "input_dim = len(data.columns) - 1\n",
    "model = tf.keras.Sequential()\n",
    "model.add(tf.keras.layers.Dense(8, input_dim = input_dim , activation = 'relu'))\n",
    "model.add(tf.keras.layers.Dense(10, activation = 'relu'))\n",
    "model.add(tf.keras.layers.Dense(10, activation = 'relu'))\n",
    "model.add(tf.keras.layers.Dense(10, activation = 'relu'))\n",
    "model.add(tf.keras.layers.Dense(3, activation = 'softmax'))"
   ]
  },
  {
   "cell_type": "code",
   "execution_count": 90,
   "metadata": {},
   "outputs": [],
   "source": [
    "# Compile model.\n",
    "\n",
    "model.compile(\n",
    "    loss=tf.keras.losses.CategoricalCrossentropy(from_logits=True),\n",
    "    optimizer='adam',\n",
    "    metrics=['accuracy'])"
   ]
  },
  {
   "cell_type": "code",
   "execution_count": 91,
   "metadata": {},
   "outputs": [],
   "source": [
    "# Train model.\n",
    "\n",
    "model.fit(train_x, train_y, epochs = 5, batch_size = 2,verbose=0);"
   ]
  },
  {
   "cell_type": "code",
   "execution_count": 92,
   "metadata": {},
   "outputs": [],
   "source": [
    "# Evaluate the model.\n",
    "\n",
    "scores = model.evaluate(test_x, test_y,verbose=0)"
   ]
  },
  {
   "cell_type": "code",
   "execution_count": 93,
   "metadata": {},
   "outputs": [
    {
     "name": "stdout",
     "output_type": "stream",
     "text": [
      "0.7333333492279053\n"
     ]
    }
   ],
   "source": [
    "# Print the accuracy.\n",
    "\n",
    "print(scores[1])"
   ]
  },
  {
   "cell_type": "code",
   "execution_count": null,
   "metadata": {},
   "outputs": [],
   "source": []
  }
 ],
 "metadata": {
  "kernelspec": {
   "display_name": "Python 3",
   "language": "python",
   "name": "python3"
  },
  "language_info": {
   "codemirror_mode": {
    "name": "ipython",
    "version": 3
   },
   "file_extension": ".py",
   "mimetype": "text/x-python",
   "name": "python",
   "nbconvert_exporter": "python",
   "pygments_lexer": "ipython3",
   "version": "3.8.3"
  }
 },
 "nbformat": 4,
 "nbformat_minor": 4
}

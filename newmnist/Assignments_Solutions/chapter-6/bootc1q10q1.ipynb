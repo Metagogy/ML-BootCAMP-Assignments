{
 "cells": [
  {
   "cell_type": "markdown",
   "metadata": {},
   "source": [
    "**Question** : Write a program performing arithmetic operators to display as follows, if the input is 6 and 5 then the output should be \n",
    "\n",
    "+: 11\n",
    "\n",
    "-: 1\n",
    "\n",
    "*: 30\n",
    "\n",
    "/: 1.2\n",
    "\n",
    "%: 1\n",
    "\n",
    "**: 7776"
   ]
  },
  {
   "cell_type": "markdown",
   "metadata": {},
   "source": [
    "**Level** : Easy\n"
   ]
  },
  {
   "cell_type": "markdown",
   "metadata": {},
   "source": [
    "**input format** :\n",
    "    \n",
    "integer,integer\n"
   ]
  },
  {
   "cell_type": "markdown",
   "metadata": {},
   "source": [
    "**output format** :\n",
    "    \n",
    "Arithmetic values\n"
   ]
  },
  {
   "cell_type": "markdown",
   "metadata": {},
   "source": [
    "**Sample input** :\n",
    "    \n",
    "6 5\n"
   ]
  },
  {
   "cell_type": "markdown",
   "metadata": {},
   "source": [
    "**Sample output** :\n",
    "    \n",
    "+: 11\n",
    "    \n",
    "-: 1\n",
    "    \n",
    "*: 30\n",
    "    \n",
    "/: 1.2\n",
    "    \n",
    "%: 1\n",
    "    \n",
    "**: 7776\n"
   ]
  },
  {
   "cell_type": "code",
   "execution_count": 2,
   "metadata": {},
   "outputs": [
    {
     "name": "stdout",
     "output_type": "stream",
     "text": [
      "'6 5'\n",
      "('+:', 11)\n",
      "('-:', 1)\n",
      "('*:', 30)\n",
      "('/:', 1)\n",
      "('%:', 1)\n",
      "('**:', 7776)\n"
     ]
    }
   ],
   "source": [
    "\n",
    "a,b=[int(x) for x in input().split()]\n",
    "print(\"+:\",a+b)\n",
    "print(\"-:\",a-b)\n",
    "print(\"*:\",a*b)\n",
    "print(\"/:\",a/b)\n",
    "print(\"%:\",a%b)\n",
    "print(\"**:\",a**b)\n"
   ]
  },
  {
   "cell_type": "code",
   "execution_count": null,
   "metadata": {},
   "outputs": [],
   "source": []
  }
 ],
 "metadata": {
  "kernelspec": {
   "display_name": "Python 3",
   "language": "python",
   "name": "python3"
  },
  "language_info": {
   "codemirror_mode": {
    "name": "ipython",
    "version": 3
   },
   "file_extension": ".py",
   "mimetype": "text/x-python",
   "name": "python",
   "nbconvert_exporter": "python",
   "pygments_lexer": "ipython3",
   "version": "3.7.4"
  }
 },
 "nbformat": 4,
 "nbformat_minor": 4
}

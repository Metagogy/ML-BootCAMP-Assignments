{
 "cells": [
  {
   "cell_type": "markdown",
   "metadata": {},
   "source": [
    "**Question :** Write a python program that prints the dictionary and ordered dictionary from given inputs."
   ]
  },
  {
   "cell_type": "markdown",
   "metadata": {},
   "source": [
    "**Level :** Medium"
   ]
  },
  {
   "cell_type": "markdown",
   "metadata": {},
   "source": [
    "**Input format :**\n",
    "\n",
    "First-line : number of key and value pairs.\n",
    "\n",
    "next n-lines : key and value pairs."
   ]
  },
  {
   "cell_type": "markdown",
   "metadata": {},
   "source": [
    "**Output format :**\n",
    "\n",
    "First-line : Dictionary,\n",
    "\n",
    "Second-line: Ordered dictionary."
   ]
  },
  {
   "cell_type": "markdown",
   "metadata": {},
   "source": [
    "**Sample Input :**\n",
    "\n",
    "5\n",
    "\n",
    "a 10\n",
    "\n",
    "b 20\n",
    "\n",
    "c 30\n",
    "\n",
    "d 40\n",
    "\n",
    "e 50"
   ]
  },
  {
   "cell_type": "markdown",
   "metadata": {},
   "source": [
    "**Sample Output :**\n",
    "\n",
    "{'a': '10', 'b': '20', 'c': '30', 'd': '40', 'e': '50'}\n",
    "\n",
    "OrderedDict([('a', '10'), ('b', '20'), ('c', '30'), ('d', '40'), ('e', '50')])"
   ]
  },
  {
   "cell_type": "code",
   "execution_count": 26,
   "metadata": {},
   "outputs": [],
   "source": [
    "from collections import OrderedDict"
   ]
  },
  {
   "cell_type": "code",
   "execution_count": 28,
   "metadata": {},
   "outputs": [
    {
     "name": "stdout",
     "output_type": "stream",
     "text": [
      "8\n",
      "a 15\n",
      "b 25\n",
      "c 35\n",
      "d 45\n",
      "e 55\n",
      "f 65\n",
      "g 75\n",
      "h 85\n",
      "{'a': '15', 'b': '25', 'c': '35', 'd': '45', 'e': '55', 'f': '65', 'g': '75', 'h': '85'}\n",
      "OrderedDict([('a', '15'), ('b', '25'), ('c', '35'), ('d', '45'), ('e', '55'), ('f', '65'), ('g', '75'), ('h', '85')])\n"
     ]
    }
   ],
   "source": [
    "n=int(input())\n",
    "d={}\n",
    "od=OrderedDict()\n",
    "for x in range(n):\n",
    "    a,b=[y for y in input().split(\" \")]\n",
    "    d.update({a:b})\n",
    "    od.update({a:b})\n",
    "print(d)\n",
    "print(od)"
   ]
  },
  {
   "cell_type": "code",
   "execution_count": null,
   "metadata": {},
   "outputs": [],
   "source": []
  },
  {
   "cell_type": "code",
   "execution_count": 17,
   "metadata": {},
   "outputs": [
    {
     "name": "stdout",
     "output_type": "stream",
     "text": [
      "('AA', 11)\n",
      "('BB', 22)\n",
      "('CC', 33)\n",
      "('DD', 44)\n",
      "After changing in Dict\n",
      "('AA', 11)\n",
      "('BB', 100)\n",
      "('CC', 33)\n",
      "('DD', 44)\n",
      "\n",
      "('AA', 11)\n",
      "('BB', 22)\n",
      "('CC', 33)\n",
      "('DD', 44)\n",
      "After changing in Ordered Dict\n",
      "('AA', 11)\n",
      "('BB', 100)\n",
      "('CC', 33)\n",
      "('DD', 44)\n"
     ]
    }
   ],
   "source": [
    "import collections\n",
    "#Create normal dict\n",
    "my_dict = {}\n",
    "my_dict['AA'] = 11\n",
    "my_dict['BB'] = 22\n",
    "my_dict['CC'] = 33\n",
    "my_dict['DD'] = 44\n",
    "for item in my_dict.items():\n",
    "    print(item)\n",
    "#Change the value for key BB\n",
    "my_dict['BB'] = 100\n",
    "print('After changing in Dict')\n",
    "for item in my_dict.items():\n",
    "    print(item)\n",
    "print()\n",
    "#Create ordered dict\n",
    "my_ord_dict = collections.OrderedDict()\n",
    "my_ord_dict['AA'] = 11\n",
    "my_ord_dict['BB'] = 22\n",
    "my_ord_dict['CC'] = 33\n",
    "my_ord_dict['DD'] = 44\n",
    "for item in my_ord_dict.items():\n",
    "    print(item)\n",
    "#Change the value for key BB\n",
    "my_ord_dict['BB'] = 100\n",
    "print('After changing in Ordered Dict')\n",
    "for item in my_ord_dict.items():\n",
    "    print(item)"
   ]
  },
  {
   "cell_type": "code",
   "execution_count": null,
   "metadata": {},
   "outputs": [],
   "source": []
  }
 ],
 "metadata": {
  "kernelspec": {
   "display_name": "Python 3",
   "language": "python",
   "name": "python3"
  },
  "language_info": {
   "codemirror_mode": {
    "name": "ipython",
    "version": 3
   },
   "file_extension": ".py",
   "mimetype": "text/x-python",
   "name": "python",
   "nbconvert_exporter": "python",
   "pygments_lexer": "ipython3",
   "version": "3.8.3"
  }
 },
 "nbformat": 4,
 "nbformat_minor": 4
}

{
 "cells": [
  {
   "cell_type": "markdown",
   "metadata": {},
   "source": [
    "**Question**: Convert a list into a tensor using TensorFlow.and apply the relu activation function on the created tensor using tf.keras with different parameters such as alpha, max_value, threshold and print each output to console."
   ]
  },
  {
   "cell_type": "markdown",
   "metadata": {},
   "source": [
    "**Constraints :**\n",
    "\n",
    "* Use dtype=float32\n",
    "\n",
    "* Apply the relu activation function on the list using tf.keras with alpha = 0.5\n",
    "\n",
    "* Apply the relu activation function on the list using tf.keras with max_value = 5\n",
    "\n",
    "* Apply the relu activation function on the list using tf.keras with threshold = 5\n"
   ]
  },
  {
   "cell_type": "markdown",
   "metadata": {},
   "source": [
    "**Level :** Medium"
   ]
  },
  {
   "cell_type": "markdown",
   "metadata": {},
   "source": [
    "**Input format :**  Space-separated values."
   ]
  },
  {
   "cell_type": "markdown",
   "metadata": {},
   "source": [
    "**Output format :** "
   ]
  },
  {
   "cell_type": "raw",
   "metadata": {},
   "source": [
    "First-line : Array          # with alpha\n",
    "Second-line : Array         # with max_value\n",
    "Third-line : Array          # with threshold"
   ]
  },
  {
   "cell_type": "markdown",
   "metadata": {},
   "source": [
    "**Sample Input :** \n",
    "\n",
    "-10 -5 0 5 10 15 20 25"
   ]
  },
  {
   "cell_type": "markdown",
   "metadata": {},
   "source": [
    "**Sample Output :**"
   ]
  },
  {
   "cell_type": "raw",
   "metadata": {},
   "source": [
    "[-5.  -2.5  0.   5.  10.  15.  20.  25. ]\n",
    "[0. 0. 0. 5. 5. 5. 5. 5.]\n",
    "[-0. -0.  0.  0. 10. 15. 20. 25.]"
   ]
  },
  {
   "cell_type": "code",
   "execution_count": 7,
   "metadata": {},
   "outputs": [],
   "source": [
    "# Write Your Code Here."
   ]
  },
  {
   "cell_type": "code",
   "execution_count": 10,
   "metadata": {},
   "outputs": [
    {
     "name": "stdout",
     "output_type": "stream",
     "text": [
      "1 6 11 16 -11 -6 -1\n",
      "[ 1.   6.  11.  16.  -5.5 -3.  -0.5]\n",
      "[1. 5. 5. 5. 0. 0. 0.]\n",
      "[ 0.  6. 11. 16. -0. -0. -0.]\n"
     ]
    }
   ],
   "source": [
    "import tensorflow as tf\n",
    "lst=list(map(int,input().split()))\n",
    "foo = tf.constant(lst, dtype = tf.float32)\n",
    "print(tf.keras.activations.relu(foo, alpha=0.5).numpy())\n",
    "print(tf.keras.activations.relu(foo, max_value=5).numpy())\n",
    "print(tf.keras.activations.relu(foo, threshold=5).numpy())"
   ]
  },
  {
   "cell_type": "code",
   "execution_count": null,
   "metadata": {},
   "outputs": [],
   "source": []
  },
  {
   "cell_type": "code",
   "execution_count": null,
   "metadata": {},
   "outputs": [],
   "source": []
  },
  {
   "cell_type": "code",
   "execution_count": null,
   "metadata": {},
   "outputs": [],
   "source": []
  },
  {
   "cell_type": "code",
   "execution_count": null,
   "metadata": {},
   "outputs": [],
   "source": []
  }
 ],
 "metadata": {
  "kernelspec": {
   "display_name": "Python 3",
   "language": "python",
   "name": "python3"
  },
  "language_info": {
   "codemirror_mode": {
    "name": "ipython",
    "version": 3
   },
   "file_extension": ".py",
   "mimetype": "text/x-python",
   "name": "python",
   "nbconvert_exporter": "python",
   "pygments_lexer": "ipython3",
   "version": "3.8.3"
  }
 },
 "nbformat": 4,
 "nbformat_minor": 4
}

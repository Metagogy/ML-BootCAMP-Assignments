{
 "cells": [
  {
   "cell_type": "markdown",
   "metadata": {},
   "source": [
    "**Question** : Write a program which takes two integers as input range and finds all integers in a given range which have all odd digits and prints those."
   ]
  },
  {
   "cell_type": "markdown",
   "metadata": {},
   "source": [
    "**Level** : Easy\n"
   ]
  },
  {
   "cell_type": "markdown",
   "metadata": {},
   "source": [
    "**Input Format** : integer\n"
   ]
  },
  {
   "cell_type": "markdown",
   "metadata": {},
   "source": [
    "**Output Format** : Digits which are odd numbers\n"
   ]
  },
  {
   "cell_type": "markdown",
   "metadata": {},
   "source": [
    "**Sample Input** :\n",
    "    \n",
    "50\n",
    "\n",
    "90\n"
   ]
  },
  {
   "cell_type": "markdown",
   "metadata": {},
   "source": [
    "**Sample Output** :\n",
    "    \n",
    "51 53 55 57 59 61 63 65 67 69 71 73 75 77 79 81 83 85 87 89\n"
   ]
  },
  {
   "cell_type": "code",
   "execution_count": 9,
   "metadata": {},
   "outputs": [
    {
     "name": "stdout",
     "output_type": "stream",
     "text": [
      "Enter the start of range: '50'\n",
      "Enter the end of range: '90'\n",
      "(51, 90)\n",
      "(53, 90)\n",
      "(55, 90)\n",
      "(57, 90)\n",
      "(59, 90)\n",
      "(61, 90)\n",
      "(63, 90)\n",
      "(65, 90)\n",
      "(67, 90)\n",
      "(69, 90)\n",
      "(71, 90)\n",
      "(73, 90)\n",
      "(75, 90)\n",
      "(77, 90)\n",
      "(79, 90)\n",
      "(81, 90)\n",
      "(83, 90)\n",
      "(85, 90)\n",
      "(87, 90)\n",
      "(89, 90)\n"
     ]
    }
   ],
   "source": [
    "\n",
    "start = int(input(\"Enter the start of range: \")) \n",
    "end = int(input(\"Enter the end of range: \")) \n",
    "for num in range(start, end + 1): \n",
    "    if num % 2 != 0: \n",
    "        print(num, end) \n"
   ]
  },
  {
   "cell_type": "code",
   "execution_count": null,
   "metadata": {},
   "outputs": [],
   "source": []
  }
 ],
 "metadata": {
  "kernelspec": {
   "display_name": "Python 3",
   "language": "python",
   "name": "python3"
  },
  "language_info": {
   "codemirror_mode": {
    "name": "ipython",
    "version": 3
   },
   "file_extension": ".py",
   "mimetype": "text/x-python",
   "name": "python",
   "nbconvert_exporter": "python",
   "pygments_lexer": "ipython3",
   "version": "3.7.4"
  }
 },
 "nbformat": 4,
 "nbformat_minor": 4
}

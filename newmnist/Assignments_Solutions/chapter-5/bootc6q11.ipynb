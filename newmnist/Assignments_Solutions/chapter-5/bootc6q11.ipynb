{
 "cells": [
  {
   "cell_type": "markdown",
   "metadata": {},
   "source": [
    "**Question :** Given a function fn = 100-(x1**2), find the global optima using tf.keras and Adagrad optimizer?"
   ]
  },
  {
   "cell_type": "markdown",
   "metadata": {},
   "source": [
    "**Level:** Medium"
   ]
  },
  {
   "cell_type": "markdown",
   "metadata": {},
   "source": [
    "**Input format :**\n",
    "\n",
    "float"
   ]
  },
  {
   "cell_type": "markdown",
   "metadata": {},
   "source": [
    "**Output format :**\n",
    "\n",
    "float"
   ]
  },
  {
   "cell_type": "markdown",
   "metadata": {},
   "source": [
    "**Sample input :**\n",
    "\n",
    "5.0"
   ]
  },
  {
   "cell_type": "markdown",
   "metadata": {},
   "source": [
    "**Sample output :**\n",
    "\n",
    "60.1\n"
   ]
  },
  {
   "cell_type": "code",
   "execution_count": 8,
   "metadata": {},
   "outputs": [
    {
     "name": "stdout",
     "output_type": "stream",
     "text": [
      "5.0\n",
      "60.1\n"
     ]
    }
   ],
   "source": [
    "import tensorflow as tf\n",
    "\n",
    "def fu(x1): \n",
    "    return 100-(x1**2)\n",
    "def fu_minimzie():\n",
    "    return 100-(x1**2) \n",
    "def reset():\n",
    "    x1 = tf.Variable(float(input())) \n",
    "    return x1\n",
    "lst=[]\n",
    "x1 = reset()\n",
    "opt = tf.keras.optimizers.Adagrad(learning_rate=0.1)\n",
    "for i in range(50):\n",
    "#     print ('y = {:.1f}, x1 = {:.1f}'.format(fu(x1).numpy(), x1.numpy()))\n",
    "    lst.append(fu(x1).numpy())\n",
    "    opt.minimize(fu_minimzie, var_list=[x1])\n",
    "\n",
    "print('{:.1f}'.format(lst[-1]))"
   ]
  },
  {
   "cell_type": "code",
   "execution_count": 3,
   "metadata": {},
   "outputs": [
    {
     "name": "stdout",
     "output_type": "stream",
     "text": [
      "y = 36.0, x1 = 8.0\n",
      "y = 34.4, x1 = 8.1\n",
      "y = 33.2, x1 = 8.2\n",
      "y = 32.3, x1 = 8.2\n",
      "y = 31.4, x1 = 8.3\n",
      "y = 30.7, x1 = 8.3\n",
      "y = 30.0, x1 = 8.4\n",
      "y = 29.3, x1 = 8.4\n",
      "y = 28.7, x1 = 8.4\n",
      "y = 28.2, x1 = 8.5\n",
      "y = 27.6, x1 = 8.5\n",
      "y = 27.1, x1 = 8.5\n",
      "y = 26.6, x1 = 8.6\n",
      "y = 26.1, x1 = 8.6\n",
      "y = 25.6, x1 = 8.6\n",
      "y = 25.2, x1 = 8.7\n",
      "y = 24.7, x1 = 8.7\n",
      "y = 24.3, x1 = 8.7\n",
      "y = 23.9, x1 = 8.7\n",
      "y = 23.4, x1 = 8.7\n",
      "y = 23.0, x1 = 8.8\n",
      "y = 22.6, x1 = 8.8\n",
      "y = 22.2, x1 = 8.8\n",
      "y = 21.9, x1 = 8.8\n",
      "y = 21.5, x1 = 8.9\n",
      "y = 21.1, x1 = 8.9\n",
      "y = 20.8, x1 = 8.9\n",
      "y = 20.4, x1 = 8.9\n",
      "y = 20.1, x1 = 8.9\n",
      "y = 19.7, x1 = 9.0\n",
      "y = 19.4, x1 = 9.0\n",
      "y = 19.0, x1 = 9.0\n",
      "y = 18.7, x1 = 9.0\n",
      "y = 18.4, x1 = 9.0\n",
      "y = 18.0, x1 = 9.1\n",
      "y = 17.7, x1 = 9.1\n",
      "y = 17.4, x1 = 9.1\n",
      "y = 17.1, x1 = 9.1\n",
      "y = 16.8, x1 = 9.1\n",
      "y = 16.5, x1 = 9.1\n",
      "y = 16.2, x1 = 9.2\n",
      "y = 15.9, x1 = 9.2\n",
      "y = 15.6, x1 = 9.2\n",
      "y = 15.3, x1 = 9.2\n",
      "y = 15.0, x1 = 9.2\n",
      "y = 14.7, x1 = 9.2\n",
      "y = 14.4, x1 = 9.3\n",
      "y = 14.1, x1 = 9.3\n",
      "y = 13.8, x1 = 9.3\n",
      "y = 13.6, x1 = 9.3\n"
     ]
    }
   ],
   "source": [
    "\n",
    "import tensorflow as tf\n",
    "\n",
    "def fu(x1): \n",
    "    return 100-(x1**2)\n",
    "def fu_minimzie():\n",
    "    return 100-(x1**2) \n",
    "def reset():\n",
    "    x1 = tf.Variable(8.0) \n",
    "    return x1\n",
    "\n",
    "x1 = reset()\n",
    "opt = tf.keras.optimizers.Adagrad(learning_rate=0.1)\n",
    "for i in range(50):\n",
    "    print ('y = {:.1f}, x1 = {:.1f}'.format(fu(x1).numpy(), x1.numpy()))\n",
    "    opt.minimize(fu_minimzie, var_list=[x1])\n"
   ]
  },
  {
   "cell_type": "code",
   "execution_count": null,
   "metadata": {},
   "outputs": [],
   "source": []
  }
 ],
 "metadata": {
  "kernelspec": {
   "display_name": "Python 3",
   "language": "python",
   "name": "python3"
  },
  "language_info": {
   "codemirror_mode": {
    "name": "ipython",
    "version": 3
   },
   "file_extension": ".py",
   "mimetype": "text/x-python",
   "name": "python",
   "nbconvert_exporter": "python",
   "pygments_lexer": "ipython3",
   "version": "3.8.3"
  }
 },
 "nbformat": 4,
 "nbformat_minor": 4
}

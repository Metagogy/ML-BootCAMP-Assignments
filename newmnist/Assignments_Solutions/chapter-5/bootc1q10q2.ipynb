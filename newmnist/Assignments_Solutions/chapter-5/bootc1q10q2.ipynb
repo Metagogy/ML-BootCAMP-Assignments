{
 "cells": [
  {
   "cell_type": "markdown",
   "metadata": {},
   "source": [
    "**Question** : Write a program performing comparison operators to display as follows, if the input is 4 and 5 then the output should be \n",
    "\n",
    "+: False\n",
    "\n",
    "-: True\n",
    "\n",
    "*: False\n",
    "\n",
    "/: True\n",
    "\n",
    "%: False\n",
    "\n",
    "**: True"
   ]
  },
  {
   "cell_type": "markdown",
   "metadata": {},
   "source": [
    "**Level** : Easy\n"
   ]
  },
  {
   "cell_type": "markdown",
   "metadata": {},
   "source": [
    "**input format** :\n",
    "    \n",
    "integer,integer\n"
   ]
  },
  {
   "cell_type": "markdown",
   "metadata": {},
   "source": [
    "**output format** :\n",
    "    \n",
    "boolean \n"
   ]
  },
  {
   "cell_type": "markdown",
   "metadata": {},
   "source": [
    "**Sample input** :\n",
    "    \n",
    "4 5\n"
   ]
  },
  {
   "cell_type": "markdown",
   "metadata": {},
   "source": [
    "**Sample output** :\n",
    "    \n",
    "+: False\n",
    "    \n",
    "-: True\n",
    "    \n",
    "*: False\n",
    "    \n",
    "/: True\n",
    "    \n",
    "%: False\n",
    "    \n",
    "**: True\n"
   ]
  },
  {
   "cell_type": "code",
   "execution_count": 1,
   "metadata": {},
   "outputs": [
    {
     "name": "stdout",
     "output_type": "stream",
     "text": [
      "'4 5'\n",
      "('+:', False)\n",
      "('-:', True)\n",
      "('*:', False)\n",
      "('/:', True)\n",
      "('%:', False)\n",
      "('**:', True)\n"
     ]
    }
   ],
   "source": [
    "a,b=[int(x) for x in input().split()]\n",
    "print(\"+:\",a==b)\n",
    "print(\"-:\",a!=b)\n",
    "print(\"*:\",a>b)\n",
    "print(\"/:\",a<b)\n",
    "print(\"%:\",a>=b)\n",
    "print(\"**:\",a<=b)"
   ]
  },
  {
   "cell_type": "code",
   "execution_count": null,
   "metadata": {},
   "outputs": [],
   "source": []
  }
 ],
 "metadata": {
  "kernelspec": {
   "display_name": "Python 3",
   "language": "python",
   "name": "python3"
  },
  "language_info": {
   "codemirror_mode": {
    "name": "ipython",
    "version": 3
   },
   "file_extension": ".py",
   "mimetype": "text/x-python",
   "name": "python",
   "nbconvert_exporter": "python",
   "pygments_lexer": "ipython3",
   "version": "3.7.4"
  }
 },
 "nbformat": 4,
 "nbformat_minor": 4
}

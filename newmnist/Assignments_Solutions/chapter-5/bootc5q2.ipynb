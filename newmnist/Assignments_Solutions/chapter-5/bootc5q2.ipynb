{
 "cells": [
  {
   "cell_type": "markdown",
   "metadata": {},
   "source": [
    "**Question** : Create a data frame using an array that contains Nan Values. Drop the rows which contain Nan values and print the values present in data frame."
   ]
  },
  {
   "cell_type": "markdown",
   "metadata": {},
   "source": [
    "**Level** : Medium\n"
   ]
  },
  {
   "cell_type": "markdown",
   "metadata": {},
   "source": [
    "**Input format** :\n",
    "\n",
    "First-line : Space-separated rows and columns. #(M,N)\n",
    "\n",
    "next- M lines : Space-separated N values."
   ]
  },
  {
   "cell_type": "markdown",
   "metadata": {},
   "source": [
    "**Output format** : Array of values in a dataframe."
   ]
  },
  {
   "cell_type": "markdown",
   "metadata": {},
   "source": [
    "**Sample Input** :"
   ]
  },
  {
   "cell_type": "raw",
   "metadata": {},
   "source": [
    "4 3\n",
    "1 2 3\n",
    "4 5 6\n",
    "7 Nan 8\n",
    "9 10 11"
   ]
  },
  {
   "cell_type": "markdown",
   "metadata": {},
   "source": [
    "**Sample Output** :"
   ]
  },
  {
   "cell_type": "raw",
   "metadata": {},
   "source": [
    "[['1' '2' '3']\n",
    " ['4' '5' '6']\n",
    " ['9' '10' '11']]"
   ]
  },
  {
   "cell_type": "markdown",
   "metadata": {},
   "source": [
    "## Solution"
   ]
  },
  {
   "cell_type": "code",
   "execution_count": 13,
   "metadata": {},
   "outputs": [
    {
     "name": "stdout",
     "output_type": "stream",
     "text": [
      "4 3\n",
      "1 2 3\n",
      "4 5 6\n",
      "7 Nan 8\n",
      "9 10 11\n",
      "[['1' '2' '3']\n",
      " ['4' '5' '6']\n",
      " ['9' '10' '11']]\n"
     ]
    }
   ],
   "source": [
    "import numpy as np\n",
    "import pandas as pd\n",
    "m,n=list(map(int,input().split()))\n",
    "X=np.array([input().split() for  i in range(m)])\n",
    "df = pd.DataFrame(X)\n",
    "df.replace('Nan',np.nan,inplace=True)\n",
    "df.dropna(how='any',axis=0,inplace=True)\n",
    "print(df.values)"
   ]
  },
  {
   "cell_type": "code",
   "execution_count": 10,
   "metadata": {},
   "outputs": [],
   "source": []
  }
 ],
 "metadata": {
  "kernelspec": {
   "display_name": "Python 3",
   "language": "python",
   "name": "python3"
  },
  "language_info": {
   "codemirror_mode": {
    "name": "ipython",
    "version": 3
   },
   "file_extension": ".py",
   "mimetype": "text/x-python",
   "name": "python",
   "nbconvert_exporter": "python",
   "pygments_lexer": "ipython3",
   "version": "3.8.3"
  }
 },
 "nbformat": 4,
 "nbformat_minor": 4
}

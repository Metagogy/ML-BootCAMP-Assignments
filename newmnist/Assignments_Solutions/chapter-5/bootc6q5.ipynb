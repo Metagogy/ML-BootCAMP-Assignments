{
 "cells": [
  {
   "cell_type": "markdown",
   "metadata": {},
   "source": [
    "**Question :** Convert a list into a tensor using TensorFlow.and apply the Sigmoid activation function on the created tensor using tf.keras and printthe output to console."
   ]
  },
  {
   "cell_type": "markdown",
   "metadata": {},
   "source": [
    "**Level :** Easy"
   ]
  },
  {
   "cell_type": "markdown",
   "metadata": {},
   "source": [
    "**Constraints** :\n",
    "\n",
    "dtype ='float32'\n",
    "\n",
    "**Hint** : Use tf.constant() to create a tensor."
   ]
  },
  {
   "cell_type": "markdown",
   "metadata": {},
   "source": [
    "**Input format :**  Space-separated values."
   ]
  },
  {
   "cell_type": "markdown",
   "metadata": {},
   "source": [
    "**Output format :**  Array."
   ]
  },
  {
   "cell_type": "markdown",
   "metadata": {},
   "source": [
    "**Sample input :**\n",
    "\n",
    "-5 -4 -3 -2 -1 0 1 2 3 4 5"
   ]
  },
  {
   "cell_type": "markdown",
   "metadata": {},
   "source": [
    "**Sample Output :**\n",
    "\n",
    "[0.00669286 0.01798624 0.04742587 0.11920291 0.26894143 0.5\n",
    "\n",
    " 0.7310586  0.8807971  0.95257413 0.98201376 0.9933071 ]"
   ]
  },
  {
   "cell_type": "code",
   "execution_count": 12,
   "metadata": {},
   "outputs": [
    {
     "name": "stdout",
     "output_type": "stream",
     "text": [
      "-100 -70 -40 -10 20 50 80 110\n",
      "[0.000000e+00 3.975450e-31 4.248354e-18 4.539993e-05 1.000000e+00\n",
      " 1.000000e+00 1.000000e+00 1.000000e+00]\n"
     ]
    }
   ],
   "source": [
    "import tensorflow as tf\n",
    "lst=list(map(int,input().split()))\n",
    "a = tf.constant(lst, dtype = tf.float32)\n",
    "b = tf.keras.activations.sigmoid(a).numpy()\n",
    "print(b)"
   ]
  },
  {
   "cell_type": "code",
   "execution_count": null,
   "metadata": {},
   "outputs": [],
   "source": []
  }
 ],
 "metadata": {
  "kernelspec": {
   "display_name": "Python 3",
   "language": "python",
   "name": "python3"
  },
  "language_info": {
   "codemirror_mode": {
    "name": "ipython",
    "version": 3
   },
   "file_extension": ".py",
   "mimetype": "text/x-python",
   "name": "python",
   "nbconvert_exporter": "python",
   "pygments_lexer": "ipython3",
   "version": "3.8.3"
  }
 },
 "nbformat": 4,
 "nbformat_minor": 4
}

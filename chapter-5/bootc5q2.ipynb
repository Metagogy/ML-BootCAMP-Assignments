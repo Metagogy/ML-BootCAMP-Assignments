{
 "cells": [
  {
   "cell_type": "markdown",
   "metadata": {},
   "source": "**Question** : Create a dataframe and delete missing or null values"
  },
  {
   "cell_type": "markdown",
   "metadata": {},
   "source": "**Level** = Medium\n"
  },
  {
   "cell_type": "markdown",
   "metadata": {},
   "source": "**Input format** :  create a dataframe\n"
  },
  {
   "cell_type": "markdown",
   "metadata": {},
   "source": "**Output format** : integers\n"
  },
  {
   "cell_type": "markdown",
   "metadata": {},
   "source": "**Sample input** : \n    \nX = np.array([[1, 2], <br/>\n              [6, 3], <br/>\n              [8, 4], <br/>\n              [9, 5], <br/>\n              [np.nan, 4]]) <br/>\n"
  },
  {
   "cell_type": "markdown",
   "metadata": {},
   "source": "**Sample Output** :\n    \n    feature_1       feature_2\n\n0      1.0             2.0 \n\n1      6.0             3.0\n\n\n\n\n"
  },
  {
   "cell_type": "code",
   "execution_count": 1,
   "metadata": {},
   "outputs": [],
   "source": "#Write your code here"
  },
  {
   "cell_type": "code",
   "execution_count": null,
   "metadata": {},
   "outputs": [],
   "source": ""
  }
 ],
 "metadata": {
  "kernelspec": {
   "display_name": "Python 3",
   "language": "python",
   "name": "python3"
  },
  "language_info": {
   "codemirror_mode": {
    "name": "ipython",
    "version": 2
   },
   "file_extension": ".py",
   "mimetype": "text/x-python",
   "name": "python",
   "nbconvert_exporter": "python",
   "pygments_lexer": "ipython2",
   "version": "2.7.15+"
  }
 },
 "nbformat": 4,
 "nbformat_minor": 4
}

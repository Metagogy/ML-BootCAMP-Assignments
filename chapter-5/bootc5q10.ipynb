{
 "cells": [
  {
   "cell_type": "markdown",
   "metadata": {},
   "source": "**Question** :  How to Delete a single Row in DataFrame by Row Index Label"
  },
  {
   "cell_type": "markdown",
   "metadata": {},
   "source": "**Level** = Hard\n"
  },
  {
   "cell_type": "markdown",
   "metadata": {},
   "source": "**Input format** : Remove specific row\n"
  },
  {
   "cell_type": "markdown",
   "metadata": {},
   "source": "**Output format** : integers\n"
  },
  {
   "cell_type": "markdown",
   "metadata": {},
   "source": "**Sample input** : \n    \nimport pandas as pd \n\n\ndetails = {  <br/>\n\t'Name' : ['Ankit', 'Aishwarya', 'Shaurya', 'Shivangi'], <br/>\n\t'Age' : [23, 21, 22, 21],  <br/>\n\t'University' : ['BHU', 'JNU', 'DU', 'BHU'],  <br/>\n}  <br/>\n"
  },
  {
   "cell_type": "markdown",
   "metadata": {},
   "source": "**Sample Output** :  \n\n\n    Name        Age    University\n \na   Ankit       23        BHU        <br/>\n\n\nb   Aishwarya   21        JNU          <br/>\n\n\nd   Shivangi    21        BHU         <br/>\n\n\n\n\n"
  },
  {
   "cell_type": "code",
   "execution_count": 2,
   "metadata": {},
   "outputs": [],
   "source": "import pandas as pd \n"
  },
  {
   "cell_type": "code",
   "execution_count": 3,
   "metadata": {},
   "outputs": [],
   "source": "#Write your code here"
  },
  {
   "cell_type": "code",
   "execution_count": null,
   "metadata": {},
   "outputs": [],
   "source": ""
  }
 ],
 "metadata": {
  "kernelspec": {
   "display_name": "Python 3",
   "language": "python",
   "name": "python3"
  },
  "language_info": {
   "codemirror_mode": {
    "name": "ipython",
    "version": 2
   },
   "file_extension": ".py",
   "mimetype": "text/x-python",
   "name": "python",
   "nbconvert_exporter": "python",
   "pygments_lexer": "ipython2",
   "version": "2.7.15+"
  }
 },
 "nbformat": 4,
 "nbformat_minor": 4
}

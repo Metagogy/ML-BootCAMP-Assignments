{
 "cells": [
  {
   "cell_type": "markdown",
   "metadata": {},
   "source": "**Question** :  Drop Columns from a Dataframe using drop() method."
  },
  {
   "cell_type": "markdown",
   "metadata": {},
   "source": "**Level** : Medium\n"
  },
  {
   "cell_type": "markdown",
   "metadata": {},
   "source": "**Input format** :  create a dataframe and drop a columns\n"
  },
  {
   "cell_type": "markdown",
   "metadata": {},
   "source": "**Output format** : integers\n"
  },
  {
   "cell_type": "markdown",
   "metadata": {},
   "source": "**Sample input** : \n    \nimport pandas as pd \n\n\ndata = { \n    \n\t'A':['A1', 'A2', 'A3', 'A4', 'A5'], \n    \n\t'B':['B1', 'B2', 'B3', 'B4', 'B5'], \n    \n\t'C':['C1', 'C2', 'C3', 'C4', 'C5'], \n    \n\t'D':['D1', 'D2', 'D3', 'D4', 'D5'], \n    \n\t'E':['E1', 'E2', 'E3', 'E4', 'E5'] } \n"
  },
  {
   "cell_type": "markdown",
   "metadata": {},
   "source": "**Sample Output** :\n    \n\n    B    C     D     E\n\n\n0   B    C     D     E\n\n    1    1     1     1\n    \n\n1   B    C     D     E\n\n    2    2     2     2\n    \n2   B    C     D     E\n\n    3    3     3     3\n    \n3   B    C     D     E\n\n    4    4     4     4 \n    \n4   B    C     D     E\n\n    5    5     5     5\n"
  },
  {
   "cell_type": "code",
   "execution_count": 1,
   "metadata": {},
   "outputs": [],
   "source": "import pandas as pd"
  },
  {
   "cell_type": "code",
   "execution_count": 2,
   "metadata": {},
   "outputs": [],
   "source": "# Write your code here."
  },
  {
   "cell_type": "code",
   "execution_count": null,
   "metadata": {},
   "outputs": [],
   "source": ""
  }
 ],
 "metadata": {
  "kernelspec": {
   "display_name": "Python 3",
   "language": "python",
   "name": "python3"
  },
  "language_info": {
   "codemirror_mode": {
    "name": "ipython",
    "version": 2
   },
   "file_extension": ".py",
   "mimetype": "text/x-python",
   "name": "python",
   "nbconvert_exporter": "python",
   "pygments_lexer": "ipython2",
   "version": "2.7.15+"
  }
 },
 "nbformat": 4,
 "nbformat_minor": 4
}
